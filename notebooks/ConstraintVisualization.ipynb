{
 "cells": [
  {
   "cell_type": "markdown",
   "metadata": {},
   "source": [
    "## RNA family characterization\n",
    "\n",
    "### Application scenario: Characterize the sequence structure and patterns of a set of RNA seqeunces"
   ]
  },
  {
   "cell_type": "markdown",
   "metadata": {},
   "source": [
    "Aquire data."
   ]
  },
  {
   "cell_type": "code",
   "execution_count": 1,
   "metadata": {},
   "outputs": [],
   "source": [
    "rfam_id = 'RF00005'\n",
    "#rfam_id = 'RF01051'\n",
    "#rfam_id = 'RF00008'\n",
    "#rfam_id = 'RF00175'\n",
    "#rfam_id = 'RF00059'\n",
    "#rfam_id = 'RF00008'\n",
    "\n",
    "def rfam_url(family_id):\n",
    "    return 'http://rfam.xfam.org/family/%s/alignment?acc=%s&format=fastau&download=0'%(family_id,family_id)"
   ]
  },
  {
   "cell_type": "code",
   "execution_count": null,
   "metadata": {},
   "outputs": [],
   "source": [
    "import ConstraintFinder as cf"
   ]
  },
  {
   "cell_type": "markdown",
   "metadata": {},
   "source": [
    "Convert the fasta database into eden graphs."
   ]
  },
  {
   "cell_type": "code",
   "execution_count": null,
   "metadata": {},
   "outputs": [],
   "source": [
    "def create_sequence_pool(rfam_id):\n",
    "    from eden.converter.fasta import fasta_to_sequence\n",
    "    iterable = fasta_to_sequence(rfam_url(rfam_id))\n",
    "    sequence_pool = []\n",
    "    for fasta in iterable:\n",
    "        sequence_pool.append(fasta[1])\n",
    "    return sequence_pool\n",
    "#print create_sequence_pool(rfam_id)"
   ]
  },
  {
   "cell_type": "code",
   "execution_count": null,
   "metadata": {},
   "outputs": [],
   "source": [
    "from eden.converter.fasta import fasta_to_sequence\n",
    "from eden.converter.rna.rnafold import rnafold_to_eden\n",
    "\n",
    "iterable_pos = fasta_to_sequence( rfam_url(rfam_id) )\n",
    "members = 0\n",
    "for item in iterable_pos:\n",
    "    members += 1\n",
    "print members"
   ]
  },
  {
   "cell_type": "code",
   "execution_count": null,
   "metadata": {},
   "outputs": [],
   "source": [
    "iterable_pos = fasta_to_sequence( rfam_url(rfam_id) )\n",
    "\n",
    "from itertools import islice, tee\n",
    "iterable_pos, iterable_pos_ = tee(iterable_pos)\n",
    "\n",
    "from eden.modifier.seq import seq_to_seq,  shuffle_modifier\n",
    "iterable_neg = seq_to_seq( iterable_pos_ , modifier=shuffle_modifier, times=3, order=2 )\n",
    "\n",
    "#Positive sample graphs.\n",
    "graphs_pos = rnafold_to_eden( iterable_pos )\n",
    "#Negative sample graphs.\n",
    "graphs_neg = rnafold_to_eden( iterable_neg )\n"
   ]
  },
  {
   "cell_type": "markdown",
   "metadata": {},
   "source": [
    "Split test and train graph sets into fixed test and train portions. (20% for training)"
   ]
  },
  {
   "cell_type": "code",
   "execution_count": null,
   "metadata": {},
   "outputs": [],
   "source": [
    "from itertools import islice, chain\n",
    "from eden.util import fit,estimate\n",
    "from eden.graph import Vectorizer\n",
    "import RNADesignTools as rdt\n",
    "\n",
    "antaRNA_param_file = '/home/kohvaeip/RLS/lib/antaRNA/antaRNA.ini'"
   ]
  },
  {
   "cell_type": "code",
   "execution_count": null,
   "metadata": {},
   "outputs": [],
   "source": [
    "vectorizer = Vectorizer( complexity = 2 )"
   ]
  },
  {
   "cell_type": "code",
   "execution_count": null,
   "metadata": {},
   "outputs": [],
   "source": [
    "%%time\n",
    "estimator = fit(graphs_pos , graphs_neg , vectorizer, n_jobs=1, cv=3)"
   ]
  },
  {
   "cell_type": "code",
   "execution_count": null,
   "metadata": {},
   "outputs": [],
   "source": [
    "%%time\n",
    "iterable_pos_ = fasta_to_sequence( rfam_url(rfam_id) )\n",
    "graphs = rnafold_to_eden( iterable_pos_ )\n",
    "agraphs = vectorizer.annotate(graphs, estimator)\n",
    "# Design the batch of new sequences.\n",
    "#dsi = rdt.DesignRNA(antaRNA_param_file , graphs , vectorizer, estimator, 0, 3, 0, 3)"
   ]
  },
  {
   "cell_type": "code",
   "execution_count": null,
   "metadata": {},
   "outputs": [],
   "source": [
    "import ConstraintFinder as cf\n",
    "reload(cf)\n",
    "\n",
    "#Generate graph list ******\n",
    "for g in agraphs:\n",
    "    print cf.antaRNA_dot_struct(g,-0.85, 3, 3)\n",
    "    print cf.antaRNA_constraint_string(g, -0.2 , 1 )\n",
    "#antaRNA_dot_struct(g,threshold, importance_adjacency = 1, unpaired_adjacency = 1)\n",
    "#antaRNA_constraint_string(g, threshold, adjacency = 1 , padding= 'N')\n",
    "#generate_antaRNA_constraints(graphs, Cseq_threshold, Cseq_adjacency, dotnot_threshold, dotnot_adjacency, unpaired_adjacency)\n",
    "#compute_gc_content\n",
    "\n",
    "# GNNGNUNUNGNUNANUNNUANANCNNNNGNNUNNNAANCNNNNNNNNNNGGUUCNAAUCCNNNNAUCNNCA\n",
    "# (((((((..(((A.......A))).(((((.......)))))....(((((.......))))))))))))A\n",
    "# -((((((----(---------)----((-(-------)-))------((-----------))-))))))--"
   ]
  }
 ],
 "metadata": {
  "kernelspec": {
   "display_name": "Python 3",
   "language": "python",
   "name": "python3"
  },
  "language_info": {
   "codemirror_mode": {
    "name": "ipython",
    "version": 3
   },
   "file_extension": ".py",
   "mimetype": "text/x-python",
   "name": "python",
   "nbconvert_exporter": "python",
   "pygments_lexer": "ipython3",
   "version": "3.6.8"
  }
 },
 "nbformat": 4,
 "nbformat_minor": 1
}

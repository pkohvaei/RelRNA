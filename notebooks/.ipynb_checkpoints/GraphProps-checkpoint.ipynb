{
 "metadata": {
  "name": "",
  "signature": "sha256:78dd102c88d611a8ac99b6a3372ae595f5e7b0dbec604eabce3a5370757dbe1b"
 },
 "nbformat": 3,
 "nbformat_minor": 0,
 "worksheets": [
  {
   "cells": [
    {
     "cell_type": "markdown",
     "metadata": {},
     "source": [
      "#RNA family characterization\n",
      "\n",
      "Application scenario: we want to characterize the sequence patterns and structure of a set of RNA seqeunces"
     ]
    },
    {
     "cell_type": "markdown",
     "metadata": {},
     "source": [
      "Aquire data."
     ]
    },
    {
     "cell_type": "code",
     "collapsed": false,
     "input": [
      "rfam_id = 'RF00005'\n",
      "def rfam_url(family_id):\n",
      "    return 'http://rfam.xfam.org/family/%s/alignment?acc=%s&format=fastau&download=0'%(family_id,family_id)"
     ],
     "language": "python",
     "metadata": {},
     "outputs": [],
     "prompt_number": 2
    },
    {
     "cell_type": "code",
     "collapsed": false,
     "input": [
      "import networkx as nx\n",
      "\n",
      "def find_paired_nodes(g):\n",
      "\t\"\"\"\n",
      "\tReturns a list containing all paired nodes in a graph.\n",
      "\t\"\"\"\n",
      "\tpaired_list = []\n",
      "\tfor line in nx.generate_edgelist(g):\n",
      "\t\tif ('basepair' in line):\n",
      "\t\t\tpaired_list.append(int(line.split(' ')[0]))\n",
      "\t\n",
      "\treturn paired_list\n",
      "\n",
      "\n",
      "def pair_based_graph_cut(g):\n",
      "\t\"\"\"\n",
      "\tRemoves paired nodes from g.\n",
      "\t\"\"\"\n",
      "\tfor node in find_paired_nodes(g):\n",
      "\t\tg.remove_node(node)\n",
      "\t\n",
      "\treturn"
     ],
     "language": "python",
     "metadata": {},
     "outputs": [],
     "prompt_number": 20
    },
    {
     "cell_type": "markdown",
     "metadata": {},
     "source": [
      "Convert the fasta database into eden graphs."
     ]
    },
    {
     "cell_type": "code",
     "collapsed": false,
     "input": [
      "from eden.converter.rna.rnashapes import rnashapes_to_eden\n",
      "from eden.converter.rna.rnaplfold import rnaplfold_to_eden\n",
      "from eden.converter.fasta import fasta_to_sequence\n",
      "from itertools import islice\n",
      "\n",
      "num = 1\n",
      "iterable_pos = islice(fasta_to_sequence( rfam_url(rfam_id) ),num)\n",
      "\n",
      "graphs_pos = rnaplfold_to_eden( iterable_pos , shape_type = 5, energy_range = 35)\n",
      "\n",
      "import networkx as nx\n",
      "import ConstraintFinder as cf\n",
      "reload(cf)\n",
      "\n",
      "paired_list = []\n",
      "for g in graphs_pos:\n",
      "    for line in nx.generate_edgelist(g):\n",
      "        print line\n",
      "    print (cf.find_unpaired_regions(g, 2))\n"
     ],
     "language": "python",
     "metadata": {},
     "outputs": [
      {
       "output_type": "stream",
       "stream": "stdout",
       "text": [
        "0 1 {'type': 'backbone', 'label': '-'}\n",
        "0 70 {'type': 'basepair', 'value': 0.9945, 'label': '='}\n",
        "1 2 {'type': 'backbone', 'label': '-'}\n",
        "1 69 {'type': 'basepair', 'value': 0.999, 'label': '='}\n",
        "2 3 {'type': 'backbone', 'label': '-'}\n",
        "2 68 {'type': 'basepair', 'value': 0.9988, 'label': '='}\n",
        "3 67 {'type': 'basepair', 'value': 1.0, 'label': '='}\n",
        "3 4 {'type': 'backbone', 'label': '-'}\n",
        "4 66 {'type': 'basepair', 'value': 0.9999, 'label': '='}\n",
        "4 5 {'type': 'backbone', 'label': '-'}\n",
        "5 65 {'type': 'basepair', 'value': 0.9999, 'label': '='}\n",
        "5 6 {'type': 'backbone', 'label': '-'}\n",
        "6 64 {'type': 'basepair', 'value': 0.9966, 'label': '='}\n",
        "6 7 {'type': 'backbone', 'label': '-'}\n",
        "7 8 {'type': 'backbone', 'label': '-'}\n",
        "7 63 {'type': 'basepair', 'value': 0.9675, 'label': '='}\n",
        "8 9 {'type': 'backbone', 'label': '-'}\n",
        "8 53 {'type': 'basepair', 'value': 0.9493, 'label': '='}\n",
        "9 10 {'type': 'backbone', 'label': '-'}\n",
        "9 52 {'type': 'basepair', 'value': 0.9779, 'label': '='}\n",
        "10 11 {'type': 'backbone', 'label': '-'}\n",
        "10 51 {'type': 'basepair', 'value': 0.9806, 'label': '='}\n",
        "11 50 {'type': 'basepair', 'value': 0.98, 'label': '='}\n",
        "11 12 {'type': 'backbone', 'label': '-'}\n",
        "12 49 {'type': 'basepair', 'value': 0.9807, 'label': '='}\n",
        "12 13 {'type': 'backbone', 'label': '-'}\n",
        "13 48 {'type': 'basepair', 'value': 0.9805, 'label': '='}\n",
        "13 14 {'type': 'backbone', 'label': '-'}\n",
        "14 15 {'type': 'backbone', 'label': '-'}\n",
        "14 47 {'type': 'basepair', 'value': 0.9805, 'label': '='}\n",
        "15 16 {'type': 'backbone', 'label': '-'}\n",
        "16 17 {'type': 'backbone', 'label': '-'}\n",
        "16 46 {'type': 'basepair', 'value': 0.9813, 'label': '='}\n",
        "17 18 {'type': 'backbone', 'label': '-'}\n",
        "17 45 {'type': 'basepair', 'value': 0.9813, 'label': '='}\n",
        "18 19 {'type': 'backbone', 'label': '-'}\n",
        "18 44 {'type': 'basepair', 'value': 0.976, 'label': '='}\n",
        "19 43 {'type': 'basepair', 'value': 0.7022, 'label': '='}\n",
        "19 20 {'type': 'backbone', 'label': '-'}\n",
        "20 21 {'type': 'backbone', 'label': '-'}\n",
        "21 22 {'type': 'backbone', 'label': '-'}\n",
        "22 23 {'type': 'backbone', 'label': '-'}\n",
        "23 24 {'type': 'backbone', 'label': '-'}\n",
        "23 42 {'type': 'basepair', 'value': 0.6692, 'label': '='}\n",
        "24 25 {'type': 'backbone', 'label': '-'}\n",
        "25 41 {'type': 'basepair', 'value': 0.9949, 'label': '='}\n",
        "25 26 {'type': 'backbone', 'label': '-'}\n",
        "26 40 {'type': 'basepair', 'value': 0.9981, 'label': '='}\n",
        "26 27 {'type': 'backbone', 'label': '-'}\n",
        "27 28 {'type': 'backbone', 'label': '-'}\n",
        "27 39 {'type': 'basepair', 'value': 0.9983, 'label': '='}\n",
        "28 29 {'type': 'backbone', 'label': '-'}\n",
        "28 38 {'type': 'basepair', 'value': 0.9985, 'label': '='}\n",
        "29 37 {'type': 'basepair', 'value': 0.9984, 'label': '='}\n",
        "29 30 {'type': 'backbone', 'label': '-'}\n",
        "30 36 {'type': 'basepair', 'value': 0.9861, 'label': '='}\n",
        "30 31 {'type': 'backbone', 'label': '-'}\n",
        "31 32 {'type': 'backbone', 'label': '-'}\n",
        "31 35 {'type': 'basepair', 'value': 0.821, 'label': '='}\n",
        "32 33 {'type': 'backbone', 'label': '-'}\n",
        "33 34 {'type': 'backbone', 'label': '-'}\n",
        "34 35 {'type': 'backbone', 'label': '-'}\n",
        "35 36 {'type': 'backbone', 'label': '-'}\n",
        "36 37 {'type': 'backbone', 'label': '-'}\n",
        "37 38 {'type': 'backbone', 'label': '-'}\n",
        "38 39 {'type': 'backbone', 'label': '-'}\n",
        "39 40 {'type': 'backbone', 'label': '-'}\n",
        "40 41 {'type': 'backbone', 'label': '-'}\n",
        "41 42 {'type': 'backbone', 'label': '-'}\n",
        "42 43 {'type': 'backbone', 'label': '-'}\n",
        "43 44 {'type': 'backbone', 'label': '-'}\n",
        "44 45 {'type': 'backbone', 'label': '-'}\n",
        "45 46 {'type': 'backbone', 'label': '-'}\n",
        "46 47 {'type': 'backbone', 'label': '-'}\n",
        "47 48 {'type': 'backbone', 'label': '-'}\n",
        "48 49 {'type': 'backbone', 'label': '-'}\n",
        "49 50 {'type': 'backbone', 'label': '-'}\n",
        "50 51 {'type': 'backbone', 'label': '-'}\n",
        "51 52 {'type': 'backbone', 'label': '-'}\n",
        "52 53 {'type': 'backbone', 'label': '-'}\n",
        "53 54 {'type': 'backbone', 'label': '-'}\n",
        "54 55 {'type': 'backbone', 'label': '-'}\n",
        "55 56 {'type': 'backbone', 'label': '-'}\n",
        "56 57 {'type': 'backbone', 'label': '-'}\n",
        "57 58 {'type': 'backbone', 'label': '-'}\n",
        "58 59 {'type': 'backbone', 'label': '-'}\n",
        "59 60 {'type': 'backbone', 'label': '-'}\n",
        "60 61 {'type': 'backbone', 'label': '-'}\n",
        "61 62 {'type': 'backbone', 'label': '-'}\n",
        "62 63 {'type': 'backbone', 'label': '-'}\n",
        "63 64 {'type': 'backbone', 'label': '-'}\n",
        "64 65 {'type': 'backbone', 'label': '-'}\n",
        "65 66 {'type': 'backbone', 'label': '-'}\n",
        "66 67 {'type': 'backbone', 'label': '-'}\n",
        "67 68 {'type': 'backbone', 'label': '-'}\n",
        "68 69 {'type': 'backbone', 'label': '-'}\n",
        "69 70 {'type': 'backbone', 'label': '-'}\n",
        "70 71 {'type': 'backbone', 'label': '-'}\n",
        "[20, 21, 22, 32, 33, 34, 54, 55, 56, 57, 58, 59, 60, 61, 62]\n"
       ]
      }
     ],
     "prompt_number": 7
    },
    {
     "cell_type": "code",
     "collapsed": false,
     "input": [
      "import ConstraintFinder as cf\n",
      "reload(cf)"
     ],
     "language": "python",
     "metadata": {},
     "outputs": [
      {
       "metadata": {},
       "output_type": "pyout",
       "prompt_number": 21,
       "text": [
        "<module 'ConstraintFinder' from '/home/kohvaeip/RLS/tools/ConstraintFinder.pyc'>"
       ]
      }
     ],
     "prompt_number": 21
    },
    {
     "cell_type": "code",
     "collapsed": false,
     "input": [
      "for g in graphs_pos:\n",
      "    print cf.compute_gc_content(g)"
     ],
     "language": "python",
     "metadata": {},
     "outputs": [
      {
       "output_type": "stream",
       "stream": "stdout",
       "text": [
        "0.597222222222\n",
        "0.30985915493\n",
        "0.567567567568"
       ]
      },
      {
       "output_type": "stream",
       "stream": "stdout",
       "text": [
        "\n",
        "0.597222222222"
       ]
      },
      {
       "output_type": "stream",
       "stream": "stdout",
       "text": [
        "\n",
        "0.585365853659"
       ]
      },
      {
       "output_type": "stream",
       "stream": "stdout",
       "text": [
        "\n",
        "0.536585365854"
       ]
      },
      {
       "output_type": "stream",
       "stream": "stdout",
       "text": [
        "\n",
        "0.604651162791"
       ]
      },
      {
       "output_type": "stream",
       "stream": "stdout",
       "text": [
        "\n",
        "0.657534246575"
       ]
      },
      {
       "output_type": "stream",
       "stream": "stdout",
       "text": [
        "\n",
        "0.635135135135"
       ]
      },
      {
       "output_type": "stream",
       "stream": "stdout",
       "text": [
        "\n",
        "0.535211267606\n",
        "0.621621621622"
       ]
      },
      {
       "output_type": "stream",
       "stream": "stdout",
       "text": [
        "\n",
        "0.535211267606\n",
        "0.58904109589"
       ]
      },
      {
       "output_type": "stream",
       "stream": "stdout",
       "text": [
        "\n",
        "0.561643835616\n",
        "0.611111111111"
       ]
      },
      {
       "output_type": "stream",
       "stream": "stdout",
       "text": [
        "\n",
        "0.444444444444\n",
        "0.430555555556"
       ]
      },
      {
       "output_type": "stream",
       "stream": "stdout",
       "text": [
        "\n",
        "0.459459459459\n",
        "0.506172839506"
       ]
      },
      {
       "output_type": "stream",
       "stream": "stdout",
       "text": [
        "\n",
        "0.449275362319\n",
        "0.171428571429"
       ]
      },
      {
       "output_type": "stream",
       "stream": "stdout",
       "text": [
        "\n",
        "0.347826086957\n",
        "0.363636363636"
       ]
      },
      {
       "output_type": "stream",
       "stream": "stdout",
       "text": [
        "\n",
        "0.308823529412\n",
        "0.338028169014"
       ]
      },
      {
       "output_type": "stream",
       "stream": "stdout",
       "text": [
        "\n",
        "0.338461538462\n",
        "0.308823529412"
       ]
      },
      {
       "output_type": "stream",
       "stream": "stdout",
       "text": [
        "\n",
        "0.30985915493\n",
        "0.527027027027"
       ]
      },
      {
       "output_type": "stream",
       "stream": "stdout",
       "text": [
        "\n",
        "0.581081081081"
       ]
      },
      {
       "output_type": "stream",
       "stream": "stdout",
       "text": [
        "\n",
        "0.561643835616\n",
        "0.555555555556"
       ]
      },
      {
       "output_type": "stream",
       "stream": "stdout",
       "text": [
        "\n",
        "0.534246575342\n",
        "0.575342465753"
       ]
      },
      {
       "output_type": "stream",
       "stream": "stdout",
       "text": [
        "\n",
        "0.608108108108"
       ]
      },
      {
       "output_type": "stream",
       "stream": "stdout",
       "text": [
        "\n",
        "0.625"
       ]
      },
      {
       "output_type": "stream",
       "stream": "stdout",
       "text": [
        "\n",
        "0.597222222222"
       ]
      },
      {
       "output_type": "stream",
       "stream": "stdout",
       "text": [
        "\n",
        "0.646341463415"
       ]
      },
      {
       "output_type": "stream",
       "stream": "stdout",
       "text": [
        "\n",
        "0.561643835616\n",
        "0.616438356164"
       ]
      },
      {
       "output_type": "stream",
       "stream": "stdout",
       "text": [
        "\n",
        "0.561643835616\n",
        "0.376811594203"
       ]
      },
      {
       "output_type": "stream",
       "stream": "stdout",
       "text": [
        "\n",
        "0.380281690141\n",
        "0.535714285714"
       ]
      },
      {
       "output_type": "stream",
       "stream": "stdout",
       "text": [
        "\n",
        "0.536585365854"
       ]
      },
      {
       "output_type": "stream",
       "stream": "stdout",
       "text": [
        "\n",
        "0.583333333333"
       ]
      },
      {
       "output_type": "stream",
       "stream": "stdout",
       "text": [
        "\n",
        "0.58904109589"
       ]
      },
      {
       "output_type": "stream",
       "stream": "stdout",
       "text": [
        "\n",
        "0.534246575342"
       ]
      },
      {
       "output_type": "stream",
       "stream": "stdout",
       "text": [
        "\n",
        "0.611111111111"
       ]
      },
      {
       "output_type": "stream",
       "stream": "stdout",
       "text": [
        "\n",
        "0.591549295775\n",
        "0.585365853659"
       ]
      },
      {
       "output_type": "stream",
       "stream": "stdout",
       "text": [
        "\n",
        "0.585365853659"
       ]
      },
      {
       "output_type": "stream",
       "stream": "stdout",
       "text": [
        "\n",
        "0.328571428571\n",
        "0.611111111111"
       ]
      },
      {
       "output_type": "stream",
       "stream": "stdout",
       "text": [
        "\n",
        "0.323529411765\n",
        "0.611111111111"
       ]
      },
      {
       "output_type": "stream",
       "stream": "stdout",
       "text": [
        "\n",
        "0.602739726027"
       ]
      },
      {
       "output_type": "stream",
       "stream": "stdout",
       "text": [
        "\n",
        "0.619718309859"
       ]
      },
      {
       "output_type": "stream",
       "stream": "stdout",
       "text": [
        "\n",
        "0.391304347826\n",
        "0.597222222222"
       ]
      },
      {
       "output_type": "stream",
       "stream": "stdout",
       "text": [
        "\n",
        "0.626506024096"
       ]
      },
      {
       "output_type": "stream",
       "stream": "stdout",
       "text": [
        "\n",
        "0.571428571429"
       ]
      },
      {
       "output_type": "stream",
       "stream": "stdout",
       "text": [
        "\n",
        "0.662162162162"
       ]
      },
      {
       "output_type": "stream",
       "stream": "stdout",
       "text": [
        "\n",
        "0.602739726027"
       ]
      },
      {
       "output_type": "stream",
       "stream": "stdout",
       "text": [
        "\n",
        "0.520547945205"
       ]
      },
      {
       "output_type": "stream",
       "stream": "stdout",
       "text": [
        "\n",
        "0.559523809524"
       ]
      },
      {
       "output_type": "stream",
       "stream": "stdout",
       "text": [
        "\n",
        "0.567567567568"
       ]
      },
      {
       "output_type": "stream",
       "stream": "stdout",
       "text": [
        "\n",
        "0.648648648649"
       ]
      },
      {
       "output_type": "stream",
       "stream": "stdout",
       "text": [
        "\n",
        "0.540540540541\n",
        "0.584269662921"
       ]
      },
      {
       "output_type": "stream",
       "stream": "stdout",
       "text": [
        "\n",
        "0.635135135135"
       ]
      },
      {
       "output_type": "stream",
       "stream": "stdout",
       "text": [
        "\n",
        "0.58904109589\n",
        "0.561643835616"
       ]
      },
      {
       "output_type": "stream",
       "stream": "stdout",
       "text": [
        "\n",
        "0.594594594595"
       ]
      },
      {
       "output_type": "stream",
       "stream": "stdout",
       "text": [
        "\n",
        "0.555555555556"
       ]
      },
      {
       "output_type": "stream",
       "stream": "stdout",
       "text": [
        "\n",
        "0.590909090909"
       ]
      },
      {
       "output_type": "stream",
       "stream": "stdout",
       "text": [
        "\n",
        "0.611111111111"
       ]
      },
      {
       "output_type": "stream",
       "stream": "stdout",
       "text": [
        "\n",
        "0.432835820896\n",
        "0.513888888889"
       ]
      },
      {
       "output_type": "stream",
       "stream": "stdout",
       "text": [
        "\n",
        "0.58904109589\n",
        "0.479452054795"
       ]
      },
      {
       "output_type": "stream",
       "stream": "stdout",
       "text": [
        "\n",
        "0.541666666667\n",
        "0.657534246575"
       ]
      },
      {
       "output_type": "stream",
       "stream": "stdout",
       "text": [
        "\n",
        "0.472222222222\n",
        "0.527027027027"
       ]
      },
      {
       "output_type": "stream",
       "stream": "stdout",
       "text": [
        "\n",
        "0.486486486486\n",
        "0.520547945205"
       ]
      },
      {
       "output_type": "stream",
       "stream": "stdout",
       "text": [
        "\n",
        "0.602739726027"
       ]
      },
      {
       "output_type": "stream",
       "stream": "stdout",
       "text": [
        "\n",
        "0.376811594203\n",
        "0.630136986301"
       ]
      },
      {
       "output_type": "stream",
       "stream": "stdout",
       "text": [
        "\n",
        "0.575342465753\n",
        "0.608108108108"
       ]
      },
      {
       "output_type": "stream",
       "stream": "stdout",
       "text": [
        "\n",
        "0.4\n",
        "0.581081081081"
       ]
      },
      {
       "output_type": "stream",
       "stream": "stdout",
       "text": [
        "\n",
        "0.352941176471\n",
        "0.41095890411"
       ]
      },
      {
       "output_type": "stream",
       "stream": "stdout",
       "text": [
        "\n",
        "0.402985074627\n",
        "0.513513513514"
       ]
      },
      {
       "output_type": "stream",
       "stream": "stdout",
       "text": [
        "\n",
        "0.408450704225\n",
        "0.47619047619"
       ]
      },
      {
       "output_type": "stream",
       "stream": "stdout",
       "text": [
        "\n",
        "0.452054794521\n",
        "0.486111111111"
       ]
      },
      {
       "output_type": "stream",
       "stream": "stdout",
       "text": [
        "\n",
        "0.465753424658\n",
        "0.242424242424"
       ]
      },
      {
       "output_type": "stream",
       "stream": "stdout",
       "text": [
        "\n",
        "0.555555555556\n",
        "0.208333333333"
       ]
      },
      {
       "output_type": "stream",
       "stream": "stdout",
       "text": [
        "\n",
        "0.635135135135"
       ]
      },
      {
       "output_type": "stream",
       "stream": "stdout",
       "text": [
        "\n",
        "0.169230769231\n",
        "0.188405797101"
       ]
      },
      {
       "output_type": "stream",
       "stream": "stdout",
       "text": [
        "\n",
        "0.246153846154\n",
        "0.227272727273"
       ]
      },
      {
       "output_type": "stream",
       "stream": "stdout",
       "text": [
        "\n",
        "0.416666666667\n",
        "0.458333333333"
       ]
      },
      {
       "output_type": "stream",
       "stream": "stdout",
       "text": [
        "\n",
        "0.621621621622"
       ]
      },
      {
       "output_type": "stream",
       "stream": "stdout",
       "text": [
        "\n",
        "0.630136986301"
       ]
      },
      {
       "output_type": "stream",
       "stream": "stdout",
       "text": [
        "\n",
        "0.555555555556"
       ]
      },
      {
       "output_type": "stream",
       "stream": "stdout",
       "text": [
        "\n",
        "0.257575757576\n",
        "0.521126760563"
       ]
      },
      {
       "output_type": "stream",
       "stream": "stdout",
       "text": [
        "\n",
        "0.323943661972\n",
        "0.424657534247"
       ]
      },
      {
       "output_type": "stream",
       "stream": "stdout",
       "text": [
        "\n",
        "0.36231884058\n",
        "0.378787878788"
       ]
      },
      {
       "output_type": "stream",
       "stream": "stdout",
       "text": [
        "\n",
        "0.486111111111\n",
        "0.338235294118"
       ]
      },
      {
       "output_type": "stream",
       "stream": "stdout",
       "text": [
        "\n",
        "0.352112676056\n",
        "0.420289855072"
       ]
      },
      {
       "output_type": "stream",
       "stream": "stdout",
       "text": [
        "\n",
        "0.454545454545\n",
        "0.424242424242"
       ]
      },
      {
       "output_type": "stream",
       "stream": "stdout",
       "text": [
        "\n",
        "0.555555555556"
       ]
      },
      {
       "output_type": "stream",
       "stream": "stdout",
       "text": [
        "\n",
        "0.289855072464\n",
        "0.408450704225"
       ]
      },
      {
       "output_type": "stream",
       "stream": "stdout",
       "text": [
        "\n",
        "0.230769230769\n",
        "0.506172839506"
       ]
      },
      {
       "output_type": "stream",
       "stream": "stdout",
       "text": [
        "\n",
        "0.462686567164\n",
        "0.583333333333"
       ]
      },
      {
       "output_type": "stream",
       "stream": "stdout",
       "text": [
        "\n",
        "0.575342465753\n",
        "0.559523809524"
       ]
      },
      {
       "output_type": "stream",
       "stream": "stdout",
       "text": [
        "\n",
        "0.547619047619"
       ]
      },
      {
       "output_type": "stream",
       "stream": "stdout",
       "text": [
        "\n",
        "0.388888888889\n",
        "0.308823529412"
       ]
      },
      {
       "output_type": "stream",
       "stream": "stdout",
       "text": [
        "\n",
        "0.333333333333\n",
        "0.367647058824"
       ]
      },
      {
       "output_type": "stream",
       "stream": "stdout",
       "text": [
        "\n",
        "0.31884057971\n",
        "0.524390243902"
       ]
      },
      {
       "output_type": "stream",
       "stream": "stdout",
       "text": [
        "\n",
        "0.479452054795\n",
        "0.462686567164"
       ]
      },
      {
       "output_type": "stream",
       "stream": "stdout",
       "text": [
        "\n",
        "0.347826086957\n",
        "0.662162162162"
       ]
      },
      {
       "output_type": "stream",
       "stream": "stdout",
       "text": [
        "\n",
        "0.58904109589\n",
        "0.614457831325"
       ]
      },
      {
       "output_type": "stream",
       "stream": "stdout",
       "text": [
        "\n",
        "0.554054054054"
       ]
      },
      {
       "output_type": "stream",
       "stream": "stdout",
       "text": [
        "\n",
        "0.621951219512"
       ]
      },
      {
       "output_type": "stream",
       "stream": "stdout",
       "text": [
        "\n",
        "0.591549295775"
       ]
      },
      {
       "output_type": "stream",
       "stream": "stdout",
       "text": [
        "\n",
        "0.594594594595\n",
        "0.493150684932"
       ]
      },
      {
       "output_type": "stream",
       "stream": "stdout",
       "text": [
        "\n",
        "0.583333333333\n",
        "0.652777777778"
       ]
      },
      {
       "output_type": "stream",
       "stream": "stdout",
       "text": [
        "\n",
        "0.5\n",
        "0.611111111111"
       ]
      },
      {
       "output_type": "stream",
       "stream": "stdout",
       "text": [
        "\n",
        "0.602739726027"
       ]
      },
      {
       "output_type": "stream",
       "stream": "stdout",
       "text": [
        "\n",
        "0.452054794521"
       ]
      },
      {
       "output_type": "stream",
       "stream": "stdout",
       "text": [
        "\n",
        "0.506849315068\n",
        "0.559523809524"
       ]
      },
      {
       "output_type": "stream",
       "stream": "stdout",
       "text": [
        "\n",
        "0.638888888889"
       ]
      },
      {
       "output_type": "stream",
       "stream": "stdout",
       "text": [
        "\n",
        "0.648648648649"
       ]
      },
      {
       "output_type": "stream",
       "stream": "stdout",
       "text": [
        "\n",
        "0.594594594595"
       ]
      },
      {
       "output_type": "stream",
       "stream": "stdout",
       "text": [
        "\n",
        "0.558139534884"
       ]
      },
      {
       "output_type": "stream",
       "stream": "stdout",
       "text": [
        "\n",
        "0.567567567568\n",
        "0.630136986301"
       ]
      },
      {
       "output_type": "stream",
       "stream": "stdout",
       "text": [
        "\n",
        "0.608108108108\n",
        "0.540540540541"
       ]
      },
      {
       "output_type": "stream",
       "stream": "stdout",
       "text": [
        "\n",
        "0.567567567568\n",
        "0.542857142857"
       ]
      },
      {
       "output_type": "stream",
       "stream": "stdout",
       "text": [
        "\n",
        "0.657534246575"
       ]
      },
      {
       "output_type": "stream",
       "stream": "stdout",
       "text": [
        "\n",
        "0.569444444444"
       ]
      },
      {
       "output_type": "stream",
       "stream": "stdout",
       "text": [
        "\n",
        "0.560975609756"
       ]
      },
      {
       "output_type": "stream",
       "stream": "stdout",
       "text": [
        "\n",
        "0.534246575342\n",
        "0.602272727273"
       ]
      },
      {
       "output_type": "stream",
       "stream": "stdout",
       "text": [
        "\n",
        "0.547945205479\n",
        "0.569444444444"
       ]
      },
      {
       "output_type": "stream",
       "stream": "stdout",
       "text": [
        "\n",
        "0.58904109589\n",
        "0.534246575342"
       ]
      },
      {
       "output_type": "stream",
       "stream": "stdout",
       "text": [
        "\n",
        "0.561643835616"
       ]
      },
      {
       "output_type": "stream",
       "stream": "stdout",
       "text": [
        "\n",
        "0.567567567568"
       ]
      },
      {
       "output_type": "stream",
       "stream": "stdout",
       "text": [
        "\n",
        "0.527027027027\n",
        "0.554054054054"
       ]
      },
      {
       "output_type": "stream",
       "stream": "stdout",
       "text": [
        "\n",
        "0.493150684932"
       ]
      },
      {
       "output_type": "stream",
       "stream": "stdout",
       "text": [
        "\n",
        "0.541666666667"
       ]
      },
      {
       "output_type": "stream",
       "stream": "stdout",
       "text": [
        "\n",
        "0.58904109589"
       ]
      },
      {
       "output_type": "stream",
       "stream": "stdout",
       "text": [
        "\n",
        "0.505747126437"
       ]
      },
      {
       "output_type": "stream",
       "stream": "stdout",
       "text": [
        "\n",
        "0.505747126437"
       ]
      },
      {
       "output_type": "stream",
       "stream": "stdout",
       "text": [
        "\n",
        "0.561643835616"
       ]
      },
      {
       "output_type": "stream",
       "stream": "stdout",
       "text": [
        "\n",
        "0.540540540541\n",
        "0.569444444444"
       ]
      },
      {
       "output_type": "stream",
       "stream": "stdout",
       "text": [
        "\n",
        "0.459459459459\n",
        "0.573170731707"
       ]
      },
      {
       "output_type": "stream",
       "stream": "stdout",
       "text": [
        "\n",
        "0.391304347826\n",
        "0.702702702703"
       ]
      },
      {
       "output_type": "stream",
       "stream": "stdout",
       "text": [
        "\n",
        "0.662162162162"
       ]
      },
      {
       "output_type": "stream",
       "stream": "stdout",
       "text": [
        "\n",
        "0.534246575342"
       ]
      },
      {
       "output_type": "stream",
       "stream": "stdout",
       "text": [
        "\n",
        "0.643835616438"
       ]
      },
      {
       "output_type": "stream",
       "stream": "stdout",
       "text": [
        "\n",
        "0.569444444444"
       ]
      },
      {
       "output_type": "stream",
       "stream": "stdout",
       "text": [
        "\n",
        "0.555555555556\n",
        "0.573033707865"
       ]
      },
      {
       "output_type": "stream",
       "stream": "stdout",
       "text": [
        "\n",
        "0.569444444444"
       ]
      },
      {
       "output_type": "stream",
       "stream": "stdout",
       "text": [
        "\n",
        "0.568181818182"
       ]
      },
      {
       "output_type": "stream",
       "stream": "stdout",
       "text": [
        "\n",
        "0.58904109589\n",
        "0.625"
       ]
      },
      {
       "output_type": "stream",
       "stream": "stdout",
       "text": [
        "\n",
        "0.621951219512"
       ]
      },
      {
       "output_type": "stream",
       "stream": "stdout",
       "text": [
        "\n",
        "0.577464788732\n",
        "0.397058823529"
       ]
      },
      {
       "output_type": "stream",
       "stream": "stdout",
       "text": [
        "\n",
        "0.449275362319\n",
        "0.581081081081"
       ]
      },
      {
       "output_type": "stream",
       "stream": "stdout",
       "text": [
        "\n",
        "0.575342465753"
       ]
      },
      {
       "output_type": "stream",
       "stream": "stdout",
       "text": [
        "\n",
        "0.630136986301"
       ]
      },
      {
       "output_type": "stream",
       "stream": "stdout",
       "text": [
        "\n",
        "0.567567567568"
       ]
      },
      {
       "output_type": "stream",
       "stream": "stdout",
       "text": [
        "\n",
        "0.597222222222"
       ]
      },
      {
       "output_type": "stream",
       "stream": "stdout",
       "text": [
        "\n",
        "0.527777777778\n",
        "0.597701149425"
       ]
      },
      {
       "output_type": "stream",
       "stream": "stdout",
       "text": [
        "\n",
        "0.554054054054\n",
        "0.397260273973"
       ]
      },
      {
       "output_type": "stream",
       "stream": "stdout",
       "text": [
        "\n",
        "0.5\n",
        "0.534246575342"
       ]
      },
      {
       "output_type": "stream",
       "stream": "stdout",
       "text": [
        "\n",
        "0.540229885057"
       ]
      },
      {
       "output_type": "stream",
       "stream": "stdout",
       "text": [
        "\n",
        "0.547945205479\n",
        "0.527027027027"
       ]
      },
      {
       "output_type": "stream",
       "stream": "stdout",
       "text": [
        "\n",
        "0.635135135135\n",
        "0.432432432432"
       ]
      },
      {
       "output_type": "stream",
       "stream": "stdout",
       "text": [
        "\n",
        "0.438356164384"
       ]
      },
      {
       "output_type": "stream",
       "stream": "stdout",
       "text": [
        "\n",
        "0.594594594595"
       ]
      },
      {
       "output_type": "stream",
       "stream": "stdout",
       "text": [
        "\n",
        "0.534246575342"
       ]
      },
      {
       "output_type": "stream",
       "stream": "stdout",
       "text": [
        "\n",
        "0.58904109589\n",
        "0.506849315068"
       ]
      },
      {
       "output_type": "stream",
       "stream": "stdout",
       "text": [
        "\n",
        "0.46511627907"
       ]
      },
      {
       "output_type": "stream",
       "stream": "stdout",
       "text": [
        "\n",
        "0.527777777778\n",
        "0.512195121951"
       ]
      },
      {
       "output_type": "stream",
       "stream": "stdout",
       "text": [
        "\n",
        "0.465753424658\n",
        "0.602739726027"
       ]
      },
      {
       "output_type": "stream",
       "stream": "stdout",
       "text": [
        "\n",
        "0.534246575342\n",
        "0.486486486486"
       ]
      },
      {
       "output_type": "stream",
       "stream": "stdout",
       "text": [
        "\n",
        "0.494117647059"
       ]
      },
      {
       "output_type": "stream",
       "stream": "stdout",
       "text": [
        "\n",
        "0.58904109589\n",
        "0.534246575342"
       ]
      },
      {
       "output_type": "stream",
       "stream": "stdout",
       "text": [
        "\n",
        "0.5"
       ]
      },
      {
       "output_type": "stream",
       "stream": "stdout",
       "text": [
        "\n",
        "0.493150684932\n",
        "0.554054054054"
       ]
      },
      {
       "output_type": "stream",
       "stream": "stdout",
       "text": [
        "\n",
        "0.541666666667"
       ]
      },
      {
       "output_type": "stream",
       "stream": "stdout",
       "text": [
        "\n",
        "0.525"
       ]
      },
      {
       "output_type": "stream",
       "stream": "stdout",
       "text": [
        "\n",
        "0.594594594595\n",
        "0.470588235294"
       ]
      },
      {
       "output_type": "stream",
       "stream": "stdout",
       "text": [
        "\n",
        "0.472222222222\n",
        "0.58904109589"
       ]
      },
      {
       "output_type": "stream",
       "stream": "stdout",
       "text": [
        "\n",
        "0.521126760563\n",
        "0.554054054054"
       ]
      },
      {
       "output_type": "stream",
       "stream": "stdout",
       "text": [
        "\n",
        "0.507042253521\n",
        "0.521126760563"
       ]
      },
      {
       "output_type": "stream",
       "stream": "stdout",
       "text": [
        "\n",
        "0.445945945946\n",
        "0.569444444444"
       ]
      },
      {
       "output_type": "stream",
       "stream": "stdout",
       "text": [
        "\n",
        "0.529411764706"
       ]
      },
      {
       "output_type": "stream",
       "stream": "stdout",
       "text": [
        "\n",
        "0.5375"
       ]
      },
      {
       "output_type": "stream",
       "stream": "stdout",
       "text": [
        "\n",
        "0.405405405405\n",
        "0.540540540541"
       ]
      },
      {
       "output_type": "stream",
       "stream": "stdout",
       "text": [
        "\n",
        "0.569444444444"
       ]
      },
      {
       "output_type": "stream",
       "stream": "stdout",
       "text": [
        "\n",
        "0.444444444444\n",
        "0.545454545455"
       ]
      },
      {
       "output_type": "stream",
       "stream": "stdout",
       "text": [
        "\n",
        "0.454545454545"
       ]
      },
      {
       "output_type": "stream",
       "stream": "stdout",
       "text": [
        "\n",
        "0.561643835616"
       ]
      },
      {
       "output_type": "stream",
       "stream": "stdout",
       "text": [
        "\n",
        "0.513888888889"
       ]
      },
      {
       "output_type": "stream",
       "stream": "stdout",
       "text": [
        "\n",
        "0.459459459459\n",
        "0.4625"
       ]
      },
      {
       "output_type": "stream",
       "stream": "stdout",
       "text": [
        "\n",
        "0.581081081081\n",
        "0.560975609756"
       ]
      },
      {
       "output_type": "stream",
       "stream": "stdout",
       "text": [
        "\n",
        "0.602739726027"
       ]
      },
      {
       "output_type": "stream",
       "stream": "stdout",
       "text": [
        "\n",
        "0.472222222222\n",
        "0.465909090909"
       ]
      },
      {
       "output_type": "stream",
       "stream": "stdout",
       "text": [
        "\n",
        "0.506849315068\n",
        "0.472972972973"
       ]
      },
      {
       "output_type": "stream",
       "stream": "stdout",
       "text": [
        "\n",
        "0.486486486486\n",
        "0.513888888889"
       ]
      },
      {
       "output_type": "stream",
       "stream": "stdout",
       "text": [
        "\n",
        "0.581081081081\n",
        "0.458333333333"
       ]
      },
      {
       "output_type": "stream",
       "stream": "stdout",
       "text": [
        "\n",
        "0.555555555556\n",
        "0.522727272727"
       ]
      },
      {
       "output_type": "stream",
       "stream": "stdout",
       "text": [
        "\n",
        "0.486486486486"
       ]
      },
      {
       "output_type": "stream",
       "stream": "stdout",
       "text": [
        "\n",
        "0.554054054054"
       ]
      },
      {
       "output_type": "stream",
       "stream": "stdout",
       "text": [
        "\n",
        "0.507042253521\n",
        "0.506172839506"
       ]
      },
      {
       "output_type": "stream",
       "stream": "stdout",
       "text": [
        "\n",
        "0.55"
       ]
      },
      {
       "output_type": "stream",
       "stream": "stdout",
       "text": [
        "\n",
        "0.561643835616\n",
        "0.486111111111"
       ]
      },
      {
       "output_type": "stream",
       "stream": "stdout",
       "text": [
        "\n",
        "0.534246575342\n",
        "0.486486486486"
       ]
      },
      {
       "output_type": "stream",
       "stream": "stdout",
       "text": [
        "\n",
        "0.527027027027"
       ]
      },
      {
       "output_type": "stream",
       "stream": "stdout",
       "text": [
        "\n",
        "0.58904109589"
       ]
      },
      {
       "output_type": "stream",
       "stream": "stdout",
       "text": [
        "\n",
        "0.51724137931"
       ]
      },
      {
       "output_type": "stream",
       "stream": "stdout",
       "text": [
        "\n",
        "0.535211267606"
       ]
      },
      {
       "output_type": "stream",
       "stream": "stdout",
       "text": [
        "\n",
        "0.575"
       ]
      },
      {
       "output_type": "stream",
       "stream": "stdout",
       "text": [
        "\n",
        "0.506849315068"
       ]
      },
      {
       "output_type": "stream",
       "stream": "stdout",
       "text": [
        "\n",
        "0.554054054054"
       ]
      },
      {
       "output_type": "stream",
       "stream": "stdout",
       "text": [
        "\n",
        "0.478873239437\n",
        "0.486111111111"
       ]
      },
      {
       "output_type": "stream",
       "stream": "stdout",
       "text": [
        "\n",
        "0.575342465753\n",
        "0.635135135135"
       ]
      },
      {
       "output_type": "stream",
       "stream": "stdout",
       "text": [
        "\n",
        "0.527777777778\n",
        "0.52380952381"
       ]
      },
      {
       "output_type": "stream",
       "stream": "stdout",
       "text": [
        "\n",
        "0.486111111111\n",
        "0.459459459459"
       ]
      },
      {
       "output_type": "stream",
       "stream": "stdout",
       "text": [
        "\n",
        "0.569444444444"
       ]
      },
      {
       "output_type": "stream",
       "stream": "stdout",
       "text": [
        "\n",
        "0.513513513514\n",
        "0.608108108108"
       ]
      },
      {
       "output_type": "stream",
       "stream": "stdout",
       "text": [
        "\n",
        "0.458823529412"
       ]
      },
      {
       "output_type": "stream",
       "stream": "stdout",
       "text": [
        "\n",
        "0.594594594595"
       ]
      },
      {
       "output_type": "stream",
       "stream": "stdout",
       "text": [
        "\n",
        "0.597222222222"
       ]
      },
      {
       "output_type": "stream",
       "stream": "stdout",
       "text": [
        "\n",
        "0.583333333333"
       ]
      },
      {
       "output_type": "stream",
       "stream": "stdout",
       "text": [
        "\n",
        "0.416666666667\n",
        "0.506172839506"
       ]
      },
      {
       "output_type": "stream",
       "stream": "stdout",
       "text": [
        "\n",
        "0.424657534247\n",
        "0.535211267606"
       ]
      },
      {
       "output_type": "stream",
       "stream": "stdout",
       "text": [
        "\n",
        "0.591549295775"
       ]
      },
      {
       "output_type": "stream",
       "stream": "stdout",
       "text": [
        "\n",
        "0.621621621622"
       ]
      },
      {
       "output_type": "stream",
       "stream": "stdout",
       "text": [
        "\n",
        "0.567567567568\n",
        "0.5"
       ]
      },
      {
       "output_type": "stream",
       "stream": "stdout",
       "text": [
        "\n",
        "0.46835443038\n",
        "0.472222222222"
       ]
      },
      {
       "output_type": "stream",
       "stream": "stdout",
       "text": [
        "\n",
        "0.527027027027"
       ]
      },
      {
       "output_type": "stream",
       "stream": "stdout",
       "text": [
        "\n",
        "0.583333333333\n",
        "0.513888888889"
       ]
      },
      {
       "output_type": "stream",
       "stream": "stdout",
       "text": [
        "\n",
        "0.555555555556\n",
        "0.581081081081"
       ]
      },
      {
       "output_type": "stream",
       "stream": "stdout",
       "text": [
        "\n",
        "0.472222222222\n",
        "0.534246575342"
       ]
      },
      {
       "output_type": "stream",
       "stream": "stdout",
       "text": [
        "\n",
        "0.591549295775"
       ]
      },
      {
       "output_type": "stream",
       "stream": "stdout",
       "text": [
        "\n",
        "0.434782608696\n",
        "0.575342465753"
       ]
      },
      {
       "output_type": "stream",
       "stream": "stdout",
       "text": [
        "\n",
        "0.608108108108"
       ]
      },
      {
       "output_type": "stream",
       "stream": "stdout",
       "text": [
        "\n",
        "0.616438356164\n",
        "0.534090909091"
       ]
      },
      {
       "output_type": "stream",
       "stream": "stdout",
       "text": [
        "\n",
        "0.418918918919\n",
        "0.534246575342"
       ]
      },
      {
       "output_type": "stream",
       "stream": "stdout",
       "text": [
        "\n",
        "0.513888888889\n",
        "0.486111111111"
       ]
      },
      {
       "output_type": "stream",
       "stream": "stdout",
       "text": [
        "\n",
        "0.432432432432\n",
        "0.488636363636"
       ]
      },
      {
       "output_type": "stream",
       "stream": "stdout",
       "text": [
        "\n",
        "0.609756097561"
       ]
      },
      {
       "output_type": "stream",
       "stream": "stdout",
       "text": [
        "\n",
        "0.5\n",
        "0.561643835616"
       ]
      },
      {
       "output_type": "stream",
       "stream": "stdout",
       "text": [
        "\n",
        "0.527027027027"
       ]
      },
      {
       "output_type": "stream",
       "stream": "stdout",
       "text": [
        "\n",
        "0.513888888889"
       ]
      },
      {
       "output_type": "stream",
       "stream": "stdout",
       "text": [
        "\n",
        "0.671232876712"
       ]
      },
      {
       "output_type": "stream",
       "stream": "stdout",
       "text": [
        "\n",
        "0.569444444444"
       ]
      },
      {
       "output_type": "stream",
       "stream": "stdout",
       "text": [
        "\n",
        "0.534246575342\n",
        "0.41095890411"
       ]
      },
      {
       "output_type": "stream",
       "stream": "stdout",
       "text": [
        "\n",
        "0.513888888889"
       ]
      },
      {
       "output_type": "stream",
       "stream": "stdout",
       "text": [
        "\n",
        "0.481927710843"
       ]
      },
      {
       "output_type": "stream",
       "stream": "stdout",
       "text": [
        "\n",
        "0.548780487805"
       ]
      },
      {
       "output_type": "stream",
       "stream": "stdout",
       "text": [
        "\n",
        "0.592592592593"
       ]
      },
      {
       "output_type": "stream",
       "stream": "stdout",
       "text": [
        "\n",
        "0.616438356164"
       ]
      },
      {
       "output_type": "stream",
       "stream": "stdout",
       "text": [
        "\n",
        "0.540540540541\n",
        "0.527777777778"
       ]
      },
      {
       "output_type": "stream",
       "stream": "stdout",
       "text": [
        "\n",
        "0.661971830986"
       ]
      },
      {
       "output_type": "stream",
       "stream": "stdout",
       "text": [
        "\n",
        "0.58904109589"
       ]
      },
      {
       "output_type": "stream",
       "stream": "stdout",
       "text": [
        "\n",
        "0.586206896552"
       ]
      },
      {
       "output_type": "stream",
       "stream": "stdout",
       "text": [
        "\n",
        "0.405797101449\n",
        "0.557142857143"
       ]
      },
      {
       "output_type": "stream",
       "stream": "stdout",
       "text": [
        "\n",
        "0.424657534247\n",
        "0.522388059701"
       ]
      },
      {
       "output_type": "stream",
       "stream": "stdout",
       "text": [
        "\n",
        "0.459459459459\n",
        "0.426470588235"
       ]
      },
      {
       "output_type": "stream",
       "stream": "stdout",
       "text": [
        "\n",
        "0.333333333333\n",
        "0.452054794521"
       ]
      },
      {
       "output_type": "stream",
       "stream": "stdout",
       "text": [
        "\n",
        "0.597222222222"
       ]
      },
      {
       "output_type": "stream",
       "stream": "stdout",
       "text": [
        "\n",
        "0.431818181818"
       ]
      },
      {
       "output_type": "stream",
       "stream": "stdout",
       "text": [
        "\n",
        "0.333333333333\n",
        "0.658823529412"
       ]
      },
      {
       "output_type": "stream",
       "stream": "stdout",
       "text": [
        "\n",
        "0.635294117647"
       ]
      },
      {
       "output_type": "stream",
       "stream": "stdout",
       "text": [
        "\n",
        "0.634146341463"
       ]
      },
      {
       "output_type": "stream",
       "stream": "stdout",
       "text": [
        "\n",
        "0.506849315068\n",
        "0.597222222222"
       ]
      },
      {
       "output_type": "stream",
       "stream": "stdout",
       "text": [
        "\n",
        "0.561643835616\n",
        "0.573170731707"
       ]
      },
      {
       "output_type": "stream",
       "stream": "stdout",
       "text": [
        "\n",
        "0.560975609756"
       ]
      },
      {
       "output_type": "stream",
       "stream": "stdout",
       "text": [
        "\n",
        "0.573170731707"
       ]
      },
      {
       "output_type": "stream",
       "stream": "stdout",
       "text": [
        "\n",
        "0.235294117647\n",
        "0.264705882353"
       ]
      },
      {
       "output_type": "stream",
       "stream": "stdout",
       "text": [
        "\n",
        "0.652777777778"
       ]
      },
      {
       "output_type": "stream",
       "stream": "stdout",
       "text": [
        "\n",
        "0.561643835616\n",
        "0.585365853659"
       ]
      },
      {
       "output_type": "stream",
       "stream": "stdout",
       "text": [
        "\n",
        "0.513888888889"
       ]
      },
      {
       "output_type": "stream",
       "stream": "stdout",
       "text": [
        "\n",
        "0.561643835616"
       ]
      },
      {
       "output_type": "stream",
       "stream": "stdout",
       "text": [
        "\n",
        "0.675324675325"
       ]
      },
      {
       "output_type": "stream",
       "stream": "stdout",
       "text": [
        "\n",
        "0.662162162162"
       ]
      },
      {
       "output_type": "stream",
       "stream": "stdout",
       "text": [
        "\n",
        "0.208955223881\n",
        "0.52808988764"
       ]
      },
      {
       "output_type": "stream",
       "stream": "stdout",
       "text": [
        "\n",
        "0.527777777778\n",
        "0.581081081081"
       ]
      },
      {
       "output_type": "stream",
       "stream": "stdout",
       "text": [
        "\n",
        "0.561643835616"
       ]
      },
      {
       "output_type": "stream",
       "stream": "stdout",
       "text": [
        "\n",
        "0.602739726027"
       ]
      },
      {
       "output_type": "stream",
       "stream": "stdout",
       "text": [
        "\n",
        "0.5"
       ]
      },
      {
       "output_type": "stream",
       "stream": "stdout",
       "text": [
        "\n",
        "0.569444444444\n",
        "0.530864197531"
       ]
      },
      {
       "output_type": "stream",
       "stream": "stdout",
       "text": [
        "\n",
        "0.617283950617"
       ]
      },
      {
       "output_type": "stream",
       "stream": "stdout",
       "text": [
        "\n",
        "0.554054054054"
       ]
      },
      {
       "output_type": "stream",
       "stream": "stdout",
       "text": [
        "\n",
        "0.657534246575"
       ]
      },
      {
       "output_type": "stream",
       "stream": "stdout",
       "text": [
        "\n",
        "0.581081081081"
       ]
      },
      {
       "output_type": "stream",
       "stream": "stdout",
       "text": [
        "\n",
        "0.492957746479\n",
        "0.506849315068"
       ]
      },
      {
       "output_type": "stream",
       "stream": "stdout",
       "text": [
        "\n",
        "0.563218390805"
       ]
      },
      {
       "output_type": "stream",
       "stream": "stdout",
       "text": [
        "\n",
        "0.41095890411\n",
        "0.569444444444"
       ]
      },
      {
       "output_type": "stream",
       "stream": "stdout",
       "text": [
        "\n",
        "0.575342465753"
       ]
      },
      {
       "output_type": "stream",
       "stream": "stdout",
       "text": [
        "\n",
        "0.635135135135\n",
        "0.555555555556"
       ]
      },
      {
       "output_type": "stream",
       "stream": "stdout",
       "text": [
        "\n",
        "0.561643835616"
       ]
      },
      {
       "output_type": "stream",
       "stream": "stdout",
       "text": [
        "\n",
        "0.58904109589\n",
        "0.671232876712"
       ]
      },
      {
       "output_type": "stream",
       "stream": "stdout",
       "text": [
        "\n",
        "0.561643835616"
       ]
      },
      {
       "output_type": "stream",
       "stream": "stdout",
       "text": [
        "\n",
        "0.472972972973\n",
        "0.53488372093"
       ]
      },
      {
       "output_type": "stream",
       "stream": "stdout",
       "text": [
        "\n",
        "0.554054054054"
       ]
      },
      {
       "output_type": "stream",
       "stream": "stdout",
       "text": [
        "\n",
        "0.5\n",
        "0.573033707865"
       ]
      },
      {
       "output_type": "stream",
       "stream": "stdout",
       "text": [
        "\n",
        "0.479452054795"
       ]
      },
      {
       "output_type": "stream",
       "stream": "stdout",
       "text": [
        "\n",
        "0.506849315068\n",
        "0.689655172414"
       ]
      },
      {
       "output_type": "stream",
       "stream": "stdout",
       "text": [
        "\n",
        "0.702702702703"
       ]
      },
      {
       "output_type": "stream",
       "stream": "stdout",
       "text": [
        "\n",
        "0.616438356164"
       ]
      },
      {
       "output_type": "stream",
       "stream": "stdout",
       "text": [
        "\n",
        "0.626666666667"
       ]
      },
      {
       "output_type": "stream",
       "stream": "stdout",
       "text": [
        "\n",
        "0.680555555556"
       ]
      },
      {
       "output_type": "stream",
       "stream": "stdout",
       "text": [
        "\n",
        "0.608108108108"
       ]
      },
      {
       "output_type": "stream",
       "stream": "stdout",
       "text": [
        "\n",
        "0.675675675676"
       ]
      },
      {
       "output_type": "stream",
       "stream": "stdout",
       "text": [
        "\n",
        "0.635135135135"
       ]
      },
      {
       "output_type": "stream",
       "stream": "stdout",
       "text": [
        "\n",
        "0.613333333333"
       ]
      },
      {
       "output_type": "stream",
       "stream": "stdout",
       "text": [
        "\n",
        "0.650602409639"
       ]
      },
      {
       "output_type": "stream",
       "stream": "stdout",
       "text": [
        "\n",
        "0.684931506849"
       ]
      },
      {
       "output_type": "stream",
       "stream": "stdout",
       "text": [
        "\n",
        "0.657534246575"
       ]
      },
      {
       "output_type": "stream",
       "stream": "stdout",
       "text": [
        "\n",
        "0.161764705882\n",
        "0.194029850746"
       ]
      },
      {
       "output_type": "stream",
       "stream": "stdout",
       "text": [
        "\n",
        "0.191176470588\n",
        "0.194029850746"
       ]
      },
      {
       "output_type": "stream",
       "stream": "stdout",
       "text": [
        "\n",
        "0.194444444444\n",
        "0.357142857143"
       ]
      },
      {
       "output_type": "stream",
       "stream": "stdout",
       "text": [
        "\n",
        "0.397260273973\n",
        "0.352112676056"
       ]
      },
      {
       "output_type": "stream",
       "stream": "stdout",
       "text": [
        "\n",
        "0.4\n",
        "0.319444444444"
       ]
      },
      {
       "output_type": "stream",
       "stream": "stdout",
       "text": [
        "\n",
        "0.430555555556\n",
        "0.347826086957"
       ]
      },
      {
       "output_type": "stream",
       "stream": "stdout",
       "text": [
        "\n",
        "0.268656716418\n",
        "0.291666666667"
       ]
      },
      {
       "output_type": "stream",
       "stream": "stdout",
       "text": [
        "\n",
        "0.308823529412\n",
        "0.287878787879"
       ]
      },
      {
       "output_type": "stream",
       "stream": "stdout",
       "text": [
        "\n",
        "0.295774647887\n",
        "0.30985915493"
       ]
      },
      {
       "output_type": "stream",
       "stream": "stdout",
       "text": [
        "\n",
        "0.291666666667\n",
        "0.375"
       ]
      },
      {
       "output_type": "stream",
       "stream": "stdout",
       "text": [
        "\n",
        "0.422535211268\n",
        "0.452054794521"
       ]
      },
      {
       "output_type": "stream",
       "stream": "stdout",
       "text": [
        "\n",
        "0.407407407407"
       ]
      },
      {
       "output_type": "stream",
       "stream": "stdout",
       "text": [
        "\n",
        "0.281690140845\n",
        "0.375"
       ]
      },
      {
       "output_type": "stream",
       "stream": "stdout",
       "text": [
        "\n",
        "0.390243902439"
       ]
      },
      {
       "output_type": "stream",
       "stream": "stdout",
       "text": [
        "\n",
        "0.416666666667\n",
        "0.408450704225"
       ]
      },
      {
       "output_type": "stream",
       "stream": "stdout",
       "text": [
        "\n",
        "0.452054794521\n",
        "0.388888888889"
       ]
      },
      {
       "output_type": "stream",
       "stream": "stdout",
       "text": [
        "\n",
        "0.394366197183\n",
        "0.342465753425"
       ]
      },
      {
       "output_type": "stream",
       "stream": "stdout",
       "text": [
        "\n",
        "0.426829268293\n",
        "0.416666666667"
       ]
      },
      {
       "output_type": "stream",
       "stream": "stdout",
       "text": [
        "\n",
        "0.438356164384\n",
        "0.414634146341"
       ]
      },
      {
       "output_type": "stream",
       "stream": "stdout",
       "text": [
        "\n",
        "0.361111111111\n",
        "0.422535211268"
       ]
      },
      {
       "output_type": "stream",
       "stream": "stdout",
       "text": [
        "\n",
        "0.366197183099\n",
        "0.394366197183"
       ]
      },
      {
       "output_type": "stream",
       "stream": "stdout",
       "text": [
        "\n",
        "0.347826086957\n",
        "0.457142857143"
       ]
      },
      {
       "output_type": "stream",
       "stream": "stdout",
       "text": [
        "\n",
        "0.376811594203\n",
        "0.408450704225"
       ]
      },
      {
       "output_type": "stream",
       "stream": "stdout",
       "text": [
        "\n",
        "0.430555555556\n",
        "0.375"
       ]
      },
      {
       "output_type": "stream",
       "stream": "stdout",
       "text": [
        "\n",
        "0.30985915493\n",
        "0.328358208955"
       ]
      },
      {
       "output_type": "stream",
       "stream": "stdout",
       "text": [
        "\n",
        "0.3\n",
        "0.347222222222"
       ]
      },
      {
       "output_type": "stream",
       "stream": "stdout",
       "text": [
        "\n",
        "0.239436619718\n",
        "0.357142857143"
       ]
      },
      {
       "output_type": "stream",
       "stream": "stdout",
       "text": [
        "\n",
        "0.465909090909"
       ]
      },
      {
       "output_type": "stream",
       "stream": "stdout",
       "text": [
        "\n",
        "0.479452054795\n",
        "0.373333333333"
       ]
      },
      {
       "output_type": "stream",
       "stream": "stdout",
       "text": [
        "\n",
        "0.313432835821\n",
        "0.434782608696"
       ]
      },
      {
       "output_type": "stream",
       "stream": "stdout",
       "text": [
        "\n",
        "0.242857142857\n",
        "0.323943661972"
       ]
      },
      {
       "output_type": "stream",
       "stream": "stdout",
       "text": [
        "\n",
        "0.424242424242\n",
        "0.36231884058"
       ]
      },
      {
       "output_type": "stream",
       "stream": "stdout",
       "text": [
        "\n",
        "0.373134328358\n",
        "0.411764705882"
       ]
      },
      {
       "output_type": "stream",
       "stream": "stdout",
       "text": [
        "\n",
        "0.328358208955\n",
        "0.306451612903"
       ]
      },
      {
       "output_type": "stream",
       "stream": "stdout",
       "text": [
        "\n",
        "0.272727272727\n",
        "0.289855072464"
       ]
      },
      {
       "output_type": "stream",
       "stream": "stdout",
       "text": [
        "\n",
        "0.202898550725\n",
        "0.3125"
       ]
      },
      {
       "output_type": "stream",
       "stream": "stdout",
       "text": [
        "\n",
        "0.338461538462\n",
        "0.298507462687"
       ]
      },
      {
       "output_type": "stream",
       "stream": "stdout",
       "text": [
        "\n",
        "0.269841269841\n",
        "0.292307692308"
       ]
      },
      {
       "output_type": "stream",
       "stream": "stdout",
       "text": [
        "\n",
        "0.275362318841\n",
        "0.373134328358"
       ]
      },
      {
       "output_type": "stream",
       "stream": "stdout",
       "text": [
        "\n",
        "0.347826086957\n",
        "0.514285714286"
       ]
      },
      {
       "output_type": "stream",
       "stream": "stdout",
       "text": [
        "\n",
        "0.452054794521\n",
        "0.513513513514"
       ]
      },
      {
       "output_type": "stream",
       "stream": "stdout",
       "text": [
        "\n",
        "0.416666666667\n",
        "0.338028169014"
       ]
      },
      {
       "output_type": "stream",
       "stream": "stdout",
       "text": [
        "\n",
        "0.478260869565\n",
        "0.355263157895"
       ]
      },
      {
       "output_type": "stream",
       "stream": "stdout",
       "text": [
        "\n",
        "0.405797101449\n",
        "0.424657534247"
       ]
      },
      {
       "output_type": "stream",
       "stream": "stdout",
       "text": [
        "\n",
        "0.439393939394\n",
        "0.426666666667"
       ]
      },
      {
       "output_type": "stream",
       "stream": "stdout",
       "text": [
        "\n",
        "0.485294117647\n",
        "0.382352941176"
       ]
      },
      {
       "output_type": "stream",
       "stream": "stdout",
       "text": [
        "\n",
        "0.380281690141\n",
        "0.333333333333"
       ]
      },
      {
       "output_type": "stream",
       "stream": "stdout",
       "text": [
        "\n",
        "0.442857142857\n",
        "0.485294117647"
       ]
      },
      {
       "output_type": "stream",
       "stream": "stdout",
       "text": [
        "\n",
        "0.513888888889"
       ]
      },
      {
       "output_type": "stream",
       "stream": "stdout",
       "text": [
        "\n",
        "0.338235294118\n",
        "0.34328358209"
       ]
      },
      {
       "output_type": "stream",
       "stream": "stdout",
       "text": [
        "\n",
        "0.47619047619\n",
        "0.442857142857"
       ]
      },
      {
       "output_type": "stream",
       "stream": "stdout",
       "text": [
        "\n",
        "0.444444444444\n",
        "0.388888888889"
       ]
      },
      {
       "output_type": "stream",
       "stream": "stdout",
       "text": [
        "\n",
        "0.347222222222\n",
        "0.328767123288"
       ]
      },
      {
       "output_type": "stream",
       "stream": "stdout",
       "text": [
        "\n",
        "0.310810810811\n",
        "0.342465753425"
       ]
      },
      {
       "output_type": "stream",
       "stream": "stdout",
       "text": [
        "\n",
        "0.333333333333\n",
        "0.325301204819"
       ]
      },
      {
       "output_type": "stream",
       "stream": "stdout",
       "text": [
        "\n",
        "0.378378378378\n",
        "0.348484848485"
       ]
      },
      {
       "output_type": "stream",
       "stream": "stdout",
       "text": [
        "\n",
        "0.358208955224\n",
        "0.301369863014"
       ]
      },
      {
       "output_type": "stream",
       "stream": "stdout",
       "text": [
        "\n",
        "0.378048780488"
       ]
      },
      {
       "output_type": "stream",
       "stream": "stdout",
       "text": [
        "\n",
        "0.333333333333\n",
        "0.342465753425"
       ]
      },
      {
       "output_type": "stream",
       "stream": "stdout",
       "text": [
        "\n",
        "0.527777777778"
       ]
      },
      {
       "output_type": "stream",
       "stream": "stdout",
       "text": [
        "\n",
        "0.554054054054"
       ]
      },
      {
       "output_type": "stream",
       "stream": "stdout",
       "text": [
        "\n",
        "0.342857142857\n",
        "0.242424242424"
       ]
      },
      {
       "output_type": "stream",
       "stream": "stdout",
       "text": [
        "\n",
        "0.234375\n",
        "0.295774647887"
       ]
      },
      {
       "output_type": "stream",
       "stream": "stdout",
       "text": [
        "\n",
        "0.206349206349\n",
        "0.44"
       ]
      },
      {
       "output_type": "stream",
       "stream": "stdout",
       "text": [
        "\n",
        "0.333333333333\n",
        "0.34328358209"
       ]
      },
      {
       "output_type": "stream",
       "stream": "stdout",
       "text": [
        "\n",
        "0.34328358209\n",
        "0.333333333333"
       ]
      },
      {
       "output_type": "stream",
       "stream": "stdout",
       "text": [
        "\n",
        "0.289855072464\n",
        "0.367647058824"
       ]
      },
      {
       "output_type": "stream",
       "stream": "stdout",
       "text": [
        "\n",
        "0.328358208955\n",
        "0.44776119403"
       ]
      },
      {
       "output_type": "stream",
       "stream": "stdout",
       "text": [
        "\n",
        "0.323943661972\n",
        "0.304347826087"
       ]
      },
      {
       "output_type": "stream",
       "stream": "stdout",
       "text": [
        "\n",
        "0.4"
       ]
      },
      {
       "output_type": "stream",
       "stream": "stdout",
       "text": [
        "\n",
        "0.432432432432\n",
        "0.445945945946"
       ]
      },
      {
       "output_type": "stream",
       "stream": "stdout",
       "text": [
        "\n",
        "0.472222222222\n",
        "0.465753424658"
       ]
      },
      {
       "output_type": "stream",
       "stream": "stdout",
       "text": [
        "\n",
        "0.452054794521\n",
        "0.527027027027"
       ]
      },
      {
       "output_type": "stream",
       "stream": "stdout",
       "text": [
        "\n",
        "0.424657534247\n",
        "0.493150684932"
       ]
      },
      {
       "output_type": "stream",
       "stream": "stdout",
       "text": [
        "\n",
        "0.513513513514\n",
        "0.479452054795"
       ]
      },
      {
       "output_type": "stream",
       "stream": "stdout",
       "text": [
        "\n",
        "0.58904109589\n",
        "0.506024096386"
       ]
      },
      {
       "output_type": "stream",
       "stream": "stdout",
       "text": [
        "\n",
        "0.459459459459\n",
        "0.506849315068"
       ]
      },
      {
       "output_type": "stream",
       "stream": "stdout",
       "text": [
        "\n",
        "0.479452054795\n",
        "0.43661971831"
       ]
      },
      {
       "output_type": "stream",
       "stream": "stdout",
       "text": [
        "\n",
        "0.511904761905"
       ]
      },
      {
       "output_type": "stream",
       "stream": "stdout",
       "text": [
        "\n",
        "0.494117647059"
       ]
      },
      {
       "output_type": "stream",
       "stream": "stdout",
       "text": [
        "\n",
        "0.452054794521\n"
       ]
      },
      {
       "ename": "KeyboardInterrupt",
       "evalue": "",
       "output_type": "pyerr",
       "traceback": [
        "\u001b[1;31m---------------------------------------------------------------------------\u001b[0m\n\u001b[1;31mKeyboardInterrupt\u001b[0m                         Traceback (most recent call last)",
        "\u001b[1;32m<ipython-input-22-9cff6e13e6f2>\u001b[0m in \u001b[0;36m<module>\u001b[1;34m()\u001b[0m\n\u001b[1;32m----> 1\u001b[1;33m \u001b[1;32mfor\u001b[0m \u001b[0mg\u001b[0m \u001b[1;32min\u001b[0m \u001b[0mgraphs_pos\u001b[0m\u001b[1;33m:\u001b[0m\u001b[1;33m\u001b[0m\u001b[0m\n\u001b[0m\u001b[0;32m      2\u001b[0m     \u001b[1;32mprint\u001b[0m \u001b[0mcf\u001b[0m\u001b[1;33m.\u001b[0m\u001b[0mcompute_gc_content\u001b[0m\u001b[1;33m(\u001b[0m\u001b[0mg\u001b[0m\u001b[1;33m)\u001b[0m\u001b[1;33m\u001b[0m\u001b[0m\n",
        "\u001b[1;32m/home/kohvaeip/RLS/lib/EDeN/eden/converter/rna/rnashapes.pyc\u001b[0m in \u001b[0;36mrnashapes_to_eden\u001b[1;34m(input, **options)\u001b[0m\n\u001b[0;32m     54\u001b[0m         \u001b[0mheader\u001b[0m \u001b[1;33m=\u001b[0m \u001b[0mline\u001b[0m\u001b[1;33m\u001b[0m\u001b[0m\n\u001b[0;32m     55\u001b[0m         \u001b[0mseq\u001b[0m \u001b[1;33m=\u001b[0m \u001b[0mlines\u001b[0m\u001b[1;33m.\u001b[0m\u001b[0mnext\u001b[0m\u001b[1;33m(\u001b[0m\u001b[1;33m)\u001b[0m\u001b[1;33m\u001b[0m\u001b[0m\n\u001b[1;32m---> 56\u001b[1;33m         \u001b[1;32mfor\u001b[0m \u001b[0mgraph\u001b[0m \u001b[1;32min\u001b[0m \u001b[0mstring_to_networkx\u001b[0m\u001b[1;33m(\u001b[0m\u001b[0mseq\u001b[0m\u001b[1;33m,\u001b[0m \u001b[0mheader\u001b[0m\u001b[1;33m,\u001b[0m \u001b[1;33m**\u001b[0m\u001b[0moptions\u001b[0m\u001b[1;33m)\u001b[0m\u001b[1;33m:\u001b[0m\u001b[1;33m\u001b[0m\u001b[0m\n\u001b[0m\u001b[0;32m     57\u001b[0m             \u001b[1;32myield\u001b[0m \u001b[0mgraph\u001b[0m\u001b[1;33m\u001b[0m\u001b[0m\n",
        "\u001b[1;32m/home/kohvaeip/RLS/lib/EDeN/eden/converter/rna/rnashapes.pyc\u001b[0m in \u001b[0;36mstring_to_networkx\u001b[1;34m(sequence, header, **options)\u001b[0m\n\u001b[0;32m     26\u001b[0m     \u001b[0mmax_num\u001b[0m \u001b[1;33m=\u001b[0m  \u001b[0moptions\u001b[0m\u001b[1;33m.\u001b[0m\u001b[0mget\u001b[0m\u001b[1;33m(\u001b[0m\u001b[1;34m'max_num'\u001b[0m\u001b[1;33m,\u001b[0m\u001b[1;36m3\u001b[0m\u001b[1;33m)\u001b[0m\u001b[1;33m\u001b[0m\u001b[0m\n\u001b[0;32m     27\u001b[0m     \u001b[0msplit_components\u001b[0m \u001b[1;33m=\u001b[0m \u001b[0moptions\u001b[0m\u001b[1;33m.\u001b[0m\u001b[0mget\u001b[0m\u001b[1;33m(\u001b[0m\u001b[1;34m'split_components'\u001b[0m\u001b[1;33m,\u001b[0m \u001b[0mFalse\u001b[0m\u001b[1;33m)\u001b[0m\u001b[1;33m\u001b[0m\u001b[0m\n\u001b[1;32m---> 28\u001b[1;33m     \u001b[0mseq_info\u001b[0m\u001b[1;33m,\u001b[0m \u001b[0mseq_struct_list\u001b[0m\u001b[1;33m,\u001b[0m \u001b[0mstruct_list\u001b[0m \u001b[1;33m=\u001b[0m \u001b[0mrnashapes_wrapper\u001b[0m\u001b[1;33m(\u001b[0m\u001b[0msequence\u001b[0m\u001b[1;33m,\u001b[0m \u001b[0mshape_type\u001b[0m\u001b[1;33m=\u001b[0m\u001b[0mshape_type\u001b[0m\u001b[1;33m,\u001b[0m \u001b[0menergy_range\u001b[0m\u001b[1;33m=\u001b[0m\u001b[0menergy_range\u001b[0m\u001b[1;33m,\u001b[0m \u001b[0mmax_num\u001b[0m\u001b[1;33m=\u001b[0m\u001b[0mmax_num\u001b[0m\u001b[1;33m)\u001b[0m\u001b[1;33m\u001b[0m\u001b[0m\n\u001b[0m\u001b[0;32m     29\u001b[0m     \u001b[1;32mif\u001b[0m \u001b[0msplit_components\u001b[0m\u001b[1;33m:\u001b[0m\u001b[1;33m\u001b[0m\u001b[0m\n\u001b[0;32m     30\u001b[0m         \u001b[1;32mfor\u001b[0m \u001b[0mseq_struct\u001b[0m\u001b[1;33m,\u001b[0m \u001b[0mstruct\u001b[0m \u001b[1;32min\u001b[0m \u001b[0mzip\u001b[0m\u001b[1;33m(\u001b[0m\u001b[0mseq_struct_list\u001b[0m\u001b[1;33m,\u001b[0m \u001b[0mstruct_list\u001b[0m\u001b[1;33m)\u001b[0m\u001b[1;33m:\u001b[0m\u001b[1;33m\u001b[0m\u001b[0m\n",
        "\u001b[1;32m/home/kohvaeip/RLS/lib/EDeN/eden/converter/rna/rnashapes.pyc\u001b[0m in \u001b[0;36mrnashapes_wrapper\u001b[1;34m(sequence, shape_type, energy_range, max_num)\u001b[0m\n\u001b[0;32m     11\u001b[0m     \u001b[1;31m#command line\u001b[0m\u001b[1;33m\u001b[0m\u001b[1;33m\u001b[0m\u001b[0m\n\u001b[0;32m     12\u001b[0m     \u001b[0mcmd\u001b[0m \u001b[1;33m=\u001b[0m \u001b[1;34m'echo \"%s\" | RNAshapes -t %d -c %d -# %d'\u001b[0m \u001b[1;33m%\u001b[0m \u001b[1;33m(\u001b[0m\u001b[0msequence\u001b[0m\u001b[1;33m,\u001b[0m\u001b[0mshape_type\u001b[0m\u001b[1;33m,\u001b[0m\u001b[0menergy_range\u001b[0m\u001b[1;33m,\u001b[0m\u001b[0mmax_num\u001b[0m\u001b[1;33m)\u001b[0m\u001b[1;33m\u001b[0m\u001b[0m\n\u001b[1;32m---> 13\u001b[1;33m     \u001b[0mout\u001b[0m \u001b[1;33m=\u001b[0m \u001b[0msp\u001b[0m\u001b[1;33m.\u001b[0m\u001b[0mcheck_output\u001b[0m\u001b[1;33m(\u001b[0m\u001b[0mcmd\u001b[0m\u001b[1;33m,\u001b[0m \u001b[0mshell\u001b[0m \u001b[1;33m=\u001b[0m \u001b[0mTrue\u001b[0m\u001b[1;33m)\u001b[0m\u001b[1;33m\u001b[0m\u001b[0m\n\u001b[0m\u001b[0;32m     14\u001b[0m     \u001b[1;31m#parse output\u001b[0m\u001b[1;33m\u001b[0m\u001b[1;33m\u001b[0m\u001b[0m\n\u001b[0;32m     15\u001b[0m     \u001b[0mtext\u001b[0m \u001b[1;33m=\u001b[0m \u001b[0mout\u001b[0m\u001b[1;33m.\u001b[0m\u001b[0mstrip\u001b[0m\u001b[1;33m(\u001b[0m\u001b[1;33m)\u001b[0m\u001b[1;33m.\u001b[0m\u001b[0msplit\u001b[0m\u001b[1;33m(\u001b[0m\u001b[1;34m'\\n'\u001b[0m\u001b[1;33m)\u001b[0m\u001b[1;33m\u001b[0m\u001b[0m\n",
        "\u001b[1;32m/usr/lib64/python2.7/subprocess.pyc\u001b[0m in \u001b[0;36mcheck_output\u001b[1;34m(*popenargs, **kwargs)\u001b[0m\n\u001b[0;32m    567\u001b[0m         \u001b[1;32mraise\u001b[0m \u001b[0mValueError\u001b[0m\u001b[1;33m(\u001b[0m\u001b[1;34m'stdout argument not allowed, it will be overridden.'\u001b[0m\u001b[1;33m)\u001b[0m\u001b[1;33m\u001b[0m\u001b[0m\n\u001b[0;32m    568\u001b[0m     \u001b[0mprocess\u001b[0m \u001b[1;33m=\u001b[0m \u001b[0mPopen\u001b[0m\u001b[1;33m(\u001b[0m\u001b[0mstdout\u001b[0m\u001b[1;33m=\u001b[0m\u001b[0mPIPE\u001b[0m\u001b[1;33m,\u001b[0m \u001b[1;33m*\u001b[0m\u001b[0mpopenargs\u001b[0m\u001b[1;33m,\u001b[0m \u001b[1;33m**\u001b[0m\u001b[0mkwargs\u001b[0m\u001b[1;33m)\u001b[0m\u001b[1;33m\u001b[0m\u001b[0m\n\u001b[1;32m--> 569\u001b[1;33m     \u001b[0moutput\u001b[0m\u001b[1;33m,\u001b[0m \u001b[0munused_err\u001b[0m \u001b[1;33m=\u001b[0m \u001b[0mprocess\u001b[0m\u001b[1;33m.\u001b[0m\u001b[0mcommunicate\u001b[0m\u001b[1;33m(\u001b[0m\u001b[1;33m)\u001b[0m\u001b[1;33m\u001b[0m\u001b[0m\n\u001b[0m\u001b[0;32m    570\u001b[0m     \u001b[0mretcode\u001b[0m \u001b[1;33m=\u001b[0m \u001b[0mprocess\u001b[0m\u001b[1;33m.\u001b[0m\u001b[0mpoll\u001b[0m\u001b[1;33m(\u001b[0m\u001b[1;33m)\u001b[0m\u001b[1;33m\u001b[0m\u001b[0m\n\u001b[0;32m    571\u001b[0m     \u001b[1;32mif\u001b[0m \u001b[0mretcode\u001b[0m\u001b[1;33m:\u001b[0m\u001b[1;33m\u001b[0m\u001b[0m\n",
        "\u001b[1;32m/usr/lib64/python2.7/subprocess.pyc\u001b[0m in \u001b[0;36mcommunicate\u001b[1;34m(self, input)\u001b[0m\n\u001b[0;32m    790\u001b[0m                 \u001b[0mself\u001b[0m\u001b[1;33m.\u001b[0m\u001b[0mstdin\u001b[0m\u001b[1;33m.\u001b[0m\u001b[0mclose\u001b[0m\u001b[1;33m(\u001b[0m\u001b[1;33m)\u001b[0m\u001b[1;33m\u001b[0m\u001b[0m\n\u001b[0;32m    791\u001b[0m             \u001b[1;32melif\u001b[0m \u001b[0mself\u001b[0m\u001b[1;33m.\u001b[0m\u001b[0mstdout\u001b[0m\u001b[1;33m:\u001b[0m\u001b[1;33m\u001b[0m\u001b[0m\n\u001b[1;32m--> 792\u001b[1;33m                 \u001b[0mstdout\u001b[0m \u001b[1;33m=\u001b[0m \u001b[0m_eintr_retry_call\u001b[0m\u001b[1;33m(\u001b[0m\u001b[0mself\u001b[0m\u001b[1;33m.\u001b[0m\u001b[0mstdout\u001b[0m\u001b[1;33m.\u001b[0m\u001b[0mread\u001b[0m\u001b[1;33m)\u001b[0m\u001b[1;33m\u001b[0m\u001b[0m\n\u001b[0m\u001b[0;32m    793\u001b[0m                 \u001b[0mself\u001b[0m\u001b[1;33m.\u001b[0m\u001b[0mstdout\u001b[0m\u001b[1;33m.\u001b[0m\u001b[0mclose\u001b[0m\u001b[1;33m(\u001b[0m\u001b[1;33m)\u001b[0m\u001b[1;33m\u001b[0m\u001b[0m\n\u001b[0;32m    794\u001b[0m             \u001b[1;32melif\u001b[0m \u001b[0mself\u001b[0m\u001b[1;33m.\u001b[0m\u001b[0mstderr\u001b[0m\u001b[1;33m:\u001b[0m\u001b[1;33m\u001b[0m\u001b[0m\n",
        "\u001b[1;32m/usr/lib64/python2.7/subprocess.pyc\u001b[0m in \u001b[0;36m_eintr_retry_call\u001b[1;34m(func, *args)\u001b[0m\n\u001b[0;32m    476\u001b[0m     \u001b[1;32mwhile\u001b[0m \u001b[0mTrue\u001b[0m\u001b[1;33m:\u001b[0m\u001b[1;33m\u001b[0m\u001b[0m\n\u001b[0;32m    477\u001b[0m         \u001b[1;32mtry\u001b[0m\u001b[1;33m:\u001b[0m\u001b[1;33m\u001b[0m\u001b[0m\n\u001b[1;32m--> 478\u001b[1;33m             \u001b[1;32mreturn\u001b[0m \u001b[0mfunc\u001b[0m\u001b[1;33m(\u001b[0m\u001b[1;33m*\u001b[0m\u001b[0margs\u001b[0m\u001b[1;33m)\u001b[0m\u001b[1;33m\u001b[0m\u001b[0m\n\u001b[0m\u001b[0;32m    479\u001b[0m         \u001b[1;32mexcept\u001b[0m \u001b[1;33m(\u001b[0m\u001b[0mOSError\u001b[0m\u001b[1;33m,\u001b[0m \u001b[0mIOError\u001b[0m\u001b[1;33m)\u001b[0m \u001b[1;32mas\u001b[0m \u001b[0me\u001b[0m\u001b[1;33m:\u001b[0m\u001b[1;33m\u001b[0m\u001b[0m\n\u001b[0;32m    480\u001b[0m             \u001b[1;32mif\u001b[0m \u001b[0me\u001b[0m\u001b[1;33m.\u001b[0m\u001b[0merrno\u001b[0m \u001b[1;33m==\u001b[0m \u001b[0merrno\u001b[0m\u001b[1;33m.\u001b[0m\u001b[0mEINTR\u001b[0m\u001b[1;33m:\u001b[0m\u001b[1;33m\u001b[0m\u001b[0m\n",
        "\u001b[1;31mKeyboardInterrupt\u001b[0m: "
       ]
      }
     ],
     "prompt_number": 22
    },
    {
     "cell_type": "code",
     "collapsed": false,
     "input": [
      "from eden.converter.rna.rnashapes import rnashapes_to_eden\n",
      "from eden.converter.rna.rnaplfold import rnaplfold_to_eden\n",
      "from eden.converter.fasta import fasta_to_sequence\n",
      "\n",
      "graphs = rnaplfold_to_eden( fasta_to_sequence( rfam_url(rfam_id) ) , shape_type = 5, energy_range = 35)\n",
      "\n",
      "import networkx as nx"
     ],
     "language": "python",
     "metadata": {},
     "outputs": [],
     "prompt_number": 7
    },
    {
     "cell_type": "code",
     "collapsed": false,
     "input": [
      "for g in graphs:\n",
      "    for node,data in g.nodes(data=True):\n",
      "       print data\n",
      "    print g.graph['id']"
     ],
     "language": "python",
     "metadata": {},
     "outputs": []
    },
    {
     "cell_type": "code",
     "collapsed": false,
     "input": [
      "\n",
      "fasta_id_list = [g.graph['id'] for g in graphs]"
     ],
     "language": "python",
     "metadata": {},
     "outputs": [],
     "prompt_number": 8
    },
    {
     "cell_type": "code",
     "collapsed": false,
     "input": [
      "print fasta_id_list"
     ],
     "language": "python",
     "metadata": {},
     "outputs": [
      {
       "output_type": "stream",
       "stream": "stdout",
       "text": [
        "['>AB003409.1/96-167', '>AB009835.1/1-71', '>AB013372.1/8-81', '>AB013373.1/3754-3825', '>AB017063.1/58819-58900', '>AB027572.1/4261-4342', '>AB031211.1/7799-7884', '>AB031211.1/8065-8137', '>AB031213.1/2203-2276', '>AB031213.1/2678-2748', '>AB031214.1/4204-4277', '>AB031215.1/9125-9195', '>AB035922.1/6128-6200', '>AB035923.1/6106-6178', '>AB042240.3/6758-6687', '>AB042240.3/15036-15107', '>AB042240.3/36390-36319', '>AB042240.3/82974-82901', '>AB042240.3/84552-84472', '>AB042432.1/3845-3913', '>AB042432.1/6942-7011', '>AB042432.1/14140-14072', '>AB042524.1/5257-5192', '>AB042524.1/9391-9458', '>AB042809.1/5159-5089', '>AB042809.1/7700-7764', '>AB049357.1/1-68', '>AB049357.1/11673-11743', '>AB066098.1/1687-1760', '>AB067577.1/1615-1688', '>AC002512.1/77401-77473', '>AC004941.2/32735-32806', '>AC005329.1/7043-6971', '>AC005783.1/27398-27326', '>AC006449.19/196857-196784', '>AC007298.17/145366-145295', '>AC008345.4/147881-147810', '>AC008443.10/8240-8321', '>AC008443.10/9027-8955', '>AC008443.10/42590-42518', '>AC008443.10/43006-42934', '>AC008670.6/83597-83665', '>AC008670.6/83725-83795', '>AC009323.4/12825-12742', '>AC009323.4/14362-14281', '>AC009395.7/99012-98941', '>AC009461.5/128651-128579', '>AC009742.4/51767-51839', '>AC018638.5/4694-4623', '>AC018907.5/9587-9517', '>AC021639.5/181586-181505', '>AC024995.8/165717-165798', '>AC067849.6/4771-4840', '>AC068900.3/7333-7404', '>AC084429.5/20418-20485', '>AC084571.1/17976-18047', '>AC084609.1/20256-20184', '>AC092686.3/29631-29561', '>AC093311.2/140036-139968', '>AC099014.1/146549-146620', '>AC108081.2/59868-59786', '>AC122544.1/63069-62986', '>AF004309.1/87-160', '>AF008220.1/5322-5394', '>AF008220.1/5430-5502', '>AF008220.1/5629-5712', '>AF008220.1/5997-6070', '>AF008220.1/6172-6245', '>AF008220.1/6251-6324', '>AF008220.1/6334-6422', '>AF008220.1/6443-6516', '>AF008220.1/6620-6692', '>AF008220.1/6713-6785', '>AF008220.1/6888-6961', '>AF008220.1/6975-7046', '>AF008220.1/7053-7140', '>AF008220.1/7169-7240', '>AF034440.1/1115-1181', '>AF037042.2/2935-2864', '>AF041468.1/40566-40494', '>AF041468.1/43811-43739', '>AF047723.1/4036-4107', '>AF047724.1/439-367', '>AF047724.1/711-640', '>AF052653.1/130-203', '>AF067200.1/16-89', '>AF069749.1/1422-1494', '>AF074839.1/52-124', '>AF076356.1/60-128', '>AF083212.1/212-284', '>AF105125.1/104-176', '>AF108356.1/1-74', '>AF125213.1/1282-1213', '>AF127584.1/98-171', '>AF134583.1/1599-1666', '>AF134583.1/1816-1744', '>AF155162.1/115-49', '>AF158101.6/72033-71960', '>AF158101.6/72364-72294', '>AF158101.6/72456-72373', '>AF158101.6/72530-72458', '>AF160864.1/14524-14453', '>AF160864.1/20552-20480', '>AF164586.1/93-158', '>AF166114.1/53704-53775', '>AF185056.1/845-774', '>AF186372.1/596-669', '>AF200830.1/9887-9951', '>AF200831.1/165-97', '>AF200837.1/6039-6103', '>AF200843.1/1266-1331', '>AF217350.1/193-122', '>AF217350.1/265-194', '>AF233324.1/37223-37296', '>AF234285.1/261-333', '>AF269787.1/2464-2393', '>AF276832.1/1449-1514', '>AF314016.1/365-435', '>AF314016.1/506-436', '>AF314018.1/1820-1748', '>AF340025.1/630-698', '>AF346992.1/15890-15955', '>AF346999.1/4402-4331', '>AF347001.1/16015-15948', '>AF347005.1/12268-12338', '>AF347015.1/1604-1672', '>AF347015.1/5827-5762', '>AF347015.1/5892-5827', '>AF349769.2/1315-1395', '>AF381996.2/4265-4333', '>AF382005.1/581-651', '>AF382013.1/10403-10467', '>AF396436.1/528-448', '>AF396436.1/47447-47513', '>AF401668.1/481-552', '>AF449163.1/604-532', '>AF467991.1/42-125', '>AF487242.1/558-475', '>AF490528.1/1519-1448', '>AF490528.1/4630-4697', '>AF490529.1/2769-2701', '>AF490529.1/3010-2943', '>AF490529.1/11834-11766', '>AF491005.1/5436-5355', '>AF493541.1/2418-2346', '>AF493542.1/2517-2451', '>AF493542.1/6654-6722', '>X12977.1/94-167', '>X12977.1/221-293', '>X12977.1/317-399', '>X12977.1/475-548', '>AL133551.13/12355-12436', '>AL355149.13/15278-15208', '>AL356957.27/121645-121572', '>AL589879.21/171955-172027', '>AL590385.23/26487-26416', '>AL590385.23/26129-26058', '>AL662865.4/12206-12135', '>AL671879.2/100356-100285', '>X61068.1/393-465', '>X61068.1/477-549', '>X61068.1/560-632', '>X61068.1/651-734', '>X61068.1/760-831', '>X61068.1/880-953', '>X61068.1/961-1034', '>X61068.1/1060-1145', '>X61068.1/1189-1262', '>X61068.1/1281-1353', '>X61068.1/1364-1437', '>X61061.1/74-147', '>X61066.1/339-412', '>X61063.1/119-188', '>X61067.1/133-205', '>X61067.1/232-303', '>X61067.1/334-415', '>X61064.1/63-135', '>X61065.1/77-164', '>X61065.1/170-242', '>X15508.1/140-211', '>AJ270287.1/567-495', '>AP000423.1/76-4', '>AP000442.6/2022-1950', '>AP002983.1/121-48', '>AP002983.1/63669-63596', '>AJ011900.1/63-136', '>AJ012132.1/54-126', '>AC002341.3/6810-6881', '>AL161496.2/172002-171930', '>M58320.1/108-194', '>X67736.1/4837-4923', '>AL138651.1/64525-64597', '>AL162971.1/11752-11825', '>L35909.1/103-174', '>X66414.1/9-82', '>X66520.1/7-88', '>AY012114.1/954-1022', '>AY017179.1/1528-1601', '>X55523.1/17-90', '>U24159.1/431-359', '>K03317.1/4-76', '>X03602.1/660-731', '>AB001488.1/62222-62293', '>K01389.1/345-433', '>X60981.1/3182-3253', '>X60981.1/3261-3348', '>X60981.1/3446-3518', '>X60981.1/3898-3969', '>Z82044.1/15843-15924', '>Z82044.1/16317-16387', '>AJ235316.1/1023-1090', '>M25659.1/553-621', '>M19493.1/263-336', '>M19493.1/340-412', '>M22563.1/69-141', '>L00194.1/554-627', '>L00194.1/685-756', '>D17791.1/52-123', '>M34508.1/318-404', '>X54299.1/1793-1866', '>X12889.1/644-572', '>X54300.1/29-102', '>X54300.1/105-177', '>X62800.1/3583-3669', '>X05693.1/1054-1126', '>X03848.1/3091-3164', '>X15090.1/41-114', '>X51398.1/2-75', '>X61698.1/1470-1542', '>L13782.1/442-515', '>J01399.1/2867-2939', '>X54408.1/1-73', '>X62566.1/248-320', '>V00158.1/276-361', '>V00158.1/694-623', '>M22010.1/2624-2705', '>M22010.1/2934-3006', '>M22010.1/3034-3106', '>M22010.1/3113-3185', '>X12890.1/1972-2045', '>M18672.1/347-431', '>M17309.1/99-171', '>M17309.1/774-846', '>V00160.1/1137-1054', '>X15240.1/604-676', '>Z11874.1/40212-40285', '>M81884.1/41401-41330', '>M81884.1/42594-42515', '>X61368.1/228-301', '>X00476.1/1-85', '>X06428.1/229-300', '>M20942.1/1-73', '>M20948.1/1-71', '>M20947.1/1-74', '>M20951.1/1-71', '>M20952.1/1-71', '>M20954.1/1-74', '>M20959.1/1-72', '>M20957.1/1-85', '>M20958.1/1-80', '>M20960.1/1-74', '>X01647.1/2451-2378', '>M20949.1/1-72', '>M20945.1/1-72', '>M20964.1/1-88', '>M20966.1/1-88', '>M20968.1/1-73', '>M20972.1/1-72', '>M20969.1/1-74', '>X04465.1/3679-3758', '>X04465.1/29596-29669', '>X04465.1/36643-36562', '>X04465.1/36787-36715', '>X04465.1/38367-38438', '>X04465.1/48845-48932', '>X04465.1/50998-51070', '>X04465.1/57877-57950', '>X04465.1/64788-64715', '>X04465.1/90332-90261', '>X04465.1/112638-112565', '>X04465.1/120306-120235', '>X72895.1/1-72', '>X00181.1/495-582', '>X01016.1/450-523', '>X01017.1/116-189', '>X01017.1/487-417', '>M16909.1/81-161', '>M23767.1/162-241', '>X02217.1/416-488', '>M16912.1/86-157', '>M16897.1/160-88', '>X07922.1/12-85', '>X15768.1/134-207', '>X15768.1/211-283', '>X15901.1/44438-44524', '>X15901.1/99287-99217', '>X15901.1/105074-105153', '>M21373.1/208-280', '>X05394.1/580-653', '>X05394.1/803-733', '>X55033.1/412-483', '>M16864.1/642-714', '>M16863.1/21-94', '>M16863.1/456-385', '>M16863.1/577-660', '>X04761.1/963-892', '>X05395.1/122-195', '>D11467.1/1-72', '>D11467.1/6989-6916', '>D17510.1/119065-118992', '>K00235.1/1-85', '>X01120.1/76-149', '>X13558.1/186-115', '>X52739.1/1-72', '>M31489.1/112-183', '>Y00125.1/116-196', '>M16843.1/2824-2752', '>M16839.1/41-111', '>X07379.1/305-375', '>X62453.1/1-74', '>L02941.1/716-643', '>X05295.1/313-226', '>X70810.2/2089-2011', '>X70810.2/30807-30878', '>X70810.2/30968-31041', '>X70810.2/31388-31317', '>X70810.2/60996-61067', '>X70810.2/100844-100773', '>X70810.2/102679-102606', '>X70810.2/102754-102683', '>X70810.2/102843-102771', '>X17318.1/109-39', '>AL132988.4/95773-95841', '>AL163195.5/3702-3774', '>AL352978.6/119697-119770', '>X07925.1/53-125', '>X07924.1/110-197', '>J01395.1/2878-2951', '>J01395.1/3006-3078', '>X55320.1/1-72', '>X55321.1/1-72', '>X55319.1/1-74', '>X17616.1/380-293', '>D89936.1/1231-1150', '>U25144.1/1062-991', '>X59563.1/1377-1449', '>X59562.1/71-144', '>K02322.1/59-130', '>M24578.1/1373-1445', '>X53443.1/135-206', '>X53444.1/72-144', '>X59566.1/318-390', '>X59571.1/319-390', '>X59573.1/314-396', '>X59582.1/477-558', '>X59583.1/330-410', '>X69660.1/114-186', '>X03499.1/37-110', '>V00238.1/262-333', '>X07778.1/115-45', '>V00334.1/358-430', '>K01941.1/217-303', '>X16401.1/1-69', '>X99772.1/5062-5131', '>X99772.1/5276-5204', '>X99772.1/5441-5375', '>X99772.1/7842-7915', '>X99772.1/9544-9611', '>X99772.1/11702-11770', '>X99772.1/11841-11913', '>M17129.1/151-222', '>X87209.2/181-268', '>X99256.1/11558-11626', '>M87833.1/353-437', '>M87833.1/2781-2865', '>Z54587.1/126-45', '>AL031229.2/40502-40430', '>Z98744.2/66305-66234', '>AL021808.2/65570-65498', '>AL021918.1/54817-54736', '>AL021918.1/81116-81197', '>AL021918.1/94597-94678', '>X93334.1/6942-7009', '>L23320.1/77-10', '>J00309.1/356-427', '>M15347.1/1040-968', '>M16479.1/42-123', '>X58792.1/174-245', '>X04779.1/1-73', '>X02584.1/1-77', '>K02528.1/1-74', '>L76657.1/1-67', '>M18744.1/76-164', '>X15245.1/160-231', '>X15245.1/236-309', '>X15245.1/512-584', '>X15245.1/588-660', '>X15246.1/271-344', '>X15246.1/423-494', '>D00550.1/152-232', '>D00548.1/191-271', '>D00547.1/242-315', '>D00547.1/329-401', '>D00552.1/73-146', '>K00202.1/1-71', '>D00558.1/58-130', '>D00559.1/56-142', '>M18050.1/100-172', '>M18050.1/273-344', '>M18050.1/352-424', '>X16745.1/1-74', '>X16746.1/1-72', '>X16748.1/1-73', '>X16760.1/1-73', '>X16759.1/1-73', '>X16750.1/2-74', '>X16752.1/1-74', '>X16754.1/1-86', '>X16758.1/1-74', '>K02974.1/529-600', '>X16763.1/1-89', '>X16765.1/1-73', '>X16767.1/1-73', '>M32222.1/1277-1363', '>M32222.1/3110-3183', '>M26977.1/276-348', '>M26977.1/379-453', '>M26977.1/557-628', '>M26977.1/635-708', '>M26978.1/826-899', '>M26978.1/907-980', '>M26978.1/994-1068', '>M26978.1/1092-1174', '>M26978.1/1192-1264', '>M19342.1/69-141', '>X01078.1/1396-1463', '>X03924.1/17-83', '>X03924.1/500-567', '>X03924.1/848-782', '>X03925.1/1-72', '>U32309.1/158-89', '>X16885.1/460-388', '>X16885.1/631-561', '>X16885.1/635-704', '>X16885.1/779-708', '>X16885.1/811-882', '>X16885.1/950-882', '>X16885.1/1019-953', '>X16885.1/1030-1101', '>M86496.1/1-68', '>M86496.1/1024-1089', '>X04161.1/733-803', '>X07795.1/26-96', '>J01390.1/5955-6026', '>J01390.1/6035-6106', '>J01390.1/6161-6231', '>J01390.1/6234-6306', '>J01390.1/6367-6447', '>J01390.1/6449-6519', '>J01390.1/6669-6740', '>J01390.1/6761-6842', '>J01390.1/6861-6932', '>J01390.1/11761-11831', '>J01390.1/11859-11931', '>J01390.1/11933-12004', '>J01390.1/12028-12098', '>J01390.1/12100-12172', '>J01390.1/12177-12258', '>J01390.1/12259-12330', '>J01390.1/12336-12408', '>J01390.1/12417-12498', '>J01390.1/12505-12576', '>J01390.1/13362-13432', '>J01391.1/18-88', '>D16387.1/276-206', '>D16387.1/11325-11257', '>D16387.1/11397-11328', '>D16387.1/11403-11471', '>D16387.1/11555-11625', '>D16387.1/11909-11838', '>X16886.1/458-387', '>X16886.1/781-711', '>X16886.1/923-857', '>X16886.1/993-924', '>X16886.1/999-1070', '>X16886.1/1215-1285', '>X16886.1/1355-1286', '>X14110.1/261-348', '>X13485.1/5-77', '>K00242.1/1-75', '>M86494.1/1026-1092', '>V00654.1/4197-4265', '>V00654.1/11907-11976', '>V00654.1/12038-12108', '>V00654.1/15791-15726', '>M86498.1/1-69', '>M86498.1/1026-1092', '>M86499.1/1-68', '>M86499.1/1022-1088', '>U37541.1/1383-1322', '>M57910.1/1028-963', '>X05914.1/238-170', '>X05914.1/238-306', '>X05914.1/400-337', '>X03240.1/1-65', '>X03240.1/1267-1333', '>X03240.1/1388-1326', '>X00432.1/532-596', '>X05915.1/238-170', '>M93388.1/1318-1384', '>D38114.1/11560-11628', '>X52392.1/1228-1297', '>X52392.1/2273-2345', '>X52392.1/3967-4040', '>X52392.1/5025-5096', '>X52392.1/5172-5102', '>X52392.1/5172-5240', '>X52392.1/6280-6355', '>X52392.1/6430-6362', '>X52392.1/6506-6434', '>X52392.1/6573-6508', '>X52392.1/8258-8184', '>X52392.1/9016-9083', '>X52392.1/11128-11195', '>X52392.1/13000-13070', '>X52392.1/16039-16107', '>X52392.1/16177-16108', '>X52392.1/16775-16708', '>X07375.1/305-376', '>M86501.1/1-68', '>M86501.1/1024-1090', '>X15613.1/59-121', '>X15613.1/1106-1175', '>X15613.1/1813-1875', '>D31785.1/714-785', '>D31785.1/832-903', '>D31785.1/12211-12283', '>D31785.1/14571-14644', '>D10743.1/4-76', '>D10744.1/201-272', '>D10744.1/389-471', '>D10745.1/410-483', '>M86497.1/1-66', '>M86497.1/1020-1086', '>X13823.1/142-214', '>X13824.1/2-83', '>X14821.1/1-72', '>X14822.1/1-73', '>X03676.1/445-516', '>X04377.1/307-380', '>M22657.1/587-656', '>X13975.1/39-104', '>X13975.1/791-854', '>X13975.1/858-928', '>X13975.1/2575-2637', '>L07095.1/2676-2750', '>L07095.1/5086-5018', '>L07095.1/5327-5261', '>L07095.1/15292-15358', '>D85268.1/459-527', '>D85275.1/459-527', '>M86495.1/1-68', '>M86495.1/1026-1092', '>U47458.1/87-21', '>D85271.1/587-657', '>M22650.1/459-527', '>M68929.1/1540-1461', '>M68929.1/15170-15243', '>M68929.1/17407-17480', '>M68929.1/18311-18382', '>M68929.1/20078-20150', '>M68929.1/32684-32756', '>M68929.1/36559-36632', '>M68929.1/39446-39374', '>M68929.1/41917-41989', '>M68929.1/48611-48684', '>M68929.1/49940-50012', '>M68929.1/50694-50622', '>M68929.1/79397-79315', '>M68929.1/79613-79540', '>M68929.1/151018-150946', '>M68929.1/152677-152605', '>M68929.1/163972-163902', '>M68929.1/164824-164907', '>M68929.1/165481-165397', '>M68929.1/166107-166035', '>M68929.1/166929-166856', '>M68929.1/172005-172075', '>M68929.1/174348-174275', '>M68929.1/182805-182734', '>M68929.1/186481-186410', '>M68929.1/186579-186500', '>D85289.1/459-527', '>K00144.1/1-72', '>X04512.1/2563-2632', '>X01738.1/122-190', '>M58319.1/196-282', '>M86500.1/1-68', '>L29771.1/1004-1071', '>M81755.1/6-77', '>D13102.1/342-269', '>X07125.1/118-191', '>X15602.1/102-172', '>X15917.1/6364-6435', '>X14485.1/2-72', '>X03126.1/162-234', '>X03126.1/244-324', '>X03126.1/364-434', '>J04815.1/1-73', '>J04815.1/952-1020', '>J04815.1/1026-1098', '>J04815.1/1231-1299', '>J04815.1/1371-1301', '>J04815.1/1380-1451', '>J04815.1/1592-1523', '>J04815.1/1662-1729', '>J04815.1/1812-1884', '>J04815.1/1953-1885', '>J04815.1/1966-2036', '>J04815.1/2041-2109', '>J04815.1/3159-3231', '>J04815.1/7401-7469', '>J04815.1/10228-10159', '>J04815.1/11997-12064', '>M28270.1/1-73', '>M37162.1/1211-1282', '>M37162.1/1352-1420', '>M37162.1/1557-1488', '>X55514.2/3696-3624', '>X55514.2/3882-3954', '>X55514.2/4047-4119', '>X55514.2/4187-4119', '>X55514.2/4257-4189', '>X55514.2/4416-4343', '>X16887.1/483-416', '>X16887.1/553-487', '>M25321.1/113-184', '>M25321.1/478-410', '>X16888.1/178-111', '>X16888.1/255-184', '>X16888.1/864-793', '>X16888.1/869-940', '>D38115.1/11583-11651', '>K00634.1/531-596', '>K01749.1/2878-2958', '>U50045.1/216-145', '>X04175.1/1-71', '>X15059.1/507-589', '>V00675.1/586-656', '>D12694.1/2533-2604', '>D12694.1/2607-2676', '>D12694.1/2745-2677', '>D12695.1/203-134', '>D12695.1/368-304', '>D12695.1/435-369', '>M57527.1/1-70', '>V00676.1/23-88', '>V00676.1/400-335', '>V00677.1/264-332', '>V00678.1/193-264', '>V01556.1/306-238', '>V01556.1/1456-1523', '>J01436.1/1456-1522', '>J01435.1/4494-4561', '>J01435.1/6776-6846', '>K00174.1/1-68', '>V00680.1/447-380', '>K00434.1/154-84', '>X14848.1/1-67', '>X14848.1/2654-2728', '>X14848.1/3684-3752', '>X14848.1/3820-3750', '>X14848.1/5139-5066', '>V00695.1/3453-3525', '>X00892.1/1-74', '>L36887.1/535-616', '>L36887.1/650-721', '>L36887.1/1748-1820', '>L36887.1/3769-3839', '>L36887.1/4319-4391', '>L36887.1/4635-4707', '>L36889.1/130-201', '>L36895.1/3467-3537', '>J01478.1/118-188', '>U46121.1/66-138', '>J01470.1/315-386', '>K02232.1/1-72', '>K01981.1/82-168', '>J01533.1/143-72', '>X04163.1/59-131', '>X04163.1/219-289', '>K00205.1/1-72', '>X04561.1/1-72', '>K02229.1/1-83', '>X56005.1/1-73', '>X56006.1/1-72', '>X54421.1/14314-14385', '>X54421.1/14394-14476', '>X54421.1/15747-15819', '>X54552.1/66-137', '>X54552.1/167-241', '>X12631.1/1-73', '>X12631.1/939-1009', '>X12631.1/1014-1084', '>X12631.1/1207-1274', '>X12631.1/1347-1277', '>X12631.1/1426-1497', '>X12631.1/1567-1497', '>X12631.1/1570-1639', '>X12631.1/1775-1706', '>X12631.1/1795-1866', '>X12631.1/1937-1868', '>X12631.1/1944-2014', '>X12631.1/2020-2087', '>X12631.1/2088-2158', '>X12631.1/3132-3200', '>X12631.1/7348-7416', '>X12631.1/8405-8475', '>X12631.1/10184-10115', '>X12631.1/11945-12013', '>M22655.1/587-657', '>X53392.1/97-170', '>X15379.1/71-144', '>X13247.1/151-237', '>X13246.1/151-233', '>M55314.1/21-92', '>X14698.1/250-321', '>X02167.1/179-251', '>X02167.1/268-340', '>X02167.1/345-416', '>X02168.1/63-135', '>X02172.1/74-145', '>X02172.1/155-228', '>X02172.1/247-319', '>X02173.1/54-135', '>X02173.1/152-223', '>X02173.1/256-326', '>X02173.1/441-512', '>X02173.1/522-593', '>X02173.1/617-699', '>X02173.1/718-802', '>X02205.1/368-453', '>X02205.1/471-542', '>X02205.1/562-633', '>X02205.1/668-740', '>X02205.1/746-816', '>X02893.1/57-130', '>M86493.1/1-68', '>M86493.1/1025-1091', '>V00711.1/3842-3772', '>L28677.1/8809-8880', '>X04815.1/1-81', '>X02437.1/274-344', '>M22656.1/459-528', '>M22656.1/587-656', '>M10217.1/2136-2204', '>M10217.1/4724-4798', '>M10217.1/5770-5840', '>M10217.1/5909-5841', '>M10217.1/5910-5978', '>M10217.1/7015-7083', '>M10217.1/7154-7086', '>M10217.1/7325-7260', '>M10217.1/7394-7325', '>M10217.1/9038-9106', '>M10217.1/9797-9871', '>M10217.1/11492-11561', '>M10217.1/11905-11973', '>M10217.1/13648-13715', '>M10217.1/13781-13853', '>M10217.1/16246-16178', '>M10217.1/17388-17457', '>U15659.1/246-176', '>M13046.1/2222-2289', '>Y10943.1/948-1016', '>J00642.1/462-533', '>M16450.1/142-214', '>M16450.1/308-380', '>X03154.1/110-183', '>X03154.1/489-562', '>X03154.1/608-697', '>X03154.1/801-875', '>AJ296990.1/141-209', '>X17113.1/351-433', '>X51423.1/1802-1874', '>X69067.1/6022-6086', '>X63088.1/299-371', '>X58913.1/1046-981', '>X17658.1/140-72', '>X17660.1/1002-1069', '>X17661.1/419-487', '>X80245.1/11535-11604', '>X55026.1/20537-20608', '>AJ223323.1/613-684', '>X66594.1/101-182', '>X66594.1/1984-2065', '>X00083.1/99-171', '>X00916.1/823-896', '>X00916.1/933-1007', '>X00916.1/1018-1091', '>X00916.1/1570-1644', '>K00354.1/1-74', '>K00277.1/1-73', '>X03016.1/3583-3669', '>X03016.1/4539-4610', '>X02710.1/1-73', '>X00360.1/1-73', '>X05226.1/35-116', '>X07950.1/1-81', '>X52969.1/525-607', '>X66438.1/1-72', '>X66437.1/1-83', '>X66439.1/1-73', '>X12975.1/234-306', '>M21542.1/51-134', '>M10671.1/1-72', '>AJ428514.1/11535-11602', '>M22764.1/167-240', '>U18917.1/50408-50336', '>Z49705.1/23030-22957', '>U33007.1/60769-60697', '>U18916.2/60498-60427', '>X61674.1/1095-1008', '>U51030.1/22201-22130', '>AJ011856.1/70824-70908', '>K01553.1/1-73', '>K00287.1/1-73', '>K00228.1/1-82', '>U22383.1/8197-8124', '>X56506.1/61-144', '>J01373.1/73-144', '>M26928.1/1266-1194', '>K00368.1/1-82', '>K00367.1/1-82', '>X55342.1/30-101', '>X51551.1/101-172', '>X69098.1/1-73', '>M26096.1/1-72', '>M91385.1/1046-1118', '>M91385.1/1205-1276', '>M91385.1/1291-1381', '>M35060.1/1-72', '>X55339.1/30-104', '>X66375.1/99-169', '>Z35950.1/5070-5141', '>Z36079.1/181-110', '>Z74072.1/3173-3245', '>Z74387.1/1846-1765', '>Z28209.1/4569-4498', '>Z73326.1/1146-1075', '>Z71311.1/286-214', '>Z71616.1/3983-4056', '>Z74797.1/2502-2432', '>X81069.1/365-436', '>X65556.1/351-423', '>X52070.1/699-771', '>X52070.1/777-849', '>X03715.1/171-243', '>X03715.1/288-361', '>X03715.1/388-461', '>X03715.1/481-553', '>X03715.1/589-662', '>X03715.1/667-740', '>X03715.1/779-868', '>X03715.1/926-998', '>X03715.1/1004-1077', '>X03715.1/1086-1158', '>AJ400848.1/26718-26788', '>AJ400848.1/29803-29731', '>AJ400848.1/34280-34188', '>AJ400848.1/44024-44110', '>AJ400848.1/50859-50931', '>K00344.1/1-73', '>K00570.1/851-921', '>X00239.1/111-183', '>K00369.1/1-82', '>M57698.1/294-367', '>K03079.1/135-206', '>M32254.1/51-124', '>X53649.1/160-231', '>X53649.1/604-676', '>X53649.1/495-566', '>X06054.1/711-637', '>AJ243756.1/1-71', '>K02003.1/1-74', '>X68198.1/9818-9745', '>X57045.1/288-359', '>X57045.1/503-432', '>X57045.1/606-678', '>X57046.1/121-203', '>X57046.1/341-271', '>Z11884.1/254-326', '>Z11880.1/124-195', '>Z11880.1/281-353', '>U18089.1/221-293', '>X07395.1/103-176', '>X14835.1/6927-7002', '>X16643.1/820-900', '>X16643.1/1078-1151', '>D17540.1/1-73', '>X51824.1/190-272', '>X51824.1/381-453', '>X05071.1/204-288', '>M11464.1/1-72', '>Y14522.1/1-81', '>X66443.1/1-72', '>Y00430.1/2429-2358', '>X04821.1/1-73', '>X86563.2/48153-48081', '>X86563.2/119998-119925', '>X13704.1/1807-1880', '>X52797.1/114-203', '>CP000660.1/1877584-1877500', '>EF108342.1/4950-5016', '>D26185.1/159248-159330', '>K01667.1/50-136', '>EU349704.1/1154-1217', '>CP001399.1/1433538-1433611', '>X02434.1/248-321', '>X00547.1/128-212', '>K01986.1/320-392', '>M29107.1/8-80', '>AJ391519.1/189-125', '>M17116.1/122-205', '>FJ479743.1/1541-1606', '>DQ023210.1/1-73', '>EU273712.1/9790-9857', '>K00763.1/69-142', '>EU623091.1/86-157', '>CP001399.1/1388329-1388256', '>AAEU02004214.1/433-498', '>X00066.1/307-380', '>J01713.1/270-351', '>X52800.1/82-154', '>K00282.1/1-73', '>X93579.1/201-272', '>CP000660.1/704452-704523', '>X63776.1/648-721', '>DQ927305.1/46859-46925', '>K01561.1/1-74', '>X17321.1/66-138', '>AY632242.1/10-80', '>J01404.1/5140-5204', '>EU273712.1/5242-5176', '>EU255777.1/1590-1519', '>X13994.1/40-129', '>M21681.1/156-228', '>K00197.1/1-71', '>X51770.1/245-317', '>K01856.1/1-82', '>Z83129.1/22044-21973', '>M25476.1/51-122', '>X54124.1/910-981', '>K01390.1/442-514']\n"
       ]
      }
     ],
     "prompt_number": 9
    },
    {
     "cell_type": "code",
     "collapsed": false,
     "input": [],
     "language": "python",
     "metadata": {},
     "outputs": []
    }
   ],
   "metadata": {}
  }
 ]
}
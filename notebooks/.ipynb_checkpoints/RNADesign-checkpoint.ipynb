{
 "metadata": {
  "name": "",
  "signature": "sha256:d8d06fc5fedeb07cc82c46ea06b489149a864657a78fa12a041e4f1695da5151"
 },
 "nbformat": 3,
 "nbformat_minor": 0,
 "worksheets": [
  {
   "cells": [
    {
     "cell_type": "markdown",
     "metadata": {},
     "source": [
      "#RNA synthesis based on a given RNA family\n",
      "\n",
      "Application scenario: we want to design new RNA sequences whose traits comply with a given RNA family. \n",
      "For this purpose we use EDeN to come up with a notion of \"importance\" in\n",
      "existing sequences, calculate sequence constraints based on this importance, and then utilize antaRNA for RNA inverse folding using these constraints. "
     ]
    },
    {
     "cell_type": "code",
     "collapsed": false,
     "input": [
      "rfam_id = 'RF00005'\n",
      "#rfam_id = 'RF01051'\n",
      "#rfam_id = 'RF00008'\n",
      "#rfam_id = 'RF00175'\n",
      "def rfam_url(family_id):\n",
      "    return 'http://rfam.xfam.org/family/%s/alignment?acc=%s&format=fastau&download=0'%(family_id,family_id)"
     ],
     "language": "python",
     "metadata": {},
     "outputs": [],
     "prompt_number": 1
    },
    {
     "cell_type": "markdown",
     "metadata": {},
     "source": [
      "Convert the fasta database into eden graphs."
     ]
    },
    {
     "cell_type": "code",
     "collapsed": false,
     "input": [
      "from eden.converter.fasta import fasta_to_sequence\n",
      "from eden.converter.rna.rnafold import rnafold_to_eden\n",
      "\n",
      "iterable_pos = fasta_to_sequence( rfam_url(rfam_id) )\n",
      "\n",
      "from itertools import tee\n",
      "iterable_pos, iterable_pos_ = tee(iterable_pos)\n",
      "\n",
      "from eden.modifier.seq import seq_to_seq,  shuffle_modifier\n",
      "iterable_neg = seq_to_seq( iterable_pos_ , modifier=shuffle_modifier , times=3 , order=2 )\n",
      "\n",
      "from eden.converter.rna.rnashapes import rnashapes_to_eden\n",
      "#Positive sample graphs.\n",
      "graphs_pos = rnafold_to_eden( iterable_pos)\n",
      "#Negative sample graphs.\n",
      "graphs_neg = rnafold_to_eden( iterable_neg)\n"
     ],
     "language": "python",
     "metadata": {},
     "outputs": [],
     "prompt_number": 2
    },
    {
     "cell_type": "markdown",
     "metadata": {},
     "source": [
      "Split test and train graph sets into fixed test and train portions. (20% for training)"
     ]
    },
    {
     "cell_type": "code",
     "collapsed": false,
     "input": [
      "from eden.util import random_bipartition_iter\n",
      "\n",
      "graphs_pos_train, graphs_pos_test = random_bipartition_iter(graphs_pos, relative_size=0.2)\n",
      "graphs_neg_train, graphs_neg_test = random_bipartition_iter(graphs_neg, relative_size=0.2)"
     ],
     "language": "python",
     "metadata": {},
     "outputs": [],
     "prompt_number": 3
    },
    {
     "cell_type": "code",
     "collapsed": false,
     "input": [
      "opts={'runs':3 , 'antaRNA_param_file':'/home/kohvaeip/RLS/lib/antaRNA/antaRNA.ini' , \\\n",
      "      'performance_log_file':'/home/kohvaeip/perf.log', 'nt_importance_threshold':-0.2 , 'nmin_important_nt_adjaceny':1 , \\\n",
      "      'bp_importance_threshold':-0.85 , 'nmin_important_bp_adjaceny':3 , 'nmin_unpaired_nt_adjacency':3 , \\\n",
      "      'synthesized_batch_proportion':4, 'multi_sequence_size':3, 'filtering_threshold':0, 'relative_size':0.3, 'rfam_id':rfam_id}"
     ],
     "language": "python",
     "metadata": {},
     "outputs": [],
     "prompt_number": 4
    },
    {
     "cell_type": "code",
     "collapsed": false,
     "input": [
      "print opts"
     ],
     "language": "python",
     "metadata": {},
     "outputs": [
      {
       "output_type": "stream",
       "stream": "stdout",
       "text": [
        "{'nmin_important_bp_adjaceny': 3, 'antaRNA_param_file': '/home/kohvaeip/RLS/lib/antaRNA/antaRNA.ini', 'nt_importance_threshold': -0.2, 'filtering_threshold': 0, 'performance_log_file': '/home/kohvaeip/perf.log', 'nmin_important_nt_adjaceny': 1, 'runs': 3, 'multi_sequence_size': 3, 'nmin_unpaired_nt_adjacency': 3, 'rfam_id': 'RF00175', 'synthesized_batch_proportion': 4, 'bp_importance_threshold': -0.85, 'relative_size': 0.3}\n"
       ]
      }
     ],
     "prompt_number": 5
    },
    {
     "cell_type": "code",
     "collapsed": false,
     "input": [
      "print opts.get('nt_importance_threshold')"
     ],
     "language": "python",
     "metadata": {},
     "outputs": [
      {
       "output_type": "stream",
       "stream": "stdout",
       "text": [
        "-0.2\n"
       ]
      }
     ],
     "prompt_number": 6
    },
    {
     "cell_type": "code",
     "collapsed": false,
     "input": [
      "import experiment as exp\n",
      "reload(exp)"
     ],
     "language": "python",
     "metadata": {},
     "outputs": [
      {
       "metadata": {},
       "output_type": "pyout",
       "prompt_number": 7,
       "text": [
        "<module 'experiment' from '/home/kohvaeip/RLS/tools/experiment.pyc'>"
       ]
      }
     ],
     "prompt_number": 7
    },
    {
     "cell_type": "code",
     "collapsed": false,
     "input": [
      "mroct, maprt, mrocs, maprs, elapsed_time = exp.run_epoch(graphs_pos_test =graphs_pos_test , graphs_neg_test = graphs_neg_test ,\\\n",
      "                       graphs_pos_train = graphs_pos_train , graphs_neg_train = graphs_neg_train , **opts)"
     ],
     "language": "python",
     "metadata": {},
     "outputs": [
      {
       "output_type": "stream",
       "stream": "stdout",
       "text": [
        "Classifier:\n",
        "SGDClassifier(alpha=3.45920972163e-05, class_weight='auto', epsilon=0.1,\n",
        "       eta0=7.17889237772, fit_intercept=True, l1_ratio=0.15,\n",
        "       learning_rate='invscaling', loss='hinge', n_iter=87, n_jobs=1,\n",
        "       penalty='l2', power_t=0.995377504099, random_state=None,\n",
        "       shuffle=True, verbose=0, warm_start=False)\n",
        "--------------------------------------------------------------------------------\n",
        "Predictive performance:\n",
        "            accuracy: 1.000 +- 0.000"
       ]
      },
      {
       "output_type": "stream",
       "stream": "stdout",
       "text": [
        "\n",
        "           precision: 1.000 +- 0.000"
       ]
      },
      {
       "output_type": "stream",
       "stream": "stdout",
       "text": [
        "\n",
        "              recall: 1.000 +- 0.000"
       ]
      },
      {
       "output_type": "stream",
       "stream": "stdout",
       "text": [
        "\n",
        "                  f1: 1.000 +- 0.000"
       ]
      },
      {
       "output_type": "stream",
       "stream": "stdout",
       "text": [
        "\n",
        "   average_precision: 1.000 +- 0.000"
       ]
      },
      {
       "output_type": "stream",
       "stream": "stdout",
       "text": [
        "\n",
        "             roc_auc: 1.000 +- 0.000"
       ]
      },
      {
       "output_type": "stream",
       "stream": "stdout",
       "text": [
        "\n",
        "--------------------------------------------------------------------------------\n",
        "4\n",
        "duplicate found: GCACUCGGCUUGCUGAAGUGUACUCGGCAAGAGGCGAGAG"
       ]
      },
      {
       "output_type": "stream",
       "stream": "stdout",
       "text": [
        "\n",
        "duplicate found: GCACUCGGCUUGCUGAAGUGUACUCGGCAAGAGGCGAGAG\n",
        "duplicate found: GCACUCGGCUUGCUGAAGUGUACUCGGCAAGAGGCGAGAG"
       ]
      },
      {
       "output_type": "stream",
       "stream": "stdout",
       "text": [
        "\n",
        "['>AF443113.1/69-108_70443', 'GCACUCGGCUUGCUGAAGUGUACUCGGCAAGAGGCGAGAG', '>AF443098.1/69-108_5906', 'GAGCUCGGCUUGCUGAAGUCGGCUCGGCAAGAGGCGAGAG', '>AF443098.1/69-108_79530', 'GGACUCGGCUUGCUGAAGUGCCCUCGGCAAGAGGCGAGAG', '>AF443098.1/69-108_58301', 'UCCCUCGGCUUGCUGAAGUGGCCUCGGCAAGAGGCGAGAG', '>AF115393.1/68-106_30522', 'GGACUCGGCUUGCUCAGUGGAUAGGGCGAGAGGCGAGCG', '>AF115393.1/68-106_99538', 'GCACUCGGCUUCCUGAGUGGAGACGGGAAGAGGCGAGGG', '>AF115393.1/68-106_78769', 'CGACUCGGCUUCCUGAGUCAACACGGGGAGAGGCGAGGG', '>AY169968.1/238-276_98906', 'CCACUCGGCUUGUUGAGUGGAGACAACAAGAGGCGAGCG', '>AY169968.1/238-276_58216', 'CCACUCGGCUUGUUGAGUGCACACAACAAGAGGCGAGGC', '>AY169968.1/238-276_41633', 'CCACUCGGCUUGUUGAGUCGAGACAACAAGAGGCGAGCC', '>AF443113.1/69-108_15703', 'CCACUCGGCUUGCUGAAGUGUACUCGGCAAGAGGCGAGAG', '>AF443113.1/69-108_42491', 'CGACUCGGCUUGCUGAAGUGUACUCGGCAAGAGGCGAGAG', '>AF443098.1/69-108_5489', 'CGGCUCGGCUUGCUGAAGUCUGCUCGGCAAGAGGCGAGAG', '>AF443098.1/69-108_77388', 'GCCCUCGGCUUGCUGAAGUACGCUCGGCAAGAGGCGAGAG', '>AF443098.1/69-108_49661', 'GCCCUCGGCUUGCUGAAGUUGGCUCGGCAAGAGGCGAGAG', '>AF115393.1/68-106_86866', 'CGACUCGGCUUGCUCAGUCGAUAGGGCGAGAGGCGAGGC']"
       ]
      },
      {
       "output_type": "stream",
       "stream": "stdout",
       "text": [
        "\n",
        "Classifier:"
       ]
      },
      {
       "output_type": "stream",
       "stream": "stdout",
       "text": [
        "\n",
        "SGDClassifier(alpha=0.000118271183802, class_weight='auto', epsilon=0.1,\n",
        "       eta0=4.2391137639, fit_intercept=True, l1_ratio=0.15,\n",
        "       learning_rate='invscaling', loss='hinge', n_iter=47, n_jobs=1,\n",
        "       penalty='l1', power_t=0.29361286023, random_state=None,\n",
        "       shuffle=True, verbose=0, warm_start=False)\n",
        "--------------------------------------------------------------------------------\n",
        "Predictive performance:\n",
        "            accuracy: 1.000 +- 0.000"
       ]
      },
      {
       "output_type": "stream",
       "stream": "stdout",
       "text": [
        "\n",
        "           precision: 1.000 +- 0.000"
       ]
      },
      {
       "output_type": "stream",
       "stream": "stdout",
       "text": [
        "\n",
        "              recall: 1.000 +- 0.000"
       ]
      },
      {
       "output_type": "stream",
       "stream": "stdout",
       "text": [
        "\n",
        "                  f1: 1.000 +- 0.000"
       ]
      },
      {
       "output_type": "stream",
       "stream": "stdout",
       "text": [
        "\n",
        "   average_precision: 1.000 +- 0.000"
       ]
      },
      {
       "output_type": "stream",
       "stream": "stdout",
       "text": [
        "\n",
        "             roc_auc: 1.000 +- 0.000"
       ]
      },
      {
       "output_type": "stream",
       "stream": "stdout",
       "text": [
        "\n",
        "--------------------------------------------------------------------------------\n",
        "Test set"
       ]
      },
      {
       "output_type": "stream",
       "stream": "stdout",
       "text": [
        "\n",
        "Instances: 224 ; Features: 1048577 with an avg of 305 features per instance\n",
        "--------------------------------------------------------------------------------\n",
        "Test Estimate\n",
        "             precision    recall  f1-score   support\n",
        "\n",
        "         -1       0.98      1.00      0.99       168\n",
        "          1       1.00      0.93      0.96        56\n",
        "\n",
        "avg / total       0.98      0.98      0.98       224\n",
        "\n",
        "ROC: 0.998\n",
        "APR: 0.995\n",
        "Test set"
       ]
      },
      {
       "output_type": "stream",
       "stream": "stdout",
       "text": [
        "\n",
        "Instances: 224 ; Features: 1048577 with an avg of 305 features per instance\n",
        "--------------------------------------------------------------------------------\n",
        "Test Estimate\n",
        "             precision    recall  f1-score   support\n",
        "\n",
        "         -1       0.95      1.00      0.97       168\n",
        "          1       1.00      0.84      0.91        56\n",
        "\n",
        "avg / total       0.96      0.96      0.96       224\n",
        "\n",
        "ROC: 0.991\n",
        "APR: 0.983\n",
        "Classifier:"
       ]
      },
      {
       "output_type": "stream",
       "stream": "stdout",
       "text": [
        "\n",
        "SGDClassifier(alpha=0.000782576741522, class_weight='auto', epsilon=0.1,\n",
        "       eta0=3.50885517388, fit_intercept=True, l1_ratio=0.15,\n",
        "       learning_rate='optimal', loss='hinge', n_iter=15, n_jobs=1,\n",
        "       penalty='elasticnet', power_t=0.149398300831, random_state=None,\n",
        "       shuffle=True, verbose=0, warm_start=False)\n",
        "--------------------------------------------------------------------------------\n",
        "Predictive performance:\n",
        "            accuracy: 1.000 +- 0.000"
       ]
      },
      {
       "output_type": "stream",
       "stream": "stdout",
       "text": [
        "\n",
        "           precision: 1.000 +- 0.000"
       ]
      },
      {
       "output_type": "stream",
       "stream": "stdout",
       "text": [
        "\n",
        "              recall: 1.000 +- 0.000"
       ]
      },
      {
       "output_type": "stream",
       "stream": "stdout",
       "text": [
        "\n",
        "                  f1: 1.000 +- 0.000"
       ]
      },
      {
       "output_type": "stream",
       "stream": "stdout",
       "text": [
        "\n",
        "   average_precision: 1.000 +- 0.000"
       ]
      },
      {
       "output_type": "stream",
       "stream": "stdout",
       "text": [
        "\n",
        "             roc_auc: 1.000 +- 0.000"
       ]
      },
      {
       "output_type": "stream",
       "stream": "stdout",
       "text": [
        "\n",
        "--------------------------------------------------------------------------------\n",
        "4\n",
        "duplicate found: GGACUCGGCUUGCUGAAGCGCGCACGGCAAGAGGCGAGGG"
       ]
      },
      {
       "output_type": "stream",
       "stream": "stdout",
       "text": [
        "\n",
        "duplicate found: GGACUCGGCUUGCUGAAGUGCAACACGGCAAGAGGCGAGAG"
       ]
      },
      {
       "output_type": "stream",
       "stream": "stdout",
       "text": [
        "\n",
        "['>AF042100.1/691-730_22119', 'GGACUCGGCUUGCUGAAGCCCGCACGGCAAGAGGCGAGGC', '>AF042100.1/691-730_91350', 'GGACUCGGCUUGCUGAACCCCCCACCGCAAGAGGCGAGCG', '>AF077336.1/45-85_41614', 'GCACUCGGCUUGCUGAAGUGCAACACGGCAAGAGGCGAGAG', '>AF077336.1/45-85_89070', 'GCACUCGGCUUCCUGAAGUGCAACACGCCAAGAGCCGAGAC', '>AF077336.1/45-85_17588', 'GCACUCGGCUUGCUGAAGUGCAACACCCCAAGAGCCGAGAC', '>AF115393.1/68-106_53008', 'GGACUCGGCUUCGCGAGUGAGUGCGUGGAGAGGCGAGCA', '>AF115393.1/68-106_64033', 'GUACUCGGCUUGGCGACUGGGAGCGCCAAGAGGCGAGAC', '>AF115393.1/68-106_77946', 'GUACUCGGCUUGGGGAUUAGGCGCCGCGAGAUGCGAGGG', '>AY169968.1/238-276_65303', 'GGACUCGGCUUGUUGAGUGUCAGCAACAAGAGGCGAGGG', '>AY169968.1/238-276_8042', 'GCACUCGGCUUGUUGAGUUACCGCAACAAGAGGCGAGGG', '>AY169968.1/238-276_40109', 'GAACUCGGCUUGUUGAGUGCACCCAACAAGAGGCGAGGC', '>AF042100.1/691-730_61625', 'GCACUCGGCUUGCUGAACCCCCCACCGCAAGAGGCGAGCG', '>AF042100.1/691-730_39096', 'GGACUCGGCUUGCUGAACCGCCCACCGCAAGAGGCGAGGG', '>AF042100.1/691-730_71315', 'GGACUCGGCUUGCUGAACCGCGCACGGCAAGAGGCGAGGG', '>AF077336.1/45-85_98945', 'GGACUCGGCUUGCUGAAGUGCAACACCCCAAGAGGCGAGAC', '>AF077336.1/45-85_91808', 'GCACUCGGCUUCGUGAAGUGCAACACCCCAAGAGCCGAGAG']"
       ]
      },
      {
       "output_type": "stream",
       "stream": "stdout",
       "text": [
        "\n"
       ]
      },
      {
       "ename": "KeyboardInterrupt",
       "evalue": "",
       "output_type": "pyerr",
       "traceback": [
        "\u001b[1;31m---------------------------------------------------------------------------\u001b[0m\n\u001b[1;31mKeyboardInterrupt\u001b[0m                         Traceback (most recent call last)",
        "\u001b[1;32m<ipython-input-8-cf95f2568585>\u001b[0m in \u001b[0;36m<module>\u001b[1;34m()\u001b[0m\n\u001b[1;32m----> 1\u001b[1;33m \u001b[0mmroct\u001b[0m\u001b[1;33m,\u001b[0m \u001b[0mmaprt\u001b[0m\u001b[1;33m,\u001b[0m \u001b[0mmrocs\u001b[0m\u001b[1;33m,\u001b[0m \u001b[0mmaprs\u001b[0m\u001b[1;33m,\u001b[0m \u001b[0melapsed_time\u001b[0m \u001b[1;33m=\u001b[0m \u001b[0mexp\u001b[0m\u001b[1;33m.\u001b[0m\u001b[0mrun_epoch\u001b[0m\u001b[1;33m(\u001b[0m\u001b[0mgraphs_pos_test\u001b[0m \u001b[1;33m=\u001b[0m\u001b[0mgraphs_pos_test\u001b[0m \u001b[1;33m,\u001b[0m \u001b[0mgraphs_neg_test\u001b[0m \u001b[1;33m=\u001b[0m \u001b[0mgraphs_neg_test\u001b[0m \u001b[1;33m,\u001b[0m                       \u001b[0mgraphs_pos_train\u001b[0m \u001b[1;33m=\u001b[0m \u001b[0mgraphs_pos_train\u001b[0m \u001b[1;33m,\u001b[0m \u001b[0mgraphs_neg_train\u001b[0m \u001b[1;33m=\u001b[0m \u001b[0mgraphs_neg_train\u001b[0m \u001b[1;33m,\u001b[0m \u001b[1;33m**\u001b[0m\u001b[0mopts\u001b[0m\u001b[1;33m)\u001b[0m\u001b[1;33m\u001b[0m\u001b[0m\n\u001b[0m",
        "\u001b[1;32m/home/kohvaeip/RLS/tools/experiment.pyc\u001b[0m in \u001b[0;36mrun_epoch\u001b[1;34m(runs, antaRNA_param_file, performance_log_file, graphs_pos_test, graphs_neg_test, graphs_pos_train, graphs_neg_train, nt_importance_threshold, nmin_important_nt_adjaceny, bp_importance_threshold, nmin_important_bp_adjaceny, nmin_unpaired_nt_adjacency, synthesized_batch_proportion, multi_sequence_size, filtering_threshold, relative_size, rfam_id)\u001b[0m\n\u001b[0;32m    119\u001b[0m \u001b[1;33m\u001b[0m\u001b[0m\n\u001b[0;32m    120\u001b[0m                 \u001b[1;31m# Train MixedSamplesModel classifier.\u001b[0m\u001b[1;33m\u001b[0m\u001b[1;33m\u001b[0m\u001b[0m\n\u001b[1;32m--> 121\u001b[1;33m                 \u001b[0mestimator2\u001b[0m \u001b[1;33m=\u001b[0m \u001b[0mfit\u001b[0m\u001b[1;33m(\u001b[0m\u001b[0mgraphs_mixed_pos\u001b[0m\u001b[1;33m,\u001b[0m \u001b[0mgraphs_mixed_neg\u001b[0m\u001b[1;33m,\u001b[0m \u001b[0mvectorizer\u001b[0m\u001b[1;33m,\u001b[0m \u001b[0mn_jobs\u001b[0m\u001b[1;33m=\u001b[0m\u001b[1;36m1\u001b[0m\u001b[1;33m,\u001b[0m \u001b[0mcv\u001b[0m\u001b[1;33m=\u001b[0m\u001b[1;36m3\u001b[0m\u001b[1;33m)\u001b[0m\u001b[1;33m\u001b[0m\u001b[0m\n\u001b[0m\u001b[0;32m    122\u001b[0m \u001b[1;33m\u001b[0m\u001b[0m\n\u001b[0;32m    123\u001b[0m                 \u001b[1;31m# Test the test set against TrueSamplesModel -> output performance\u001b[0m\u001b[1;33m\u001b[0m\u001b[1;33m\u001b[0m\u001b[0m\n",
        "\u001b[1;32m/home/kohvaeip/RLS/lib/EDeN/eden/util/__init__.pyc\u001b[0m in \u001b[0;36mfit\u001b[1;34m(iterable_pos_train, iterable_neg_train, vectorizer, n_jobs, cv)\u001b[0m\n\u001b[0;32m    120\u001b[0m     \u001b[0mX_neg_train\u001b[0m \u001b[1;33m=\u001b[0m \u001b[0mvectorizer\u001b[0m\u001b[1;33m.\u001b[0m\u001b[0mtransform\u001b[0m\u001b[1;33m(\u001b[0m \u001b[0miterable_neg_train\u001b[0m\u001b[1;33m,\u001b[0m \u001b[0mn_jobs\u001b[0m\u001b[1;33m=\u001b[0m\u001b[0mn_jobs\u001b[0m \u001b[1;33m)\u001b[0m\u001b[1;33m\u001b[0m\u001b[0m\n\u001b[0;32m    121\u001b[0m     \u001b[1;31m#optimize hyperparameters classifier\u001b[0m\u001b[1;33m\u001b[0m\u001b[1;33m\u001b[0m\u001b[0m\n\u001b[1;32m--> 122\u001b[1;33m     \u001b[0moptpredictor\u001b[0m \u001b[1;33m=\u001b[0m \u001b[0mfit_estimator\u001b[0m\u001b[1;33m(\u001b[0m\u001b[0mpositive_data_matrix\u001b[0m\u001b[1;33m=\u001b[0m\u001b[0mX_pos_train\u001b[0m\u001b[1;33m,\u001b[0m \u001b[0mnegative_data_matrix\u001b[0m\u001b[1;33m=\u001b[0m\u001b[0mX_neg_train\u001b[0m\u001b[1;33m,\u001b[0m \u001b[0mcv\u001b[0m\u001b[1;33m=\u001b[0m\u001b[0mcv\u001b[0m\u001b[1;33m,\u001b[0m \u001b[0mn_jobs\u001b[0m\u001b[1;33m=\u001b[0m\u001b[0mn_jobs\u001b[0m\u001b[1;33m)\u001b[0m\u001b[1;33m\u001b[0m\u001b[0m\n\u001b[0m\u001b[0;32m    123\u001b[0m     \u001b[1;32mreturn\u001b[0m \u001b[0moptpredictor\u001b[0m\u001b[1;33m\u001b[0m\u001b[0m\n\u001b[0;32m    124\u001b[0m \u001b[1;33m\u001b[0m\u001b[0m\n",
        "\u001b[1;32m/home/kohvaeip/RLS/lib/EDeN/eden/util/__init__.pyc\u001b[0m in \u001b[0;36mfit_estimator\u001b[1;34m(positive_data_matrix, negative_data_matrix, target, cv, n_jobs)\u001b[0m\n\u001b[0;32m     93\u001b[0m     random_search = RandomizedSearchCV(\n\u001b[0;32m     94\u001b[0m         predictor, param_distributions=param_dist, n_iter=n_iter_search, cv=cv, scoring=scoring, n_jobs=n_jobs)\n\u001b[1;32m---> 95\u001b[1;33m     \u001b[0mrandom_search\u001b[0m\u001b[1;33m.\u001b[0m\u001b[0mfit\u001b[0m\u001b[1;33m(\u001b[0m\u001b[0mX\u001b[0m\u001b[1;33m,\u001b[0m \u001b[0my\u001b[0m\u001b[1;33m)\u001b[0m\u001b[1;33m\u001b[0m\u001b[0m\n\u001b[0m\u001b[0;32m     96\u001b[0m     optpredictor = SGDClassifier(\n\u001b[0;32m     97\u001b[0m         class_weight='auto', shuffle=True, n_jobs=n_jobs, **random_search.best_params_)\n",
        "\u001b[1;32m/home/kohvaeip/.local/lib/python2.7/site-packages/sklearn/grid_search.pyc\u001b[0m in \u001b[0;36mfit\u001b[1;34m(self, X, y)\u001b[0m\n\u001b[0;32m    747\u001b[0m                                           \u001b[0mself\u001b[0m\u001b[1;33m.\u001b[0m\u001b[0mn_iter\u001b[0m\u001b[1;33m,\u001b[0m\u001b[1;33m\u001b[0m\u001b[0m\n\u001b[0;32m    748\u001b[0m                                           random_state=self.random_state)\n\u001b[1;32m--> 749\u001b[1;33m         \u001b[1;32mreturn\u001b[0m \u001b[0mself\u001b[0m\u001b[1;33m.\u001b[0m\u001b[0m_fit\u001b[0m\u001b[1;33m(\u001b[0m\u001b[0mX\u001b[0m\u001b[1;33m,\u001b[0m \u001b[0my\u001b[0m\u001b[1;33m,\u001b[0m \u001b[0msampled_params\u001b[0m\u001b[1;33m)\u001b[0m\u001b[1;33m\u001b[0m\u001b[0m\n\u001b[0m",
        "\u001b[1;32m/home/kohvaeip/.local/lib/python2.7/site-packages/sklearn/grid_search.pyc\u001b[0m in \u001b[0;36m_fit\u001b[1;34m(self, X, y, parameter_iterable)\u001b[0m\n\u001b[0;32m    376\u001b[0m                                     \u001b[0mtrain\u001b[0m\u001b[1;33m,\u001b[0m \u001b[0mtest\u001b[0m\u001b[1;33m,\u001b[0m \u001b[0mself\u001b[0m\u001b[1;33m.\u001b[0m\u001b[0mverbose\u001b[0m\u001b[1;33m,\u001b[0m \u001b[0mparameters\u001b[0m\u001b[1;33m,\u001b[0m\u001b[1;33m\u001b[0m\u001b[0m\n\u001b[0;32m    377\u001b[0m                                     self.fit_params, return_parameters=True)\n\u001b[1;32m--> 378\u001b[1;33m             \u001b[1;32mfor\u001b[0m \u001b[0mparameters\u001b[0m \u001b[1;32min\u001b[0m \u001b[0mparameter_iterable\u001b[0m\u001b[1;33m\u001b[0m\u001b[0m\n\u001b[0m\u001b[0;32m    379\u001b[0m             for train, test in cv)\n\u001b[0;32m    380\u001b[0m \u001b[1;33m\u001b[0m\u001b[0m\n",
        "\u001b[1;32m/home/kohvaeip/.local/lib/python2.7/site-packages/sklearn/externals/joblib/parallel.pyc\u001b[0m in \u001b[0;36m__call__\u001b[1;34m(self, iterable)\u001b[0m\n\u001b[0;32m    651\u001b[0m             \u001b[0mself\u001b[0m\u001b[1;33m.\u001b[0m\u001b[0m_iterating\u001b[0m \u001b[1;33m=\u001b[0m \u001b[0mTrue\u001b[0m\u001b[1;33m\u001b[0m\u001b[0m\n\u001b[0;32m    652\u001b[0m             \u001b[1;32mfor\u001b[0m \u001b[0mfunction\u001b[0m\u001b[1;33m,\u001b[0m \u001b[0margs\u001b[0m\u001b[1;33m,\u001b[0m \u001b[0mkwargs\u001b[0m \u001b[1;32min\u001b[0m \u001b[0miterable\u001b[0m\u001b[1;33m:\u001b[0m\u001b[1;33m\u001b[0m\u001b[0m\n\u001b[1;32m--> 653\u001b[1;33m                 \u001b[0mself\u001b[0m\u001b[1;33m.\u001b[0m\u001b[0mdispatch\u001b[0m\u001b[1;33m(\u001b[0m\u001b[0mfunction\u001b[0m\u001b[1;33m,\u001b[0m \u001b[0margs\u001b[0m\u001b[1;33m,\u001b[0m \u001b[0mkwargs\u001b[0m\u001b[1;33m)\u001b[0m\u001b[1;33m\u001b[0m\u001b[0m\n\u001b[0m\u001b[0;32m    654\u001b[0m \u001b[1;33m\u001b[0m\u001b[0m\n\u001b[0;32m    655\u001b[0m             \u001b[1;32mif\u001b[0m \u001b[0mpre_dispatch\u001b[0m \u001b[1;33m==\u001b[0m \u001b[1;34m\"all\"\u001b[0m \u001b[1;32mor\u001b[0m \u001b[0mn_jobs\u001b[0m \u001b[1;33m==\u001b[0m \u001b[1;36m1\u001b[0m\u001b[1;33m:\u001b[0m\u001b[1;33m\u001b[0m\u001b[0m\n",
        "\u001b[1;32m/home/kohvaeip/.local/lib/python2.7/site-packages/sklearn/externals/joblib/parallel.pyc\u001b[0m in \u001b[0;36mdispatch\u001b[1;34m(self, func, args, kwargs)\u001b[0m\n\u001b[0;32m    398\u001b[0m         \"\"\"\n\u001b[0;32m    399\u001b[0m         \u001b[1;32mif\u001b[0m \u001b[0mself\u001b[0m\u001b[1;33m.\u001b[0m\u001b[0m_pool\u001b[0m \u001b[1;32mis\u001b[0m \u001b[0mNone\u001b[0m\u001b[1;33m:\u001b[0m\u001b[1;33m\u001b[0m\u001b[0m\n\u001b[1;32m--> 400\u001b[1;33m             \u001b[0mjob\u001b[0m \u001b[1;33m=\u001b[0m \u001b[0mImmediateApply\u001b[0m\u001b[1;33m(\u001b[0m\u001b[0mfunc\u001b[0m\u001b[1;33m,\u001b[0m \u001b[0margs\u001b[0m\u001b[1;33m,\u001b[0m \u001b[0mkwargs\u001b[0m\u001b[1;33m)\u001b[0m\u001b[1;33m\u001b[0m\u001b[0m\n\u001b[0m\u001b[0;32m    401\u001b[0m             \u001b[0mindex\u001b[0m \u001b[1;33m=\u001b[0m \u001b[0mlen\u001b[0m\u001b[1;33m(\u001b[0m\u001b[0mself\u001b[0m\u001b[1;33m.\u001b[0m\u001b[0m_jobs\u001b[0m\u001b[1;33m)\u001b[0m\u001b[1;33m\u001b[0m\u001b[0m\n\u001b[0;32m    402\u001b[0m             \u001b[1;32mif\u001b[0m \u001b[1;32mnot\u001b[0m \u001b[0m_verbosity_filter\u001b[0m\u001b[1;33m(\u001b[0m\u001b[0mindex\u001b[0m\u001b[1;33m,\u001b[0m \u001b[0mself\u001b[0m\u001b[1;33m.\u001b[0m\u001b[0mverbose\u001b[0m\u001b[1;33m)\u001b[0m\u001b[1;33m:\u001b[0m\u001b[1;33m\u001b[0m\u001b[0m\n",
        "\u001b[1;32m/home/kohvaeip/.local/lib/python2.7/site-packages/sklearn/externals/joblib/parallel.pyc\u001b[0m in \u001b[0;36m__init__\u001b[1;34m(self, func, args, kwargs)\u001b[0m\n\u001b[0;32m    136\u001b[0m         \u001b[1;31m# Don't delay the application, to avoid keeping the input\u001b[0m\u001b[1;33m\u001b[0m\u001b[1;33m\u001b[0m\u001b[0m\n\u001b[0;32m    137\u001b[0m         \u001b[1;31m# arguments in memory\u001b[0m\u001b[1;33m\u001b[0m\u001b[1;33m\u001b[0m\u001b[0m\n\u001b[1;32m--> 138\u001b[1;33m         \u001b[0mself\u001b[0m\u001b[1;33m.\u001b[0m\u001b[0mresults\u001b[0m \u001b[1;33m=\u001b[0m \u001b[0mfunc\u001b[0m\u001b[1;33m(\u001b[0m\u001b[1;33m*\u001b[0m\u001b[0margs\u001b[0m\u001b[1;33m,\u001b[0m \u001b[1;33m**\u001b[0m\u001b[0mkwargs\u001b[0m\u001b[1;33m)\u001b[0m\u001b[1;33m\u001b[0m\u001b[0m\n\u001b[0m\u001b[0;32m    139\u001b[0m \u001b[1;33m\u001b[0m\u001b[0m\n\u001b[0;32m    140\u001b[0m     \u001b[1;32mdef\u001b[0m \u001b[0mget\u001b[0m\u001b[1;33m(\u001b[0m\u001b[0mself\u001b[0m\u001b[1;33m)\u001b[0m\u001b[1;33m:\u001b[0m\u001b[1;33m\u001b[0m\u001b[0m\n",
        "\u001b[1;32m/home/kohvaeip/.local/lib/python2.7/site-packages/sklearn/cross_validation.pyc\u001b[0m in \u001b[0;36m_fit_and_score\u001b[1;34m(estimator, X, y, scorer, train, test, verbose, parameters, fit_params, return_train_score, return_parameters)\u001b[0m\n\u001b[0;32m   1237\u001b[0m         \u001b[0mestimator\u001b[0m\u001b[1;33m.\u001b[0m\u001b[0mfit\u001b[0m\u001b[1;33m(\u001b[0m\u001b[0mX_train\u001b[0m\u001b[1;33m,\u001b[0m \u001b[1;33m**\u001b[0m\u001b[0mfit_params\u001b[0m\u001b[1;33m)\u001b[0m\u001b[1;33m\u001b[0m\u001b[0m\n\u001b[0;32m   1238\u001b[0m     \u001b[1;32melse\u001b[0m\u001b[1;33m:\u001b[0m\u001b[1;33m\u001b[0m\u001b[0m\n\u001b[1;32m-> 1239\u001b[1;33m         \u001b[0mestimator\u001b[0m\u001b[1;33m.\u001b[0m\u001b[0mfit\u001b[0m\u001b[1;33m(\u001b[0m\u001b[0mX_train\u001b[0m\u001b[1;33m,\u001b[0m \u001b[0my_train\u001b[0m\u001b[1;33m,\u001b[0m \u001b[1;33m**\u001b[0m\u001b[0mfit_params\u001b[0m\u001b[1;33m)\u001b[0m\u001b[1;33m\u001b[0m\u001b[0m\n\u001b[0m\u001b[0;32m   1240\u001b[0m     \u001b[0mtest_score\u001b[0m \u001b[1;33m=\u001b[0m \u001b[0m_score\u001b[0m\u001b[1;33m(\u001b[0m\u001b[0mestimator\u001b[0m\u001b[1;33m,\u001b[0m \u001b[0mX_test\u001b[0m\u001b[1;33m,\u001b[0m \u001b[0my_test\u001b[0m\u001b[1;33m,\u001b[0m \u001b[0mscorer\u001b[0m\u001b[1;33m)\u001b[0m\u001b[1;33m\u001b[0m\u001b[0m\n\u001b[0;32m   1241\u001b[0m     \u001b[1;32mif\u001b[0m \u001b[0mreturn_train_score\u001b[0m\u001b[1;33m:\u001b[0m\u001b[1;33m\u001b[0m\u001b[0m\n",
        "\u001b[1;32m/home/kohvaeip/.local/lib/python2.7/site-packages/sklearn/linear_model/stochastic_gradient.pyc\u001b[0m in \u001b[0;36mfit\u001b[1;34m(self, X, y, coef_init, intercept_init, class_weight, sample_weight)\u001b[0m\n\u001b[0;32m    481\u001b[0m                          \u001b[0mloss\u001b[0m\u001b[1;33m=\u001b[0m\u001b[0mself\u001b[0m\u001b[1;33m.\u001b[0m\u001b[0mloss\u001b[0m\u001b[1;33m,\u001b[0m \u001b[0mlearning_rate\u001b[0m\u001b[1;33m=\u001b[0m\u001b[0mself\u001b[0m\u001b[1;33m.\u001b[0m\u001b[0mlearning_rate\u001b[0m\u001b[1;33m,\u001b[0m\u001b[1;33m\u001b[0m\u001b[0m\n\u001b[0;32m    482\u001b[0m                          \u001b[0mcoef_init\u001b[0m\u001b[1;33m=\u001b[0m\u001b[0mcoef_init\u001b[0m\u001b[1;33m,\u001b[0m \u001b[0mintercept_init\u001b[0m\u001b[1;33m=\u001b[0m\u001b[0mintercept_init\u001b[0m\u001b[1;33m,\u001b[0m\u001b[1;33m\u001b[0m\u001b[0m\n\u001b[1;32m--> 483\u001b[1;33m                          sample_weight=sample_weight)\n\u001b[0m\u001b[0;32m    484\u001b[0m \u001b[1;33m\u001b[0m\u001b[0m\n\u001b[0;32m    485\u001b[0m \u001b[1;33m\u001b[0m\u001b[0m\n",
        "\u001b[1;32m/home/kohvaeip/.local/lib/python2.7/site-packages/sklearn/linear_model/stochastic_gradient.pyc\u001b[0m in \u001b[0;36m_fit\u001b[1;34m(self, X, y, alpha, C, loss, learning_rate, coef_init, intercept_init, sample_weight)\u001b[0m\n\u001b[0;32m    385\u001b[0m \u001b[1;33m\u001b[0m\u001b[0m\n\u001b[0;32m    386\u001b[0m         self._partial_fit(X, y, alpha, C, loss, learning_rate, self.n_iter,\n\u001b[1;32m--> 387\u001b[1;33m                           classes, sample_weight, coef_init, intercept_init)\n\u001b[0m\u001b[0;32m    388\u001b[0m \u001b[1;33m\u001b[0m\u001b[0m\n\u001b[0;32m    389\u001b[0m         \u001b[1;32mreturn\u001b[0m \u001b[0mself\u001b[0m\u001b[1;33m\u001b[0m\u001b[0m\n",
        "\u001b[1;32m/home/kohvaeip/.local/lib/python2.7/site-packages/sklearn/linear_model/stochastic_gradient.pyc\u001b[0m in \u001b[0;36m_partial_fit\u001b[1;34m(self, X, y, alpha, C, loss, learning_rate, n_iter, classes, sample_weight, coef_init, intercept_init)\u001b[0m\n\u001b[0;32m    350\u001b[0m             self._fit_binary(X, y, alpha=alpha, C=C,\n\u001b[0;32m    351\u001b[0m                              \u001b[0mlearning_rate\u001b[0m\u001b[1;33m=\u001b[0m\u001b[0mlearning_rate\u001b[0m\u001b[1;33m,\u001b[0m\u001b[1;33m\u001b[0m\u001b[0m\n\u001b[1;32m--> 352\u001b[1;33m                              sample_weight=sample_weight, n_iter=n_iter)\n\u001b[0m\u001b[0;32m    353\u001b[0m         \u001b[1;32melse\u001b[0m\u001b[1;33m:\u001b[0m\u001b[1;33m\u001b[0m\u001b[0m\n\u001b[0;32m    354\u001b[0m             raise ValueError(\"The number of class labels must be \"\n",
        "\u001b[1;32m/home/kohvaeip/.local/lib/python2.7/site-packages/sklearn/linear_model/stochastic_gradient.pyc\u001b[0m in \u001b[0;36m_fit_binary\u001b[1;34m(self, X, y, alpha, C, sample_weight, learning_rate, n_iter)\u001b[0m\n\u001b[0;32m    396\u001b[0m                                      \u001b[0mself\u001b[0m\u001b[1;33m.\u001b[0m\u001b[0m_expanded_class_weight\u001b[0m\u001b[1;33m[\u001b[0m\u001b[1;36m1\u001b[0m\u001b[1;33m]\u001b[0m\u001b[1;33m,\u001b[0m\u001b[1;33m\u001b[0m\u001b[0m\n\u001b[0;32m    397\u001b[0m                                      \u001b[0mself\u001b[0m\u001b[1;33m.\u001b[0m\u001b[0m_expanded_class_weight\u001b[0m\u001b[1;33m[\u001b[0m\u001b[1;36m0\u001b[0m\u001b[1;33m]\u001b[0m\u001b[1;33m,\u001b[0m\u001b[1;33m\u001b[0m\u001b[0m\n\u001b[1;32m--> 398\u001b[1;33m                                      sample_weight)\n\u001b[0m\u001b[0;32m    399\u001b[0m         \u001b[1;31m# need to be 2d\u001b[0m\u001b[1;33m\u001b[0m\u001b[1;33m\u001b[0m\u001b[0m\n\u001b[0;32m    400\u001b[0m         \u001b[0mself\u001b[0m\u001b[1;33m.\u001b[0m\u001b[0mcoef_\u001b[0m \u001b[1;33m=\u001b[0m \u001b[0mcoef\u001b[0m\u001b[1;33m.\u001b[0m\u001b[0mreshape\u001b[0m\u001b[1;33m(\u001b[0m\u001b[1;36m1\u001b[0m\u001b[1;33m,\u001b[0m \u001b[1;33m-\u001b[0m\u001b[1;36m1\u001b[0m\u001b[1;33m)\u001b[0m\u001b[1;33m\u001b[0m\u001b[0m\n",
        "\u001b[1;32m/home/kohvaeip/.local/lib/python2.7/site-packages/sklearn/linear_model/stochastic_gradient.pyc\u001b[0m in \u001b[0;36mfit_binary\u001b[1;34m(est, i, X, y, alpha, C, learning_rate, n_iter, pos_weight, neg_weight, sample_weight)\u001b[0m\n\u001b[0;32m    274\u001b[0m                      \u001b[0mpos_weight\u001b[0m\u001b[1;33m,\u001b[0m \u001b[0mneg_weight\u001b[0m\u001b[1;33m,\u001b[0m\u001b[1;33m\u001b[0m\u001b[0m\n\u001b[0;32m    275\u001b[0m                      \u001b[0mlearning_rate_type\u001b[0m\u001b[1;33m,\u001b[0m \u001b[0mest\u001b[0m\u001b[1;33m.\u001b[0m\u001b[0meta0\u001b[0m\u001b[1;33m,\u001b[0m\u001b[1;33m\u001b[0m\u001b[0m\n\u001b[1;32m--> 276\u001b[1;33m                      est.power_t, est.t_, intercept_decay)\n\u001b[0m\u001b[0;32m    277\u001b[0m \u001b[1;33m\u001b[0m\u001b[0m\n\u001b[0;32m    278\u001b[0m \u001b[1;33m\u001b[0m\u001b[0m\n",
        "\u001b[1;31mKeyboardInterrupt\u001b[0m: "
       ]
      }
     ],
     "prompt_number": 8
    },
    {
     "cell_type": "code",
     "collapsed": false,
     "input": [
      "performance_log_file = opts.get('performance_log_file')\n",
      "relative_size = opts.get('relative_size')\n",
      "header = 'RNADesign test on rfam family %s. \\n' %rfam_id\n",
      "header = header + 'Performance measure collection on 10 runs of %f of data.\\n' %relative_size\n",
      "header = header + 'Overall time %f seconds. \\n' %elapsed_time\n",
      "\n",
      "header = header + 'Sequence design constraints for this experiment: \\n'\n",
      "Cstr_threshold = opts.get('nt_importance_threshold')\n",
      "Cstr_adjaceny = opts.get('nmin_important_nt_adjaceny')\n",
      "DotBr_threshold = opts.get('bp_importance_threshold')\n",
      "DotBr_adjacency = opts.get('nmin_important_bp_adjaceny')\n",
      "unpaired_adjacency = opts.get('nmin_unpaired_nt_adjacency')\n",
      "\n",
      "header = header + 'Generic model sequence constraints: \\n'\n",
      "header = header + 'Nucleotide importance threshold:\\t\\t%f\\n' %Cstr_threshold\n",
      "header = header + 'Minimum number of adjacent important nucleotides:\\t\\t%d\\n' %Cstr_adjaceny\n",
      "\n",
      "header = header + 'Dot-bracket notation constraints: \\n'\n",
      "header = header + 'Nucleotide importance threshold:\\t\\t%f\\n' %DotBr_threshold\n",
      "header = header + 'Minimum number of adjacent base pairs:\\t\\t%d\\n' %DotBr_adjacency\n",
      "\n",
      "header = header + 'Unpaired regions constraint: \\n'\n",
      "header = header + 'Minimum number of adjacent unpaired nodes:\\t\\t%d\\n' %unpaired_adjacency\n",
      "\n",
      "measures_list = []\n",
      "\n",
      "measures_list.append( exp.output_measure_column(mroct, 'ROC' , header = 'True Samples' ))\n",
      "measures_list.append( exp.output_measure_column(mrocs, 'ROC' , header = 'Mixed Samples' ))\n",
      "measures_list.append( exp.output_measure_column(maprt, 'APR' , header = 'True Samples' ))\n",
      "measures_list.append( exp.output_measure_column(maprs, 'APR' , header = 'Mixed Samples' ))\n",
      "\n",
      "\n",
      "exp.flush_to_file(measures_list , performance_log_file, header)"
     ],
     "language": "python",
     "metadata": {},
     "outputs": []
    },
    {
     "cell_type": "code",
     "collapsed": false,
     "input": [],
     "language": "python",
     "metadata": {},
     "outputs": []
    }
   ],
   "metadata": {}
  }
 ]
}
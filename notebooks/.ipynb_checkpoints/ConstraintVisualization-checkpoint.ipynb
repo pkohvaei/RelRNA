{
 "metadata": {
  "name": "",
  "signature": "sha256:d01590bb7765f317f5c27358a19b9c4d2759c8c5f50d9e79c4ad4de92b0376ac"
 },
 "nbformat": 3,
 "nbformat_minor": 0,
 "worksheets": [
  {
   "cells": [
    {
     "cell_type": "markdown",
     "metadata": {},
     "source": [
      "#RNA family characterization\n",
      "\n",
      "Application scenario: we want to characterize the sequence patterns and structure of a set of RNA seqeunces"
     ]
    },
    {
     "cell_type": "markdown",
     "metadata": {},
     "source": [
      "Aquire data."
     ]
    },
    {
     "cell_type": "code",
     "collapsed": false,
     "input": [
      "rfam_id = 'RF00005'\n",
      "#rfam_id = 'RF01051'\n",
      "#rfam_id = 'RF00008'\n",
      "#rfam_id = 'RF00175'\n",
      "#rfam_id = 'RF00059'\n",
      "#rfam_id = 'RF00008'\n",
      "def rfam_url(family_id):\n",
      "    return 'http://rfam.xfam.org/family/%s/alignment?acc=%s&format=fastau&download=0'%(family_id,family_id)"
     ],
     "language": "python",
     "metadata": {},
     "outputs": [],
     "prompt_number": 1
    },
    {
     "cell_type": "code",
     "collapsed": false,
     "input": [
      "import ConstraintFinder as cf"
     ],
     "language": "python",
     "metadata": {},
     "outputs": []
    },
    {
     "cell_type": "markdown",
     "metadata": {},
     "source": [
      "Convert the fasta database into eden graphs."
     ]
    },
    {
     "cell_type": "code",
     "collapsed": false,
     "input": [
      "def create_sequence_pool(rfam_id):\n",
      "    from eden.converter.fasta import fasta_to_sequence\n",
      "    iterable = fasta_to_sequence(rfam_url(rfam_id))\n",
      "    sequence_pool = []\n",
      "    for fasta in iterable:\n",
      "        sequence_pool.append(fasta[1])\n",
      "    return sequence_pool\n",
      "#print create_sequence_pool(rfam_id)"
     ],
     "language": "python",
     "metadata": {},
     "outputs": [],
     "prompt_number": 2
    },
    {
     "cell_type": "code",
     "collapsed": false,
     "input": [
      "from eden.converter.fasta import fasta_to_sequence\n",
      "from eden.converter.rna.rnafold import rnafold_to_eden\n",
      "\n",
      "iterable_pos = fasta_to_sequence( rfam_url(rfam_id) )\n",
      "members = 0\n",
      "for item in iterable_pos:\n",
      "    members += 1\n",
      "print members"
     ],
     "language": "python",
     "metadata": {},
     "outputs": [
      {
       "output_type": "stream",
       "stream": "stdout",
       "text": [
        "954\n"
       ]
      }
     ],
     "prompt_number": 3
    },
    {
     "cell_type": "code",
     "collapsed": false,
     "input": [
      "iterable_pos = fasta_to_sequence( rfam_url(rfam_id) )\n",
      "\n",
      "from itertools import islice, tee\n",
      "iterable_pos, iterable_pos_ = tee(iterable_pos)\n",
      "\n",
      "from eden.modifier.seq import seq_to_seq,  shuffle_modifier\n",
      "iterable_neg = seq_to_seq( iterable_pos_ , modifier=shuffle_modifier, times=3, order=2 )\n",
      "\n",
      "#Positive sample graphs.\n",
      "graphs_pos = rnafold_to_eden( iterable_pos )\n",
      "#Negative sample graphs.\n",
      "graphs_neg = rnafold_to_eden( iterable_neg )\n"
     ],
     "language": "python",
     "metadata": {},
     "outputs": [],
     "prompt_number": 4
    },
    {
     "cell_type": "markdown",
     "metadata": {},
     "source": [
      "Split test and train graph sets into fixed test and train portions. (20% for training)"
     ]
    },
    {
     "cell_type": "code",
     "collapsed": false,
     "input": [
      "from itertools import islice, chain\n",
      "from eden.util import fit,estimate\n",
      "from eden.graph import Vectorizer\n",
      "import RNADesignTools as rdt\n",
      "\n",
      "antaRNA_param_file = '/home/kohvaeip/RLS/lib/antaRNA/antaRNA.ini'"
     ],
     "language": "python",
     "metadata": {},
     "outputs": [],
     "prompt_number": 5
    },
    {
     "cell_type": "code",
     "collapsed": false,
     "input": [
      "vectorizer = Vectorizer( complexity = 2 )"
     ],
     "language": "python",
     "metadata": {},
     "outputs": [],
     "prompt_number": 6
    },
    {
     "cell_type": "code",
     "collapsed": false,
     "input": [
      "%%time\n",
      "estimator = fit(graphs_pos , graphs_neg , vectorizer, n_jobs=1, cv=3)"
     ],
     "language": "python",
     "metadata": {},
     "outputs": [
      {
       "output_type": "stream",
       "stream": "stdout",
       "text": [
        "CPU times: user 9min 28s, sys: 38.5 s, total: 10min 7s\n",
        "Wall time: 11min 13s\n"
       ]
      }
     ],
     "prompt_number": 7
    },
    {
     "cell_type": "code",
     "collapsed": false,
     "input": [
      "%%time\n",
      "iterable_pos_ = fasta_to_sequence( rfam_url(rfam_id) )\n",
      "graphs = rnafold_to_eden( iterable_pos_ )\n",
      "agraphs = vectorizer.annotate(graphs, estimator)\n",
      "# Design the batch of new sequences.\n",
      "#dsi = rdt.DesignRNA(antaRNA_param_file , graphs , vectorizer, estimator, 0, 3, 0, 3)"
     ],
     "language": "python",
     "metadata": {},
     "outputs": [
      {
       "output_type": "stream",
       "stream": "stdout",
       "text": [
        "CPU times: user 0 ns, sys: 0 ns, total: 0 ns\n",
        "Wall time: 51 \u00b5s\n"
       ]
      }
     ],
     "prompt_number": 8
    },
    {
     "cell_type": "code",
     "collapsed": false,
     "input": [
      "import ConstraintFinder as cf\n",
      "reload(cf)\n",
      "\n",
      "#Generate graph list ******\n",
      "for g in agraphs:\n",
      "    print cf.antaRNA_dot_struct(g,-0.85, 3, 3)\n",
      "    print cf.antaRNA_constraint_string(g, -0.2 , 1 )\n",
      "#antaRNA_dot_struct(g,threshold, importance_adjacency = 1, unpaired_adjacency = 1)\n",
      "#antaRNA_constraint_string(g, threshold, adjacency = 1 , padding= 'N')\n",
      "#generate_antaRNA_constraints(graphs, Cseq_threshold, Cseq_adjacency, dotnot_threshold, dotnot_adjacency, unpaired_adjacency)\n",
      "#compute_gc_content\n",
      "\n",
      "# GNNGNUNUNGNUNANUNNUANANCNNNNGNNUNNNAANCNNNNNNNNNNGGUUCNAAUCCNNNNAUCNNCA\n",
      "# (((((((..(((A.......A))).(((((.......)))))....(((((.......))))))))))))A\n",
      "# -((((((----(---------)----((-(-------)-))------((-----------))-))))))--"
     ],
     "language": "python",
     "metadata": {},
     "outputs": [
      {
       "output_type": "stream",
       "stream": "stdout",
       "text": [
        "((AA(((A(A(AA(AAA(AA.....A((((((...))))))AAAA)AA)AA)A).........A)))AA))A\n",
        "GNNNCCANAGNUNANNNNUANNNNNNCNCCUNNNNANGGANNNNNNCCNNNNNUNGAANNNNNNNGGNNCCA\n",
        "(((((((........(AA((AAAA(((A(AAA((((...))))AAA)...A)))AAAA))AA))))))))A"
       ]
      },
      {
       "output_type": "stream",
       "stream": "stdout",
       "text": [
        "\n",
        "CAUUAGANNNNNNANNGNNAGNNNNNNNNNNNUAAANNNNUUAANAGNAAANUAGNNNUNNNUNCUAANGA\n",
        "((((A(AAAA(((.........)))AAA(((AA....AAA)))A.....A(AAAA...AAAA)AAAA)A))))A"
       ]
      },
      {
       "output_type": "stream",
       "stream": "stdout",
       "text": [
        "\n",
        "GCGCCCNNAGCUCNAUUNNNNNGAGNNNUNGNNNNNNNNNNAAANNNUNAGNNGNUCGNNUCCNNNNGNNCGCN\n",
        "((((((AAA(((A.......A)))AA((A(((...)))A))A.....AA(((.......)))AAA))))))A"
       ]
      },
      {
       "output_type": "stream",
       "stream": "stdout",
       "text": [
        "\n",
        "GCGGNAGNAGNUNNNNNGUAGAANNNCANCUNNNNAAGNUNNNNNNNNNNNGUUCGAAUCCCNNNUUCCGCU\n",
        "((AAA(AAA(AAAA.......AAAA)AA..............AAA(((...)))AAAAA(((.......)))AAA)AAA))A"
       ]
      },
      {
       "output_type": "stream",
       "stream": "stdout",
       "text": [
        "\n",
        "NUGNNCNNNCNNNNNNNGUNNNNNNNNNNNNNNANNNANNNNNNNNGNNNNNCCCNCNCAGGUUCGAAUCCNNCNNNUNACN\n",
        "((AAA((.......AAAAAAAAAAAAA((AA(.......)AA))AAAAAAAAAAAAA(((((.......)))))))AAA))A"
       ]
      },
      {
       "output_type": "stream",
       "stream": "stdout",
       "text": [
        "\n",
        "GGNNCGANNNNNNNNNNGUNAANNNNNNNNNANNNNAAANUNGUNNNNNANNNNNNNNCUNGUUCAAAUCNAGCNCNNNCCA\n",
        "(A(AA(AAAAAAA((((A(AA......AA(((.......)))AAA(AAAA....AAAA)AAA)A))))A....AAAAA)AAA)A)A"
       ]
      },
      {
       "output_type": "stream",
       "stream": "stdout",
       "text": [
        "\n",
        "GCCNNNNNNGNNNAAUUNNNNNNNNNNNAGGANNNAAAANCCNNNNNNANNNNNNNANCNNNCNGGUUNNANNNNNNNCCNNNNCA\n",
        "(AA((((A((((((((AA...AAAAAA(AA(.......)AA)AAAAAAAAAA)))A))....)))))))AA)A"
       ]
      },
      {
       "output_type": "stream",
       "stream": "stdout",
       "text": [
        "\n",
        "GNNNCCNNAGCUCAGNNNNNNNANCNNCNNNNNNNNNNNCANNNNNNNNNNNGNUNGANNNNNCNANNNUCCA\n",
        "(A(AA(AAAA((A.........A))AAAAAAA(AAA...AAA)AAAAAAAA(((.......)))AAA)AA)A)A"
       ]
      },
      {
       "output_type": "stream",
       "stream": "stdout",
       "text": [
        "\n",
        "GNNCCNNNANNUNNNNUGGUUAGAANNNCNNNCNNNNNNNNNNNNNNNNNNNNGUUCGNNNCCCNNNCNNANCG\n",
        "((((((A...(((A....A)))AAAA((((.......))))AAAAAAA(((.......)))AAA))))))A"
       ]
      },
      {
       "output_type": "stream",
       "stream": "stdout",
       "text": [
        "\n",
        "GCGNGUNNANNUNNNNNNNAAAANNNNAGCNNNNNNNGCNGANNNNNNGGGUUCGAUUCCCNNNANCCGCU\n",
        "(((AAAAAAAA(AAA(AA((A((AAA....AA))A))AA)AAAA)AAAA(A(((.......)))A)AAAA)))A"
       ]
      },
      {
       "output_type": "stream",
       "stream": "stdout",
       "text": [
        "\n",
        "GNNCCNNNANNUNNGCNNNUUANNNCNNNNNNCNNANNNGNNNNNNNNNNNUNGUUCGNNNCCANNNNNNCCCA\n",
        "((AA(AAAAA((A.......A))AA(((AA.......AA)))....AAA((.......))AAAAA)AA))A"
       ]
      },
      {
       "output_type": "stream",
       "stream": "stdout",
       "text": [
        "\n",
        "ANNNNNNNAGNUNNNNNNUANAANNNAGNNNNNNNANANCNCNNNNNNNNGUUCGAUUCCNNNNNCCCCNN\n",
        "((AA((AAAAA(A........A)AAAAA((A.......A))AA.....(AA((.......))AA)A))AA))A"
       ]
      },
      {
       "output_type": "stream",
       "stream": "stdout",
       "text": [
        "\n",
        "ANNNNCNNAGNUNNAUUGGUAGNNNNNCNNNNNNNNANANCNNNNNNUGNNNGUUCGNNNNUNNCNNCCCCNN\n",
        "(((A(AAAA((((........))))AA((((((...))))))A.....A(((A.......A)))AAA)A)))A"
       ]
      },
      {
       "output_type": "stream",
       "stream": "stdout",
       "text": [
        "\n",
        "GCNGANANNNCUNNNNUGGUAGAGNNNANCCUNNNNAANNGUNNNNNNCCCAGUUCGNNNNNNGNNANNAGCA\n",
        "(((AAAAAAA(A.........A)A(AA(((.......)))AA)....(AA((.......))AA)AAAA)))A"
       ]
      },
      {
       "output_type": "stream",
       "stream": "stdout",
       "text": [
        "\n",
        "NGGNNNNNNNCNNANNNGNNNNNNNNNNNGUNNNGNNCCCNNUNNUNNNNGGUUCGAAUCCUNNNNNCCCNN\n",
        "((A(((AAAA(((.......)))AAAAA(A.......A)AAA.....A((((.......))))AA)))A))A"
       ]
      },
      {
       "output_type": "stream",
       "stream": "stdout",
       "text": [
        "\n",
        "GCCCUNNNAACUNNNNNGUAGANNNANNNNNNGGNNNNNCANNNNNNANCNGUUCAAAUCCGANAAANNGCU\n",
        "((AA((AA(AAAA...AAAA)AAAA(A((AA.......AA))A)AAA(A(((.......)))A)A))AA))A"
       ]
      },
      {
       "output_type": "stream",
       "stream": "stdout",
       "text": [
        "\n",
        "GCNNCNNNNNNNNNNNNNANANNNNNNNGNNNNNNNAAANCNNNNNNANAGGUUCAAAUCCNANNNNACNCA\n",
        "(AA((AAAAA(A..........A)AAAA(((.......)))A.......AAA((.......))AAAAA))AA)A"
       ]
      },
      {
       "output_type": "stream",
       "stream": "stdout",
       "text": [
        "\n",
        "GCANCNNNNNCNNNNNGGUUAANGNNNCCANNNNNNNANUGNNAAANNNNNNNGUUCAAUNCNNNNNNGANNCA\n",
        "(((((A((AAAA...AA.....AAAAAA)(((((AA((AA(AAAA(A....A)AAAAA)AA))A)))))....)A)))))A"
       ]
      },
      {
       "output_type": "stream",
       "stream": "stdout",
       "text": [
        "\n",
        "GCCUNGANNNNNNNNNNNUANNNANNNNAGANUNNAAANNUNNNNCNANNNNNNNNNNANNUUNGNNNCNNNNNNAAGNCA\n",
        "(((AAAAAA((....((((((A((((AA.......AA)))......)A))))))...))AAAAAA)))A"
       ]
      },
      {
       "output_type": "stream",
       "stream": "stdout",
       "text": [
        "\n",
        "AGNANNNNNAGNNAANUAAGCNNNCGNNNNNNNNNCCCGANANNNNNGGNUUAAANNCUNNNNNNANUA\n",
        "(((((A...((((......))))AA((A((A...A))A))A...AAAA(((.....)))AAAAA)))))A"
       ]
      },
      {
       "output_type": "stream",
       "stream": "stdout",
       "text": [
        "\n",
        "AAGANANNANNAAAANNNANUANNNAANUNNNNNAAAGNUAAANNANAGANNNNNAAUCNANANANNUUA\n",
        "(((((AA(AA(...)AA)AAA((((AAA.......AAA))))AAAAAA(A.....A)AAAAAA)))))A"
       ]
      },
      {
       "output_type": "stream",
       "stream": "stdout",
       "text": [
        "\n",
        "GNUUCNNNANNNNAANNANANNGANGANNNNNNNNNNNAUNGNNNNNNGNNNNNNNNNNNNNAGAAANA\n",
        "(A(((((AAAAA(...)AAAAA(((((A...A)))))A....((A(((....)))A)))))))A)A"
       ]
      },
      {
       "output_type": "stream",
       "stream": "stdout",
       "text": [
        "\n",
        "NGNCUUANNNNGANNNNNNNNNCGAAUNNNNAAUUCGNNNNNNNAGAGNNANCUCNANUAAGANUN\n",
        "((((AA(AA(AAAA.....AAAAA)AA)...............A(((A........A)))AAA))))A"
       ]
      },
      {
       "output_type": "stream",
       "stream": "stdout",
       "text": [
        "\n",
        "ACUCNNNNAGNANANNNANNANAANNNANNNNNAANUANNNNAUUCNNNNNNAANNNAGANNNNANUA\n",
        "((((((AAAAAA........AAA((((((.......))))))....AAA((.......))AAAA))))))A"
       ]
      },
      {
       "output_type": "stream",
       "stream": "stdout",
       "text": [
        "\n",
        "UAGAUNNNNNNNNNNNNNNNNNNAUUUAGNNNNUANCUAAANNNNNNNAGGUNNAANNCCNNNNAAUCNAG\n",
        "(A((AAAAA(A((((AAAAA(((AA(((......)))A)))AAAAA))))....)AAAAA))A)A"
       ]
      },
      {
       "output_type": "stream",
       "stream": "stdout",
       "text": [
        "\n",
        "CACNANNNAGNUAANNNNNNUAANNUNNNNNNNNAAAGUUANNNNNCUUAAAANNNNNANAGNNA\n",
        "(((AA(AAA((((.......))))A(((AA.......AA)))....A((AA....AA))AA)AA)))A"
       ]
      },
      {
       "output_type": "stream",
       "stream": "stdout",
       "text": [
        "\n",
        "GNUANNNNAGCUUANNNNNNAAGCNAAGCANNNAAAANNCUUANANNGANAAUNNNANCCNANAAANA\n",
        "((((((AAA(((A....(AAAA((A((((AA....AAA))))......A))AA)AAA)))AAAA))))))A"
       ]
      },
      {
       "output_type": "stream",
       "stream": "stdout",
       "text": [
        "\n",
        "ANUNUNANNNGANNNNANNNANCCNNUGGNNNNANNNACCAANANNNNNGGNNNNAAUCNNAANAAAAGUA\n",
        "(((A(((AA((...))AA....AAAAAA(((A.......A)))AAAAAAAAA(A.......A)AAA)))A)))A"
       ]
      },
      {
       "output_type": "stream",
       "stream": "stdout",
       "text": [
        "\n",
        "GNNCCNANAGCUNNGCNNNUUAGNNNNNANCCNNNANNNNNGUNNNNNNNNAAGUUCNANNNUNNNNANNCCCA\n",
        "((((A(((((((.....)))))(AAAAA(((A.......A)))AAAAA)A((((.......))))A))A))))A"
       ]
      },
      {
       "output_type": "stream",
       "stream": "stdout",
       "text": [
        "\n",
        "GNNNNANUAGNNNNNNNNGNUAGANCNNANCCNNNANNNNNGUNNNNNCNCNNGUUCNANNCNAGNANNNCCCA\n",
        "((A((A(AA((((........))))AAAA((AAA((.....))AAA))AAAA(.......)AAAA)A))A))A"
       ]
      },
      {
       "output_type": "stream",
       "stream": "stdout",
       "text": [
        "\n",
        "GCCCNNANAGCUNNNNNNNUAGAGNNNNNNANNNNNAANNNNNNNNNCNNNNGUUCNANNCCCNNNUNGNNCN\n",
        "(A(((AAAA((((.......))))...........(AAA....AAA)A((((.......))))AAA)))A)A"
       ]
      },
      {
       "output_type": "stream",
       "stream": "stdout",
       "text": [
        "\n",
        "GNNGNNNNAGCUNNNNNNUAGAGNNNUNNNNNNNNNANNNNNNNNNCCCNNGUUCAAAUCNANNNNNCCCCN\n",
        "(A((((A(.......AA(AA(((((....((AA...........AA))....))))AA)AA)AA)A))))A)A"
       ]
      },
      {
       "output_type": "stream",
       "stream": "stdout",
       "text": [
        "\n",
        "GCCGAAANAGNUNNNNUNNNNGNNNNNNNNANNNANNNNNNANNNNNCNNNNGNUCGNNCCNNNNNUUCNNCA\n",
        "((((((AAA((AAA((((.........))))AAA))AAAA.....AAAAA(((.......)))AAA))))))A"
       ]
      },
      {
       "output_type": "stream",
       "stream": "stdout",
       "text": [
        "\n",
        "GNUUCCNNANNNNANCGGNNNNNNNNNUNGCNNNANNNNNNNNNNNNNCCCGGUUCGANNCCNNNCGGAAANA\n",
        "(((A(AAAAAA(...(((((((AAAA.....AAAAA)))))))AAA(((A(.....)A)))A)AAAAA)A)))A"
       ]
      },
      {
       "output_type": "stream",
       "stream": "stdout",
       "text": [
        "\n",
        "NNNNNNNNNNNNNNAUCNNNUANNNNNNUNNNNNNNUAANCGANNNNNUNGNNGNUNNNNNCNNNCNANNNANN\n",
        "((AAA((A........(AA(AAAAA((A(AAAAAA...AAAAA....A)A))....AAA)AA)A))AAA))A"
       ]
      },
      {
       "output_type": "stream",
       "stream": "stdout",
       "text": [
        "\n",
        "UCCUNGNNANNNNANNNNNNNNNNNCCCCNNNNNNNNNNNNNNNNNNCNNGGUUCGANUCNCNNNNNNNNNN\n",
        "((A((((AA((AA(AAA......AAA)AA))A....A(A....A)AAAAA((.......))AAA))))A))A"
       ]
      },
      {
       "output_type": "stream",
       "stream": "stdout",
       "text": [
        "\n",
        "AGNAGANNNGCNNANNNNNNNNNNNNUNNNCCNNNAACCNNNNNNNNNNNNNANCGAAANCNNNNUCNNCUA\n",
        "((AA((A((A...A(((........)))AA((((AAA(AA(((AAAAA....AAAAAA)))A)AAA))))A))AA))AA))A"
       ]
      },
      {
       "output_type": "stream",
       "stream": "stdout",
       "text": [
        "\n",
        "GNUAGNNNNNNNNNGCNNNNNANNNCGCNNGAUUANNGNNNNNNNNNNNNNNNNNNNNNNNGUUNGAAUCCNANCGCNNNCA\n",
        "((((((A.......A(A.....A)AA(((((.......))))).....AA(((((...)))))AAA))))))A"
       ]
      },
      {
       "output_type": "stream",
       "stream": "stdout",
       "text": [
        "\n",
        "GNUUCCNNANNNNANUGNNNNNNANNNUCNCNNANNNNNCGAANNNNNCCCGNNUNGNAANCNNNCGGAAANA\n",
        "((((AAAAA((((........))))....A(AAA(.......)AAA)AA((((.......))))AAAA))))A"
       ]
      },
      {
       "output_type": "stream",
       "stream": "stdout",
       "text": [
        "\n",
        "GCCNNNNNAGCUNNNNNNNUAGAGNNNNNNANUNNNAANNNNANNNNNNUGGGUUCGNNNCCNACNNNNNNCN\n",
        "((((((A.......A(A.....A)AA(((((.......))))).....AA(((((...)))))AAA))))))A"
       ]
      },
      {
       "output_type": "stream",
       "stream": "stdout",
       "text": [
        "\n",
        "GNUUCCNNANNNNANUGNUNNNNANNNUCNCNNNNNNNNCGAANNNNNCCCGNNUNGNAANCNNNCGGAAANA\n",
        "(A(((AAAA((((.....))))......(AAA((A(((A....A)))...))AAA).....AA)))A)A"
       ]
      },
      {
       "output_type": "stream",
       "stream": "stdout",
       "text": [
        "\n",
        "GNAAANANAGUUUAANNNAAANNNNNNAUNNNNAANCNNNNNNNAGNNNNNCANNNNNNNNNANUUANN\n",
        "((((((AAAA(A.....A((A.....A))A.....AAAA((((...))))AAAA...A)A...A))))))A"
       ]
      },
      {
       "output_type": "stream",
       "stream": "stdout",
       "text": [
        "\n",
        "ANUNUNAANNGANNNNNNNNNNNNNNNGNNNNNNNNNNCCAAAAANNUUGNNNNNANNCNNAANAAAAGUA\n",
        "((((((AAAAA.....AAAAA.....A(((A.....(((....AAAA(((...)))AAAA....))).....A)))A))))))A"
       ]
      },
      {
       "output_type": "stream",
       "stream": "stdout",
       "text": [
        "\n",
        "GNNNNNNNNNNNNNNNNNNNNNNNNNNNCANANNNAGAAANNNNNNNNGNNNNNCCCNCNNNNNNUCGAANNANNCNNNNNNCG\n",
        "AA((((((AA((AAAA(((AA((AAAA(A........A)AAAA))A)))AAAAA))AAA))))))................."
       ]
      },
      {
       "output_type": "stream",
       "stream": "stdout",
       "text": [
        "\n",
        "NNNNNCNNNCCNNNNNGGUNNUNNNNNANNNNNANNAAUNNUNNNNGCUNNNCCCNNNCACGNUNNAANNNNNNNNNUNNNG\n",
        "(((((((AA(.....A((.....A(((((A.......A)))))AAA))AA(((....)))A)AA)))))))A"
       ]
      },
      {
       "output_type": "stream",
       "stream": "stdout",
       "text": [
        "\n",
        "NGCUCAANNNNNNNNNNNNNNNANUCUCGNNNNNNNNNNGAGNNNNCCCNNNNNNAAANCCNNNUNGNGCCN\n",
        "AAA(((AAAA(...(AA(.........)AA)...)AAAAA)))AAAAAAA(((.......)))AAAAA....."
       ]
      },
      {
       "output_type": "stream",
       "stream": "stdout",
       "text": [
        "\n",
        "NNUUCCNNNNNNNANNNGUNNNNNNNNCNNCNNANNNNNCGGNNNNNCCCCGGUUCAANNCCNNNNNNNANNA\n",
        "((((((A.......A(A.....A)AAAA(A(.......)A)AA.....AA(((.......)))AAA))))))A"
       ]
      },
      {
       "output_type": "stream",
       "stream": "stdout",
       "text": [
        "\n",
        "GNUNUCNNANNNNANUGNUNNNNANNNNNNNNNNNNNNNCANNNNNNNCCCGGUUCGANNCCNNNNGAAAANA\n",
        "((((((A..............(AA(((((A.......A)))))AAA)AA(((.......)))AAA))))))A"
       ]
      },
      {
       "output_type": "stream",
       "stream": "stdout",
       "text": [
        "\n",
        "NGCUCNNUGNNNNNNNNNNNNGANUCUCGNNNNNNNNNNGAGNNNNCCCNGGUUCAAAUCCCNNNNGAGCCN\n",
        "((((((AAAAAAAAA(((AA(.........)AA)))AAAAAAA...A((((.......))))AA))))))A"
       ]
      },
      {
       "output_type": "stream",
       "stream": "stdout",
       "text": [
        "\n",
        "GCACCANNNNNNNANUGNUANNNNANNNNNCNNNNANNNNNNNNNNCCNGGUUCGAUUCCCNNNNGGNNCA\n",
        "(AAAAAAAA((A..........A))AA((A(.......)A))AAAAAA...AAAAAAAA(((.......)))AAAAAAAA)A"
       ]
      },
      {
       "output_type": "stream",
       "stream": "stdout",
       "text": [
        "\n",
        "GCNNNNNNNNCNNNNNNGUUNNNNNNNCNNANNNGNAAUNAGANUCCCNNNNNNNNNNNAGGUUCGAAUCCNANNNNNNNCN\n",
        "((AA((AA(((A....A)))A...A(((A((.......))A)))AA(A....A)AAAAA(((.......)))AAA))AA))A"
       ]
      },
      {
       "output_type": "stream",
       "stream": "stdout",
       "text": [
        "\n",
        "NNAGNNNNNGNNNNNNNGUUANNNNGANNNANNANNNANCNAUNNNNNNNNNCCNNNNNAGGUUCGAAUCCNNNCGANNANN\n",
        "(AAAAA(((A(((...))).......((A((((........))))A))...........A)))AAAAA)A"
       ]
      },
      {
       "output_type": "stream",
       "stream": "stdout",
       "text": [
        "\n",
        "CANNNNAAAGCNANNNNAGNNNNAANCUNUUAANNUANNNAUUAANNNNNNNANNNNNNNUNNANNNNNA\n",
        "AAA(((A.......(A(A.........A)A)AAAAA((....))AAAA((((.......))))AA)))AAAA"
       ]
      },
      {
       "output_type": "stream",
       "stream": "stdout",
       "text": [
        "\n",
        "NNNGUNNNANNNNANNNNNNNNNNNNNCCNNNNNNNANNNNNNUNNNCCNGGUUCGANNCCCNNNAANNNNN\n",
        "(((((AAAA(((AAAA.............AAAA))A)AA.....(((A........A)))AA)))))A"
       ]
      },
      {
       "output_type": "stream",
       "stream": "stdout",
       "text": [
        "\n",
        "NNGAANANAGNUNNNANNNAANNNUANNNNNNNAANNNNNNNNNNGGNAANAAANNNCCUNANUNANN\n",
        "((A((((..............(AA(((((A.......A)))))AAA)A((((.......))))A))))A))A"
       ]
      },
      {
       "output_type": "stream",
       "stream": "stdout",
       "text": [
        "\n",
        "NNCCGAANNNNNNANNNGNNNGANUCUCGNNNNNNNNNNGAGNNNNCCCNGGUUCAANNCCCGNNUCNNCCN\n",
        "(((((((AA((((........))))A(((((.......)))))A....(((((.......))))))))))))A"
       ]
      },
      {
       "output_type": "stream",
       "stream": "stdout",
       "text": [
        "\n",
        "GCCNGGNUAGCUNNNNNNNUAGAGCNCCAGANNNNNAANCNGGNNNNNNCNNGUUCGNNNCCCNNNNUNNGCU\n",
        "((A(((AAA(((A.......A)))A...(AAAAAA....AAAAAA)A((((.......))))AA)))A))A"
       ]
      },
      {
       "output_type": "stream",
       "stream": "stdout",
       "text": [
        "\n",
        "GCANNGNNNGUUNNNNNGUAGAANNNNNNCCNNNNNNNNNNNNNNCCCNGGUUCGAUUCCCNNNNAANNCA\n",
        "(((((AAAA...(AAAA(A(((A(A(A....(AA......AA)A)A)A)))A)AAA)AAAAAA)))))A"
       ]
      },
      {
       "output_type": "stream",
       "stream": "stdout",
       "text": [
        "\n",
        "GNUNUNNNANNUGNAANANAANNAUGNNNNNNNNNNNNNNNGNNNNNNGUUNUANNCNNNNNNNGAANA\n",
        "(AAAAAA....AA((A((((AAA((A(((AA.......AA))).......A))AAA))))))AAAAAAAA)A"
       ]
      },
      {
       "output_type": "stream",
       "stream": "stdout",
       "text": [
        "\n",
        "GCCNNGANNNNNNANNGGNUANNNNCCNACNNNNNNNNNNNGNNANNNNNNGUUCNAANCNNNGNNACNNCA\n",
        "A(A(AA(AAAAAAAAAA.............AAAAAAAAAAAAAAAA((A...A))AAAA((((.......))))A)AA)A)AA"
       ]
      },
      {
       "output_type": "stream",
       "stream": "stdout",
       "text": [
        "\n",
        "GNNANNANNNNNNNNNNNNNNANNNNNNNNNNNUNNNNNNNNNNNNUCCNNNNGANNNNNGGGUUCGAAUCCNANNNNNNANA\n",
        "A(A(AA(AA((AAAA....AAAAA))AA((((.......))))AAAA((....))AAAAA((((.......))))A)AA)A)AA"
       ]
      },
      {
       "output_type": "stream",
       "stream": "stdout",
       "text": [
        "\n",
        "GNNANNNNNNCNNNNNNNNNNNNNGCNNNAGANNNNNNNNCNNNNNCNNNNNNGANNNNNUGGGUUCAAAUCCNANNNNNNANA\n",
        "AAA(((AAA((((A(((....)))))))A........AAA......AAAAAA((.......))AAAA)))AAAA"
       ]
      },
      {
       "output_type": "stream",
       "stream": "stdout",
       "text": [
        "\n",
        "NNNGGNNNNGCGNNGCUUGNNAGNNCGNNNNNNUNNNNNNNNNNNNNNNNNNGGUUCAAAUCCCNNNNNCCCNN\n",
        "(((((((AA(((((((AA...(AAAAA((A(.......)A))AAAAA)AAAA)))A)))).....)))))))A"
       ]
      },
      {
       "output_type": "stream",
       "stream": "stdout",
       "text": [
        "\n",
        "GGAGGANNAGCUCAGNNNNNNNNNNNNCNNCNNNNNNNNNAGNNNNNNNNNNGNUCGAGCNNNNNANCCNCCA\n",
        "(AA(AAAAA((((........))))AAAAA(AAAAA((AA....AA))AAAAA)AAA(A....A)AAA)AA)A"
       ]
      },
      {
       "output_type": "stream",
       "stream": "stdout",
       "text": [
        "\n",
        "GCCGNNNNAGCUCNAUUGGUAGAGCNNNNNANNNNNAANNNNNNNNUUNNNNGNNNAAGNNNNNUNNNCNNCA\n",
        "((((((AAA(AA((A((A(A....AAA(((((.......)))))AAAAAAAAA....AAAAAAAA)A))A))A)AAA))))))A"
       ]
      },
      {
       "output_type": "stream",
       "stream": "stdout",
       "text": [
        "\n",
        "GCGNANNNNGNNGAAUUGNNNNNNNCNCNAGAANNNNNNNCNANNNNNNNNNNNNNNNNNNNNGUNNAANNCCCNNNANCCGCA\n",
        "AAA(((AAA(A(((((A(A...(AAAAAAA(((A...A)))AAAAAAA)AA)A)))A))...)AAAA)))AAAA"
       ]
      },
      {
       "output_type": "stream",
       "stream": "stdout",
       "text": [
        "\n",
        "NNNNNANNAGNUCAGNUUGNUAGANNNNNNNGNNNNNNNCCNNNNNNNNNNNNGNUCGAANNCNNNNUUCCCNN\n",
        "A(((AAA((((A.....A))))AAAAAAAA((.......))AAAAAAAAA(A((......))A)AAAAA)))AA"
       ]
      },
      {
       "output_type": "stream",
       "stream": "stdout",
       "text": [
        "\n",
        "NNCNNNNNAGCNNNNNNNGCNAGANNNNNNGGUUNNNNNCCNNNNNNNNNNNGGUUCGNNCCCCNNCNNCGCNA\n",
        "(((A((AAAAA(....AA(((A(((A.....A)))AA)))AA...)AAAAA(((.......)))AAA))A)))A"
       ]
      },
      {
       "output_type": "stream",
       "stream": "stdout",
       "text": [
        "\n",
        "GNANCUNNANNNNNNNNNGUUAGAGNNNNNNNCUNNNAANNNNNNNNNNNNAGGUUCGNNNCCNANNNGNNCCA\n",
        "((((((AAAAAA...AA.....AAAAAAAA(A(A.......A)A)AAAAA(AAAAAA((((A....A))))AAAAA)AAAAA))))))A"
       ]
      },
      {
       "output_type": "stream",
       "stream": "stdout",
       "text": [
        "\n",
        "GGAGGAANNNCCNANNNNNNNNNNNNNNNNCNNNNNNNANNANCGNNNNNNNNNNNNANNCNNNNNNNNNUNGNANCCCNNNUCCNCNG\n",
        "A(((A(AAAA(((.........)))AAA((A(.......)A))A.....AA(((.......)))AAA)A)))AA"
       ]
      },
      {
       "output_type": "stream",
       "stream": "stdout",
       "text": [
        "\n",
        "NNCNNNNNNNNGNNNNUNNNUAGCUNNNCNNNNUNNNANNCCGNNNNNNNNAGGUUCAAAUCCNNCCCCCNCNN\n",
        "((((((AAA((((........))))AAAA((AA(((...((AA......AA)))))AAA))AAAAA))))))A"
       ]
      },
      {
       "output_type": "stream",
       "stream": "stdout",
       "text": [
        "\n",
        "GNCUCNNNAGCUNNNNUGGUAGAGCNNNNNNNNNAAAAUCCNNNNNNNNNNNNNUCGANNCNNNNNCGAGCNA\n",
        "(((A((AA(AA((AAA((...AA(AAA((((.......))))A....)AA....))AAA))A)AAA))A)))A"
       ]
      },
      {
       "output_type": "stream",
       "stream": "stdout",
       "text": [
        "\n",
        "GCGNUNNNNNNGANNNGGNUANCNNNNNAGANNNNNNNNCNNNNNNNNNNNNNUUNGAUUCCCNNNAANCGCN\n",
        "(((A(AAAAAA(((((AA....(AAAAAAAAA.......AAAAAAAAA)AAAA)))A))AA.....AA)A)))A"
       ]
      },
      {
       "output_type": "stream",
       "stream": "stdout",
       "text": [
        "\n",
        "GNNCCNNNAGCUCAGNNNNUUAGANCNNACNCNNNANNNNCNNNNNNNNNNNNGNUCGNNNNNNNNNANNCCCA\n",
        "((A(AAAAA((((.......))))AAA(AAAAA.........AAAAA)AA((.......))AAAAAA)A))A"
       ]
      },
      {
       "output_type": "stream",
       "stream": "stdout",
       "text": [
        "\n",
        "UCNANNNNAGCUNNNNNGUAGAGCNNNNNNNNNNUAANNNANNNNNNNNAGGUUCGAAUCCNNNCNNNNGAN\n",
        "(((((((.......AAAAAA....AAAAAAAAAA....AAAA.....AAAAA....AAAAAAA((AA(.......)AA)))))))))A"
       ]
      },
      {
       "output_type": "stream",
       "stream": "stdout",
       "text": [
        "\n",
        "GGAGAANNNNNNNNNNNNNNNANNNNNNNCNCCNNNNANNNNNNNNNNNNNNNNNNNNNNNNNNNNNGUUCAAAUCCCNCCUUCUCNG\n",
        "AAA((AAAAA(A..........A)AAA((AA.......AA))AA...A((((.......))))AAA))AAAA"
       ]
      },
      {
       "output_type": "stream",
       "stream": "stdout",
       "text": [
        "\n",
        "GNNCCNNNNNNNNNNNNNUUNNNNNNNCNCCNNNNNNNNNCNNNNNNNCNNGUUCGAAUCCCNNNNNNNNNA\n",
        "(((AA(AAA((((......))))A((((A.......A))))....A((A......A))AA)AA)))A"
       ]
      },
      {
       "output_type": "stream",
       "stream": "stdout",
       "text": [
        "\n",
        "GNNNANNNAGCUUAANNNNAAGCNNNNCANNNAAAANNCCUNNANNANNNNNNNNACUCNANNAANA\n",
        "((AAAA(A(A(AA........AA)A)AAAAA.......AAAAA....(((((.......))))))AAAA))A"
       ]
      },
      {
       "output_type": "stream",
       "stream": "stdout",
       "text": [
        "\n",
        "UCCUNAUNNGUNNANNNNNNAANANNNNAGNNNNNNNNNNNNGNNNNNCNNGUUCGAUUCCCGAANNNNNNN\n",
        "(AA(AAAAA((((........))))A(AAAA.......AAAA).....(AA((.......))AA)AAA)AA)A"
       ]
      },
      {
       "output_type": "stream",
       "stream": "stdout",
       "text": [
        "\n",
        "GNNNNNANAGCUNNNNUGGUAGAGNNNNNNNNNNNNNNNNNANANNNNANNGGUUCGNNNCCCCUNACCNCCA\n",
        "AA(((AAAAA((A.........A))A(AA((A.......A))AA)...A((((.......))))AAA)))AAA"
       ]
      },
      {
       "output_type": "stream",
       "stream": "stdout",
       "text": [
        "\n",
        "NNNCUNNNNNNNNNNNNNNNNNNNANNNNNANNNNNNANNNNNNNANNNNAGGUUCGAAUCCNANNNNGCCNA\n",
        "AA(AAAAAAA(((.......)))AAA((A(A....AA)A))A.....AAA((.......))AAAAAAA)AAA"
       ]
      },
      {
       "output_type": "stream",
       "stream": "stdout",
       "text": [
        "\n",
        "NNCNNNNNNNCUCNANNNNNNAGNNNCUNNNNNNNNNNNAGNNNNNNNNNGGUUCGAAUCCNNNNACNNANN\n",
        "A((AA((A(A(......)A)A))AAAAAAAA.......AAAAAAAAAAA((((.......))))AAAAA))AA"
       ]
      },
      {
       "output_type": "stream",
       "stream": "stdout",
       "text": [
        "\n",
        "NCCCNUCNANNUNNNNNGNNAGANNNCACNNNNNNNANNCNNNNNNNNNUGGGUUCGNNNCCNACNNNNNNNN\n",
        "(((((AA.......((A.....A))((((((.......))))))...A((((.......))))AAA)))))A"
       ]
      },
      {
       "output_type": "stream",
       "stream": "stdout",
       "text": [
        "\n",
        "GNNCCNANANNNNAGUGNUNNNNANNUCNNANNNNNNNNCCGAAANNCCAGGUUCGAAUCCNNNNAGGANCA\n",
        "A(((A((AAA((A.........A))AA(A((A(....)AA))A).....AAA((.......))AAA))A)))AA"
       ]
      },
      {
       "output_type": "stream",
       "stream": "stdout",
       "text": [
        "\n",
        "NNCNNNNNAGANNNAUUGNNNNNCUNNUNANNNUNNNNNNCNNAANAUNNNNGGUUCGAAUCCNNNCCCCNCNN\n",
        "((((AAAA(AAAA(A((((...AA(A(A(((A.......A)))....A)A)AAAA))))A)AA)AAAAA))))A"
       ]
      },
      {
       "output_type": "stream",
       "stream": "stdout",
       "text": [
        "\n",
        "GNUNNNANNNNNNANNCGGNNNNNACGAAUCCNUANNNNNGAUNNNNNNNNNNNUUCGAUUCCCNNNNNNAANA\n",
        "(((((AAAA((AAAAAAA......AAAAAA))AA..............AA(((.......)))AAAA)))))A"
       ]
      },
      {
       "output_type": "stream",
       "stream": "stdout",
       "text": [
        "\n",
        "UCCUCNNNAGNUNNNNNNNUANNNNNNNNNNNNNNUAANNNNNNNNNNNNNNGUUCGNNNCNANNNAGAGGAN\n",
        "(AAA(((A((((((((AA...AAAAAA(AA(.......)AA)AAAAAAAAAA)))A))....))))))AAA)A"
       ]
      },
      {
       "output_type": "stream",
       "stream": "stdout",
       "text": [
        "\n",
        "GNNNAAUNAGCUCAGNNNNNNNANCNNCNNNNNNNNNNNCANNNNNNNNNNNGNUNGANNNNNCNAUUNNCCA\n",
        "(((((((AA((A.......A))......................((((A.......A)))))))))))A"
       ]
      },
      {
       "output_type": "stream",
       "stream": "stdout",
       "text": [
        "\n",
        "GCUCUUCNAGNANNNNNNNNANNANNNNNNNNNAANNNNNAAAANCNGNNNNNAANCCAGAGAAGAGCA\n",
        "(AA((AAAA((((........))))AA(AA(.......)AA)AA(AAAA((A......A))AA)AAA))AA)A"
       ]
      },
      {
       "output_type": "stream",
       "stream": "stdout",
       "text": [
        "\n",
        "GNNNNNNNAGCUNNNNNNNNNGAGNNNCNNNNNNNNNNNCANNNGNNNNGGNNNUCGNNCCNCCUNNNNUCCA\n",
        "(AA((((AA((((........))))AA(AA(((...)))AA)A.....(((((.......)))))))))AA)A"
       ]
      },
      {
       "output_type": "stream",
       "stream": "stdout",
       "text": [
        "\n",
        "GNNNNNUNAGCUNNNNUGGUAGAGNNNCNNCUNNNNAAGNNNNNNNNNNNCNGUUCGNNNCCGCNAACCNCCA\n",
        "(A((A(AAA(((......)))A(AA(((((A(.......)A)))))AA)AAAA(.......)AAAAA)A))A)A"
       ]
      },
      {
       "output_type": "stream",
       "stream": "stdout",
       "text": [
        "\n",
        "GNNCCCNNAGNUNNNNNNGGNNGANCNCCNNANNNNNAAUNANNCNNNNNNNNGUUCGAAUCCCUNNGNNCCCG\n",
        "((((AA(AA(A(((AAAA....A((((A(AA...AA)A))))A....AAAA)))A.....)A)AA))))A"
       ]
      },
      {
       "output_type": "stream",
       "stream": "stdout",
       "text": [
        "\n",
        "CAGANNGNAGNUUAANUNNNNNNNUUAGCUNUNNNNGNUAANNNNNNNNNNUAAAANNNNCNNNNUCNGA\n",
        "(((((AAA((((.....))))A(AAAAA(((A.......A)))AAAAA)AAAA(.......)AAAAAA)))))A"
       ]
      },
      {
       "output_type": "stream",
       "stream": "stdout",
       "text": [
        "\n",
        "GGNNCNNNAGNNNNNNNGGNUAGANCNNANCCNNNANNNNNGUNNNNNNNNNAGUUCGAANNNNCCNAGACCCA\n",
        "(((((((AAAAA.....AAAAAAAAAAA((.......))AAAAAAAAAAA......AAAA)))))))A"
       ]
      },
      {
       "output_type": "stream",
       "stream": "stdout",
       "text": [
        "\n",
        "AGAAAUUNANGNNAANNANNNNNNNNNNGCNNNNAANGCNCNNNNNNNNNNNNNANANNNAAUNUCNN\n",
        ".........A(((AA......AA(AA((((A(A...(AA.....AA)....A)AA))))A)AAAA)))A...."
       ]
      },
      {
       "output_type": "stream",
       "stream": "stdout",
       "text": [
        "\n",
        "NNNAUNNANNNNNNNNNAUUANNNNNCUUAGNNNNNAACNAANNNNUNNNNNGUNUAANNCCNANUGNNNNNN\n",
        "((((((AAAAA(((......A(A(((AA.......AA)))AA)A......)))...AAAA))))))A"
       ]
      },
      {
       "output_type": "stream",
       "stream": "stdout",
       "text": [
        "\n",
        "CAAGGAANAGNUNANNNANNANNNNNGCNNNNNNNNNNGGNNNNNNNNNNNAANNNNNNNUCCUUGA\n",
        "AAA(AAAAA(((........)))AAAAAA(AA.......AA)A......A((((.......))))A...)AAAA"
       ]
      },
      {
       "output_type": "stream",
       "stream": "stdout",
       "text": [
        "\n",
        "GNNCCNNNAGCNNNANGGUNAGNNNNNNNCCNNNNNNNNNNNNNNNNUNNCCAGUUCAAANNNGGNNNNNNNNA\n",
        "(((((AA.........(AA...AA)A((((.......))))A....AAA((.......))AAAAA)))))A"
       ]
      },
      {
       "output_type": "stream",
       "stream": "stdout",
       "text": [
        "\n",
        "GCGNANANNNNNNNNNGNNNNNANCNNAGANNNNNAANCNGANNANNNNAGUUCGAUNNUNNNNANCCGCU\n",
        "(((((((AAAAA...........AAAAAA(AA.......AA)AAAA((A....A))AAAA((((.......))))A)))))))A"
       ]
      },
      {
       "output_type": "stream",
       "stream": "stdout",
       "text": [
        "\n",
        "GCGAGAANNNNNNAAUUGGUANNNNNNNNGCANNNAAAANNNNNNNGAANNANNUCCNNNNGGGUUCGNNNCCNANNUCUCGCA\n",
        "((A((((AAA(((...)))A...A(AA((AA.......AA))AAAA)AA((((.......))))A))))A))A"
       ]
      },
      {
       "output_type": "stream",
       "stream": "stdout",
       "text": [
        "\n",
        "NNNNAANNANNCAANNNGNNNNNNNANAGCNNNNNNNNNNCNANNNNNAAAGGUUCGNNNCCUNNANUCCNNN\n",
        "((A(((AAAA(((.......)))AAAAAAAAAAAAAAA(....)AAAAAAAAAAAAAA......A)))A))A"
       ]
      },
      {
       "output_type": "stream",
       "stream": "stdout",
       "text": [
        "\n",
        "GCUNAAGNAGCUNNNNNGUAGAGNNNNNNNNNNNNNANCNNANNNNNNNNNNNCNGANNNNNNNNUNANNCA\n",
        "(AAAAA(AAA(((........)))AAA(((((A...A)))))A.....(AA((.......))AA))AAAAA)A"
       ]
      },
      {
       "output_type": "stream",
       "stream": "stdout",
       "text": [
        "\n",
        "NNNNANANAGCUCNANNNNUAGAGNNNUAGAUNNNNNNNCUAANNNNNGNNNGUUCGAUUCNNNNNANNNNNN\n",
        "(A(((....A(((....)))AAAA(AA((...))AA)AAAA(A(((A.......A)))A))))A)A"
       ]
      },
      {
       "output_type": "stream",
       "stream": "stdout",
       "text": [
        "\n",
        "AGNUAANNNGCUNNNNNAAGNNNANNNUUNNNAAANANANNANAGAANNNAANNNUCNANUAANUN\n",
        "((((((AAAA(((.......)))AAAA(AA.......AA)A......A((((.......))))AA))))))A"
       ]
      },
      {
       "output_type": "stream",
       "stream": "stdout",
       "text": [
        "\n",
        "GGNNCGNNAACUNNANGGUAGANNNNNCNNNNNNNANNCGNNNANNNNCNGGUUCGAAUCCCNNNNGACCCA\n",
        "((((((AAA((((........))))A(A(AA.......AA)A)A((((A......A))))....A))))))A"
       ]
      },
      {
       "output_type": "stream",
       "stream": "stdout",
       "text": [
        "\n",
        "CAAUUNAANGCUNNNNNNNNAAAGCNNNUNNNNNNNNNNGAAANNAUNNNNNNNNAAAUNNANNNAAAUNGA\n",
        "A(((A((AAA(((.........)))AAA(((A.......A)))A.....AAA((.......))AAA))A)))AA"
       ]
      },
      {
       "output_type": "stream",
       "stream": "stdout",
       "text": [
        "\n",
        "NGCNNNNNNNNGNNNNNNNNUAGCUNNNNNNNNUNNNANNCCANNNNNNNNAGGUUCAAAUCCNNNCCCCGCNA\n",
        "........(((((AAA(((A....AA((((AAA.........AAA))))AA....A)))A)))))"
       ]
      },
      {
       "output_type": "stream",
       "stream": "stdout",
       "text": [
        "\n",
        "NNNNNNNNAGUUUANNAAAANNNNNGNNNUNNNAAANNNANAANAAGAUNNNNNNNNUUAAAACN\n",
        "AAAA((AAAA(AAA...AAA)A((((AA.......AA))))...((AAA.......AAA))A))AAAAA"
       ]
      },
      {
       "output_type": "stream",
       "stream": "stdout",
       "text": [
        "\n",
        "NANANUNNNNUNNNNNANNCANAAAAGNNNNNNANNNUNUUANNAANAGNNNAANNNNANNAAANANAN\n",
        "((AA((AA(......)AA))AA(((A(.......)A)))A((A(((A(....)A)))))AA))AA"
       ]
      },
      {
       "output_type": "stream",
       "stream": "stdout",
       "text": [
        "\n",
        "ANNNUNNNANNUAANNANAANNNUUGANUNNNNNNNAAANAGNNUNGAANNNUNAANNNNNCUNA\n",
        "((((((...((((.....)))).....................A(((A(....)A)))A))))))A"
       ]
      },
      {
       "output_type": "stream",
       "stream": "stdout",
       "text": [
        "\n",
        "AAGNCUNNAAGNUANNNAAACUANNAANNNNNAAAGNNNNNAANAAAGANANNNNUUNAAGCCUUA\n",
        "A((A(((....((((AA(((...A(AA((((.......))))A.......A)A...)))A)))))))A))AA"
       ]
      },
      {
       "output_type": "stream",
       "stream": "stdout",
       "text": [
        "\n",
        "GCUNGAGNAGNNAAGNNNNUANNNNUNGAGANNNNNNNNCUNNNNNNNANNGNUNNNNNCCUNNCUNNAGNN\n",
        "((((((A.....(((A.....A((.....))A....A))).......(A((A.......A))A)A))))))A"
       ]
      },
      {
       "output_type": "stream",
       "stream": "stdout",
       "text": [
        "\n",
        "NGANNNNNANNNNAGNNNNNNNNNNNNNNNCNNNUAACNAANNNNNNNCAAGANNNANNNUNNCNNGCUCAN\n",
        "AAA((((AA((((.........))))AAA((((A...A))))AA.....A((((.......))))A))))AAAA"
       ]
      },
      {
       "output_type": "stream",
       "stream": "stdout",
       "text": [
        "\n",
        "NNNCGAGNANCGNNGCUUGGUANCGCNNNNGGNNNNNNNCCANNNNNNNNNAGGUUCGAAUCCUNNNUCNCCNN\n",
        "(AA(((AAA(A(((((AAAAA(AAAAA(AA(.......)AA)AAAAA)AAAA)))A))....A)AA)))AA)A"
       ]
      },
      {
       "output_type": "stream",
       "stream": "stdout",
       "text": [
        "\n",
        "GNNNCNANAGCUCAGNNNNNNGANCNNCNNNNNNNNNNNCANNNNNNCNNNNGNUNGANNNNNNNNAGCUCCA\n",
        "((((AAAAA((((.......))))AAAAAAAAA.........AAAAAAA(((.......)))AAAAA))))A"
       ]
      },
      {
       "output_type": "stream",
       "stream": "stdout",
       "text": [
        "\n",
        "UCCNCANNAGCUNNNNNGUAGAGCNNNNNNNNNNUAANNNANNNNNNNNAGGUUCGAAUCCNANCNNCNNNN\n",
        "(((((AAAA(AA......AA)AAAA(A.......A)AAA....((((AA...AA))))AA)))))A"
       ]
      },
      {
       "output_type": "stream",
       "stream": "stdout",
       "text": [
        "\n",
        "NCUAANANNNNNNAUUANNNNNANNGANNNNAGNNCNANNNNNAAAGNANNNNANUNNNAUUAGAN\n",
        "(((((AAAAA(A........A)AAAA(AAA(...)AAA)AA......AA((A....A))AAAAAA)))))A"
       ]
      },
      {
       "output_type": "stream",
       "stream": "stdout",
       "text": [
        "\n",
        "GGNAGNNNNNCNNAAANNUANNNNNCNCNNNNAUANNNNNNNUNNNNNNGGNNNAAACCCCCNNNNUUCCN\n",
        "(((AA((AA(((A.......A)))A((AAA.......AAA))....AAA((.......))AAA))AA)))A"
       ]
      },
      {
       "output_type": "stream",
       "stream": "stdout",
       "text": [
        "\n",
        "NANNNNNNAGNANANNNNNNNNANNAANNGNNNNNANNNNUUANNNANAGGUUCAAUNCCNANNUNNUNAG\n",
        "((((((AA(AAAA((((((A(...)A))))))AAA).............A(AA.......AA)AAA))))))A"
       ]
      },
      {
       "output_type": "stream",
       "stream": "stdout",
       "text": [
        "\n",
        "UAGAANGNAGCNNGCNNNANANNNNNUNUAGCNNNUANNNAAANNNNNNNNNNANNGNNNNCCNNNANUCNAG\n",
        ".....(A((((((((........))))))))A)...........(((((.......)))))........"
       ]
      },
      {
       "output_type": "stream",
       "stream": "stdout",
       "text": [
        "\n",
        "GNNANNANANUNUAANNNNANNNUUAGAUUNNNANNNNAANANNAGGNNNNNAANNCNCCNNNNUNNNN\n",
        "(((((AAA((A....A))A........AA((A........A))AAA(((A...A)))AAA)))))A"
       ]
      },
      {
       "output_type": "stream",
       "stream": "stdout",
       "text": [
        "\n",
        "GNCCUNNNAGNNNAANCNAANNNNNNNNNNUNNNAAANNNNAGANNAAAANNNNNNUCNAAGGANA\n",
        "((((AA...A(AA........AA)AAA(((((AAA(A((AA........AA))A)A)))))A...AA))))A"
       ]
      },
      {
       "output_type": "stream",
       "stream": "stdout",
       "text": [
        "\n",
        "UAGGANNNNNNNNNAUNNNNNNCANNNAGAAUNNUGNAUNNNNNNNNNNGNNUUCGAUUCUNNNANNCCNAG\n",
        "((((((AA(A(A(A(AAA...AA(((((A.......A))))A)AAAAAAA)AA)A)A)AAA))))))A"
       ]
      },
      {
       "output_type": "stream",
       "stream": "stdout",
       "text": [
        "\n",
        "CAGAGAANAGUNNAAANUANNANNNNAGCNNNNNNNNCUAANGNNNNNNNNANNNNNNNNNUCUCNGA\n",
        "((((((AAAA((AA.....AA))AA((((......AAAA((((...))))AAAA....))))AA))))))A"
       ]
      },
      {
       "output_type": "stream",
       "stream": "stdout",
       "text": [
        "\n",
        "ANUNUNAANNGANANNNNNNANCNNUUGGNNNNNNNNNCCAAAAANNUUGNNNNNANNCCAANNAAAAGUA\n",
        "AAAAAAA(A((((......))))........A)AAAAAAAA((...AA((......))AA...))AAAA"
       ]
      },
      {
       "output_type": "stream",
       "stream": "stdout",
       "text": [
        "\n",
        "NNNNNNNNAGCUUANNNNNAAGCNNNNAANNNANANUNNNNAGANNNNAANNNAANUNGNNNNCUNNNN\n",
        "(((AAA(A(A(..........((A(((AA(............)AA)A))A)))A)AAA)AAA)))A"
       ]
      },
      {
       "output_type": "stream",
       "stream": "stdout",
       "text": [
        "\n",
        "AGCUNCNNNNNNNNNNNNNNNNNGAANNNCNAANUCGANNNNNNNGNNUNAAANCNNNCNNNNCUN\n",
        "((A(((AAA((A......A))A((A((.......))A))....((AAAA...AAAA))A)))A))A"
       ]
      },
      {
       "output_type": "stream",
       "stream": "stdout",
       "text": [
        "\n",
        "GNNAAAANNNCNNNNNNNAGNNNNNNANNNNAAANCNAANNNNNNNNNUUNNNNNNNNNNUNACCA\n",
        "AAA(AAAAA(((..........)))AA(A(((((AA((AAAAAAA(A....A)AAAAAAAA))A)))))A)AAAAA)AAAA"
       ]
      },
      {
       "output_type": "stream",
       "stream": "stdout",
       "text": [
        "\n",
        "NCCCNNNNNGCNNNAUGGUANNNGCNNUNNANUNNAAANNNNNNAGNNANNNNNNNNNNGGUUNGNNNCNNNNNACNNNNN\n",
        "(((((A(AAA(A......A)AAA((((A(...)A))))A.....((A...........A)))A)))))A"
       ]
      },
      {
       "output_type": "stream",
       "stream": "stdout",
       "text": [
        "\n",
        "AGAAANANNNCNNANAANNGNNNNANUNNNAUANNNNAANNNNNAGNNGCUNAAANNNCCUNANNUCUA\n",
        "A((AAA((A((((.........))))AAA))AAAA))AAAAA((A...A((.........))AAAA))AAA"
       ]
      },
      {
       "output_type": "stream",
       "stream": "stdout",
       "text": [
        "\n",
        "NNUNNNNUAGCUUNNNNNNNNAAAGCNNNANNNNNNAAANNNUNANNNNNNNUNNNNNNNCCCNNNAAANA\n",
        "(((AAA((AA(((((......(((A....A))).....)))))AA))A...........AA)))A"
       ]
      },
      {
       "output_type": "stream",
       "stream": "stdout",
       "text": [
        "\n",
        "NGGNANANANNUUAANNNAANCGAANNANNUCGNNNNNUNAAANNANNANNANNNNNNNNACCAN\n",
        "((((A(AAAAAAA(((AAAA(AAAAAAAA(((.............)))AAAAAAA)AAAA)))AAAAA.....A)A))))A"
       ]
      },
      {
       "output_type": "stream",
       "stream": "stdout",
       "text": [
        "\n",
        "ANUNANNNNNNNNAANNNNUAGNNNCNNNNNANNNAAAANNNNNNUCCNNCNNNNNNNCNNUUCNNNCNNNNNNANAAGUA\n",
        "((AA(((A((....))AAAAA((((.......))))AA....A(((A.......A)))A)))AA))A"
       ]
      },
      {
       "output_type": "stream",
       "stream": "stdout",
       "text": [
        "\n",
        "GCNNCUNNNNNNGUNCNNNNNNGNNNUNNNNNCCCANNNNNNNAAAGUUCGAUNNUUNAAANNNNCU\n",
        "((((((AAA(((A.......A)))AAA(((.......)))AA.....AA(((.......)))AAA))))))A"
       ]
      },
      {
       "output_type": "stream",
       "stream": "stdout",
       "text": [
        "\n",
        "GCGGNAGNAGNUNNNNNGUAGAANNNNANCNNNNNNNGNUNNNNNNNNNNNGUUCGAAUCCCNNNUUCCGCU\n",
        "(((((AAAAA((A.........A))A...A((AAA...AAA))A....AAA((.......))AAAAA)))))A"
       ]
      },
      {
       "output_type": "stream",
       "stream": "stdout",
       "text": [
        "\n",
        "GCCCCNANNNNNNNNNNGUUNNNNANNNNNNUNNNNNNNNNANNNNNNNNNGANUCGNNNNCCCCNNNNGGUA\n",
        "((A(((AAAA(A...........A)AAA(A((((...))))A)AA((AA....AA))AAAAA(A.......A)AAAA)))A))A"
       ]
      },
      {
       "output_type": "stream",
       "stream": "stdout",
       "text": [
        "\n",
        "GCCCGNNNNNUNNNNNNNNUANNNANNNNNGAUUNAAAAUCCCNNNCCNNNCGNNNCNNNCNAGUUCNANNNNNNNNNNNNGCA\n",
        "((AAA((AA((A(AAAAA(AAA(A....A)A)AAAA....A)AAA))AA..........(((((.......)))))))AAA))A"
       ]
      },
      {
       "output_type": "stream",
       "stream": "stdout",
       "text": [
        "\n",
        "GGNNCGANNCCCGNNNNGUNNNUNNNNNNNNNNNNNNAANUCNNUNNNNANNNNNNNNNGCUNGUUCAAAUCNAGCNCNNNCCA\n",
        "((((AA(AA((AA........AA))AA(((AAA...AAA)))(A((AA(.......)AA))A)A)AA))))A"
       ]
      },
      {
       "output_type": "stream",
       "stream": "stdout",
       "text": [
        "\n",
        "UAGAANUNNNNNNNAUUNNNNNNANNNAGNNNNNNNNANUNUNAGGNNNNNNUUCGANUCCNANANNUNNAG\n",
        "(((((A((((.....AAAA...A(AA((..........))AA)AAAAAAA......)))A)A)))))A"
       ]
      },
      {
       "output_type": "stream",
       "stream": "stdout",
       "text": [
        "\n",
        "GAGNUNNUAGNAAANNNNNNNNNAANUNNNNNNAANNNAANNNANNNNNNNAANNNCNGNANACCUCA\n",
        "AA((((...A(((.....)))A((((A(.......)A))))AAAAAA(AA.....AA)AAAA))))AAA"
       ]
      },
      {
       "output_type": "stream",
       "stream": "stdout",
       "text": [
        "\n",
        "NNGGAUNNAGCUUAANNAAANNNGUUGANUNNNNNNNAAUNNANNNAANNNNNANNNUNNCAAUCCUNA\n",
        "((A(((AAA((A......A))A(((((.......)))))....(((((.......)))))A)))A))A"
       ]
      },
      {
       "output_type": "stream",
       "stream": "stdout",
       "text": [
        "\n",
        "GNNAAAANNNCNNNNNNNNGNNUUAGANNNNAAANCUAANNNNAGAGGUNNNNNNCCUCNNNUNACCA\n",
        "(((A((AAA(((A.....A)))(((AAA.......AAA)))...AAAA(.......)AAAAA))A)))A"
       ]
      },
      {
       "output_type": "stream",
       "stream": "stdout",
       "text": [
        "\n",
        "GNUNUNNNAGUUNNNNNNNAANNANGGNNNNNNNNNNNANNNNNNANNGUUANANNCNANNNAAGAANA\n",
        "(AA(((AA(A(A(AAAA......AAAAA)A)AA)..........A(((....)))AAAA(((.......)))AAA)))AA)A"
       ]
      },
      {
       "output_type": "stream",
       "stream": "stdout",
       "text": [
        "\n",
        "NNNANCNNAGNNANNNNNNNNANNNNNNUNNNNNNNNAANNAAANNUCNNNNNANNNNNAGGUUCGANNCCNNNCGANNNNG\n",
        "((((AA(((AAA(((((AAAAA.........AAAA)))))...AA)))AA(AA(AA...AA)AAA)AA))))A"
       ]
      },
      {
       "output_type": "stream",
       "stream": "stdout",
       "text": [
        "\n",
        "UAGANNGANNCNNGNUAGNNANNNNNNNNAGNNNNUAACNANNNNUUCNNGNNNNNNNNNNCNNNCNNNCNAG\n",
        "(((AAAA...AA(((((A(A........A)A)))))AA.....(A(A........A)A)AAAA)))A"
       ]
      },
      {
       "output_type": "stream",
       "stream": "stdout",
       "text": [
        "\n",
        "AGCCCNNNNNNGAAUUNNNNNNNNNNNNNNNAAAUUNNNNNNNNNNGNNNNAAUNNNNCNNNNNCUN\n",
        "A(((((...A((AA....AA))AA(((A(.......)A)))AAA((((A(......)A)))))))))AA"
       ]
      },
      {
       "output_type": "stream",
       "stream": "stdout",
       "text": [
        "\n",
        "ANUNUNNNAGNNNNANNNNNNANNGCNNANNNNNAAUNAGCNNNNNUCNNNNNNNNCCGAAAAAGAANA\n",
        "((((A(AAA((...))AA....AAAAAAAA(A(....)AA)AAAAAAAAAA(((.......)))AAA)A))))A"
       ]
      },
      {
       "output_type": "stream",
       "stream": "stdout",
       "text": [
        "\n",
        "GCGCCCNNAGCUNNGCNNNNNNGANNNNNNCCCNNNNNNNNNANNNNNNNNAGGUUCGAAUCCNNNNNNNCGCA\n",
        "((AA(AAAAAA((........))AAA((A((.......))A)).....AA(((.......)))AAAA)AA))A"
       ]
      },
      {
       "output_type": "stream",
       "stream": "stdout",
       "text": [
        "\n",
        "GUNNNNNNAGCUNNNNUGGUAGANNNCCNNANNNNNANNCCGGUNNNNNNGGGUUCGNNNCCCNNNNGCNANN\n",
        "(((((AAAA(AA(AAA(((.....AAA(((AA.......AA)))AAAAA((A........A))A)))AAA)A)AAAA)))))A"
       ]
      },
      {
       "output_type": "stream",
       "stream": "stdout",
       "text": [
        "\n",
        "GCGANNNNNGNNGAAUUGGUANNNNCNCNAGCNNNNNNNNNUAGNNCNNCCNNNNNNNNNNNGUUNNNNNCCCNNNNNUCGCA\n",
        "A(A((((AA((((.........))))AA(((((A...A)))))A.....A((((.......))))A))))A)AA"
       ]
      },
      {
       "output_type": "stream",
       "stream": "stdout",
       "text": [
        "\n",
        "NNNUGANNANCGNNNNNNNNUANCNNNNCNGGNNNNNNNCCAGNNNNNNAAAGGUUCGAAUCCUNNANCANCNN\n",
        "(A(((((((((A....A))))...AA(((((.......)))))AAA(A....A)AAAAA(((.......)))AA)))))A)A"
       ]
      },
      {
       "output_type": "stream",
       "stream": "stdout",
       "text": [
        "\n",
        "GCNGNGANGGNNNNNNNGUUANNNNNNUNNANUNNNAANCNAANNNNNNNNNCCNNNNNAGGUUCGANNCCNNNNCGCNNCN\n",
        "((A(((A.......AA((........))AA((AAA....AAA))AAA((((.......))))AA)))A))A"
       ]
      },
      {
       "output_type": "stream",
       "stream": "stdout",
       "text": [
        "\n",
        "GCANNGNNNGUUNNNNNNUANNNNNNNNNNCNCCNNNNNNNNANNNCCNGGUUCAAUUCCCNNNNAANNCA\n",
        "(((A(AAAA((((.........))))AAA(AAAAAA((((A....A))))AAAAAAA)AAA.....AA)A)))A"
       ]
      },
      {
       "output_type": "stream",
       "stream": "stdout",
       "text": [
        "\n",
        "NNNNNNNNNGCGCNANNNNUUANCGCNNUCNNNNNNUAANNNNNNNGUUGNNNGUUNGNNCNNNNNNANNNANN\n",
        "(((AAAAAA((((........))))AAAAA(AAAAAA...AAAAAA)AAAAA(.......)AAAAAAAA)))A"
       ]
      },
      {
       "output_type": "stream",
       "stream": "stdout",
       "text": [
        "\n",
        "GCCNNNNNAGCUCNAUUGGUAGAGCNNNNNNNNNUNAANNNNNNNGNNNNNNGUUCNANNCCCNNNUNANNCN\n",
        "((A(((AA........A(AAAAA...((A........A))AAAAAA)A((((.......))))AA)))A))A"
       ]
      },
      {
       "output_type": "stream",
       "stream": "stdout",
       "text": [
        "\n",
        "GCNNUGNNNNNNNANNNGNNNNNNNAGCNNNNNNNNNNGCNNNNNNNCCNGGUUCGAUUCCCNNNNAACNCA\n",
        "((AA(AAA((((A........A))))A(A((.......))A)A....A((((.......))))AAA)AA))A"
       ]
      },
      {
       "output_type": "stream",
       "stream": "stdout",
       "text": [
        "\n",
        "NCCCNGNNNNNNNNNNNGUUANNAUNNNNCNNNNNNNNCNCCNNNNNCCNGGUUCGAUUCCCGNNNNNNNNN\n",
        "(((((AAAAA(AA........AA)AAA(A((.......))A)A....A((((.......))))AAA)))))A"
       ]
      },
      {
       "output_type": "stream",
       "stream": "stdout",
       "text": [
        "\n",
        "GNNUCNNNNGNNNNNNGGUUANNANNNNNNANNNNNANNCNAGNNNNCCGNGUUCAAANNUCNNNNGAANCN\n",
        "(AAAA(AAA((((.......))))AAAAAA...AAAAAA........A((((.......))))AA)AAAA)A"
       ]
      },
      {
       "output_type": "stream",
       "stream": "stdout",
       "text": [
        "\n",
        "GNNNANNNAGCUNNNNNGUAGAGNNCANNNNNNNNANNNNNNNNNNNCCNGGUUCGANNCCCNNNANNNCCA\n",
        "(((((((AA((((........))))AAAAA(.......)AAAA.....AAA((.......))AAA)))))))A"
       ]
      },
      {
       "output_type": "stream",
       "stream": "stdout",
       "text": [
        "\n",
        "GGAGGAUNAGCUNNNNNNNNNGAGCNNCNNCNNNNNNNNNNNNNNNNNNNNGGUUCNNNNCCNNNNNCCNCCA\n",
        "(A(((((AA((((........))))AAAAA(((...)))AAAA.....AAA((.......))AAA)))))A)A"
       ]
      },
      {
       "output_type": "stream",
       "stream": "stdout",
       "text": [
        "\n",
        "GCCGAAANAGCUCNANNNNUAGAGCNNNNGAUUNNNAAUNNNNNNNNNNNNNGUUCAAUNCNNNNNNUCNNCA\n",
        "((AA((AAAAA((AAA((......))AAA))AA.........AAAAA(((....)))AAAAA...A))AA))A"
       ]
      },
      {
       "output_type": "stream",
       "stream": "stdout",
       "text": [
        "\n",
        "GNCCCNNNAGNUNNNGUNNUANNNNANUNGNNNNNNNANNNNNNNNNCGANNGUUCGNNNCNNNNNCNNNANA\n",
        "((A(((AAA((A...((....))A))AAA(((.......)))AAAAAA......AAAAAAA(((.......)))AAA)))A))A"
       ]
      },
      {
       "output_type": "stream",
       "stream": "stdout",
       "text": [
        "\n",
        "GCCCNNNNNNUNNNANNNNUANNNANNNNGGANNNAAAANCCNNNNNNNNAANNNCNNNNNNNGUUCNANNCCGNNCCCNNGCA\n",
        "(AA(((AAA((((........))))AA(AAA.......AAA)A.....(((((......)))))A)))AA)A"
       ]
      },
      {
       "output_type": "stream",
       "stream": "stdout",
       "text": [
        "\n",
        "GNNNCUNNAGCUNNNNNNNNNGAGNNNCNNNNNNNNNNNNANNNNNNNNNCNGUUCGNNCCGCNAAGCUCCA\n",
        "A(((AAA((((A.....A))))(AAAAAA(((.......)))AAAAAA)AAA((.......))AAAAAA)))AA"
       ]
      },
      {
       "output_type": "stream",
       "stream": "stdout",
       "text": [
        "\n",
        "NNCNNNNNAGCNNNNNNNGCNAGANNNNNCGGUUNNNNNCCNCNNNNNNNNNNGUUCNANNCCCNNNNNCGCNA\n",
        "((((((AA(((((.........)))))AA(AAAA.......AAAA)AAAA((((.......))))AA))))))A"
       ]
      },
      {
       "output_type": "stream",
       "stream": "stdout",
       "text": [
        "\n",
        "GNANCCNNAGCUNNNNUGGUUAGAGCNNNCNNNNNNNAANNNNNNNNNNNNUGGUUCGNNNCCAANCNNNNCCA\n",
        "((((((AAAAAA...........AAAAAA(AAA((....A(A.....A)A....))AA)AAA(A(((....)))A)AAA))))))A"
       ]
      },
      {
       "output_type": "stream",
       "stream": "stdout",
       "text": [
        "\n",
        "GGAGGAANNNCCNNNNNNNNNANNNNANNNNNNUNNANNNNNNNNNNNNNNNAAAAGNCNNNNNNNNNNAAANCCCNNNUCCNCNG\n",
        "A(((A(AAA((((.........))))AA((A(.......)A))A.....(A(((.......)))A)A)A)))AA"
       ]
      },
      {
       "output_type": "stream",
       "stream": "stdout",
       "text": [
        "\n",
        "NNCNNGAUNGAGNNNNNNNNUAGCUNNNCNNNNUNNNANNCCGNNNNNNGANNGUUCAAAUCNANNNCCCNCNN\n",
        "(A(AA(A.....AA(AAAA....AAAA)AAA(AAA...AAA)A.....AA(((.......)))AAA)AA)A)A"
       ]
      },
      {
       "output_type": "stream",
       "stream": "stdout",
       "text": [
        "\n",
        "GNNCCGNNNNNNNANNNNNNANNNNNNCNNNCNNNNNNNNNNNNNNNNNNNNGUUCAAAUCCCNNNCNNANCG\n",
        "((((AAAA(((AA(A((((AA(A((AAAAAAAA((......))AAAAAA)))...))))A)AA)))AAA))))A"
       ]
      },
      {
       "output_type": "stream",
       "stream": "stdout",
       "text": [
        "\n",
        "GNCUNNNNAGCUNANNCGNUANNNNNNNNNNNNNANNNNNNNNNNNNNNGCNNNUUCGANNNNNCUNNNNGCNA\n",
        "((((((AAA((...))AA....AAAAAAA(((.......)))AAAAAAAA(A(((....)))A)AAA))))))A"
       ]
      },
      {
       "output_type": "stream",
       "stream": "stdout",
       "text": [
        "\n",
        "NNCCGAANAGCUNNGCNNNNNNGANNNANAGCNNNNNANGCNANNNNNNNNNNNNUCGAANCCCNNNUCNNANN\n",
        "(((AAAAAA((((.........))))AAAAAAAAA.....AAAAAAAAAA((((.......))))AAAAA)))A"
       ]
      },
      {
       "output_type": "stream",
       "stream": "stdout",
       "text": [
        "\n",
        "GCCNNNNNAGCUNNNNUGGUUAGAGCNCNNNNNNNNUAANNNNNNNNNNGCUNGUUCGNNNCNAGNNNNNNNCN\n",
        "AAA(A(AAAAAA.........AAA(A(((((...)))))A)....AAA((.......))AAAA)A)AAAA"
       ]
      },
      {
       "output_type": "stream",
       "stream": "stdout",
       "text": [
        "\n",
        "GNNNNNNNNNNANNNGGUNNNNANNNNCCUNNNNAAGGNUUANNNNNNANUUCGANNCNNNUNANCNNNN\n",
        "........(AA((AAAA.....AAAA))AA)....A(((A((A.....(AA(A......A)AA)A))AA)))A"
       ]
      },
      {
       "output_type": "stream",
       "stream": "stdout",
       "text": [
        "\n",
        "NNNNNNNNNNNGANNNNNUUANNNNNUCNNNUNNNNGCNCCGNNNNUNNNNNNUUCAANNCCCCNCNNNCNCN\n",
        "((A(((AAA(AA.........AA)AAA((A.......A))AA.....AAA((.......))AAAA)))A))A"
       ]
      },
      {
       "output_type": "stream",
       "stream": "stdout",
       "text": [
        "\n",
        "ANNCCCNNAGCNNNNNNNNNNNNCNNNNNNNNNNNNNNCNNNNNNNNNNAGGUUCAAAUCCNNNNNNNCCNN\n",
        "((((((AAA(AA...........AA)AAAA((A((AAA(AAAA(AAAA....AAAAAA)AAA)AA))A))AAAAA))))))A"
       ]
      },
      {
       "output_type": "stream",
       "stream": "stdout",
       "text": [
        "\n",
        "GCGNGUNNNNCNNNAUUNNNNNNNNNNNNNNANUUNNNANNNNNCNNNNNNNNNNNNNNNNNUUNAAGNCNNNNNANCCGCA\n",
        "AAAA(((AA((((...(AAAA(AAAAAAA((.......))AAAAAAA)AAAA)...))))...AA)))AAAAA"
       ]
      },
      {
       "output_type": "stream",
       "stream": "stdout",
       "text": [
        "\n",
        "GNNNCCANAGCUCNNNNNNNNGANNNNNAGANNNNNAANCNNNNNNNCNNNNNUUCGAGCNNNNNNNNNNNNA\n",
        "(((((((..........AAA......AAA(AAAAAA(((AAAAA...AAAA)))...AAAAA)((AA(.......)AA)))))))))A"
       ]
      },
      {
       "output_type": "stream",
       "stream": "stdout",
       "text": [
        "\n",
        "GNNGNGANNNNNNNNNNNCNNNNNNNNNCNCANNNNUAANNNNNNANNNNNNUANNNNNNNNNNANNGUUCAAAUCCCUCNCGCNCNG\n",
        "AAA((AAAAA((..........))AAAAAAA.......AAAAA.....A((((.......))))AAA))AAAA"
       ]
      },
      {
       "output_type": "stream",
       "stream": "stdout",
       "text": [
        "\n",
        "GNNCCNNUNNANNNNNNNUUANNUNNNANNNNNNNNNNNNANNNNNNNACNNGUUCGAAUCCCNNNNNNNNNA\n",
        "(AAA(AAAA((AA........AA))AA(((AAA(...((((A.......A))))A)AAA)))AAAA)AAA)A"
       ]
      },
      {
       "output_type": "stream",
       "stream": "stdout",
       "text": [
        "\n",
        "GNNNNNNNNNNNNNANNNNUANNANNNAGNNNNCNNAAACNNNNNNNNNNNNNUNGAANCCNNNNNCCCUCG\n",
        "((((((AAAA((A.........A))A...A((AAA...AAA))A....AAA((.......))AAAA))))))A"
       ]
      },
      {
       "output_type": "stream",
       "stream": "stdout",
       "text": [
        "\n",
        "GCCCCCANNNNNNNNNNGUUNNNNANNNNNNUNNNNNNNNNANNNNNNNNNGANUCGNNNNCCCCNNGNGGUA\n",
        "(((A(AAAAAAA...........AAAAA(AA((A...A))AA)A....AA(((.......)))AAAA)A)))A"
       ]
      },
      {
       "output_type": "stream",
       "stream": "stdout",
       "text": [
        "\n",
        "GCGNANNNAGCNNANNNNNUNNNNNNNNUGNAUNNNNAANNNANNNNNNNNNGUUCAAUUCCCNNNNNUCGCN\n",
        "((A(AAAAA((((........))))AAAA((AAAAAA...AAAAAA))AAAA(.......)AAAAAAA)A))A"
       ]
      },
      {
       "output_type": "stream",
       "stream": "stdout",
       "text": [
        "\n",
        "GCCCNNNNAGCUNNNNNNNUAGAGCNNNNNANNNUNAANNNNNNNNNCNNNNGUUCNANNCCCNNNNNNNNCN\n",
        "(((A(AA........(((((A...(AAA(((((A...A)))))AAAAA)...A)))))........AA)A)))A"
       ]
      },
      {
       "output_type": "stream",
       "stream": "stdout",
       "text": [
        "\n",
        "GCGNANNNANNNNANNGNANNNNNNNNNNNGAUNNNNAAUCCANNNNNCNNNNNUUNAANNNNNNNNNNUCGCN\n",
        "AA(((((.......A(((....)))AA((((A.......A)))).....AA(((.......)))AA)))))AAA"
       ]
      },
      {
       "output_type": "stream",
       "stream": "stdout",
       "text": [
        "\n",
        "NNNCUCNNANNUNNNUUCNNUAGAANNNNNNNNNNNNANACCCNANNNNNNAGGUUCAAAUCCNANNGAGNNNN\n",
        "A(((A((AAAA(((A((((....AAAA(A((A(....)AA))A)....AAAAAAA))))A)))AAA))A)))AA"
       ]
      },
      {
       "output_type": "stream",
       "stream": "stdout",
       "text": [
        "\n",
        "NNCNNNNNANNNGAAUUGGNNNNNNNNNNANNNUNNNNNNCNNAANNNNNNNNNUUCGAAUCCNNNCCCCNCNN\n",
        "(AA((((AA((((........))))A(((((.......))))).....A((((.......))))A))))AA)A"
       ]
      },
      {
       "output_type": "stream",
       "stream": "stdout",
       "text": [
        "\n",
        "NNNAGGANAGCUNNNNUGGUAGAGNNNAGGANNNAAAANCCNNNNNNNNCCAGUUCAAANNNGGNUCCNNNNA\n",
        "(((AA((..............(AA(((((A.......A)))))AAA)A((((.......))))A))AA)))A"
       ]
      },
      {
       "output_type": "stream",
       "stream": "stdout",
       "text": [
        "\n",
        "NNGNANUNGNNNNANNNGNNNGANUCUCGNNNNNNNNNNGAGNNNNCCCGNGUUCAAUNNUCNNNANNCCCN\n",
        "(((AAA(AA((((........))))AAA((A.......A))AA.....((AAA.......AAA)))AAA)))A"
       ]
      },
      {
       "output_type": "stream",
       "stream": "stdout",
       "text": [
        "\n",
        "GCNNNNANNGCUNNNNNNNNNGAGNNNNAGANNNANNNNCUNNNNNNNGCNNNNUCGANNNACNCNNNNCNCA\n",
        "(((AA(A........A((((AA(((A.....A)))...))))AAAAAA((A....A))AAAAA(A(((....)))A)AAA)AA)))A"
       ]
      },
      {
       "output_type": "stream",
       "stream": "stdout",
       "text": [
        "\n",
        "GGANNNNNNNNNNNNNNNUNNNAAGNNNNNNNCUNNANAANCNNNNNANUNNNNNNNANANNNNNNNNUCGAANCCCNNNCNANCNG\n",
        "(((A(((AA((A...........A))A(((AA.......AA)))AA(AAAA....AAAA)AA((AA(.......)AA)))))A)))A"
       ]
      },
      {
       "output_type": "stream",
       "stream": "stdout",
       "text": [
        "\n",
        "GGNNAGNNNNCNNNNNNGUNNNNNNNNNAGNNNUNNNNNNNCNNNNNANGNNNNNNNNNANNGNNNGUUCGAAUCCCUCNCNNNCNG\n",
        "(AAAA(AAA(((A........A)))A((((A.......A)))).....AAAA(.......)AAAAA)AAAA)A"
       ]
      },
      {
       "output_type": "stream",
       "stream": "stdout",
       "text": [
        "\n",
        "GNNNANNNAGCUNNNNNGGUAGAGNNNUCGNNNNNNNNNNGANNNNNNNANNGUUCGAUUCCCNNNANNNCCA\n",
        "((A(((AAAA(AAA(((AA.............AA)))AA)AA........A(((.......)))AAA)))A))A"
       ]
      },
      {
       "output_type": "stream",
       "stream": "stdout",
       "text": [
        "\n",
        "GNNUUCNNNGUNNAGUUGGUNNNNNNNNNNNNNNAANNNANNNANNNNNNNCGGUUCGANNCCNNNNGANNNCA\n",
        "AA(AA(AAA((((.......))))AA((A....A))AA.........AAAAA.......AAAAAA)AA)AAA"
       ]
      },
      {
       "output_type": "stream",
       "stream": "stdout",
       "text": [
        "\n",
        "GNANCNNNNGCGCNANGGUANCGCNNCNNNNNNNAGANNNNNNNNNNNNNNNNUCGAUNNACNNNNNNUUNA\n",
        "(AA((AAA(((A....A)))A...A(((............)))A.....AA(((.......)))AAAA))AA)A"
       ]
      },
      {
       "output_type": "stream",
       "stream": "stdout",
       "text": [
        "\n",
        "GCANCNANGGNNNNNNNGUUAANNNNCCNAANNNNNNAUUGGCNNNNUNNNAGGUUCAAUNCCNANNNGANNCA\n",
        "((AAAAAAA(AA(...(((AA(((A(AAAA...........AAAA(((...)))AAAAAAAA)A)))))))AA)AAAAA))A"
       ]
      },
      {
       "output_type": "stream",
       "stream": "stdout",
       "text": [
        "\n",
        "NUGNNNNNNNNNNNNNGGUNNNCNNNNNNNNNNANNNANNNNNNNNGNNNNNCCCNCNNNNNNUCGAANCCNNCNNNUNACN\n",
        "(AAA((AAA((((.......))))A((((A.......A)))).....(((A.....A)))AA))AAA)A"
       ]
      },
      {
       "output_type": "stream",
       "stream": "stdout",
       "text": [
        "\n",
        "CNNAGNNNAGCUUANNNNNAAAGCNNCNNNNNNNNNNCNAGNANANNUNANNNNNNANGAANANNNNNA\n",
        "((AA((AA...((((((AAAA...AAAA((((((...))))))AAAAAAAAA))))A))......AA))AA))A"
       ]
      },
      {
       "output_type": "stream",
       "stream": "stdout",
       "text": [
        "\n",
        "GNNNCGNUNGNUCANNNNNNNNNNNNNNCNNCUNNNNAAGCCGNNNNCCCNNNNNUCGAANNNNNNNCGNNCCA\n",
        "AAAAAAAAAAA...AAAAA(AAAAAAAA(((A...A)))AAAAAAAA)AAAA((.......))AAAAAAAAAAA"
       ]
      },
      {
       "output_type": "stream",
       "stream": "stdout",
       "text": [
        "\n",
        "NNNNNNNNGNNNNNNNNNNNUNNNNNNNANCCNUNNNGUNNNNNNNNNNNNNGGUUCAAAUCCCNNNANUNCNN\n",
        "((((((A..............((AA(AA(((.......)))AA)AA))(((((.......)))))A))))))A"
       ]
      },
      {
       "output_type": "stream",
       "stream": "stdout",
       "text": [
        "\n",
        "GGNNNGNUAGNUNNNNNNNUAGANNNNNNNANNNNNAANCCNNNGNNCGANGGUUCGAAUCCUUNNCGACCCA\n",
        "(AAA((AAA((((........))))A((((A.......A)))).....AA(AA.......AA)AAA))AAA)A"
       ]
      },
      {
       "output_type": "stream",
       "stream": "stdout",
       "text": [
        "\n",
        "GNNNNCNNAGCUNNNAUGGUAGAGNNNUCGNNUAGNNNNNGANNNNNNNCNNNANNGNNNNCCNNCNCCNCCA\n",
        "((A(AA(AA(......A(....A(A(((AA((A(AA.....AA)A))AAA))))A....)A)AA)AA)A))A"
       ]
      },
      {
       "output_type": "stream",
       "stream": "stdout",
       "text": [
        "\n",
        "NCCCNNANNNNNNANNNGUUNNNANACNNNGNNNNNNNNNNNNNNNNNNNNNUUCGAUUCCNNNNACGNNNN\n",
        "(((((((AAAAA....AAA...(AAAA((A.......A))AAAAAA)AA(((.......)))AA)))))))A"
       ]
      },
      {
       "output_type": "stream",
       "stream": "stdout",
       "text": [
        "\n",
        "NNNGCNANANNNNNNNNNNNNNNNNNNNNNNNNNNNNNCNNNNNNNNNNNGGUUCGAANCNAGNNAGCCCNN\n",
        "((((((...AAA(AA((AAA....AAA))AAAA)AAA........(AAA((......))AAA)A(((((.......)))))A))))))A"
       ]
      },
      {
       "output_type": "stream",
       "stream": "stdout",
       "text": [
        "\n",
        "GGAGAGNNNNCNNNNNNNNNNNNNNNNNANNAUNNGNAANNNNNNNNNNNNNNAANNNCNNNNNAANNGUUCGAAUCCCUNNCUCUCNG\n",
        "((((AAA((A(.....)A))((A((((((A.......A))))))A))(A(((.......)))A)AAA))))A"
       ]
      },
      {
       "output_type": "stream",
       "stream": "stdout",
       "text": [
        "\n",
        "UCCNCANNANNUNNNNNNNAGANNAANCNNNNNNUANNCGAUUGNNNNNAGGUUCGAAUCCNNNCNNCNNNN\n",
        "((((((...AAA(AA((AAA....AAA))AAAA)AAA........A(((AA.....AA)))AA(((((.......)))))A))))))A"
       ]
      },
      {
       "output_type": "stream",
       "stream": "stdout",
       "text": [
        "\n",
        "GGAGAGNNNNCNNNNNNNNNNNNNNNNNANNAUNNGNAANNNNNNNNNCNNNNNNNNCNCCNNAANNGUUCGAAUCCCUNNCUCUCNG\n",
        "(((((((AA((((........))))AA((A.....A))A...AAAA((A......A))AAAA...)))))))A"
       ]
      },
      {
       "output_type": "stream",
       "stream": "stdout",
       "text": [
        "\n",
        "GGAGGANNAGCUNNNNNNNNNGAGCNNUNNNNNNNNAAGNNNNNNNNCNNNNNNNCGANCCNNNNANCCNCCA\n",
        "(A(AA(AAAAAA(........)AAAAA(AAA.......AAA)A.....AA(A........A)AAA)AA)A)A"
       ]
      },
      {
       "output_type": "stream",
       "stream": "stdout",
       "text": [
        "\n",
        "GNNCCCNNANNNNANNNGUUAANNNNNCNNNNNNNNNNNNANNNNNNNNNNNNUUCGANNNCNNNNNNANCG\n",
        "(((AA(AA((A......A))A.....AA((((.......))))AA(AA...AA)...AAAA(.......)AAAAA)AA)))A"
       ]
      },
      {
       "output_type": "stream",
       "stream": "stdout",
       "text": [
        "\n",
        "GGANNNNNAGNNNANNNGCNAANNNNNNCGNANNNNAAANCCGNNCCCNNNNNGUUNNNNAGUUCGAANNNNCCCCCCNCCA\n",
        "(((AAAA.........((A...AA((....))AA...A))......A((((.......))))AAAAA)))A"
       ]
      },
      {
       "output_type": "stream",
       "stream": "stdout",
       "text": [
        "\n",
        "GNCNNNNNNNNNNANNGNNNNNNNAGNNNNNNNNNANNCCNNNNNNCCCGGUUCGAANCCNGNNNNNGCCU\n",
        ".........((((........))))A((((A.......A))))....A((A......A))A......."
       ]
      },
      {
       "output_type": "stream",
       "stream": "stdout",
       "text": [
        "\n",
        "NNUANNNNAGCUUANANNNNNAAGCNNNNCANNNAAAANNCCUNNANNANNNNNNNNNCUCNNNAANN\n",
        "((((A....((((........))))...................(((A........A)))...A))))A"
       ]
      },
      {
       "output_type": "stream",
       "stream": "stdout",
       "text": [
        "\n",
        "GNCNNNNNAGCUUAANNNNNNAAGCNNNNNNNNNAAAANNNNNNGANNNNNNNNNNNANCNNNNAGANA\n",
        "((((A((AA((((.........))))AA(((A.......A)))A.....A((A(.......)A))A))A))))A"
       ]
      },
      {
       "output_type": "stream",
       "stream": "stdout",
       "text": [
        "\n",
        "GNNNNANNAGCUNNNNUGGUUAGAGNNNANCCNNNANNNNNGUNNNNNNCCNNGUUCGAANCNAGNANNNCCCA\n",
        "(AA(AA(AA((((........))))A(AA((((...))))AA).....(((((.......))))))AA)AA)A"
       ]
      },
      {
       "output_type": "stream",
       "stream": "stdout",
       "text": [
        "\n",
        "GNNNNNANAGCUNNNNUGGUAGAGNNNNNNCUNNNNAAGNNANANNNNNGCNGUUCGNNNCCNCUNACCNCCA\n",
        "((((((A...AA(((....)))AAAAAA(((A.......A)))AAAAAAAA((.......))AAAA))))))A"
       ]
      },
      {
       "output_type": "stream",
       "stream": "stdout",
       "text": [
        "\n",
        "GCCCCCANNNNNNANNNNNCNANNNNNNCNCCNNNNNNNNNANNNNNNNNNGANUCGANNNCCCCNNGNGGUA\n",
        "((AA(AAAAAA(((AAAA....(AAAAAAAAA.......AAAAAAAAA)AAAAAA)A))AAAAAAAAA)AA))A"
       ]
      },
      {
       "output_type": "stream",
       "stream": "stdout",
       "text": [
        "\n",
        "ANNCCNNNAGCUCNNNUNNUUAGANNNNACNCNNNANNNNCNNANNNNNNNNNNNUNGNNNNNNCNNANNCCUA\n",
        "(AA(AAAAA((((........))))AA(AA(((...)))AA)AA.....A((.......))AAAAAA)AA)A"
       ]
      },
      {
       "output_type": "stream",
       "stream": "stdout",
       "text": [
        "\n",
        "GNNNNNNNAGCUNNNNUGGUAGAGNNNCNNCUNNNNAAGNANNNNNNNNNNGUUCGAANCNNNNNNNNUCCA\n",
        "((((((AAAA(((.......)))AAAA(AA.......AA)A......A((((.......))))AA))))))A"
       ]
      },
      {
       "output_type": "stream",
       "stream": "stdout",
       "text": [
        "\n",
        "GGGUUGNNAACUNNANGGUAGANNNNNCNNNNNNNANNCGANUANNNNCNGGUUCGNNNCCCNNNNAACCCA\n",
        "A((((AAA(((((AAAA((AAAAAAAA(AAA((.......))AAA)AAAAA.....AA))AAAA)))))A.........AA))))AA"
       ]
      },
      {
       "output_type": "stream",
       "stream": "stdout",
       "text": [
        "\n",
        "NCCCNNANNAACCNNNNCNNNNNNNNNNNNAGANNNCAAANCNNNANNNNGUUAGNNNCNNNNNGGUUCNNNNNNNNNNNNNGNNNN\n",
        "((((A(((((((.....)))))(AAAAA(((A.......A)))AAAAA)A((A(.......)A))A))A))))A"
       ]
      },
      {
       "output_type": "stream",
       "stream": "stdout",
       "text": [
        "\n",
        "GNNNNANUAGNNNNNNNGGNUAGANCNNANCCNNNANNNNNGUNNNNNCNCNNGUUCAAAUCNAGNANNNCCCA\n",
        "(A(((A(AAA(AAAAAAA(AAA(AA...AA)AA...)AAAAAAAA)AAA((((.......))))A)A)))A)A"
       ]
      },
      {
       "output_type": "stream",
       "stream": "stdout",
       "text": [
        "\n",
        "ANCNANNNAACUNNNNNGNNANNNNNNNNNUNNNNNNNNNNNNNNNNNANNGGUUCAAAUCCAANAGNANNNA\n",
        "(((((A(AA((((.........))))AA(((A.......A)))A.....A((A(.......)A))A)A)))))A"
       ]
      },
      {
       "output_type": "stream",
       "stream": "stdout",
       "text": [
        "\n",
        "GGGNNANNAGCUNNNNUGGUUAGAGCNNANCCNNNANNNNNGUNNNNNNNCNNGUUCAAAUCNAGNANAACCCA\n",
        "(AA(AA(A(((...A((A(AAA(A(((AAAAAA((A...A))AAAAAAA)))A)A)A))AAA))))AA)AA)A"
       ]
      },
      {
       "output_type": "stream",
       "stream": "stdout",
       "text": [
        "\n",
        "GNNNNNANAGCUNANNNNGNANNNNGCNNNNNNNNNNNNNNNNANNNNANCNNUUCNAANNNNCUNACCNCCA\n",
        "(((AA((AAAA.....AAA.......AA(((((A...A)))))AAAAAAA(....)AAAAAA((AA(.......)AA))))AA)))A"
       ]
      },
      {
       "output_type": "stream",
       "stream": "stdout",
       "text": [
        "\n",
        "GNNNNGANNNNNNNNNGNNNNNNNNNNCUCGAUNNNNAANCGNNNNNANNGNNNNCNNNNNNGNNNGUUCGAAUCCCUCNNANUCNG\n",
        "(AAA(A(AA((((........))))A(AA((((...))))AA).....(((((.......))))))A)AAA)A"
       ]
      },
      {
       "output_type": "stream",
       "stream": "stdout",
       "text": [
        "\n",
        "GNNNNNANAGCUNNNNUGGUAGAGNNNNNNCUNNNNAAGNNANANNNNNGCNGUUCGNNNCCNCUNANNNCCA\n",
        "(((((AAAA(((AAA((A(....A((AAAAAAAA....AAAAAAAAAAA))A....)A))AAA)))AA)))))A"
       ]
      },
      {
       "output_type": "stream",
       "stream": "stdout",
       "text": [
        "\n",
        "GNGCNANNAGCNNNNNNNGUUANNGCNNNNCCCNNANNNNNNNNNNNNNGCNNANUNNNANNNNGCNNAGCCCA\n",
        "AA(AAAA((((AAAA((........))AAAA))))AAAA)AAAAAAAAA(AA((.......))AA)AAAAAAAA"
       ]
      },
      {
       "output_type": "stream",
       "stream": "stdout",
       "text": [
        "\n",
        "NNNNNNNNAGCNNNNUNNNNNNNNNNANNNNGCNANNNNCNNNNNNNNNNNNGGUUCGAAUCCCNCNNNNCCNN\n",
        "(((((((AAA((AA(A(((A((AAAA((((((((...))))))))AAA))A)))A)AA))A.....)))))))A"
       ]
      },
      {
       "output_type": "stream",
       "stream": "stdout",
       "text": [
        "\n",
        "GCUNNCUNAGCNNNANUNGNNANNNNUUNGGUUNNNNAAACCAAANNNNANNGGNNNNNNNNNNNNAGCAAGCU\n",
        "(A(((A(AAA(((........)))AAAAAAAAAA........AAAAAAA((((.......))))A)A)))A)A"
       ]
      },
      {
       "output_type": "stream",
       "stream": "stdout",
       "text": [
        "\n",
        "ANCNANNNAACUNNNNNGUUAGANNNNNNNNNNNNNNNNNNNNNNNNNNNNGGUUCAAAUCCAANAGNANNNA\n",
        "(((((AA((((AAAA((........))AAAA))))AA)AAA....AAAA(AA((((...))))AA)...))))A"
       ]
      },
      {
       "output_type": "stream",
       "stream": "stdout",
       "text": [
        "\n",
        "NAGCUNNNAGCNNNNUNNNNNNNNNNANNNNGCNANNANCNNNNNNNNNNNNGGNUNGNAACCCNCNNNNCUCG\n",
        "((((((A.......(((A........A)))((AA........AA))AAAA(((.......)))AAA))))))A"
       ]
      },
      {
       "output_type": "stream",
       "stream": "stdout",
       "text": [
        "\n",
        "GCGNANNNNNNNNNANCNNUANNNNNNGANCCUNNNNNNNUNNNGGUNNNGGGUUCGNNNCCCNNNANCCGCU\n",
        "((((((AAAA(A(((....)))AA)AAA(((A.......A))).....((((A.......A))))A))))))A"
       ]
      },
      {
       "output_type": "stream",
       "stream": "stdout",
       "text": [
        "\n",
        "GCCCCCNNNNNNNANNNNNCNANNANNNCNCCNNNNNNNNNANNNANNGCNNANUCGANNNCCGNNNGNGGUA\n",
        "AAAAAAAAA(((A........A)))AA(((((A...A)))))A.....AAA((.......))AAAAAAAAAAA"
       ]
      },
      {
       "output_type": "stream",
       "stream": "stdout",
       "text": [
        "\n",
        "NCNNCCNNAGNUNNNNNNNUAGAANNNANNNUNNNNAAANCNNANNNNNNNNGUUCAAUNCCNNNNNNNNNNN\n",
        "((((((A......AAAA(((((......)))))AAAAAAA((AAAAA.........AAAA))AAA(.......)AAAAA))))))A"
       ]
      },
      {
       "output_type": "stream",
       "stream": "stdout",
       "text": [
        "\n",
        "GGAGAAGNNNNNNNNNNGNCGNNNNNGNNCGANNNNNAANCGNNNNNNNNNANNNANNANCGNNNGUUCAAAUCCCNNNUUCUCCN\n",
        "(A((AAAAA((((.......))))A(((((((...))))))).....AAA((.......))AAAAAA))A)A"
       ]
      },
      {
       "output_type": "stream",
       "stream": "stdout",
       "text": [
        "\n",
        "GCAGANNNAGCUNNNNNGUAGAGNNCAANCUNNNNAAGNUUGANNNNNNNGGUUCGNNNCCCANNNNCNNCU\n",
        "((((AAAAAAAAAA........AAAAAA((((((...))))))A.............(((((.......)))))AAA))))A"
       ]
      },
      {
       "output_type": "stream",
       "stream": "stdout",
       "text": [
        "\n",
        "GNGNNNNNNNCNNNNNNGUUANNNNNNNCNNAUNNNAAAUCCGNNANNUNNNNNNNNGCUNGUUCGAANCNAGCNNNNNUCA\n",
        "((((AAAAA(((A........A)))AA(((AAA(...((((AA......AA))))A)AAA)))AAAAA))))A"
       ]
      },
      {
       "output_type": "stream",
       "stream": "stdout",
       "text": [
        "\n",
        "GCGCUNNNAGNUNNAUUGGUAGAACNNAGNNNNCNNAAANCNNANNNANNANNNUNGAANCCNANNNNGCGCN\n",
        "((((((AAAA(A(((....)))AA)AAA(((A.......A)))A....AAA((.......))AAAA))))))A"
       ]
      },
      {
       "output_type": "stream",
       "stream": "stdout",
       "text": [
        "\n",
        "GCCCCCANNNNNNANNNNNCNANNANNNNUCCNNNNNNNNNANNNNNNNNNGANUCGANNNCCCCNNGNGGUA\n",
        "((((AA(AAA(((........)))AAA((.....))A...........AAAAA.......AAAAA)AA))))A"
       ]
      },
      {
       "output_type": "stream",
       "stream": "stdout",
       "text": [
        "\n",
        "GCGNNNANAGCUNNNNUGGUAGAGNNNNGNNNNNCCNANNNNAANNNNNNNNNNUCGAANNACNNNACCCGCU\n",
        "(A((A(A(((((.....)))))(AAAAAAAA(((...)))AAAAAAAA)((AAA.......AAA))A)A))A)A"
       ]
      },
      {
       "output_type": "stream",
       "stream": "stdout",
       "text": [
        "\n",
        "GNNNNNNUAGNNNNNNNGGNUAGANNNNACCCUNNANAANNNNANNNNNNCNAGUUCNANNNNAGNNNNNCCCN\n",
        "(((((AA.......AAA(AAAA((AAAA(((A.......A)))AAAAAA))AAAA)AAAA((AA(.......)AA))AA)))))A"
       ]
      },
      {
       "output_type": "stream",
       "stream": "stdout",
       "text": [
        "\n",
        "GGAGANNNNNNNNNNNNGNNNAANNNANNGGNNNNNANNACNNNNNNANNUNNNNNNNNNNNNNGUUCGAAUCCCNNNNNCUCNG\n",
        "(A((A(AAAAAAA........AAAAAA((AA.......AA))A.....AA(((.......)))AAA)A))A)A"
       ]
      },
      {
       "output_type": "stream",
       "stream": "stdout",
       "text": [
        "\n",
        "GNGAUNNNAGNUNNNNGGUUANNNNNNCNCCNNNNNNNNNCGNNNNNNNNNNGUUCGNNNCCCNNNNNNCCCG\n",
        "((((((AAAAA(AAA((((AAAA(A.....A)AAAAAA))))AA)AAA(((((.......)))))A))))))A"
       ]
      },
      {
       "output_type": "stream",
       "stream": "stdout",
       "text": [
        "\n",
        "GNGUUGNNAGNNNNNUNGNNANNGNNNUNNNCUNNNANNNGANNGNNNCNNGGUUCGAAUCCCANNNAACUCA\n",
        "AAA((AA.......AAAAAA(AAAAAAAAA(((.......)))AAAAAAAAA)AAAAAAA((((.......))))AAA))AAAA"
       ]
      },
      {
       "output_type": "stream",
       "stream": "stdout",
       "text": [
        "\n",
        "GNNNNNNNNNNNNNANNNNNUANNNNCNCNGGANNNNNNUNCCNNNNNNNNNNNNANNNNAGAGUUCGNNNNUCUNNNNCNNNA\n",
        "(((AA((AA((((........))))AAA(((.......)))AA.....A((((.......))))A))AA)))A"
       ]
      },
      {
       "output_type": "stream",
       "stream": "stdout",
       "text": [
        "\n",
        "GCNNNGANNGCUNNNNUGGUAGAGNNNNGGANNNAAAANCCNNNNNNNNCCAGUUCAAANNNGGNUCCNAGCA\n",
        "AAA(((AAA((((.........))))A((A(AAA...AAA)A)).....AAA((.......))AAAA)))AAAA"
       ]
      },
      {
       "output_type": "stream",
       "stream": "stdout",
       "text": [
        "\n",
        "NNNGANNNANCGNNNNNNGGUANCNNNUNNCANNNNNNNNNNANNNNNNNNAGGUUCGAAUCCNNNNANCCCNN\n",
        "(((((AA(((...((AA(AAA(AA...A(((AA.........AA)))AAAAA)A)AA))A)))AAA)))))A"
       ]
      },
      {
       "output_type": "stream",
       "stream": "stdout",
       "text": [
        "\n",
        "UCCUNNGNAGNUNNNNNGUANNNNNNNNNNNNNNUAANNNAUNNNCCNNANNUUNNNNNNCNANNNGNGGAN\n",
        "(AA((AAAAAAA......A(((AAAAAAA(((A....AA)))AAAA)))AAAAAAAAAA(.......)AAAAAA))AA)A"
       ]
      },
      {
       "output_type": "stream",
       "stream": "stdout",
       "text": [
        "\n",
        "GCCGCNNNGNNNNNAUUNNNANNNANNNNGCNNNNANNNAGCNNNNNNANANNNNNUNNGUUCGNNNCNNNNNNGCNNCA\n",
        "(((A.....(AAAA(AA((((A((AAA(AA....AA)AA(((AA....AA)))AA))A))))A)AAAA)A)))A"
       ]
      },
      {
       "output_type": "stream",
       "stream": "stdout",
       "text": [
        "\n",
        "GNNCNNNNAGNNNANNNGAUUAGNNNNNNNNNNNNNNNNCNACNNNNNNNUGNNNUCNAAUCNCNNNNCNCCCA\n",
        "(AA(((AAA((A...........A))AAA(((.......)))AAA.......AA......((AA(.......)AA))A)))AA)A"
       ]
      },
      {
       "output_type": "stream",
       "stream": "stdout",
       "text": [
        "\n",
        "GNNGANANNNCNNNAUUGGUANNNNCNNNNNANNNAAAANCNNNNNNNNNNNNNAANNNNNNNNGUUCNANNCCCUNNANCCCCA\n",
        "((A((A(...((((A(AA((A....AA(((.......)))AA...A))AAA)A)A)))......)A))A))A"
       ]
      },
      {
       "output_type": "stream",
       "stream": "stdout",
       "text": [
        "\n",
        "AGNGANANANCUCAGNNNNANNNNNNNANCNNNNNNNGNUNNNANNNANNNNNUCGAGNNNNANNANCCCUA\n",
        "(AAA(A(AA((((........))))AA(((A.......A)))A.....(((((.......))))))A)AAA)A"
       ]
      },
      {
       "output_type": "stream",
       "stream": "stdout",
       "text": [
        "\n",
        "GNNNANANAGCUNNNNUGGUAGAGNNNCNCCNNNNNNNNGCNNNNNNNNGCNGUUCGNNNCCNCUNANNNCCA\n",
        "A(((AAAAAA(A.........A)AAA((((.......))))AA...A((((.......))))AAAA)))AA"
       ]
      },
      {
       "output_type": "stream",
       "stream": "stdout",
       "text": [
        "\n",
        "NNNNNNNNNNCNNANNNGNNNNNNNNNGGANNNNNAANCCNNNNNNCCCAGUUCAAANNNNGNNNNCGNUN\n",
        "(A(((AA..........((((A((AAAAA(A....AA......AA....A)AAAA))A))))....AA)))A)A"
       ]
      },
      {
       "output_type": "stream",
       "stream": "stdout",
       "text": [
        "\n",
        "GNGAUNNNANNUCAAUUGGNUAGANNNNCNCNNNNNNNNNNNNNNNNNNNCNNNNUCNNNNCNNNNNAAUCCCG\n",
        "((((AAA...................((((((...)))))).....A((((.......))))AAAA))))A"
       ]
      },
      {
       "output_type": "stream",
       "stream": "stdout",
       "text": [
        "\n",
        "GCGNNNANANNNNANNGGUAAAANNNCNCCUNNNNAAGGANNNNNNNNNNGUUCGAUUCCCGNNACCCNCN\n",
        "((((AAAA((A((A(A(AA.........AA)AA)A))A))A.....A((((.......))))AAAA))))A"
       ]
      },
      {
       "output_type": "stream",
       "stream": "stdout",
       "text": [
        "\n",
        "GCGNNNANAGNUUAGNGNNNAANNNNNANNNNNCNAAGCNANNGANNNNNGUUCGAUUCCCGNNACCCGCU\n",
        "(AA((((AA((A..........A))AAA(((.......)))A.......AA(((.......)))AA))))AA)A"
       ]
      },
      {
       "output_type": "stream",
       "stream": "stdout",
       "text": [
        "\n",
        "GCANCNNNNNCNNNNNGGUUAAAGNNNCNANNNNNNNANNGNNNNNNNNNNAGGUUCAAUNCCNNNNNNANNCA\n",
        "((((((AA(A(((AAA((AAA(AA.....AA)AAAAA))AAA)))A)A((((.......))))AA))))))A"
       ]
      },
      {
       "output_type": "stream",
       "stream": "stdout",
       "text": [
        "\n",
        "GGGUUGNNAACUNNNNNGNANNNNNNUNNNNUNNNANNNNNNNNGNUNCNGGUUCGNNNCCCNNNNAACCCA\n",
        "(AA((AAA(AA((AA((A...A(AAAAAA(AAA((A((AAAA...AAAA))A))AAA)AAAAAAA)AA))A))A)AAAA))AA)A"
       ]
      },
      {
       "output_type": "stream",
       "stream": "stdout",
       "text": [
        "\n",
        "GNNGNNNNNNNGNAAUUGNUANNNNNNNNNNNNUUAAAANNNNNUNGNNNNAAANNNCNNNNNNNUUNAANNCCCNNNACCCCCA\n",
        "(AA((AA..........(((.....AAAAA((A....AA))AAAAA.....)))A(((((.......)))))AA))AA)A"
       ]
      },
      {
       "output_type": "stream",
       "stream": "stdout",
       "text": [
        "\n",
        "GCCNCNNNNNNNANAUNGGUNNNNNNNNNNCNNNNANNNAGNNNNNNNNNNGNNNNUCNGUUCGAANCCGNNNAGCNNCA\n",
        "(A(((A(AAA(((AAAAAAAAAA(AA...AA)AA...AAAAAAA)))AAA((((.......))))A)A)))A)A"
       ]
      },
      {
       "output_type": "stream",
       "stream": "stdout",
       "text": [
        "\n",
        "ANCNANNNAACUNNNNNGNNNANNNNNNNNNUNNNNNNNNNNNNNANNNANNGGUUCAAAUCCAANAGNANNNA\n",
        "A(((A((AA((((.........))))AA(((A.......A)))A.....AAA((.......))AAA))A)))AA"
       ]
      },
      {
       "output_type": "stream",
       "stream": "stdout",
       "text": [
        "\n",
        "NNCNNNGNAGAGNNNNNNNNUAGCUCNNAANNNUNNNANNCUNNNNNNNNNAGGUUCAAAUCCNNNNNCCNCNA\n",
        "(((AAAAAAA((....))AAAAAAAAAA((.......))AAA....A(AAA(........)AAA)AAA)))A"
       ]
      },
      {
       "output_type": "stream",
       "stream": "stdout",
       "text": [
        "\n",
        "NGNNNNNNNNNNNANNNNNNNNNNNNNNGGUNNNGNNCCNNNNNNNNNNNNGUUCGAANNCNNCNNNCCCNN\n",
        "AAAA((AAAA((A........A))AA((((((A...A))))))....(A(((.......)))A)A))AAAAA"
       ]
      },
      {
       "output_type": "stream",
       "stream": "stdout",
       "text": [
        "\n",
        "NNNNCNNNNNNNNNNNNNNNNNNANNNAGNNUNNNNAAANCNCNNNNANAGGUUCGAAUCCNANNNNACNNA\n",
        "(((((((AA(AAAAA(......)AAAAA)A(((A...A)))A...AAAAA(.....)AAAAAA((AA(.......)AA)))))))))A"
       ]
      },
      {
       "output_type": "stream",
       "stream": "stdout",
       "text": [
        "\n",
        "GGAGAGNNNNCCNNNNNNNNNNNNNNNNCNNAUNNNNAAUCNNNNNNANANGCNNNNNNNANNGNNNGUUCGAAUCCCUCNCUCUCNG\n",
        "(((((((...AA(AAA........AAAA)AAA((AA(A((A.......A))A)AA))A.....((AA(.......)AA)))))))))A"
       ]
      },
      {
       "output_type": "stream",
       "stream": "stdout",
       "text": [
        "\n",
        "GGAGAGNNNNNCGNNNNGUNNNNNNNNNNNNNNUNNNAAANNNNNNNAGNUNNNAAGANNNNNGNNNGUUCAAAUCCCUCNCUCUCCN\n",
        "((AAAA(AAAAA....AAAAAAAAAAA((AA.......AA))AAAAAAA((((.......))))A)AAAA))A"
       ]
      },
      {
       "output_type": "stream",
       "stream": "stdout",
       "text": [
        "\n",
        "GCNNNNUNAGNNNNNNNNNNNNANNNNCNCANUNNNNNNNNGANNNNNNNCNGUUCGNNNCCGANANNNNGCU\n",
        "((A(((((A....((AAA(A(A....(((A.......A)))....A)A)AAA))........A)))))A))A"
       ]
      },
      {
       "output_type": "stream",
       "stream": "stdout",
       "text": [
        "\n",
        "AGNNCNANAGNNNANNNNNAGANNNNCUCNNUNNNNNCGANNNNNNCNNNNNNUNAAANNNNNANAGCCCUA\n",
        "AA((AAA.......A(((....)))AAA(((.......(((((A......A))))).....)))AAAAA))AAA"
       ]
      },
      {
       "output_type": "stream",
       "stream": "stdout",
       "text": [
        "\n",
        "NNNCUNNNANNUNNNUUCNNUAGAACNNAGNNNNNNNAAANCNAANNNNNNANNNNNAAAUCCNANNNNGNNNN\n",
        "(((((A((AAAA...AA.....AAAAAA)((A(A....AAAAAAA((...))AAAAAAA....A)A))....)A)))))A"
       ]
      },
      {
       "output_type": "stream",
       "stream": "stdout",
       "text": [
        "\n",
        "GCCUNGANNNNNNNNNNNUANNNANNNNAGANUNNAAANUNNNNNCUNAAAGCNNNNNNNUUCGNNNCNNNNNNAAGNCA\n",
        "(((A((AAAAAAAAAAA(((A...AAA......AAAAA)))AAAAAAAAAA(((.......)))AAA))A)))A"
       ]
      },
      {
       "output_type": "stream",
       "stream": "stdout",
       "text": [
        "\n",
        "GCGNNCNNANCNNAGNNGAUNNNNNNNNNNNNNNNNNNANCCNNNNNNCNNNNGUUCAAUUCCCNNNGNUCGCN\n",
        "(((((((AA(AAAAAAA(......AA......AA......)AAAAA)AA........(((((.......))))))))))))A"
       ]
      },
      {
       "output_type": "stream",
       "stream": "stdout",
       "text": [
        "\n",
        "GGNNCGANNNNNGNNNNGUUANNNNNNNNNNNNNNNAAAUCNNNNNGNNANNNNNNNGCUNGUUCAAAUCNAGCUCGACCCA\n",
        "((((((A...AAA((....))AAAAAAA((AA.......AA))AAAAAAAA((.......))AAAA))))))A"
       ]
      },
      {
       "output_type": "stream",
       "stream": "stdout",
       "text": [
        "\n",
        "GCCCCCANNNNNNANNNNNCNANNNNNNCUNNNNNNNNNNNANNNNNNNNNGANUCGANNNCCCCNNGNGGUA\n",
        "((A(((AAAA(((.......)))AAAAA(A.......A)AAA.....A((AA.......AA))AA)))A))A"
       ]
      },
      {
       "output_type": "stream",
       "stream": "stdout",
       "text": [
        "\n",
        "GCCCUNNNAACUNNNNNGUAGANNNNCNCNNNGGUNNNNCNNNANNNANNNGUUCAAANNNNANAAANNGCU\n",
        "(((((((..................AA(((AA(A...A)AA)))AAAAAA((...))AAAAAA((AA(.......)AA)))))))))A"
       ]
      },
      {
       "output_type": "stream",
       "stream": "stdout",
       "text": [
        "\n",
        "GGAAAGNNNGNNNNNNNGUNNNNNNNNNAGNANNNNNAANNCNNNNNANNNUNNNGNNNNNNNGNNNGUUCGAAUCCCUCNCUNUCNG\n",
        "((AAAA(AA((((........))))A(((((.......))))).....A((((.......))))A)AAAA))A"
       ]
      },
      {
       "output_type": "stream",
       "stream": "stdout",
       "text": [
        "\n",
        "GCNNNNANAGCUNNNNUGGUAGAGNNNAGGANNNAAAANCCNNNNNNNNCCAGUUCAAANNNGGNUNNNNNCA\n",
        "(((A...A(A...(AAA((((A((((AAAAAAA((........))AAAAAAAA))))A))))AA)AA)AA)))A"
       ]
      },
      {
       "output_type": "stream",
       "stream": "stdout",
       "text": [
        "\n",
        "GGGNNNNNAGNNNANNNGAUUAGNGNUNNNGNNUCNNAANNNNNANNNNNNNNNNUCNAAUCCCUNNNAACCCN\n",
        "((A(((AA(AA((A(A(....)A)))AA)AAA(((A....A)))AA...AAA((.......))AAAA)))A))A"
       ]
      },
      {
       "output_type": "stream",
       "stream": "stdout",
       "text": [
        "\n",
        "AGNGANNNAGCNNNNNUNGNNANNNCNNUNNNUUUNNNNNNAAAANNNNNNAGGUUCGAAUCCNNNNANCCCUA\n",
        "(((AA((((A(.....)A))(AA(((((AA.......AA)))))AA)AA(((.......)))AA))AA)))A"
       ]
      },
      {
       "output_type": "stream",
       "stream": "stdout",
       "text": [
        "\n",
        "UCCUNANNANNUNNNNNNNAGANNGNNCNNNNNNUANNCGAUNGNNNNNAGGUUCAAAUCCNANCNNNGGAN\n",
        "AA(((AA((((AAAAAA........AAAAAA))))AA)))AAAAAAAAA(AA((........))AA)AAAAAAA"
       ]
      },
      {
       "output_type": "stream",
       "stream": "stdout",
       "text": [
        "\n",
        "NNNUUNNNAGCNNNNNNNNUUANNNNNNNNNGCNANNAACNNNNNNNNNNNNNNUUCGAANNCCUCNNNNNCNA\n",
        "((A((A(AAA(((.......)))AAAA(((.......)))AA.....(AA((.......))AA))A))A))A"
       ]
      },
      {
       "output_type": "stream",
       "stream": "stdout",
       "text": [
        "\n",
        "AGNGANANAACUNNNNNNUAGANNNNNANCNNNNNNNGNUNNNANNNNNNANUUCGANNCNGANNANCCCUA\n",
        "((((AA(AAAAA((AA(AAA(AAAAA((((.......))))AAAA)AAA)AA).......)AAA)AA))))A"
       ]
      },
      {
       "output_type": "stream",
       "stream": "stdout",
       "text": [
        "\n",
        "GNCNNNNNNNNCGNNNGNNAANNNNNNGGANNNNNAANCCUNNNNNNNCCNNNNNAAANNCNNNNNNCGCCU\n",
        "(((A(((AAA(AAAA....AAAAA)AAAA((((A...A))))AAAAAAA(A.....A)AAAAA((AA(.......)AA)))))A)))A"
       ]
      },
      {
       "output_type": "stream",
       "stream": "stdout",
       "text": [
        "\n",
        "GGNNAGNNNNCNNNNNNNNNNAANGNNNNNNAUNNNNAAUCCNNNNNANGNNNUAANCNNANNGNNNGUUCGAAUCCCUCNCNNNCNG\n",
        "((A(((AAAAA((A(((....)))))AAAAAA(((A....A)))AA...AA(((.......)))AAA)))A))A"
       ]
      },
      {
       "output_type": "stream",
       "stream": "stdout",
       "text": [
        "\n",
        "AGNGANNNNNNNNNGCUUGNNAGNNCNNNNNNUUUNNNNNNAAAANNNNNNAGGUUCAAAUCCNNNNANCCCUA\n",
        "A(((AA(AAAA(AAA(((A(AA((AA(...AAA((A......A))AAAAA)AA)))A)))AA)AAA)AA)))AA"
       ]
      },
      {
       "output_type": "stream",
       "stream": "stdout",
       "text": [
        "\n",
        "NNCNNNGNANNGNNNNUNGGUAGNUCNNNNNNNUNNNAANNNNGNNNNNNNNNGNUNAAANNCNNNNNCCNCNN\n",
        "(((((AAA(A(((((AAAAA...AA(((AA(A...A)AA)))AAAAAAAAA)))))...A)AAAA)))))A"
       ]
      },
      {
       "output_type": "stream",
       "stream": "stdout",
       "text": [
        "\n",
        "GCGNANANNNNCGAANNNNAAAANNUCUNNUNNNNANNNAGNNNANNNNNNUUCGANNNCCNNNANCCNCN\n",
        "(((((AAAAAA..........AAAAAAAA(((((AA((AA(AAAA((....))AAAAA)AA))A))))).....A)))))A"
       ]
      },
      {
       "output_type": "stream",
       "stream": "stdout",
       "text": [
        "\n",
        "GCCUNGNNNNUNAAAUGGUANNNNNNNNNNANUNNAAANNUNNNNCNAANNAGNNNNNANNUUNGNNNCNNNNNNAAGNCA\n",
        "(AA((AA...........(A(....AAAAA((A....AA))AAAAA....)A)AAA((((.......))))AAA))AA)A"
       ]
      },
      {
       "output_type": "stream",
       "stream": "stdout",
       "text": [
        "\n",
        "GCCGCNNNNNNNANAUUNNUANNNNNNNNNCNNNNANNNAGNNNNNNNANNNNNNNUCNGUUCGNNNCCGNNNNGCNNCA\n",
        "((((((AAAA((A.........A))A...A((AAA...AAA))A....AAA((.......))AAAA))))))A"
       ]
      },
      {
       "output_type": "stream",
       "stream": "stdout",
       "text": [
        "\n",
        "GCCCCCANNNNNNNNNNGUNNANNANNNNNNUNNNNNNNNNANNNNNNNNNGANUCGANNNCCCCNNGNGGUA\n",
        "((AAA(AAAA(((.......)))AAAAA(A.......A)AAA.....A((((.......))))AA)AAA))A"
       ]
      },
      {
       "output_type": "stream",
       "stream": "stdout",
       "text": [
        "\n",
        "GCCNNNNNAACUNNNNNGUAGANNNNCNNNNNGGNNNNNCNNNANNNANCNGUUCAAAUCCGANANNNNGCU\n",
        "((AAA((((((A....A))))AAAA((((AAA(...)AAA))))AAAAA((((.......))))A))AAA))A"
       ]
      },
      {
       "output_type": "stream",
       "stream": "stdout",
       "text": [
        "\n",
        "GCCNNCUUAGNNNNNNNGNUAGANNNNCNCANUNNNAANNNGANNNNNNNCNGUUCGAUUCCGANAGNNNGCU\n",
        "((A(((AA(AA((A(((....)))))AA)AAA(((A....A)))AA...AAA((.......))AAAA)))A))A"
       ]
      },
      {
       "output_type": "stream",
       "stream": "stdout",
       "text": [
        "\n",
        "AGNGANNNAGCNNNGCUUGNNAGNNCNNUNNNUUUNNNNNNAAAANNNNACNNGUUCAAAUCNNNNNANCCCUA\n",
        "((((AA((((((.....)))))(AAAAA(((A.......A)))AAAAA)(((A(.......)A))))AA))))A"
       ]
      },
      {
       "output_type": "stream",
       "stream": "stdout",
       "text": [
        "\n",
        "GNNNNAUUAGNNNNNNNGGNUAGANCNNANCCNNNANNNNNGUNNNNNCNCNNGUUCAAAUCNAGAANNNCCCA\n",
        "(AA(AAAA(A(......)A)AAAAAAAAA((((...))))AAAAAAAA(((((.......)))))AAA)AA)A"
       ]
      },
      {
       "output_type": "stream",
       "stream": "stdout",
       "text": [
        "\n",
        "GNNNNNANANNUNNNNUGNUAGANNNNNNNCUNNNNAAGNNNNNNNNNNGCNGUUCGNNNCCNCUNACCNCCA\n",
        "(((A(((......((AAA((A...A(...)A....A))AAA))AAA(AAAA....AAAA)AA((AA(.......)AA)))))A)))A"
       ]
      },
      {
       "output_type": "stream",
       "stream": "stdout",
       "text": [
        "\n",
        "GGNNAGNNNNNNNNNNNGNUNNNNNNNNANNNNUNNAANNNCNNNNNANNNNNNNNNNNANNGNNNGUUCGAAUCCCUCNCNNNCNG\n",
        "((AAA(A((A(.....)A))(AAAAA(AAA.......AAA)AAAAA)AA(((.......)))AAA)AAA))"
       ]
      },
      {
       "output_type": "stream",
       "stream": "stdout",
       "text": [
        "\n",
        "NCCUNNNNANNUNNNNNNNAGANNNNNNNNNNNNUANNNNANNNNNNNNAGGUUCGAAUCCNANNNGNNGA\n",
        "(AA((AA.........AAA(A(AAAAAAAA((A....AA))AAAAAAA)A)AAAAA((((.......))))AAA))AA)A"
       ]
      },
      {
       "output_type": "stream",
       "stream": "stdout",
       "text": [
        "\n",
        "GCCNCNNNNNNNANANNGNNNNNNNNNNNNCNNNNANNNAGNNNNNNNNNNNNNNNUCNGUUCGNNNCCGNNNNNCNNCA\n",
        "(AAAAA(AA((((........))))AAA((....))AA((A(((AAAA........AAA)))A)))AAAAA)A"
       ]
      },
      {
       "output_type": "stream",
       "stream": "stdout",
       "text": [
        "\n",
        "GNNNNNANAGCUNNNNUGGUAGAGNNNNGNNNNNNCANAGNAGANNNNNNNNNNUCGNNNCNNCUNANNNCCA\n",
        "A(((A((AAA((AAAA(((........)))AA))AAA((((....))))AA(((.......)))AA))A)))AA"
       ]
      },
      {
       "output_type": "stream",
       "stream": "stdout",
       "text": [
        "\n",
        "NNCNNNNNAGAGNNNNUNGNUAGNNNNNAANNCUNNNAANCNNNNNNNNNNNNGUUCAAAUCCCNNNUCCNNNN\n",
        "(((((AA................AA(((AA(A...A)AA)))AAAA(((((.......)))))AA)))))A"
       ]
      },
      {
       "output_type": "stream",
       "stream": "stdout",
       "text": [
        "\n",
        "GCGNANANANNNNNNNGGNNNNNNNUCUNNUNNNNANNNAGNNNNNNCNNGUUCAAUUCCCGNNANCCNCN\n",
        "((A(AA(AAAA((.......))AAAA(AAA(A((AAAAAAA.....AAAAAAA))A)...A)AA)AA)A))A"
       ]
      },
      {
       "output_type": "stream",
       "stream": "stdout",
       "text": [
        "\n",
        "AGNNNNANAACUNNNNNNUAGANNNNNNNNUNGNNNNGNNNNNANNNNNNNNNUCGANNNNGANNANCCCUA\n",
        "((((((AAAA((A.........A))A...A((AAA...AAA))A....AAA((.......))AAAA))))))A"
       ]
      },
      {
       "output_type": "stream",
       "stream": "stdout",
       "text": [
        "\n",
        "GCCCCCANNNNNNANNNNNNNANNANNNNNNUNNNNNNNNNANNNNNNNNNGANUCGNNNNCCCCNNGNGGUA\n",
        "AAAA((AA((AAAAAAA........AAAAAAA))AA))AAAAAAAAAAA(AA((.......))AA)AAAAAAAA"
       ]
      },
      {
       "output_type": "stream",
       "stream": "stdout",
       "text": [
        "\n",
        "NNNNNCNNAGCNNNNNNNNUUANNNNNNNNNNCNNNGANNNNNNNNNNNNNNGGUUCGAAUCCCNCNNNNCCNA\n",
        "(AA(((A((A(.....)A))((A(((((AA.......AA)))))A))AAA((.......))AAAA)))AA)A"
       ]
      },
      {
       "output_type": "stream",
       "stream": "stdout",
       "text": [
        "\n",
        "UCCCCNNNANNUNNNNNNNAGANNGNNCNNNNNNUANNCGAUNGNNNNNAGGUUCAAAUCCNNNNNGGNNNN\n",
        "(((((AAAAA.......((A.....A))....(((((AA((AA(AAAA(A....A)AAAAA)AA))A)))))AAAAAA)))))A"
       ]
      },
      {
       "output_type": "stream",
       "stream": "stdout",
       "text": [
        "\n",
        "GCCUNGNNGNNNANANNNUNNUANNNANNNNNNANUNNAAANNUNNNNCNAANNNNNNNNNNNNUUNGNNNCNNNNNNAAGNCA\n",
        "((A(((AAAA(((.......)))AAAAA(A.......A)AAA.....AA(((.......)))AAA)))A))A"
       ]
      },
      {
       "output_type": "stream",
       "stream": "stdout",
       "text": [
        "\n",
        "GCCCUNNNAACUNNNNNGUAGANNNNCNNNNNGGNNNNNCNNNANNNNNNNGUUCAAAUCCGANAAANNGCU\n",
        "((A(((AA(AA((A(((....)))))AA)AAA(((A....A)))AA...AA(((.......)))AAA)))A))A"
       ]
      },
      {
       "output_type": "stream",
       "stream": "stdout",
       "text": [
        "\n",
        "AGNGANNNAGCNNNGCUNNNNAGNNCNNUNNNUUUNNNNNNAAAANNNNNNAGGUUCAAAUCCNNNNANCCCUA\n",
        "(((AAAAAAA(A.........A)AAAAA((.......))AAAA....AAA((.......))AAAAAAA)))A"
       ]
      },
      {
       "output_type": "stream",
       "stream": "stdout",
       "text": [
        "\n",
        "NGGNNNNNNNCNNNNNNNNNNNNNNNNNGGUNNNNNNCCNNNNNNUNNNNGGUUCGAAUCCUNNNNNCCCNN\n",
        "(AA((AAA(((A....A)))A...A(((............)))A.....AAA((.......))AAAAA))AA)A"
       ]
      },
      {
       "output_type": "stream",
       "stream": "stdout",
       "text": [
        "\n",
        "GCANCNANGGNNNNNNNGUUAANNNNCCNAANNNNNNAUUGGCNNNNNNGNNNGUUCAAUNCNNNNNNGANNCA\n",
        "(((A(((........((A((A...A(AA(((((A...A)))))A...)A...A))A))........)))A)))A"
       ]
      },
      {
       "output_type": "stream",
       "stream": "stdout",
       "text": [
        "\n",
        "GCGNNCNNANNNNANNGNNCNNNNNNNNNNGAUNNNNAAUCCANNNNNCNNNNGUUNAANNNNNNNNGNUCGCN\n",
        "(AA(((AAA((A...........A))AAA(((.......)))A.................((AA(.......)AA))A)))AA)A"
       ]
      },
      {
       "output_type": "stream",
       "stream": "stdout",
       "text": [
        "\n",
        "GNNGANANNNCNNNAUUGGUANNNNCNNNNNANNNAAAANCNNNNNNNNNANNNAANNNNNNNNGUUCNANNCCCUNNANCCCCA\n",
        "((((...(((...A(AA((((A((AAAAAAAAAAA((.....))AAAAAAAAAAA))A))))A)AA)))))))A"
       ]
      },
      {
       "output_type": "stream",
       "stream": "stdout",
       "text": [
        "\n",
        "GNNCNNNNAGNNNANNNGAUUAGNNNNNNNNNNNNNNNNNNNCGANNNNNNNNNNUCNAAUCNCNNCNAGCCCA\n",
        "(((AAAA(AAAA....AAAA)AAAAAA(((.......)))A.....A(AAA(........)AAA)AAA)))A"
       ]
      },
      {
       "output_type": "stream",
       "stream": "stdout",
       "text": [
        "\n",
        "NGNNNNNNNNNNNNNNNNNNNNNNNNNNNGUNNNGNNCCCNNNNNNNNNNNGUUCGAANNCNNCNNNCCCNN\n",
        "(((((AAAA((((.......))))AA((AA.......AA))A......A(((.......)))AAAA)))))A"
       ]
      },
      {
       "output_type": "stream",
       "stream": "stdout",
       "text": [
        "\n",
        "GNGCNANNNGCUNNNNNGUAGAGNNCNCCNNNNANNNNNNCNNNNNNNNNNGUUCNANNCNANNANAGCCCA\n",
        "((AA((AAAA((A........A))A(A(((AAAA...((((A.......A))))AAAAA)))A)A))AA))A"
       ]
      },
      {
       "output_type": "stream",
       "stream": "stdout",
       "text": [
        "\n",
        "GCNNCNANANNNNNNNNNNNNNNANANAGNNNNNNNAAANCNNNGGNNNAGNNNNAAAUCCNANNNNACNCA\n",
        "(((((AAAAAA..........AAAAAAAA(((((AA((AA(AAAA((....))AAAAA)AA))A))))).....A)))))A"
       ]
      },
      {
       "output_type": "stream",
       "stream": "stdout",
       "text": [
        "\n",
        "GCCUNGNNNNUNAAAUGGUANNNNNNNNNNANUNNAAANNUNNNNCUAANNAGNNNNNANNUUNGNNNCNNNNNNAAGNCA\n",
        "(A(((A(AAA((AAAAAA(AAA(AA...AA)AA...)AAAAAAA))AAA((((.......))))A)A)))A)A"
       ]
      },
      {
       "output_type": "stream",
       "stream": "stdout",
       "text": [
        "\n",
        "NNCNANNNAACUNNNNNGNNANNNNNNNNNUNNNNNNNNNNNNNNNNNANNGGUUCAAAUCCAANAGNANNUA\n",
        "((((((A..................A((((((...))))))A.....A(((.......)))AAA))))))A"
       ]
      },
      {
       "output_type": "stream",
       "stream": "stdout",
       "text": [
        "\n",
        "GCGAGCNNANNUCAANGGUAAAANNNCUCCUNNNNAAGGAGNNNNNNNNNGUUCGAUUCCCNNNNCUCGCN\n",
        "(((AAA(AA(AA....AA)...AAAA....AAAA............A((((.......))))A)AAA)))A"
       ]
      },
      {
       "output_type": "stream",
       "stream": "stdout",
       "text": [
        "\n",
        "GNCNNNNNNNNNNNNNNNUNNNNNNNNNNNNNNNNAANNNNNNNNNCCCAGUUCAAANNNNGNNNCCNCCU\n",
        "(A((A(AAA(A(((((AAAAAA(....A(((A.......A)))A...)AAAAA)))A))A).....A)A))A)A"
       ]
      },
      {
       "output_type": "stream",
       "stream": "stdout",
       "text": [
        "\n",
        "GNGAUNNNAGNUNAAUNNNNNANNNNNNCNCCNNNNNNNNGCGNNNNNNNNNNGUUNGNNCNNNNNNNNNCCCG\n",
        "AA((A((AA((((.........))))AAAAAA.......AAAAA.....AA(((.......)))AA))A))AAA"
       ]
      },
      {
       "output_type": "stream",
       "stream": "stdout",
       "text": [
        "\n",
        "NNCNNNGNAGAGNNNNNNGGUAGCUNNNNNNNNUNNNANNCUNNNNNNNACNNGUUCGAUUCCCNNNNCCNCNN\n",
        "(((((((AA((AAAA....AAAAA))AA(((A.......A)))AAAAA(((A...A)))AAAA((AA(.......)AA)))))))))A"
       ]
      },
      {
       "output_type": "stream",
       "stream": "stdout",
       "text": [
        "\n",
        "GGAGAGNNNGCNNNNNNGUNNNNAGCNCCNNNNNNNANNANCNNNANAGUUNNNNNAANNANNGNNNGUUCGAAUCCCUCNCUCUCCN\n",
        "AA((((AAAAA(((AA((AA(A(AAAAA(((((...)))))AAAA.....)A)AA))AA)))A...AAAAAA))))AAA"
       ]
      },
      {
       "output_type": "stream",
       "stream": "stdout",
       "text": [
        "\n",
        "NCCUUCNNNNNNAANUNNNAANNNNNNNNGAUNNAAAAUCANNNNNNNNNGNUNNNNNNUUCNNNNNNNNNNGANGNNA\n",
        "((((((A((A(.....)A))(AAAA(AAAA((...))AAAA)AAAA)AA(((.......)))AAA))))))A"
       ]
      },
      {
       "output_type": "stream",
       "stream": "stdout",
       "text": [
        "\n",
        "GCCUNNNNNNNUNNNNNNNAGANNNNNNNNNUNNNAANNNGNNNNNNNNNNGUUCGAANCCGNNAAAAGGCU\n",
        "A(((A((AA((((.........))))AA(AAA.......AAA)A.....(A(((.......)))A)))A)))AA"
       ]
      },
      {
       "output_type": "stream",
       "stream": "stdout",
       "text": [
        "\n",
        "NNCNNNGNAGAGNNNNNNNNUAGCUCNNNNNNNUNNNNNNCCNNNANNNANNGGUUCAAAUCCNNNCUCCGCNA\n",
        "(((A((AAAA((....))AAAAAAAAAA(((....)))AAAAA....AA(((.......)))AAA))A)))A"
       ]
      },
      {
       "output_type": "stream",
       "stream": "stdout",
       "text": [
        "\n",
        "NNNNNCNNANNNNANNNNNNNNNNNNNNNNNNNNNGNCCNNNNNNUNNNAGGUUCGAAUCCNCCCNCCUNAN\n",
        "AAAAAAAAAA(A.........A)AAAA((((A...A))))AAA....A(((A.......A)))AAAAAAAAA"
       ]
      },
      {
       "output_type": "stream",
       "stream": "stdout",
       "text": [
        "\n",
        "GNNNNNNNNNCNNNNNNNNNNNNNNNNNGAUNNNNAAUCUNNNNNNNCCCAGUUCGAUNNNNGNNNNNNNNN\n",
        "((AAA(AAA(AA.........AA)AA(((A.......A)))A.....AA(((.......)))AAA)AAA))A"
       ]
      },
      {
       "output_type": "stream",
       "stream": "stdout",
       "text": [
        "\n",
        "GUNNNNNNAGCNNANNNGNNNNNNNAAGGNNNNNNNNNCCUNNNNUNNNNNGUUCGANNCCCNNNNNUNANN\n",
        "(A(A(AA((((AAAA((........))AAAA))))AA)......AAAAA(AA(((....)))AA)AAAAA)A)A"
       ]
      },
      {
       "output_type": "stream",
       "stream": "stdout",
       "text": [
        "\n",
        "GNGNUNNNAGCNNNNUNNNNNNNNNNANNNNGCNANNANNNNNNNNNNNANNNNNUCGAANCCCNNNUNNCCCG\n",
        "(((((((AA((((.......))))A((((A.......A)))).....AA(((.......)))AA)))))))A"
       ]
      },
      {
       "output_type": "stream",
       "stream": "stdout",
       "text": [
        "\n",
        "UCCUUAANAGCUNNNNNGUAGAGCNANCNNNNNNUANNCGANNNNNNNNAGGUUCGAAUCCNANNUAAGGAN\n",
        "AAA((AAAA((((........))))AA((A(.......)A))A.....(AA((.......))AA)AA))AAAA"
       ]
      },
      {
       "output_type": "stream",
       "stream": "stdout",
       "text": [
        "\n",
        "GNNNNUNNAGCUNNNNUGGUAGAGNNNCNNCNNNNNNNNNAGNANNNNANNGGUUCGAANCCNNUNNCCCUNA\n",
        "(((AAAAAAAAAA((A((A...AAAA....AAAAAAA))))AAAAA(((((.......)))))AAAA)))A"
       ]
      },
      {
       "output_type": "stream",
       "stream": "stdout",
       "text": [
        "\n",
        "GNCNNNNNNNNNNANNGNNNNNNNNNNNNNNNNNNAANCCUNNNNCCCCAGUUCAAANNNNGNNNCCNCCU\n",
        "(((AA(...A(((.....)))A((((A(.......)A))))AAA(((AAA.....AAA)))A)AA)))A"
       ]
      },
      {
       "output_type": "stream",
       "stream": "stdout",
       "text": [
        "\n",
        "AANNNNUNAGCUUAANNAAANNNGNNGANUNNNNNNNAGUNNNNNCNNNNNNNNNNUNNNCNNNCCUUA\n",
        "(((A(AAAA((((........))))AA(((A.......A)))A.....A((((.......))))AAA)A)))A"
       ]
      },
      {
       "output_type": "stream",
       "stream": "stdout",
       "text": [
        "\n",
        "GGNUCCNNAGCUNNNNNNUUAGAGCNNNGGNNNNNNAAACCNNNNNNNGCGAGUUCAAANNUCGNNNNNGCCN\n",
        "(AAAAAA(((((.....)))))(AAAAA(AAA.......AAA)AAAAA)AA(((.......)))AAAAAAAA)A"
       ]
      },
      {
       "output_type": "stream",
       "stream": "stdout",
       "text": [
        "\n",
        "GNCNNNNUAGNNNNNNNGGNUAGANNNNGNNNNNANNNNNNNNNNNNNNNNNNGUUCGANNCCCNNNNNNNCNA\n",
        "((((((AAA((((........))))A(((((((...))))))).....AA((A.......A))AAA))))))A"
       ]
      },
      {
       "output_type": "stream",
       "stream": "stdout",
       "text": [
        "\n",
        "GCGNGUNNAGCUNNNNNNGUAGAGNNCAANCUNNNNAAGNUUGANNNNNNNCNNUCGAANNNCNNNANCCGCU\n",
        "(((((((AA((A...........A))AAA(AA.......AA)AAA(((((A.....A)))))A((AA(.......)AA)))))))))A"
       ]
      },
      {
       "output_type": "stream",
       "stream": "stdout",
       "text": [
        "\n",
        "GGAGAGNNNNCNNNNNNGNNNNNNGCNNNGCANNNNNNANNNNNNUUAAGNUNNNNCCUUAANGNNNGUUCGAAUCCCUCNCUCUCNG\n",
        "(((((AAAAA(((.........)))AAA((AA(A...A)AA))A.....A(((A.......A)))AAA)))))A"
       ]
      },
      {
       "output_type": "stream",
       "stream": "stdout",
       "text": [
        "\n",
        "GNGCNANNAGCUNNNNUGGUUAGAGNNNUGNNUNNANANNNNAANANNNGAAAGUUCAAANNUNUNNNAGCCCA\n",
        "(AAA(A(AA((((........))))A(AA((((...))))AA).....(((((.......))))))A)AAA)A"
       ]
      },
      {
       "output_type": "stream",
       "stream": "stdout",
       "text": [
        "\n",
        "GNNNANANAGCUNNNNUGGUAGAGNNNNNNCUNNNNAAGNNANANNNNNGCNGUUCGAANCCNCUNANNNCCA\n",
        "(((A(AAAAA((....))A...A(A((((A.......A)))AA)A)AA(A((.......))A)AAA)A)))A"
       ]
      },
      {
       "output_type": "stream",
       "stream": "stdout",
       "text": [
        "\n",
        "NNGNNNNNNNNNNANNNNNNNNNNANNNNANNNNNNNNCCANNANNNANNNGUUCGAAUCCNNNNNCCCCNN\n",
        "((AAAAAA(A(((AAAAAAAA(((AA(((A.......A))))))AAAAA)))A)(((...)))AAAAAA))A"
       ]
      },
      {
       "output_type": "stream",
       "stream": "stdout",
       "text": [
        "\n",
        "AGANACNNAGCUUANNNNNAAAGCNNNNNNNNNNNNNNNNNGCNANNNCAAGNUCGAANNNCNNNNNNNCUA\n",
        "((((AAAA((((.....))))A.....A((((((...))))))A.....AAAAA......AAAAAAAAA))))A"
       ]
      },
      {
       "output_type": "stream",
       "stream": "stdout",
       "text": [
        "\n",
        "AGANNNNNAGCUNANNNGGUUAANNNNNAAGAUNNNNAAUCUNNNNANNGNNNNUUCGNNNCCUNNNNNNUCNN\n",
        "(((A(((......AAAA((....((AA......AA))AA))AAAAAAAA(A.....A)AAAAA((AA(.......)AA)))))A)))A"
       ]
      },
      {
       "output_type": "stream",
       "stream": "stdout",
       "text": [
        "\n",
        "GGNNAGNNNNNNNNNNNNANNAAAGNNNNNNNUNNCUAANCNNNNNNANGNNNUAANCNNANNGNNNGUUCGAAUCCCUCNCNNNCCN\n",
        "(A((A(AAAAA(AAA(((AAAAAAAAAAAA((.......))AAAA(((....)))AAAAAAAAA)))AAA)AAAA)A))A)A"
       ]
      },
      {
       "output_type": "stream",
       "stream": "stdout",
       "text": [
        "\n",
        "NNCGNNNNNNNGNNAUNGNNNNACNCNCACGNNNNAAAAUCNNNNUCCNNNNNGNNNNNNNGUUNGANNCCNNNNANCGNUA\n",
        "(((((((......((AA......AA))AAA((....))AAAA(((AA........AAA)))AAA)))))))A"
       ]
      },
      {
       "output_type": "stream",
       "stream": "stdout",
       "text": [
        "\n",
        "GNCUCCNNAGNNNAGNNNNNNNNNNNNNNCCUNNNAANNNNGAGNNNNNNNNNUCGANCCUNNNAGGNGCCN\n",
        "(A((AA(AAAA((........))AAAAA(((.......)))AA.....A(((A.......A)))A)AA))A)A"
       ]
      },
      {
       "output_type": "stream",
       "stream": "stdout",
       "text": [
        "\n",
        "NCCCNNUNANCAANNNNNNNAUNNNNNNNGCNNNNNANGCNNNNNNNNNUNNNANNGNNNNCCANAAUNGNNN\n",
        "(A((AA((......(((((((.....((AAA(AA.......AA)AAA))....))))))).....))AA))A)A"
       ]
      },
      {
       "output_type": "stream",
       "stream": "stdout",
       "text": [
        "\n",
        "GNNANNANANNNNAGUUGNANNNANNGANNNNNNNNNNNNNNNUNNNNNNNNNNUUCGANNNNNNAUGGNNUCG\n",
        "(((((((AAAA((.......))AAAA((AA.......AA))A.....(((((.......))))))))))))A"
       ]
      },
      {
       "output_type": "stream",
       "stream": "stdout",
       "text": [
        "\n",
        "AGCUUNNNAACUNNNNNNUAGANNNNGNNNNNNNNANNCUCGNNNNNCNAGNANCGAAANCNAGAGNAGCUA\n",
        "((((AAA..............(AAAAA((((.......))))AAAAA)AA(((A....A)))AAAAAA))))A"
       ]
      },
      {
       "output_type": "stream",
       "stream": "stdout",
       "text": [
        "\n",
        "GCCNNNNNAGNUNNNNNNNUAGANNNNNAGANNNNNAANCNNNNNNNNNNNGGNUCGNNNCCCCNNNNNNNCN\n",
        "(((AAAAAAA(A....A)AA(AAAA(((AA.......AA)))AAAA)AAA((.......))AAAAAAA)))A"
       ]
      },
      {
       "output_type": "stream",
       "stream": "stdout",
       "text": [
        "\n",
        "GCCNNNANNNNNNANNNNNNNANCNNNCNNNNNNUANNCNCNNNNNCNANNGUUCGANNCCANNNNNANNCA\n",
        "AAA(((AAA((((........))))A((((A.......A)))).....(((A(A.....A)A)))A)))AAAA"
       ]
      },
      {
       "output_type": "stream",
       "stream": "stdout",
       "text": [
        "\n",
        "GNNNNAGNAGCUNNNAUGGUAGAGNNNUCGNNUAGNNNNNGANNNNNAAANNGNUCGANACCCUNNUUCCUNA\n",
        "((((AAAAAAAAA.........AAAAAAA(((.......)))AA....((A((.......))A))AAA))))A"
       ]
      },
      {
       "output_type": "stream",
       "stream": "stdout",
       "text": [
        "\n",
        "GGNNNNANANNNNNAUUGGUUANNANNNNGGANNNNNNNNCCNNNNANNNNAGUUCGNNNNUNANNANNACCA\n",
        "(AAAAAAA(AA((....))AA)AAAAAA((.......))AAAAA...(A(((.......)))A)AAAAAA)A"
       ]
      },
      {
       "output_type": "stream",
       "stream": "stdout",
       "text": [
        "\n",
        "GCCNNNANANNANNNNNNNANNANNNNAGANNNNNNNNCNNNNNNNNCNNGGUUCGAUNCNNNNNNNNNNCA\n",
        "(A((AAAAAAA(((A(AAA(......)AA...A)A))....)AA...(A....A)...(((((.......)))))AAA))A)A"
       ]
      },
      {
       "output_type": "stream",
       "stream": "stdout",
       "text": [
        "\n",
        "GCAANNNNNNNNAAGNNNNGUUAAAUCNNNNNNANUUNNNNNNNNNNCNNNUNNGUUNNCGAGUUCGAANNUCNCCNNUNNCA\n",
        "(AA(((AAA(AAA(A....A)AAAA)AA((A(.......)A))AAAAAA...AAAAAAA(((.......)))AAA)))AA)A"
       ]
      },
      {
       "output_type": "stream",
       "stream": "stdout",
       "text": [
        "\n",
        "NNNANCNNANCNNNGNNNNNNANNNNNNCNNANNANNNAUNAGANCCNNNNNNNNNNNNAGGUUCGANNCCNNNCGANNNNG\n",
        "(AA((((AA(AAAAAAA(((...AAAA(((AAAAAA((AA.....AA))AAAAA)))AAAAA...)))AAAA)))))AA)A"
       ]
      },
      {
       "output_type": "stream",
       "stream": "stdout",
       "text": [
        "\n",
        "NNNANCNNANCNNNNNNGUUANNNNNNCNCCCNNNNAANNNNNNNNNUNNNNNNGCGNNNNNUCGAACCCNNNNNNNNNNG\n",
        "(((((AAA(A(......)A)A(AAAAAA((A.......A))AAAAAA)AA(((A....A)))AAAAA)))))A"
       ]
      },
      {
       "output_type": "stream",
       "stream": "stdout",
       "text": [
        "\n",
        "GCCCNNANANNUNNNNNGNUAGANNNCAANNNNNNNANNCUNNNNNNNNNNGGNUCGNNNCCCCNNNNGNNCN\n",
        "(A((A((AA(....AA(((...((AAAA((((.......))))AAAAA...))AA)))AA...)AA))A))A)A"
       ]
      },
      {
       "output_type": "stream",
       "stream": "stdout",
       "text": [
        "\n",
        "GNNNNNAUNGNNNANNCGGNNNNNANNNUUGCNNNNNNNNCAANNNNNNNNGNNNUCGANNNNNNNNNNNANNA\n",
        "((AAAAAAAAAAA........AAAAAA(A(A.......A)A)A....A((((.......))))AAAAAA))A"
       ]
      },
      {
       "output_type": "stream",
       "stream": "stdout",
       "text": [
        "\n",
        "NCCNANANNNNNNNNNNGUUANNANNNCCNNNNNNNNNCCNNNNNNNCCNGGUUCAAUUCCCGNNANNNGNN\n",
        "(AA(((AAAA((A.......A))AAAAA((AAAA...AAAA))AAAA(A((.......))A)AA)))AA)A"
       ]
      },
      {
       "output_type": "stream",
       "stream": "stdout",
       "text": [
        "\n",
        "GCNNCNNUNNUUNNNNNGUAGAANNNNNGCNNNCNNNNNNNNCNNCNCNNGUUCGAUUCCCNNNCGANNCA\n",
        "(((A(A...AAAA(AA((AAA(AAAA((((AA(...)AA))))AAAA)AA))A.......A)AAAAA)A)))A"
       ]
      },
      {
       "output_type": "stream",
       "stream": "stdout",
       "text": [
        "\n",
        "GCNGANNNNGNUNAGNNGNNAGANNNNANCNNNNNNANNNGUNNNNNCNCCNNNUCGNNNNNNNNNANNAGCA\n",
        "((A((AAAAAAA(AA(A....A)AA)A(AAAAA.......AAAAA)A(AAA(....)AAA)AA(((.......)))AAAAA))A))A"
       ]
      },
      {
       "output_type": "stream",
       "stream": "stdout",
       "text": [
        "\n",
        "GCCCNNNNNNNCCUNANNNNNNNNNNNUNNNNNNNNNAANNCNNNANNNNNNNNNNNNNNNNNNNGUUCAAUNCCNNNNNNNGNNCN\n",
        "(((AA(((((................((((AA............AA)))).......)))A))AA)))A"
       ]
      },
      {
       "output_type": "stream",
       "stream": "stdout",
       "text": [
        "\n",
        "GAGANNNUAGNAAANNAANNNNNNNNNNCNNNNNNNNNNAAANNANANNNNNNANNNCNGNANNNCUCA\n",
        "((AA(((((A......A)).....AAAA(.......)AAAA....AA((A.......A))AA)))AA))A"
       ]
      },
      {
       "output_type": "stream",
       "stream": "stdout",
       "text": [
        "\n",
        "ANNNNCUUANNNNAANNNANNNNNNNNNCNNNNAANNCCCNNNNNNNAGNNNAAAAUCCNCNNGCCCCNN\n",
        "(((AAA(AAAA(((....A(AAAAAA(((((.......)))))AAAAAA)A....)))A.....A)AAA)))A"
       ]
      },
      {
       "output_type": "stream",
       "stream": "stdout",
       "text": [
        "\n",
        "UAGANAGANNNUCGNNNNNUNNNNNNCUUAGNNNNUANCUAANNNNUNAANNNNNCGNNNNNNNNNNNNCNAG\n",
        "((A(AA(AA(((.....)))AA((A.........A))A....(((((.......))))))AA)A))A"
       ]
      },
      {
       "output_type": "stream",
       "stream": "stdout",
       "text": [
        "\n",
        "GNUANNNNNNCNNNNNAAGNNNUNNAUNNNANNNCNANNNNNAGAGNUNNNNNNCCUCNNNNNNNCA\n",
        "(AA((((AA(((((A....A))A)))AA((((.......))))A.....A((A.........A))A))))AA)A"
       ]
      },
      {
       "output_type": "stream",
       "stream": "stdout",
       "text": [
        "\n",
        "CNNUAANNNGCUAANNNNNNNUAAGCNCCAGCNNNNNNNGCUNNNNNNNNGNNNNNNNNAANNANCCUUAANGA\n",
        "(((((AAAA(((A....A)))A...(A(AA((A((((A........A))))A))AA)A)AAA)))))A"
       ]
      },
      {
       "output_type": "stream",
       "stream": "stdout",
       "text": [
        "\n",
        "NCUNUNNANNANUANNNNNNANNANNNGNNUCNAACCNNNNNNNNNNGGUUAGANNNCANNNAAAGAN\n",
        "A(((A....(((((((A......(((((.......))))).......A)))))))...A)))......."
       ]
      },
      {
       "output_type": "stream",
       "stream": "stdout",
       "text": [
        "\n",
        "NNAGANNNAGNUUAACCNNNNNNUUAGANNNNNANNCUAANAANNNNNGNUAAANNNNNCUAANNNNNN\n",
        "((AA((AAAA((A........A))AA((((AA....AAA)))).....A((((.......))))AA))AA))A"
       ]
      },
      {
       "output_type": "stream",
       "stream": "stdout",
       "text": [
        "\n",
        "GCNNCNAANNGANNNNNGNNNANCNNNUGGNNNNANNNACCAANAANNNUNGGNNNNANNCCAAGNAGNNGCU\n",
        "A(A((((AA((AAAAAA......AAAAAA))A....A(A....A)AAA((((.......))))A))))A)AA"
       ]
      },
      {
       "output_type": "stream",
       "stream": "stdout",
       "text": [
        "\n",
        "ANNAGANNNGCNNNNNNNNNNNNNNNUNNNCCNNNAACCNNNNNNNNCNAGNANCGAAANCNNNNUCNGANA\n",
        "AAA(A...(((A....A)))...AA(A......A)AA........AAAA((.....))AAAAAAAA((.......))AAAAAA)A..."
       ]
      },
      {
       "output_type": "stream",
       "stream": "stdout",
       "text": [
        "\n",
        "NNNGNNNNNGCNNNNNNGNUNNNNNCNNUGGNNNGNNNAANNNNNNNANANNNNNAUNNNNNNNNNGGUUCAAAUCCCANNNCCNNNN\n",
        ".....AA((((((((A......A))))))))AA...........(((AA.......AA)))........"
       ]
      },
      {
       "output_type": "stream",
       "stream": "stdout",
       "text": [
        "\n",
        "NNAANNANANUNNAANNAAAANAUUAGAUUNNNNANNNANNNNNAGANNNNNGAAANCUCNNNNUNNNC\n",
        "A((A(AAA((AA(AAAAAA((A...A))AAAAAAA)A))A.....AAA(A.....A)AAAA(A((.......))A)AAA)A))AA"
       ]
      },
      {
       "output_type": "stream",
       "stream": "stdout",
       "text": [
        "\n",
        "NNNNNGNNAGCNANNNCNNNCCNNNNGCNNNNNNNNNCNANNNNNNNNNNNNNNNNCNNNNNNGGUUCGAAUCCCCNNNACGNNN\n",
        "((AAA(AAA(((A....A)))AAAAAAAAAA((AAA...AAA))AAAAAAAAAAA...AA(A(((.......)))A)A)AAA))A"
       ]
      },
      {
       "output_type": "stream",
       "stream": "stdout",
       "text": [
        "\n",
        "GCNNNGANNNCNAANNNNNNCNNNNNNNNNNNNNNNNNNNNNNCNNNNCCNNNNNNNNNNNNAGGUUCAAAUCCNNNNCCCNNCA\n",
        "((AA((A((A...A(((........)))AA(((((AA(AA(((AAA(A....A)AAAA)))A)AA)))))A))AA))AA))A"
       ]
      },
      {
       "output_type": "stream",
       "stream": "stdout",
       "text": [
        "\n",
        "GNUAGNNNNNNNNNGCNNNNNANNNCGCNNGAUUNNNGNNNNNNNNUNNNNNNANNNNNNNGUUNGAAUCCNANCGCNNNCA\n",
        "((((((A.......A(A.....A)AA(((((.......))))).....A((AA.......AA))AA))))))A"
       ]
      },
      {
       "output_type": "stream",
       "stream": "stdout",
       "text": [
        "\n",
        "GNUUCCNNANNNNANUGNUNNNNANNNUCNCNNANNNNNCGAANNNNNCCNNNANNNAANCNANNCGGAAANA\n",
        "((A(((AAA((AA(AAA......AAA)AA))A....A(A....A)AA(((AA.......AA)))A)))A))A"
       ]
      },
      {
       "output_type": "stream",
       "stream": "stdout",
       "text": [
        "\n",
        "AGNAGANNNGCNNNNNNNNNNNNNNNNNNNCCNNNAACCNNNNNNNNGANNNANCGAANCNANCNUCNNCUA\n",
        "(((((AA.......A(A.....A)AA(((((.......))))).....AA(((((...)))))AAAA)))))A"
       ]
      },
      {
       "output_type": "stream",
       "stream": "stdout",
       "text": [
        "\n",
        "GCUUCNNNANNNNANUGNUNNNNANNNUCNCNNNNNNNNCGAANNNNNCCCGNNUNGNAANCNNNNAGAAGCA\n",
        ".....(AAA((((AAA((AAA(A........A)AAA...))AAA((((...))))AAAAA((.......))AAA))))AAA)"
       ]
      },
      {
       "output_type": "stream",
       "stream": "stdout",
       "text": [
        "\n",
        "NNANNNNNNNCCGNNNNGNNAANNNNAUNNNNUNNNAAUCNNNNNGGGUNNCCCCNNNNNGGUUCGAAUCCNNNNNNNNNCG\n",
        "((AA((AA(((A....A)))A...A(((A((.......))A)))AA((....))AAAAA(((.......)))AAA))AA))A"
       ]
      },
      {
       "output_type": "stream",
       "stream": "stdout",
       "text": [
        "\n",
        "NNAGNNNNNGNNNNNNNGUUANNNNGANNNANNANNNANCNAUNNNGNUNNNCCNNNNNAGGUUCGAAUCCNNNCGANNANN\n",
        "((AA((AA(((A....A)))A...A(((A((.......))A)))AA((....))AAAAA(((.......)))AAA))AA))A"
       ]
      },
      {
       "output_type": "stream",
       "stream": "stdout",
       "text": [
        "\n",
        "NNAGNNNNNGNNNNNNNGUUANNNNGANNNANUNNNAANCNAUNNNGNUNNNCCNNNNNAGGUUCGAAUCCNNNCGANNANN\n",
        "((AAAA...A(A(.....)A)AAA((A((A...A))A))A...AAAA(A......A)AAAAAAAA))A"
       ]
      },
      {
       "output_type": "stream",
       "stream": "stdout",
       "text": [
        "\n",
        "AANNNANNNGAAAANNNNNNNNNNAANUNNNNNAAAGNUAAANNANANNNNAAAUCCNANANANNUUA\n",
        "((((((...AA(A.....A)AAAAA(((.......)))AA...((((AA......AA))))))))))A"
       ]
      },
      {
       "output_type": "stream",
       "stream": "stdout",
       "text": [
        "\n",
        "ACUCUNNNANNANAAANANNNNNNNUAANNNNNAANUAANNANNNUNGNNNNNNNNNAAAAAAGANUA\n",
        "AAA((AA(((AA....AA)))AAAAAAAA((.......))AAAAAAAA((((.......))))AAA))A..."
       ]
      },
      {
       "output_type": "stream",
       "stream": "stdout",
       "text": [
        "\n",
        "NNCCNNNUNNNNNANNGNNNANNNNNNNNCNNNNNNNNCNCCNNNNCCCNGGUUCGAUUCCCNNNNANNNNN\n",
        "A((A(AAAA((((........))))AA(((A.......A)))A.....A((((.......))))AAA)A))AA"
       ]
      },
      {
       "output_type": "stream",
       "stream": "stdout",
       "text": [
        "\n",
        "NGNUCCNNAGCUNNNNNNUUAGAGCNNNGGNNNNNNAAACCNNNNNNNGCGAGUUCAAUNNUCGNNNNNGNUN\n",
        "(((((((....((AAAAAA.....AA(A....A)AA......AAAAAAAA)).....(((((.......))))))))))))A"
       ]
      },
      {
       "output_type": "stream",
       "stream": "stdout",
       "text": [
        "\n",
        "GNUGGGGUNNNCGNNNNNNNNNNNNNNNNNNNNUNNNAANNNNCCNNNNNCGNNNNNGANGGUUCGAAUCCUUCCCCNNCCA\n",
        "(A(AA(AAAA(AA........AA)AAA(A((.......))A)A....A((((.......))))AA)AA)A)A"
       ]
      },
      {
       "output_type": "stream",
       "stream": "stdout",
       "text": [
        "\n",
        "GNNCCCNNNGNNNNNNGGUUANNANNNNNNANNNNNNNNCNAGNNNNCCGNGUUCAAANNUCNNNNNNANCN\n",
        "A((((((.......(AAA(AA((((AAAAA(AAAA((...))AAAA)AAAAA))))....)AAA)))))))AA"
       ]
      },
      {
       "output_type": "stream",
       "stream": "stdout",
       "text": [
        "\n",
        "NCUUCGANNGNUNNGNNNGNAGNNNNNNNNANNNNAGNNNCNNANNUNNNNNGNUCGAUUNNNNCUCGANNNN\n",
        "((((((AAA(A........A)A.......(((((.......)))))......A(A((.......))A)AA))))))A"
       ]
      },
      {
       "output_type": "stream",
       "stream": "stdout",
       "text": [
        "\n",
        "GCNAAGNNNNNNNNNNUNNNCCNNNNNNNNCCNCNNNNNNNNCGNNNNNNNNNCCGGUUCAAAUCCNNCCCUNNNCU\n",
        "(AA(AAAAAAAA......AAA....A((A(A(.......)A)A))A...(AA((.......))AA)AAA)AA)A"
       ]
      },
      {
       "output_type": "stream",
       "stream": "stdout",
       "text": [
        "\n",
        "GNNNNNNNNNCNNANNNNNNNNNNNNGANNNNNNNNNNNNNANNCGANNNNNGGUUCGAAUCCCNCNNNCCCCA\n",
        "((((((A...(A.......A)AAAA((A.......A))AAAA...(((AA....AA)))A))))))A"
       ]
      },
      {
       "output_type": "stream",
       "stream": "stdout",
       "text": [
        "\n",
        "NUAAUNNNANCNNANNNNNNNNANANCNNNNNUAANGANANAAUNGAANANNNNNANUCNAAUUAAN\n",
        "((((((AAAAAA.........AAAAA((((.......))))AAAAA((((A.....A))))AAAAAA((.......))AAAA))))))A"
       ]
      },
      {
       "output_type": "stream",
       "stream": "stdout",
       "text": [
        "\n",
        "GGAGANNUNNNNNNNNNNNNNNNNNNCGNANNNGNAANCCNCCNNNCCAANNNNNAAUNGGNNNNNNGGUUCAAAUCCNNNNNUCUCCN\n",
        "(((((((AA((((........))))AAAAA(.......)AAAA.....AAA(A.......A)AAA)))))))"
       ]
      },
      {
       "output_type": "stream",
       "stream": "stdout",
       "text": [
        "\n",
        "NCCNCCNNAGCUNNNNUGGUAGAGNNNUNGANNNNUAAUNNNNNNNNNNNNAGUUCGNNNNNNNNNNGCGNA\n",
        "AAA(((AAAA(((.........)))AAAA((((A...A))))AA.....AAA((.......))AAAA)))AAAA"
       ]
      },
      {
       "output_type": "stream",
       "stream": "stdout",
       "text": [
        "\n",
        "NNNNNAGNNNCUNNNNNNGGUAGAGNNNCNNGNNNNNNNCCANNNNNNNNNAGGUUCAAAUCCNNNNUUCCCNN\n",
        "(((((A(AA(((((((AAAAAAAAAAA((A(.......)A))AAAAAAAAAA)))A)))).....)A)))))A"
       ]
      },
      {
       "output_type": "stream",
       "stream": "stdout",
       "text": [
        "\n",
        "GGAGGANNAGCUCAGNNNNNNNNNNNNCNNCNNNNNNNNNAGNNNNNNNNNNGNUCGAGCNNNNNNNCCNCCA\n",
        "((((AAAAAAAAA...AAAAAAAAA(AA(((A.......A)))AA)AAA(((((.......)))))AAA))))"
       ]
      },
      {
       "output_type": "stream",
       "stream": "stdout",
       "text": [
        "\n",
        "GNNCNANNNNNNNNNNNNNNNNNNNCNNCNCCNNNNNNNNNANNNGANNNCNNGUUCAAAUCCCNNANNNANN\n",
        "((((((AA((AAA((AAAA(((A....A((A(.......)A))A...A)))AAA))...AAA))AAA))))))A"
       ]
      },
      {
       "output_type": "stream",
       "stream": "stdout",
       "text": [
        "\n",
        "GCACCCNNAGNNNAANNNNAUANNNNNNCUNANNNNNAAUNAGNNNNNUNNNNNNNNNNNNNCNANNNGGUNCA\n",
        "AAA((AAAAA(A..........A)AAA((AA.......AA))AA...AA(((.......)))AAAA))AAAA"
       ]
      },
      {
       "output_type": "stream",
       "stream": "stdout",
       "text": [
        "\n",
        "GNNCCNNNNNNNNNNNNGUUNNNNNNNCNCCNNNNNNNNNCNNNNNNNNNGGUUCAAAUCCCNNNNNNNNNA\n",
        "(AAA(((AAA(A...........A)A....((A((AAA(((AAAAAAA...AAAAAAAA)))AA))A))....)))AAA)A"
       ]
      },
      {
       "output_type": "stream",
       "stream": "stdout",
       "text": [
        "\n",
        "GNNNGANNNNCNNNNUUNNNNNNNNNNNNNNANUUNNNANNNNNNNNNNNNGACNNNNNNNUUNAAGNCNNNNNNCCCCCA\n",
        "(((AA(AA((A((((((A......AAAA....AAAA...A))))))))........(AA((.......))AA)A)AA)))A"
       ]
      },
      {
       "output_type": "stream",
       "stream": "stdout",
       "text": [
        "\n",
        "GGANNNNNAGNGAANNNNNNAANNNNNNNNNNNNNNNNNCNANUUCCNNNNNNUUNNNNGGUUCGAAUCCCNCCCCCNCCA\n",
        "AAA(((AAAA(((.........)))AAA((AA(A...A)AA))A.....AAA((.......))AAAA)))AAAA"
       ]
      },
      {
       "output_type": "stream",
       "stream": "stdout",
       "text": [
        "\n",
        "NNNNNAGNNNCUNNNNNNGGUAGAGNNUUCNNNNNNNNNNCGANNNNNNNNAGGUUCAAAUCCNNNNUUCCCNN\n",
        "((AAA((AA((((........))))AAAAAA.......AAAAAAAA(((A....A)))AAA....))AAA))A"
       ]
      },
      {
       "output_type": "stream",
       "stream": "stdout",
       "text": [
        "\n",
        "GNNNCCNNAGCUNNNNNNNNNGAGCNNCNNNNNNNNNNNNNNNNNNNCGNNNNNUCGANCCNNNNAGNNNCCA\n",
        "(((((AAAA((((.........))))AAAA(A.......A)AAAA(AA((A....A))AAA)A...AA)))))A"
       ]
      },
      {
       "output_type": "stream",
       "stream": "stdout",
       "text": [
        "\n",
        "GCCCNNNNAGCUNNNNNNNNNNGAGCNNNCNCNNNNNANNNNNNNNNNNNNNANNUNGNNNCNNNNNNNNGNCA\n",
        "(AA(((AA(A((A.......A))A)(A(((.......)))A)....AAAA(.......)AAAAA)))AA)A"
       ]
      },
      {
       "output_type": "stream",
       "stream": "stdout",
       "text": [
        "\n",
        "GCANNNNNAGNUNNNNNNNNNAANNNNAGCNNNNNNNGCNGANNNNNNNNGUUCGAUUCCCUNNANCNNCU\n",
        "(AA(AA(AA((AAAAA(AAA((((A....AA))))...AA)AAAA))AA((((.......))))A)AA)AA)A"
       ]
      },
      {
       "output_type": "stream",
       "stream": "stdout",
       "text": [
        "\n",
        "NNNNGAUNAGNNNNNNNNNNNGANNNANNNNNUCNNANNNANNNNNNNNUGGGUUCGAUUCCNANANNANNNA\n",
        "((((((AA(AAAA((AA(((A.......A)))AAA))AAAA)AA...AAA((...))AAAAA((AA(.......)AA))A))))))A"
       ]
      },
      {
       "output_type": "stream",
       "stream": "stdout",
       "text": [
        "\n",
        "GGGNUAANNNNNNAGNUGGUNNNNNNNNNANCNNNCUNNNNNNNNNNNNNNNNNNNCNNNNNGNNNGUUCGNNNCCCUNNNAACCCG\n",
        "(((A(A(((AA(((AA((......))AA)))A))...AAA....AAAAA((((.......))))A)A)A)))A"
       ]
      },
      {
       "output_type": "stream",
       "stream": "stdout",
       "text": [
        "\n",
        "GCNNANNNAGNUNNNNUGNUANNNNAANNGNNNANNNANNNANNNNNNGNNGGUUCAAAUCCUNNAGNNAGCA\n",
        "((((((AAA((A(AA((AA...(AAA(A(A.......A)A)AAAAA)AA))AA)A)....)AAAA))))))A"
       ]
      },
      {
       "output_type": "stream",
       "stream": "stdout",
       "text": [
        "\n",
        "NNNGCNANAGCNANNCNNNNNNNCANNNNNNNNNNNNNCCCNNNNNCNCCNNNUNGNANNCNNNNAGCCCAN\n",
        "AA((((A......((AAAAA......AAAAA))....AAA....AAAA(AA((.......))AA)A))))AAA"
       ]
      },
      {
       "output_type": "stream",
       "stream": "stdout",
       "text": [
        "\n",
        "GANUCGNNAGNUNNGCNNNNNNNNNNNNNNNNNNNNNACNNNNNNNNNCNNGGUUCGAAUCCCCNNNGNNNNA\n",
        "(AA((((AA((((.........))))AA(((A.......A)))A.....A((((.......))))A))))AA)A"
       ]
      },
      {
       "output_type": "stream",
       "stream": "stdout",
       "text": [
        "\n",
        "GNNCCCANNNNGANNNNGGUNNNCGCNNCNCCNNNNNNNNNANNNNNNNNCNNGUUCGNNNCCCNNNGGNNNNG\n",
        "(AA((AAAA((A....A))AA...AAAA((A.......A))AAA...(((((.......)))))AA))AA)A"
       ]
      },
      {
       "output_type": "stream",
       "stream": "stdout",
       "text": [
        "\n",
        "GNNAANANNNCNNNNNNNNNANNNNNNNNNNNNNNNNNNNCCNNANNNNCNGUUCGAANCCGANNNNNNCCN\n",
        "A((((AA.......AA((...........A(((AAAAAA(A(A....A)A)AAAAAA)))A))AAAA))))AA"
       ]
      },
      {
       "output_type": "stream",
       "stream": "stdout",
       "text": [
        "\n",
        "NNCCNNNUGNNNANNNGGUUANNNNNNNNNGUUNNNNNCCNUNNNNNNACNNNNUNGAACCCCNNNNANNNNA\n",
        "((((AAAA(((((AA(AAAA......AAAA)AA)A)))).........AAA((.......))AAAAAA))))A"
       ]
      },
      {
       "output_type": "stream",
       "stream": "stdout",
       "text": [
        "\n",
        "GNUNNNNNAGCUNANNNNNUNNNNNNNNNNANNNNAGCNNNNNNNNNNNNNGGUUCAAUNCCNNNNACGACCA\n",
        "A(((A(AAA((((........))))AAA(A(.......)A)AA.....AA(((.......)))AAA)A)))AA"
       ]
      },
      {
       "output_type": "stream",
       "stream": "stdout",
       "text": [
        "\n",
        "NNCNNNNNAGAGNNNNUGGUAGCUCNNCNNNNUNNNANNCCNNNNNNNNNAGGUUCGNNNCCNNCCCCCNCNN\n",
        "((AAAAA...AA(AA(A.....A)AA)AAAAAAAA.......AAAAAAAA(((.......)))AAAAAAA))A"
       ]
      },
      {
       "output_type": "stream",
       "stream": "stdout",
       "text": [
        "\n",
        "GCNNANNNNNNNANNUNNUUANNANNUNNNNUNNNNNNNNNNNNANNNNNNNGUUCGANNCCCNNNNNNCNCN\n",
        "AA(((AAAA((...))AA....(AAAAAAAAA.......AAAAAAAAA)A((((.......))))AAA)))AAA"
       ]
      },
      {
       "output_type": "stream",
       "stream": "stdout",
       "text": [
        "\n",
        "NNGAANANAGCUNNGCNNNUUAGANNNNNCCNNNNANANNNNNNNNNNNNNUGGUUCNANNCCAANNANUCCNN\n",
        "AA(((((AAAAA...........AAAAA((((.......))))AAAA(........)AAAAAAA((.......))AAA)))))AAA"
       ]
      },
      {
       "output_type": "stream",
       "stream": "stdout",
       "text": [
        "\n",
        "NCCCAANNNNCNNNNNNNNUANNNNNNNNNNANNNAAAANCNANNNNNNUNANNNNCNNNNNCCGGUUCNANNCCNNNNUNGGNNN\n",
        "A(((A(A(((((.....)))))(AAAAA((((.......))))AAAAA)(((((.......)))))A)A)))AA"
       ]
      },
      {
       "output_type": "stream",
       "stream": "stdout",
       "text": [
        "\n",
        "NNCNNNNNAGNNNNNNNGGNUAGANNNNUCNGUUNNNNNCCGAANNNNCGAGAGUUCAAANNUCUCCCCCGCNA\n",
        "(((((((..............A(AAA(A(A.......A)A)AAAA)AAAAAA......AAAAAA)))))))A"
       ]
      },
      {
       "output_type": "stream",
       "stream": "stdout",
       "text": [
        "\n",
        "AGGAGAGNANNUCAANGGUANNNCNNNNNNNNNNNANANCGNNNNNNNNNNNUUCGANNNCNNNNUCUCCNN\n",
        "(((((A(AAAA...AA(A........A)AAAAAA((AA.....AA))AAA(AA.....AA)AAAAAA((.......))AAA)A)))))A"
       ]
      },
      {
       "output_type": "stream",
       "stream": "stdout",
       "text": [
        "\n",
        "GNNNGAUNNNCNNNNNCNNNNNNANNNNANNNNNNUNNNNANNCNNGNNNNNNNNNAANCGNNNNNNGGUUCGAAUCCCUNNNNUUCNG\n",
        "(((A(A(AA((((........))))....A(AA((.......))AA)AAAA((.......))AAA)A)A)))A"
       ]
      },
      {
       "output_type": "stream",
       "stream": "stdout",
       "text": [
        "\n",
        "GCNNANNNAGCUNNNNNNNNNNAGCNANNNANUNNNNANNNNNANGUNNNAGGUUCGAUNCCNANAGNNAGCA\n",
        "((AA(A(AA(((A........A)))AA(A(A.......A)A)A.....AAA(A.......A)AAA)A)AA))A"
       ]
      },
      {
       "output_type": "stream",
       "stream": "stdout",
       "text": [
        "\n",
        "ANNNNNANAGNUNNNNNNNUAGAANNNCNNNNNNNAANANCGNNNNNNNNNNGUUCGNNNNUNNNNNCCCCNN\n",
        "(A((A((AA((AA.........AA))AA((A(.......)A))AAAA((A.....A))AAAAAA(((.......)))AA))A))A)A"
       ]
      },
      {
       "output_type": "stream",
       "stream": "stdout",
       "text": [
        "\n",
        "GCCNNNNNNGCCNNNNNNNNUNNNNNNNNNNCNNNNNANNCCGANNANCNNNUNNNGANCNNNNNNGUUCAAAUCCCNNCCCCNNCN\n",
        "((AA(((A.....((((AAAA...AAAA(((A.......A)))AAAAAAAAA)))).........A)))AA))A"
       ]
      },
      {
       "output_type": "stream",
       "stream": "stdout",
       "text": [
        "\n",
        "GNNNCCANAGNUNANNNNNNNNNNNNNNCNCCNNNNNNNNGCNNNNNCCCNNNNNUNAAANNNNNNUNGNNCCA\n",
        "((A(((AAA((...))AA...((AAAA((((.......))))AAAA))(((((.......)))))A)))A))A"
       ]
      },
      {
       "output_type": "stream",
       "stream": "stdout",
       "text": [
        "\n",
        "GCCNCNNNAGCUNNGCNNNUAGANNNNGAGANUNNNNANCUNNNNNNNNCNNGUUCAAAUCCCNCCCGNNGCU\n",
        "(AA((A(A((AA(AA......AA)AA))AAAA((AA...AA))AAAA...A((((.......))))A)A))AA)A"
       ]
      },
      {
       "output_type": "stream",
       "stream": "stdout",
       "text": [
        "\n",
        "GNNNCNNNAGNNNAGNNNNNNNNANCCNNNNNNCUNUNNNNGCNNNNNNNCCCGGUUCAAAUCCNGNNNGCCCCA\n",
        "((AA((AAAAA......AAAA...AA((A(A(....)AA)A))AAAAA((((.......))))AA))AA))A"
       ]
      },
      {
       "output_type": "stream",
       "stream": "stdout",
       "text": [
        "\n",
        "GCCCNNNNNNNNNANNNNNNNNNNNNNNNNNNNNNNGNNCCCNNNNNNNGGGUUCAAUUCCCNNNNANNNCN\n",
        "(A((A(AAAA(((.........)))AA((((A.......A))))A....AA(((.......)))AAA)A))A)A"
       ]
      },
      {
       "output_type": "stream",
       "stream": "stdout",
       "text": [
        "\n",
        "GNNCCCNNAGCUNNNNNNNGUAGAGNNNUNNNNNNNNANNNAANNNNNNNNNNGUUCAAAUCCCNNNGNNCCCG\n",
        "(AA(AAA((AAA....AAA))AAAAAA(((AA.......AA)))AAAAA(A(((.......)))A)AAA)AA)A"
       ]
      },
      {
       "output_type": "stream",
       "stream": "stdout",
       "text": [
        "\n",
        "GCCNCCNNANNNNNNNNNNNANNNNNNNUCNNNNNNUANNCGNNNNNNNNCAGGUUCGNNNCCNNNCNNCNNCN\n",
        "((((((AA(AAA.....AAA)AAAA(((A(AA.......AA)A)))AAA(AA((.......))AA)A))))))A"
       ]
      },
      {
       "output_type": "stream",
       "stream": "stdout",
       "text": [
        "\n",
        "GNNCCCANANNUNANNNNNNNAGANCNCCCNNNUNNNANNCNNNCNNNNNNNGGUUCGAAUCCCANNGGNCCCA\n",
        "(((AA(A((AA........AA))....AA(((A((....)A)A)))AAAAA((((.......))))AA)AA)))A"
       ]
      },
      {
       "output_type": "stream",
       "stream": "stdout",
       "text": [
        "\n",
        "GCNCCNNNGNNNNANNNNNNNNNANNNNNUCNNNNNNNNGNNCCGANNNNNCNNGUUCAAAUCCCGNNCNNNGCA\n",
        "(((A((AAAAAA...........AAAAAA((AA....AAA))AAAA(A.....A)AAAAAAA(.......)AAAAA))A)))A"
       ]
      },
      {
       "output_type": "stream",
       "stream": "stdout",
       "text": [
        "\n",
        "GCGNNGNNNNCNNNNNNNNNNANNNNNNNANNNNNANNNNCNNNNNNNNNNNNNNNNNNNNNGUUCGAAUCCCNNNCCCCGCA\n",
        "((AA((AAAA((.....((AA......((AA(.......)AA)).......AA)).....))AAAA))AA))A"
       ]
      },
      {
       "output_type": "stream",
       "stream": "stdout",
       "text": [
        "\n",
        "GCNNNGNNNNNNNANNNGGNNNNNNNNNNNNNNNNNNNNNCCCNNNNNUNNNGUUNAAAUCCNNNNCCNNGCN\n",
        "((AAA((AA((((........))))AAAAAAA(...)AAAAAA.....A((((.......))))A))AAA))A"
       ]
      },
      {
       "output_type": "stream",
       "stream": "stdout",
       "text": [
        "\n",
        "GNNNUNNNAGCUNNNNNNNNNNAGNNNNNCNNUNNNNACNCCNNNNNNNNGGGUUCAAAUCCCNNNNNNNCCA\n",
        "(((A((...AAA......AAAAAA(((((...)))))AAAAAAAA((((.....))))AAA))A)))A"
       ]
      },
      {
       "output_type": "stream",
       "stream": "stdout",
       "text": [
        "\n",
        "ACNAUUNNNNNNNAUUANNNNNNNAAAUUNANAAUUNANNNNNANAANUNAANNAANNANAAANAGUA\n",
        "...A((AA(AA.....AA)AA))AAA(((.......)))AA...A((((A....A))))A......."
       ]
      },
      {
       "output_type": "stream",
       "stream": "stdout",
       "text": [
        "\n",
        "ANNNANANANNNNNNAANNNNANANNNNANNNNNAAUCANANNNNNUAAANNANNUUAGNNNNAANA\n",
        "(A(AA((AA(AA(((((.......)))))AA)A(((...)))A(((A(((...)))A)))))AA)A)A"
       ]
      },
      {
       "output_type": "stream",
       "stream": "stdout",
       "text": [
        "\n",
        "ANNNNAANAGNNAANNANANNNNNNAAUUNNNNNUUAANAAGNAUNGAAUNNAAUUNAANUNACNNNA\n",
        ".........((AA.......AA))AA((A((A...A))A))AAAAA(((((...)))))AAA....."
       ]
      },
      {
       "output_type": "stream",
       "stream": "stdout",
       "text": [
        "\n",
        "ANNNAANNAGCUNNNNANUANNGCNNAANAUNNANNANNNUNNNNNAAUNANNNNAAUUNNNAAANA\n",
        "(((((((((.....(((A(AA....((((AA(((......)))AA))))...AA)A)))...)))))))))A"
       ]
      },
      {
       "output_type": "stream",
       "stream": "stdout",
       "text": [
        "\n",
        "CAAUUUAANGCUNAAUUANNAANNNANNNNNNUUNNNNNNNAANNAAANNNNNNNNAAUNNANUUAAAUNGA\n",
        "((((((AAAAA(AAAA......A((((A(AA...AA)A))))A......AAAA)A....AAAA))))))A"
       ]
      },
      {
       "output_type": "stream",
       "stream": "stdout",
       "text": [
        "\n",
        "CAGAGAANAGNUNAANNNANNNNNUUAGCUNUNNNNGNUAANNNNNNNNNNNNAANNNNNNNNUCUCNGA\n",
        "A(AAAAAA(((......)))AAAAAA).....................A((((.......))))A........"
       ]
      },
      {
       "output_type": "stream",
       "stream": "stdout",
       "text": [
        "\n",
        "NUNNCNNNAGNNANNNNNNUAANNNNNNNANNNNAAAANNNNNNNNNNAGAGGUUCAAAUCCUCNNNNNAANN\n",
        "(A((AA((AAA.....AAA)AAAAA......AAAA...........(((((.......))))))AA))A)A"
       ]
      },
      {
       "output_type": "stream",
       "stream": "stdout",
       "text": [
        "\n",
        "GNNNNNGUNNNNNNNNNNNAANNNNNNAAAUNNNAAANNNNNAANNAAAGGUNNAANNCCUNNNNNNNCNA\n",
        "((((((((.....)))....(A(A((AA((AA...A(AAA.....AAA)AAAAA))AA))A)A))))))A"
       ]
      },
      {
       "output_type": "stream",
       "stream": "stdout",
       "text": [
        "\n",
        "AAGGAANUNNNUAAGNNNNAANANNNNNUNNNNNNNNNNNNNNANNNNNNAAANAANCNANNNNUCCUUA\n",
        "AAA((((AA((((........))))A((A((A....A))AA))A...((AA((.......))A))))))AAA"
       ]
      },
      {
       "output_type": "stream",
       "stream": "stdout",
       "text": [
        "\n",
        "GNNAAAGNAAGCUAAANNNUAAGCUNUUNNNNNNNNNCNNNAAAAANAGNNNNANAANAANCNCNCUNNANN\n",
        "((AAAAAAA((((A......A))))..........AAAAA(.......)AAAAA.........AAAAAA))A"
       ]
      },
      {
       "output_type": "stream",
       "stream": "stdout",
       "text": [
        "\n",
        "NCNNGNANNGCUNNNNAANNNAAGCNNNNNNNNNNNACNNNNNANAANUNNNNNNNANUCGNNNNNNNUGGN\n",
        "A(A((AAA(A(A((((......))))A)A)AAA))A)A......A(AA.........AA)A........"
       ]
      },
      {
       "output_type": "stream",
       "stream": "stdout",
       "text": [
        "\n",
        "NGUNUNNUANNNNAANNANNNNAUUANAUUNCAAANNNNNNNANNCNNNNNNNNNNNNCNCNNAAANNN\n",
        "(A(((((AA((((...))))A(((A.......A)))A.....A(((AAA....AA)))A)))))A)A"
       ]
      },
      {
       "output_type": "stream",
       "stream": "stdout",
       "text": [
        "\n",
        "ANAGAUNNAAGNUANNAACNAAAANNNNNAANNNUNNNNANANNGANNNNNNNCCUCUNAAUCNNNA\n",
        "AA((A...A(((A(AA....A(A...(A(((((...)))))A)AA)A....AA)A)))AAAA))A......."
       ]
      },
      {
       "output_type": "stream",
       "stream": "stdout",
       "text": [
        "\n",
        "NNGAANNNAGNUNAANNNNNAAANNNNNUGCUNNNNAAGCNNANNUNNAANNNUNAACNNNNUNAANNNNNA\n",
        "AA(((AAA(((((.......))))A((((A.......A)))).......)AAA)))AA.........."
       ]
      },
      {
       "output_type": "stream",
       "stream": "stdout",
       "text": [
        "\n",
        "GNUAANNNAGCUUAAAANNAAAGCNNNNCANNNAAAANNCCUNNNNNNNNANNNUAANNNNNNAANNA\n",
        "((((((AAAA(((.....)))AAA(A((.......))A)A.....(AAA....AAA)AA))))))A"
       ]
      },
      {
       "output_type": "stream",
       "stream": "stdout",
       "text": [
        "\n",
        "CAAGANANAGCUUAANNNAANNNNCNAGNUNNNNNCNAGNANANNUNANNNNNNNGAANANNUUGA\n",
        "A((((AAA(AA(((AAAA(((AA(((((AA.......AA)))))AA)))AAA)A))AAA)AAAAA))))AA"
       ]
      },
      {
       "output_type": "stream",
       "stream": "stdout",
       "text": [
        "\n",
        "NUNUNANNAGCUCAANNNNAGNNNAAAANNNNNNNANNANUUNGANCNANNNUNGNNNNNNANANAAGNNN\n",
        "(((((((A(A((AAAAAA.............AAAAA))A)A.....A(((A.......A)))A)))))))A"
       ]
      },
      {
       "output_type": "stream",
       "stream": "stdout",
       "text": [
        "\n",
        "GCNAAANNANNUNAANGGUANNNNNNNNNNNNNANNNANNANNNNNNAGAANUCGANNNUCUCCUUNNNCU\n",
        "A(((A(AA(AAAAA(AAAA(((A........A)))AAAAA)AAAAA)AAA((.......))AAAA)A)))AA"
       ]
      },
      {
       "output_type": "stream",
       "stream": "stdout",
       "text": [
        "\n",
        "NNGANNNNAGNNNAANNNNAAAANNNNNNNNNNUNNANNANNNNNNNANAGGUUCGNNNCCNANAANUCUNA\n",
        "A(A(AAA..........A(AA((A.....A))AA)A...........AA(((.......)))AAAAA)A)AA"
       ]
      },
      {
       "output_type": "stream",
       "stream": "stdout",
       "text": [
        "\n",
        "ANNANNANNNNNUANNANNNNGANNNNUNNNCNNCNNANNNNANNNNNNCGANUCGANNUCGNNNAGNNANA\n",
        "AAA((((........A(((((A(A....A))))))A..........AA(((.......)))AA))))AAAA"
       ]
      },
      {
       "output_type": "stream",
       "stream": "stdout",
       "text": [
        "\n",
        "ANNNCNANNNNNUANNGNNANNNNNNNNAGCNACCNNNNANNANNNNNCGANUCGANNUCGNNNAGCCNNA\n",
        "(((((((AA(A((........))A)A((AAA(A...A)AAA))A....AAA((.......))AAA)))))))A"
       ]
      },
      {
       "output_type": "stream",
       "stream": "stdout",
       "text": [
        "\n",
        "GGGUUAGNAGNUUANNNNNNAAANNNNUNNNNNNNNANNNNAGNNNNNNCCGGUUCNANNCCNNNCNAACCCG\n",
        "(A(((((........AAA(AA........AA)AAA......AA(AA....AA)AAA((A((.......))A)))))))A)A"
       ]
      },
      {
       "output_type": "stream",
       "stream": "stdout",
       "text": [
        "\n",
        "GNNAAAGNNNNNNNNNNUANNNNNNNNNNNNNNNNNANNNNNNNNNNNNNNCANANAGANNNUCGAANNANCNCUNUCCCG\n",
        "(((((AAA((A((AAAA......AAAA))A))..............A((((.......))))AAA)))))A"
       ]
      },
      {
       "output_type": "stream",
       "stream": "stdout",
       "text": [
        "\n",
        "AAGANNANAGNUUAANNNNAAANNNNNAAGCNNNAANNNNNNNNNNNUUAGUUCAAANNUAAGNNNUCUNN\n",
        "((((A....A(((........)))AAAAAAA((...))AAAAAAAA(AAAAA.......AAAAA)AA))))A"
       ]
      },
      {
       "output_type": "stream",
       "stream": "stdout",
       "text": [
        "\n",
        "GNUUNNNNAANUUAANNNNNAAAGNNNNNNNUNNANAANNANNNNNUNNNNNNUCGNNNNANNGANGAANNA\n",
        "(((((AA((((AAAA(AAAA(A(A.....A)A)....AA)AAAAA))))A.......AAAAA.......AAAAAAA)))))A"
       ]
      },
      {
       "output_type": "stream",
       "stream": "stdout",
       "text": [
        "\n",
        "AGAGANNUGGNNNNNNNGNANNNNNNNNAGCUNNNNNNNANNNNAGUUAAAANNNNNNNANNNUCGAANNNNANNNUCUCNN\n",
        "((((((AAAAAA.........AAAAA((AA.......AA))A.....AAAAA.......AAAAAA))))))A"
       ]
      },
      {
       "output_type": "stream",
       "stream": "stdout",
       "text": [
        "\n",
        "CANNNUANNNCNNNNNNGUUNNNNNNNUNNNNNNNNNNAAGNAAUNNNNNNNNUCGAANNANAANAANCNNA\n",
        "(((AAA(AAAA(A.......A)AAA(((A.........A)))....AA((AAA...AAA))AA)AAA)))A"
       ]
      },
      {
       "output_type": "stream",
       "stream": "stdout",
       "text": [
        "\n",
        "GCCNNGNUANNANAAAANNAANNNNNCNNNNNNNNNANNNGAANNAANAANNNNNANNNUNNNANNNNGCU\n",
        "A((((((AAAAAAAAA(A............A)AAAAAAAAA)A((AA(AAAA......AAAA)A)))))))AA"
       ]
      },
      {
       "output_type": "stream",
       "stream": "stdout",
       "text": [
        "\n",
        "NACCCAANNGNNNNNANNNUUNNNNNNNANNANNNNNNNNNNNAGNNNNNNNNNUCAANCCUCCCUUGGGNNN\n",
        "(((((((AAA(((........)))AAA(((A.......A)))A....((((A.......A)))))))))))A"
       ]
      },
      {
       "output_type": "stream",
       "stream": "stdout",
       "text": [
        "\n",
        "AAGAAANNAGCUNNNNUGGUAGAGNNNUCGNNNNNNNNNCGANNNNNANNNNNUCAAANNANCNANNUNUUA\n",
        "((((AA(AAA((A.......A))AAAA(AAA....AAAA)AA....((((A.......A)))))AA))))A"
       ]
      },
      {
       "output_type": "stream",
       "stream": "stdout",
       "text": [
        "\n",
        "AGCNNNUNNAUNNNNNANNAANANNNANNNNUNNNNNCCANAANNNUUAGNNNNNANNCCUAAANCCGCUA\n",
        "((((A((AAA(((...AA......AA((((AA....AAA))))AA......AA...)))A.....))A))))A"
       ]
      },
      {
       "output_type": "stream",
       "stream": "stdout",
       "text": [
        "\n",
        "AAGANNANAGCUUAANNGNNANNNNNAACCNNNNNNGNNGGUUNNNNNNANNNNUNNANNNNNNNNAGUCUUA\n",
        "A((((((AA(((AAAA(A.....A)AAAA)))A...........AA(A....A)AAA(((((.......)))))))))))AA"
       ]
      },
      {
       "output_type": "stream",
       "stream": "stdout",
       "text": [
        "\n",
        "ANCCGNNNNCNNNNANUGNUANNNNNNNNUAGCUNNNNNNNNNNNNNNNNNNNNNNNAAACNNUCGAANCGNUNNUCNNANA\n",
        "(AA(...........AAA......AAA((((.......)))).....(A((((A...A))))A)...)AA)A"
       ]
      },
      {
       "output_type": "stream",
       "stream": "stdout",
       "text": [
        "\n",
        "GNNNNNNNANNNNANNNNNNAAANNNNNGANNNNNNNNANCNNNNNNNNAGGANNGNNNCCNGANANNUCCA\n",
        "((AA(((AAA(((........)))AAAAAA(A.....A)AAAAAAAA(A......A)AAAAAAAA)))AA))A"
       ]
      },
      {
       "output_type": "stream",
       "stream": "stdout",
       "text": [
        "\n",
        "GCUNNAGNNGCUCNAUUGGUAGAGNNNNNNNNNNAANNUGAUNANNNNNNNNNNNNANNNNNNNNCUCNNGCA\n",
        "AA((AA(AAAA.......AAAAAAAAA((((AAA....AAAA))))AAA........AA((A.......A))AA)AA))AAA"
       ]
      },
      {
       "output_type": "stream",
       "stream": "stdout",
       "text": [
        "\n",
        "NUNGNNNNNNNNNNNNNNNNNANANNNNUUCCNNUNANNNNNGAANNNNNNAANNNNNNAAGUUCNANNNUNNNNACCNNNA\n",
        "AAAA((AAAA(((........)))AAA((((.......))))AA...((AAA.......AAA))A))AAAAA"
       ]
      },
      {
       "output_type": "stream",
       "stream": "stdout",
       "text": [
        "\n",
        "NANNNNNNNGNNUAANNNNNAANNNNNAAAUNNNNGGNAUUNANNNUGGNNNNUCGNNNNNCCCNAANANAN\n",
        "((((AAAAAA((A.......A))AA((A......A)).........(((AA.......AA)))AAA))))A"
       ]
      },
      {
       "output_type": "stream",
       "stream": "stdout",
       "text": [
        "\n",
        "GUNNNNNNAGUUNNANNNUAGAANNGCNNNNNNNNNNNNANNNNNNCCNAGUUCAAUNNNAGNNNNCCANN\n",
        "((AA(((AA((((.......))))AA(AAAAAA(AA(....)AA)AAAAAAA)A.........)))AA))A"
       ]
      },
      {
       "output_type": "stream",
       "stream": "stdout",
       "text": [
        "\n",
        "GCNNUUANAGCUNNNNNNUAGAGNNNAANANNNNNAANNNNNNNANAGNNNNUNNANNNNNNNNAANNGCU\n",
        "A(((((AAAA(A........A)AA(((((.......)))))AAA((((.........))))AAA)))))AA"
       ]
      },
      {
       "output_type": "stream",
       "stream": "stdout",
       "text": [
        "\n",
        "NNAGAAANNNNNNNNNNNNNNNNANUUAGCUNNAANNUAAANANNGNNNNNUUCGAAUCCUNNNNUCUNNN\n",
        "((((((AAAAA(A....A)AAA(((AA.......AA)))AA(((.........)))A....A))))))A"
       ]
      },
      {
       "output_type": "stream",
       "stream": "stdout",
       "text": [
        "\n",
        "GNUUNANNNNNANAGNNNNANNUUCNNNNNNNNNNCGAANNGNNNNNNNAANNAANCAANAANGAAANA\n",
        "(((AA(((A(AA........AA)A)A(((((...)))))A.....AA(((.......)))AA))AA)))A"
       ]
      },
      {
       "output_type": "stream",
       "stream": "stdout",
       "text": [
        "\n",
        "GANNNNNUNNNNNNNNNNNNNNNNANAGAUNNNAAAUCNNNNNNNNNNGGUUCNANNCCUNNCNNNNNNA\n",
        "A(((((AAA(((A.....A)))........AA(((AAA(A............A)AAA)))AAA)))))A"
       ]
      },
      {
       "output_type": "stream",
       "stream": "stdout",
       "text": [
        "\n",
        "NAAGAGCNAGNUAANNAANAACNCNNNAUNNNNANNNNNNNNNNNNNNNNANCCANNCNGANNCUCUUN\n",
        "(AA((AAAA((((A(...)A))))AAAA......A(AAA(.......)AAA)A...........A))AA)A"
       ]
      },
      {
       "output_type": "stream",
       "stream": "stdout",
       "text": [
        "\n",
        "NNNNNNNNNGCUNNAUANNNAAGCNNNNNNNNNNNANNNNGNNNANNNNNNNNNNAANNAAAUNNCCNUGA\n",
        "(((AAAA((((......))))AAAA)))A(((((A(A(((A........A)))A))))))............"
       ]
      },
      {
       "output_type": "stream",
       "stream": "stdout",
       "text": [
        "\n",
        "GNUNNNNNAGNNAANNNGNUANNNNANNNGAUUUNNNANNNNNGANNNNNNNUUNAAAUCNNNNNNNNANNN\n",
        "A((A((AAA(AA.........AA)A((((A.......A))))A....(((((.......)))))A))A))AA"
       ]
      },
      {
       "output_type": "stream",
       "stream": "stdout",
       "text": [
        "\n",
        "GNNGAAANNNCNNANNNGNNNNNNNNGNNNNNNANNNNNUNNNNNNNGANGGUUCAAAUCCUUNNNUNAGNN\n",
        "AAA((((AA((((.......))))A((A((A....A))AA))A...A(AAAA.......AAA)A))))AAA"
       ]
      },
      {
       "output_type": "stream",
       "stream": "stdout",
       "text": [
        "\n",
        "NNNAAANNAAGCUANNNANNAGCUNUUNNNNNNNNNCNNNAAAAANNNNNNNANAANNNNCNCCCUNNANN\n",
        "A(A((AAA(A(AA((........))AA)A)AAA))A)A...AAAAAAAA....AAAAAAA......."
       ]
      },
      {
       "output_type": "stream",
       "stream": "stdout",
       "text": [
        "\n",
        "NGUNUNNUANNNNAANNANNNNNNNANAUUNCAAANNNNNNGANNNNNGNNANNNCNNNNNAAANNN\n",
        "((A((((AA((((......))))A(((((.......)))))....(AA((A....A))AA)A))))A))A"
       ]
      },
      {
       "output_type": "stream",
       "stream": "stdout",
       "text": [
        "\n",
        "ANNNNNUNAAGNUAANNNAAACUAAAAGCNNNNAANGCUNNAANNANNAANNNNNAUNNNNNAACCNNNN\n",
        "(((((AAA((A((((A..........AA(A(((...)))A)AA.........A))))AA))AAAAA)))))A"
       ]
      },
      {
       "output_type": "stream",
       "stream": "stdout",
       "text": [
        "\n",
        "GUNNANUNAGNUUAAANNNNAAAANNANNGAUUNNNAAUNNNNNNNNNNNANNUUAANNNNNNNNNNCNANA\n",
        "(((((((.........AAA...AAA(((((.......)))))....AA((A.......A))AA)))))))A"
       ]
      },
      {
       "output_type": "stream",
       "stream": "stdout",
       "text": [
        "\n",
        "NAGAAAGNANNNNANNNNNAAANNNNAGAANNNNNANNUNUNNAANANAAGUUCAANNNUUANNUNUCNAN\n",
        "(((((((..............AA(AA((AA...AA))AA)AAAAAA((A........A))AA)))))))A"
       ]
      },
      {
       "output_type": "stream",
       "stream": "stdout",
       "text": [
        "\n",
        "CAGAAAANANNNNNNNNNNNNNNANAGCUNUNNNNGCNNNNNNNNNAAGNNNNNANNNUNNNUUUUCUGA\n",
        "(((AAAAA(((A....A)))...AA(A......A)AA........AAAA((.....))AAAAAAAA((.......))AAAAAAA)))A"
       ]
      },
      {
       "output_type": "stream",
       "stream": "stdout",
       "text": [
        "\n",
        "GGANNNANNGCNNNNNNGNUNNNNNCNNUGGNNNGNNNAANNNNNNNANANNNNNAUNNNNNNANNGGUUCGAAUCCCANNNNCNCNG\n",
        "(AA(AA(AA((((........))))...(A(((A........A)))A)(((((.......))))))AA)AA)A"
       ]
      },
      {
       "output_type": "stream",
       "stream": "stdout",
       "text": [
        "\n",
        "GCNCNANNAGCUUANNNNNNNAAGCNNNNNNCUNNNAAANNNNAGANCGANGGUUAAAAUCCUUCCNAGNNCN\n",
        "(A((((AAA(A...A)A..........AA(((A.......A)))AA....A(((.........)))AA))))A)A"
       ]
      },
      {
       "output_type": "stream",
       "stream": "stdout",
       "text": [
        "\n",
        "GNUAAGNNNNNNNNNCNNNNNNAUNNNNNAAAANNNAAANNNUNANNNNNAGAGANNNAAANNCUCNCCUUAANA\n",
        "((((AAAAA((((.....))))A((A((.......))A))..................AAAA))))A"
       ]
      },
      {
       "output_type": "stream",
       "stream": "stdout",
       "text": [
        "\n",
        "CAAGANANAGCUUAANNNAAGCNNCNAGNUNNNNNCNAGNANANNNNNNNNNNNNNNNANNNNUUGA\n",
        "(((AAAAAA((.....(((((A((((AA.......AA)))......)A)))))....))AAAAAA)))A"
       ]
      },
      {
       "output_type": "stream",
       "stream": "stdout",
       "text": [
        "\n",
        "AGNANNNNNAGNNAANUAAGCNANCGNNNNNNNNNCCCGANAANNNNGGNUUANNNNCUNNNNNNANUA\n",
        ".....A(((((((((........)))))))))AAA(((A....A)))......................."
       ]
      },
      {
       "output_type": "stream",
       "stream": "stdout",
       "text": [
        "\n",
        "NNAAANANANUNUAANAAAAANNUUAGAUUNNNNAUCUANNNNNAGNNANNNNNNNNNNNNNNNNNNNNC\n",
        "((((((AAAA((AAA....AAA))AA((((AA....AAA))))....((((.......))))AA))))))A"
       ]
      },
      {
       "output_type": "stream",
       "stream": "stdout",
       "text": [
        "\n",
        "ANUNUNAANNGANNNNANNNNANCNNNUGGNNNNANNNACCAANNNAUUGGNNNNANNCNAANNAAAAGUA\n",
        "(AAA(((A(A((A.....A))A)(A(((AA...AA)))A)....((A(A....A)A)))))AAA)A"
       ]
      },
      {
       "output_type": "stream",
       "stream": "stdout",
       "text": [
        "\n",
        "CNNNGAANAGNUNAAANANAANUNNNGNNNUNNNNGUUGANNNNGNNNNNNNNGNNNNNUCNNNGA\n",
        "(((AA(AAA((((((....))))))A((((A.......A))))....A(AA......AA)AA)AA)))A"
       ]
      },
      {
       "output_type": "stream",
       "stream": "stdout",
       "text": [
        "\n",
        "GNUANNNNAGCUNNANAANUAAAGCNNNNCANNNAAAANNCCUNNANNANNNNNNNNNCUCNANAAANA\n",
        "(((A.....((((.....))))A((A((.......))A))AAAAA(AA.......AA)AAAAA)))A"
       ]
      },
      {
       "output_type": "stream",
       "stream": "stdout",
       "text": [
        "\n",
        "CAANNNNNAGCUUAANNNAAGCNNCNAGNUNNNNNCNAGNNNANNNNNNNNNNNNNGAANNNNUUGA\n",
        "(((AAAAAA((AA.......AA))AAA((A.......A))A.....A(AAA....AAA)AAAAA)))A"
       ]
      },
      {
       "output_type": "stream",
       "stream": "stdout",
       "text": [
        "\n",
        "GNUAANNNAGCUNAAANNAANNNNNNNNCANNNAAAANNCNNNNANNANNNNNNNCACUCNANNAANA\n",
        "AA((((AAA((((.....))))A((A((.......))A))..................AA))))AAA"
       ]
      },
      {
       "output_type": "stream",
       "stream": "stdout",
       "text": [
        "\n",
        "NNNGANANAGCUUAANNNAAGCNNCNAGNUNNNNNCNAGNANANNNNNNANNNNNNNNANANNUNGA\n",
        "((AA(((AAAA((....))AAA((((A.......A))))....((((...)))))))AA))A"
       ]
      },
      {
       "output_type": "stream",
       "stream": "stdout",
       "text": [
        "\n",
        "NNNNUUANANNNAANNNNGANNNCAAANNNNNANNUNGANNNNNNAANNNUNACUAANNNUN\n",
        "((((((AAAA...A(A(A(.....A(A((((...))))A)A.....)A)A)A...AAAA))))))A"
       ]
      },
      {
       "output_type": "stream",
       "stream": "stdout",
       "text": [
        "\n",
        "GAUUAAGNNGNNNNNNNNUNNNNNANAGAUNNNAAAUCNANNNNNAANANNNNNNNNNNUUAAUCA\n",
        "((A((((AA((((.....))))...A((A....A))A.......A((((.......))))A))))A))A"
       ]
      },
      {
       "output_type": "stream",
       "stream": "stdout",
       "text": [
        "\n",
        "AAAAAGANNAGCUANNNAAGCUNNNNGGNNNNNNCCCNNNNNNNAAAGGUNNNNANCCUNNNNUNNNNA\n",
        "AAAA((...A(AAA...AAA)A((((AA.......AA))))AAA((AAA.......AAA))A))AAAAA"
       ]
      },
      {
       "output_type": "stream",
       "stream": "stdout",
       "text": [
        "\n",
        "NANANUNNNNUNNNNGANNCANAAAAGNNNNNNANNNUNUNANNAANAGNNNAANNNNANNAAANANAN\n",
        "(((((A(AAA(A.....((AA....AA))....A)AAA)...(AA(AA....AA)AA))))))A"
       ]
      },
      {
       "output_type": "stream",
       "stream": "stdout",
       "text": [
        "\n",
        "AANGAAUNNNNNNANAAAANNNUNNNNUNNAUNNNNUAAANNANNNANNANNNNANANUNANNN\n",
        "(((((A(AAA(A......(((A....A)))....A)AAA)...(A((AA....AA))A))))))A"
       ]
      },
      {
       "output_type": "stream",
       "stream": "stdout",
       "text": [
        "\n",
        "AANGAAUNNNNNNANAANAANNNUNNNCUNNAUNNNNUAAANNANNCAGNNNNNNNCANUNANNN\n",
        "((((((...((((.....))))...))))))............A((((A.....A))))A......."
       ]
      },
      {
       "output_type": "stream",
       "stream": "stdout",
       "text": [
        "\n",
        "AAGNCNNNAAGNUANNNAAACUANNAGCCUNNAAAGNNNNAAANAAANNNNNNNCCUNNAANNNNNA\n",
        "(A(((((AAAA((....))AAA((((A.......A))))....((((....)))))))))A)A"
       ]
      },
      {
       "output_type": "stream",
       "stream": "stdout",
       "text": [
        "\n",
        "NGNCUUANANNNAANNNNGANNNCAAANNNNNANNUNGANNNNNNAAANNNNNACUAAGANUN\n",
        "(((((((AAA(A.......A)AAA(((A.......A)))AA....(((A....A))))))))))A"
       ]
      },
      {
       "output_type": "stream",
       "stream": "stdout",
       "text": [
        "\n",
        "NUAAUNNNNNCNAANNNNNNNNNNANCNNNNNUAANGANANAAUNNANNNNAANCUCNAAUUAAN\n",
        "((A((((AA((((.....))))...A((A....A))A.......A((((.......))))A))))A))A"
       ]
      },
      {
       "output_type": "stream",
       "stream": "stdout",
       "text": [
        "\n",
        "AAAAAGANNAGCUAANNAAGCUNNNNGGNNNNNNCCCNNNNNNNAAAGGUNNNNANCCUNNNNUNNNNA\n",
        "A(AAAAA...(...A(((.....A((A((A.......A))A))AAA)))A.....)...AAAAA)AA"
       ]
      },
      {
       "output_type": "stream",
       "stream": "stdout",
       "text": [
        "\n",
        "NNNNNNNUAGNUNANGAUNAANNNUNNNAANNNNNNNNUNNAANANANCNNGNNUGNNNNNNNNANN\n",
        "(A(((AAAA((((.....))))......(AA(((A(((A....A)))...)))AA).....AA)))A)A"
       ]
      },
      {
       "output_type": "stream",
       "stream": "stdout",
       "text": [
        "\n",
        "GNAAANANAGUUUAANNNAAANNNNNNAUNNNNAANCNNANANNAGNNNNNCANAANNNNNNANUUANN\n",
        "(((AAAAAA((((........))))AAAA......((A(A((A...A))A)A))...........A)))A"
       ]
      },
      {
       "output_type": "stream",
       "stream": "stdout",
       "text": [
        "\n",
        "GCCCCCANAGCUUAANNNNNNAAGCNNNNNNNNNANNNNNNNNNNNNNNNNNCNNNNNNNNNNNNNNNCA\n",
        "((((((AAA(((..........)))A((A((.......))A))....A(AAAA....AA...A)AA))))))A"
       ]
      },
      {
       "output_type": "stream",
       "stream": "stdout",
       "text": [
        "\n",
        "CAAGGCNNAGCNNNAANNNNAAAGCNUUNAGNUNNNNNCNGAANNNNNCCNNNNNNNNNNNNNNNNGCCUUGA\n",
        "(((((...A(AAAA((AAAAA....AA....A))AAAAA)A........A((((.......))))AAA)))))A"
       ]
      },
      {
       "output_type": "stream",
       "stream": "stdout",
       "text": [
        "\n",
        "GCNAGNNNNNNNNNGCNNNNNNAANNNNANNNNCUNNNNCNNNNNNNNNNGAGGUUCAAAUCCUCNNNCNAGCU\n",
        "(((((AAAAAAA........AAAA((A((.......))A))....((((A.........A))))AA)))))A"
       ]
      },
      {
       "output_type": "stream",
       "stream": "stdout",
       "text": [
        "\n",
        "GGNAGNNNNNCNNNNNAANNNNNNUCACNNNNANAAANNNANNNNAGAGNNNNANNNANCCUCUNNNUUCCN\n",
        "(((((((....AAA((AAA((AAAAAA.....AAAAA))AA))AAAA((((.......))))A)))))))A"
       ]
      },
      {
       "output_type": "stream",
       "stream": "stdout",
       "text": [
        "\n",
        "UAGAAAANNNNANAGNNNNNGNNNNNNNNNNNNNNANCUNNNNNNNNNAGGUUCGAUNCCNANNUUUCNAG\n",
        "(((AAAAAA((.....(((((A(((AAA......AAA.......)))A)))))....))AAAAAA)))A"
       ]
      },
      {
       "output_type": "stream",
       "stream": "stdout",
       "text": [
        "\n",
        "AGNANNNNNAGNNANNNAAGCNANCNNNNNNNNNNCCNNNNAANGANGGNUUANNNNCUNNCCNNANUA\n",
        "(((((A(A(AAAA.....AAA.........(((A(.......)A))).....((((A...A))))A)A)A)))))A"
       ]
      },
      {
       "output_type": "stream",
       "stream": "stdout",
       "text": [
        "\n",
        "AGAAANNNANNANNANNNNNNNNNNANNNNAANNCNNNNAANNCCUUAANNNNGAGNNAAACUCUNNNAGNUUCNN\n",
        "AAAAA(...A(((.....)))AAAA(A(.......)A)AA....AA(((.......)))AAA)AAAAAA"
       ]
      },
      {
       "output_type": "stream",
       "stream": "stdout",
       "text": [
        "\n",
        "NNNNNCNUAGCUUAANNAAAGNNNNNGANUNNNNNNNANNNNNNANAGGUUANNNNCCNNNUGNNNUNA\n",
        "((AAAA(AAAA((AA....AA))AAA(((((.......)))))......AAAA.......AAAAA)AAAA))A"
       ]
      },
      {
       "output_type": "stream",
       "stream": "stdout",
       "text": [
        "\n",
        "UANNNAGNNNCNAANUGNNNNUNNNNNUUAGNNNNUANCUAAAAUNNNNNNNNANCGNNNNCCANCNNNNNAG\n",
        "((AAAAA............A((AA((((...))))AA))AAAAAAA(A....A)AAAAAAAAA))A"
       ]
      },
      {
       "output_type": "stream",
       "stream": "stdout",
       "text": [
        "\n",
        "GANUNNNNANNNAANNUNNNAANNNGUNNNNAACUCNUNNANNNNNANNANNNNNNNCCNNNNNNN\n",
        "(((((((AAAAAAA((.....))AAAAAAA(((A.......A)))A....AAAA(.......)AAAA)))))))A"
       ]
      },
      {
       "output_type": "stream",
       "stream": "stdout",
       "text": [
        "\n",
        "AAGAAANNNNNANNAANNNGNUNNANNNNNUUNNNUNNAANNNAANNNNNNNNNGUUCGAUUCNNUCCUNUNUNN\n",
        "(((((((AA(((AA(A....A)AAA)))((AA......AA))A((AAA....AAA))...)))))))A"
       ]
      },
      {
       "output_type": "stream",
       "stream": "stdout",
       "text": [
        "\n",
        "CANUAANNNGCNANNNNNNNNCANNAGCCUNNNNAGNNANANNGANNNNNNNNCCNCNNNCUUAANGA\n",
        "(((((A((AA(((AAAA((....(((((.......)))))...))AA)))A.......A))A)))))A"
       ]
      },
      {
       "output_type": "stream",
       "stream": "stdout",
       "text": [
        "\n",
        "AGAAAGNUANNCNANNNAANNNNGCUGGNNNCGNNCCAGCNAANUANAGANNNNNNNNNAANUNUNNN\n",
        "((((((AAAA((A(((AA(((....)))AA)))A.....A(((......)))A....))A...A))))))A"
       ]
      },
      {
       "output_type": "stream",
       "stream": "stdout",
       "text": [
        "\n",
        "ANUNUNAANNGANAAGANNAANNNNNUGNNCUNANNNNNNACCNNNNNUGNNNNNAANCNNANNAAAAGUA\n",
        "(((((((AA(((A.....A)))A((((A.......A)))).....A(((........)))A)))))))A"
       ]
      },
      {
       "output_type": "stream",
       "stream": "stdout",
       "text": [
        "\n",
        "ACUCUAANAGUUNNNNNNAAANNUUGGNNNNNNAAACCAANANNNGANNNNNNNNNNCUUNNUAGANUA\n",
        "((((AAA.................A((((AA...AA))))A....(((((.......)))))AAA))))A"
       ]
      },
      {
       "output_type": "stream",
       "stream": "stdout",
       "text": [
        "\n",
        "CAGANNNNANNNNNNNNNAAAANNNNAGCUNUNNNNGCUNNNNNNNGAGNUNNNNNNCCNCCNNNUCUGA\n",
        "((((A(AAA(((A....A)))AAAA(((A...A)))AAA....((((A.......A))))A)A))))A"
       ]
      },
      {
       "output_type": "stream",
       "stream": "stdout",
       "text": [
        "\n",
        "GNUCCCNNAGUUNNNNNNAANNNNNNCUNNNNNAGCNNNNNNNCUNNNNNNNNANNCAANNNNNAANA\n",
        "AA(A((AAAAA(A........A)AA...A(((AA.......AA)))AAA(((.......)))AAA))A)AAA"
       ]
      },
      {
       "output_type": "stream",
       "stream": "stdout",
       "text": [
        "\n",
        "NNCCCUNNNNNCNNNNNGUUANGANNNNNNCUNNNNNNNNNGNAGANACNNGUUCGAUUCCCNNAAGNGANN\n",
        "(((AA(AAA((((.......))))A((AAA.......AAA))....A(AA......AA)AA)AA)))A"
       ]
      },
      {
       "output_type": "stream",
       "stream": "stdout",
       "text": [
        "\n",
        "GNUANNNNAGCUUAAANNNNAAGCNNNNNNNNNAAAANNNCNNNANNANNNNNNNAACUCNANAAANA\n",
        "((((AAAAA((((.....))))A((A((.......))A))......AAAA...AAAAAAAAA))))A"
       ]
      },
      {
       "output_type": "stream",
       "stream": "stdout",
       "text": [
        "\n",
        "CAAGANANAGCUUAANNNAAGCNNCNAGNUNNNNNCNAGNANANNNNNNNNNNNNNNNNNNNCUUGA\n",
        "A(((AAAA(A...((AA(....(AAAAA(((...)))AAAAA)....)AA))AA)AAA)))AA"
       ]
      },
      {
       "output_type": "stream",
       "stream": "stdout",
       "text": [
        "\n",
        "NNNNNNANAGNUNANNNUNNNNNNNNNNCUNNNNGAGCNNNNGNUANNNNNNNNUNNNCNUNN\n",
        "AAA(AAAAA(((A(A(((.......(((AA((A(.......)A))AA))))))A))))AAAAA)AA...."
       ]
      },
      {
       "output_type": "stream",
       "stream": "stdout",
       "text": [
        "\n",
        "NNNCNNNNAGANNNNNNNUGGUAAAANCNNANNGNNNNUAANNUNNNGANGGNNNNNNNNCNCNCNNNNG\n",
        "(AA((A(A(A(((((A(A.......((AA((...))AA))A)A)))))A)A)A))AA)....."
       ]
      },
      {
       "output_type": "stream",
       "stream": "stdout",
       "text": [
        "\n",
        "ANNGANNNANGUNANNUNNNNNNNNNNNNUNNNAAAANANNNNNUGGNUUUGNNNGNUUNNNN\n",
        "(((((AA........A((A......A))AAAA(........)AAAAA((((A.......A))))AA)))))A"
       ]
      },
      {
       "output_type": "stream",
       "stream": "stdout",
       "text": [
        "\n",
        "NANCUNANANNUAAANGGNNNNANNNCCANCCCNNNNNGANNNNNNNNCCAGUUCGAUNNNGGNNNNGAUNA\n",
        "AA(((AAAAAA(AAA....AAA)AAAAA((((A...A))))AAA.....((A(.......)A))AAAA)))A"
       ]
      },
      {
       "output_type": "stream",
       "stream": "stdout",
       "text": [
        "\n",
        "NGAGANNNNNNAANANNNUNNNUNNNANAAAUNNNNAAUUNANNNNNNNANNGUUCGAUUCCCNNNNNUCUN\n",
        "((((AAAA(A(AAAAAAA......AAAAAA)A)...............AAAAA.......AAAAAAAA))))A"
       ]
      },
      {
       "output_type": "stream",
       "stream": "stdout",
       "text": [
        "\n",
        "AANNNNNNAGNNNAANUGNNAAANNNNNNNNNNNCAAANNNANNNANNGANAGUUCAAUNNNNNNNNNCCUNN\n",
        "A(AA((AAA(((..........)))A((AAA.......AAA))....A(A(A((.......))A)A)A))AA)A"
       ]
      },
      {
       "output_type": "stream",
       "stream": "stdout",
       "text": [
        "\n",
        "NNNNGANNNGCUNAAUUGGNNNAGNNNUNNNNNNNNNNNNAAAANUANNANAGGUUCGNNNCCNANANUCNNNA\n",
        "AAA((A(((((((........)))......A((AA....AA))A.....((((A...A))))))))A))A..."
       ]
      },
      {
       "output_type": "stream",
       "stream": "stdout",
       "text": [
        "\n",
        "NNNNCANUAGCUCNAUUGGUAGAGNNNNNNNNUNNNNANNAAANNNNNNAGAGNNNNACUCNNUAANNCNNNN\n",
        "AAA((AAAA((((........))))A((AAA.......AAA))....AAA((.......))AAAAA))AAAA"
       ]
      },
      {
       "output_type": "stream",
       "stream": "stdout",
       "text": [
        "\n",
        "ANNNNNANAAGNUANNGGUUAAACUAAANNNNNNNNNNNNANNNNNNNNNAGUUCGAUNNUNANNANUNANA\n",
        "(((((((.....A((.....))AAAA((A((AAA(A.....A)A.....))A))A...A(A((.......))A)A)))))))A"
       ]
      },
      {
       "output_type": "stream",
       "stream": "stdout",
       "text": [
        "\n",
        "GGAAAAUNNANNNNNNNNNNNANNNNNNANUNNNNAANNNNNNNNNNNNAANAANNNNNUNAGUUCGAANNUNANANUNUCNG\n",
        "AA(((AAAA((((........))))AA(((A.......A)))A.....A((A.........A))AAAA)))AAA"
       ]
      },
      {
       "output_type": "stream",
       "stream": "stdout",
       "text": [
        "\n",
        "NGAAUNNNAGANUANNNNNNAANNCNCCAAAANNNNNNNUNNNNUNNNNGNNNNNUCGAANNANCNNAAUUNAN\n",
        ".........((((......))))A((((A.......A))))AAA(A(AA.....AAA)A)A....."
       ]
      },
      {
       "output_type": "stream",
       "stream": "stdout",
       "text": [
        "\n",
        "NNUANNNNAGCUUAAANNAAAGCNNNNCANNNAAAANNCCUNNNNNNNNNNNNANNNNNANAANNA\n",
        "((((((AAA((((.....))))AA((((.......))))...................AA))))))A"
       ]
      },
      {
       "output_type": "stream",
       "stream": "stdout",
       "text": [
        "\n",
        "CAAGANANAGCUUAANNNAAGCNNCNAGNUNNNNNCNANNNNANNNNNNNNNNNNNNNANANNUUGA\n",
        "AA(((AAAAAA(((A...A)))AAAAA(A(((A...A)))A)AAAA...A(((.......)))AAAA)))AAA"
       ]
      },
      {
       "output_type": "stream",
       "stream": "stdout",
       "text": [
        "\n",
        "NNAAANNNNNNUUAANNNNUAAANNNNNAGAUNNNNAAUCNANNNNNNNAGAGUUCGAUNNUCNNNANNUNNN\n",
        "A(A(A(...((A...........A))AAA(A((....))AA)AAA(((....)))AAAA(((.......)))AAA)A)A)AA"
       ]
      },
      {
       "output_type": "stream",
       "stream": "stdout",
       "text": [
        "\n",
        "GCNANUNNNNUNNNNAUGGUANNNANNNNANNNNNNNGANNNNNNANNNNNNNANANNNNGGUUCAAAUCCUNNAAGNAGNA\n",
        "A((((AAAAAA((((A(AA(A.....A)AA)AA))))AAA........((((.......))))AAA))))AA"
       ]
      },
      {
       "output_type": "stream",
       "stream": "stdout",
       "text": [
        "\n",
        "NNGAANANNNNUUAANGNNAAANNNNNNNNNNNNUAANNNNNNNNNNNUNGGUUCGAUNCCAANNANUNUNA\n",
        "AA((AAAAAAA((........))AAAA(((A.......A)))A.....AA(AA.......AA)AAAAA))AAA"
       ]
      },
      {
       "output_type": "stream",
       "stream": "stdout",
       "text": [
        "\n",
        "NGAANNNNANNNUANNNNNNAANNNNNCAAAANNNNNNNUNGNNNNNNNNUNNNUCGAANCAAANCNNUUNAN\n",
        "(((((AAAA((A(AAA((A(AA((...))AA)A))A)A))AA.....((AA(.......)AA))AA)))))A"
       ]
      },
      {
       "output_type": "stream",
       "stream": "stdout",
       "text": [
        "\n",
        "GCGGAANNAGCUNAANNNUANNNNNNNGCNNNNNNNNNNCNNNNNNUNNNNGUUCNANNCCCNCNNUCCGCU\n",
        "AA((A(AAA(((A.........A)))AAA((A(....)AA))AA.....AA(((.......)))AAA)A))AAA"
       ]
      },
      {
       "output_type": "stream",
       "stream": "stdout",
       "text": [
        "\n",
        "NNCNNNNNAGANNNNNNGGUUAACUCNNNANNNUNNNNNNCNNNNNAUNNCAGGUUCGAAUCCNNNNCCCNCNA\n",
        "((((((AAAA((A.......A))AA((((AA....AAA))))....((((.......))))AA))))))A"
       ]
      },
      {
       "output_type": "stream",
       "stream": "stdout",
       "text": [
        "\n",
        "ANUNUNAANNGANNNNANNNANCNNNUNNNCNUANNNNCNAANNNAUUGGNNNNANNCNAANNAAAAGUA\n",
        "(((((AAAAAA(A(........(((((.......))))).........)A)AAAA...AA)))))A"
       ]
      },
      {
       "output_type": "stream",
       "stream": "stdout",
       "text": [
        "\n",
        "NCUAANANNNNNNANNANNNNNUUAGANNNNAGNNCUAANANNNNNNNNNNNNNCNNNNAUUAGAN\n",
        "(((AA(((A.........A)))A(((((.......)))))....A((A....A))A...A)))A"
       ]
      },
      {
       "output_type": "stream",
       "stream": "stdout",
       "text": [
        "\n",
        "AANNNNNUANNUAAAANNNAANNUUAGAANNNNNANCUAAAANAACNAANAANAGNNNNNCUNN\n",
        "((AA(((AAAAA.......AAAAAA((A.......A))A......(((((AA....AA))))))))AA))A"
       ]
      },
      {
       "output_type": "stream",
       "stream": "stdout",
       "text": [
        "\n",
        "CANNAGANNNNNNAAANNANGNAANGGNNNNNNAAACCNNNNAANAGNAAANNANNNNUNANUNCUGANNA\n",
        "AA(A((((AAAAAAA(A(AAA(A(((((.......)))))A)AA)A)AAAAAAA))))A)AAA"
       ]
      },
      {
       "output_type": "stream",
       "stream": "stdout",
       "text": [
        "\n",
        "ANNNNUNNANNANNAUNANNNNNNUNGANNNNNAAUCAAANNAUNNNNANANNNNGAAAAANA\n",
        "A((((A((AAA...AAA)A((A...AAAA..........AAA...A))AAA((((.......))))A)A))))AA"
       ]
      },
      {
       "output_type": "stream",
       "stream": "stdout",
       "text": [
        "\n",
        "ANUAGNNNNNNNNNNCNNNNAAAUNNNNNNNNNNNNAANNNCNNNNUCCNAGAGGUUCAAAUCCUCNCCCUAANA\n",
        "AA(AAA...((((.....))))AA((A(.......)A))A...AA(AAAAA...AAAAA)AAAAA)AAA"
       ]
      },
      {
       "output_type": "stream",
       "stream": "stdout",
       "text": [
        "\n",
        "NNGNNNNNAGCUUAANNAAAGCNAUNGANUNNNNNNNAANNNNNNNANNANNANNNNNNANNGNCCUNA\n",
        "((A(((AAA((A.....A))A(((((.......)))))....(((((.......)))))A)))A))A"
       ]
      },
      {
       "output_type": "stream",
       "stream": "stdout",
       "text": [
        "\n",
        "GNNAAAANNNCNNNNNAAGNNUUAGANNNNAAANCUAANNNNAGAGGUNNAAAUCCUCNNNUNACCA\n",
        "A((((((AA((A.......A))(AA((A.......A))AA)...((((A.....A))))))))))AA"
       ]
      },
      {
       "output_type": "stream",
       "stream": "stdout",
       "text": [
        "\n",
        "GNCUUGAUNGNANAANNNNNANNNNGGNNNNNNAAACCNGNAANGAAGNNNNNNNCUUNUCAAGANA\n",
        "A((((AA(((((((..........)))))))AAAA)))).....((((.........))))........"
       ]
      },
      {
       "output_type": "stream",
       "stream": "stdout",
       "text": [
        "\n",
        "NNAGANANANUNUANNNAAANNNNUAGAUUNNNAAUCUANNNNNAGANNNNNNNNNNCUCNNNNNNNNC\n",
        "(A(((AAA((A...A))A.....((((((A...A))))))....(((AA.......AA)))AA)))A)A"
       ]
      },
      {
       "output_type": "stream",
       "stream": "stdout",
       "text": [
        "\n",
        "GNAAANANAGNNNAACNAAAANNNUAGAUNNNNAAUCUAANNNNAGANNNNNNNNNNNNNNNANUUANN\n",
        "AA((AAAAAAAAAAAA((A......((((A.......A))))A))AAAAAAAAA))AA.........."
       ]
      },
      {
       "output_type": "stream",
       "stream": "stdout",
       "text": [
        "\n",
        "GNUAANNNAGCUNAAAUCNAANNNNNNNCANNNAAAANNCCNAGANNNNNNCANUAANNNNNNAANNA\n",
        "((((((AAA((((.....))))AA((((.......))))...................AA))))))A"
       ]
      },
      {
       "output_type": "stream",
       "stream": "stdout",
       "text": [
        "\n",
        "CAAGANANAGCUUAANNNAAGCNNCNAGNUNNNNNCNANNNNANNNNNNNNNNNNNNNANANNUUGA\n",
        "((((((A..............A(((((A.......A)))))AAAAAAA(A...A)AAAAA))))))A"
       ]
      },
      {
       "output_type": "stream",
       "stream": "stdout",
       "text": [
        "\n",
        "CAAGAAGNANNNNAANUANNNNNCCAGCNNNNNNNNNUGGNNNNNNNNNNNANCNCNNNNUUNUUGA\n",
        "((((((AAAA((AA.....AA))AA((AAAA....AAAAA)).....((((.......))))AA))))))A"
       ]
      },
      {
       "output_type": "stream",
       "stream": "stdout",
       "text": [
        "\n",
        "ANUNUNAANNGANANNNNNNANCNNNNGNNCNUANNNNNNAANAANNNUGGNNNNANNCNAANNAAAAGUA\n",
        "A((((AA((((((((........))))))))AAAA)))).....((((.........))))........"
       ]
      },
      {
       "output_type": "stream",
       "stream": "stdout",
       "text": [
        "\n",
        "NNAGANANANUNUAANNAAAANNNUAGAUUNNNAAUCUANNNNNAGANNNNNNNNNNCUCNNNNNNNNC\n",
        "(((AAA...((A...........A))AA(A((((...))))A)AA((....))A(A((((.......))))A)AAA)))A"
       ]
      },
      {
       "output_type": "stream",
       "stream": "stdout",
       "text": [
        "\n",
        "GCGCNNNNNNUNNNNNNNNNAANNANNNNNNAUUNAAAAUCNNNNCCNNNUGGUNANNGGUUCNANNCCAANAANNCGCA\n",
        "(AA((((AA((((.........))))....AA(((A......A)))AAAAA(((.......)))AA))))AA)A"
       ]
      },
      {
       "output_type": "stream",
       "stream": "stdout",
       "text": [
        "\n",
        "GCANUNNNAGCUNNNUNGNNNNGAGCNNNNNNCUUNNNNNNNGANGNNNNNAGGUUCAAAUCCNNNAGAANNCN\n",
        "AAA(((AAA((((.........))))AA((((A....AA))))A.....((A(A.......A)A))A)))AAAA"
       ]
      },
      {
       "output_type": "stream",
       "stream": "stdout",
       "text": [
        "\n",
        "NNNCUNNNAGCUCNAUUNNNNNGAGCNNCAAANNNNNNNUUUNNNNNNUNNNNGUUCAAANNNNNCNAAGCNNN\n",
        "((((((AA(((A(AAA((A(AAAA...AAAA)A))A)A)))A.....AAAA(.......)AAAAA))))))A"
       ]
      },
      {
       "output_type": "stream",
       "stream": "stdout",
       "text": [
        "\n",
        "GCGGAAANAGCUNAANNNUANNNNNNNNNNNNNNNNNNNCUANNNNNNNNNGUUCNANNCCCNNNNUCCGCU\n",
        "A((A((A.......AA(AA...AA(AAAAAAAA(((A.....A)))AAAAAAA)AAAAAA)AAAAA))A))AA"
       ]
      },
      {
       "output_type": "stream",
       "stream": "stdout",
       "text": [
        "\n",
        "NNCCCUNNNNNNNANNNNNNNNNNNNNNNNNNNUNUNNNNNNGAAAANACNNNUUNNAANCCNNNAAGNGANA\n",
        "(((AA((AAAAAA(AAAA(((AA((.....))AAA)))AAAA)AAAAAA((((.......))))A))AA)))A"
       ]
      },
      {
       "output_type": "stream",
       "stream": "stdout",
       "text": [
        "\n",
        "NCNNNAGNAGNUNNNNNGUUANNGNNAANNNCNNNUAANNNNNNNNNNNNUGGUUCGAANCCAANCNANAGAN\n",
        "((((A(AAA(((A.....(AAAA.....AAAA)....A)))........AA(((.......)))AAA)A))))A"
       ]
      },
      {
       "output_type": "stream",
       "stream": "stdout",
       "text": [
        "\n",
        "CAAGNNNNANCGNNANNNGNUAGNNNNNNNNNCNUNNNCGNNNNNANNNNNAGGUUCAAAUCCNNNNANCUUGA\n",
        "(((((((.....((AAAA......AAAA)).......(((A...A)))A((((.......))))A)))))))A"
       ]
      },
      {
       "output_type": "stream",
       "stream": "stdout",
       "text": [
        "\n",
        "AGGAGAANANNNCNNANNNUANNNNAANNGNNNNNAAAACCNANNGNUAANNGUUCGAAUCCCUNNUCUCCNN\n",
        "(((A(((AAAA((AAA(((AAAAA........AAAAA)))AAA))AAA(AA((.......))AA))))A)))A"
       ]
      },
      {
       "output_type": "stream",
       "stream": "stdout",
       "text": [
        "\n",
        "GGNNAANNAGCUNNNNNGNNNNNNNNNNNNNNNNNNNNNNNNNNANNNANNGGUUCNANNCCNNNAUNACCCA\n",
        "(AAAAA(AAA((AAAA((A(AAAAAA....AAAAAAAA)A))AAA))AAAA(((.......)))AA)AAAAA)A"
       ]
      },
      {
       "output_type": "stream",
       "stream": "stdout",
       "text": [
        "\n",
        "GNNNNAANAGCUUANNNGNUNANAGNNNNNNNNNNNNANNNNNNNANNNNNNNGUUCAAAUCCCNNNNNNCCCG\n",
        "(AA(AAAAA((((........))))AAAAAA(A...A)AAAAA.....AA(((.......)))AAAAA)AA)A"
       ]
      },
      {
       "output_type": "stream",
       "stream": "stdout",
       "text": [
        "\n",
        "GNNNACNNAGCUCNAUUGGUAGAGNNNANNNNNNNNANNNNNAAAGNNNNNNGUUCAAAUCCGANNNNNNCCA\n",
        "((AAAAAAA((((........))))A(((AA.......AA)))......((((.......))))AAAAAA))A"
       ]
      },
      {
       "output_type": "stream",
       "stream": "stdout",
       "text": [
        "\n",
        "GCCNNNNNAGCUNNNAUGGUAGAGNNUUCCNNNGGNNNNNNAANNNNNNNCGGUUCNANNCCGNNNNNNNGCU\n",
        "(AA(((AA(((A....A)))A((AAAAAAAAAA.........AAAAAAAAA)).....AAA((.......))AAAA)))AA)A"
       ]
      },
      {
       "output_type": "stream",
       "stream": "stdout",
       "text": [
        "\n",
        "GNNAGANNNGNNNNNNNGUUAAANNNNNNNNNNNNNAAANNNNNNNNNNNNNNNNNNNNNAGGUUCGAAUCCNNNNUCUCCCA\n",
        "(AAAAAAAA((((.........))))....A((A((A....A))A))AAAA(((.......)))AAAAAAAA)A"
       ]
      },
      {
       "output_type": "stream",
       "stream": "stdout",
       "text": [
        "\n",
        "GCANNNNNAGCUNNNUNGNNNNGAGCNNNNNNCNUCGNANNNGANGNNNNNAGGUUCAAAUCCNNNANNNNNCN\n",
        "A(((A(AAA((((........))))AAAAA((AAAA((A......A))AAAA))AAAA.......A)A)))AA"
       ]
      },
      {
       "output_type": "stream",
       "stream": "stdout",
       "text": [
        "\n",
        "NNCNNGNUNGANNNAUUGGNAACUCNNNNNGNUNNNAANNNNNNNNNNNNNNNNUNGNANNNNNNNCCCNCNA\n",
        "AA((((...A((A.........A))A((AAA(((...(((AAAA....AAAA)))...)))AAA))))))AAA"
       ]
      },
      {
       "output_type": "stream",
       "stream": "stdout",
       "text": [
        "\n",
        "NNCNGAANAGNUNANNNNNNUANAANNGNNNGANNNNAAUNNNNNNNNNNNNGNNNAAANCCCNNNUCCGAUA\n",
        "(((((AA........((AAA.......AAA))((A.......A))AAA(((.......)))AAAA)))))A"
       ]
      },
      {
       "output_type": "stream",
       "stream": "stdout",
       "text": [
        "\n",
        "GCGNANANNNAUNAANGNNAAANNNNNNNNCUNCNNNNNNNNNGANNUNGGUUCGAUUCCCNNNANCCGCA\n",
        "(((AA(A........A((((AA(((A.....A)))...))))AAAAAA(A...A)AAAAA(A(((....)))A)AAA)AA)))A"
       ]
      },
      {
       "output_type": "stream",
       "stream": "stdout",
       "text": [
        "\n",
        "GGANNNNNNNNNNNNNNNUNNNAAGNNNNNNNCUNNANAANCNNNNNNNNNNNNANANNNNNNNNUCGAANCCCNNNCNANCNG\n",
        "AA(((AAAA(A(AAAAA(((.....AAA((AA.......AA))AAA)))A.....AA)A)AAA((.......))AAAAA)))AAA"
       ]
      },
      {
       "output_type": "stream",
       "stream": "stdout",
       "text": [
        "\n",
        "NNNNANANNAUNNNANNGGNNNNNNNNNNANNNNNNNNUNNNNNNNNCCNNNNNNNUNNNNNNGGUUCGNNNCCCNNNANCCNNA\n",
        "((((AAAAA((((........))))....AAAAA(((...)))AAAAA(AA((.......))AA)AAA))))A"
       ]
      },
      {
       "output_type": "stream",
       "stream": "stdout",
       "text": [
        "\n",
        "GGGNNNANAGCUNNNNUGGUAGAGCNANANNNNNUUANNNNAANNNNNNCAGGUUCNANNCCNNNNNNNCCCA\n",
        "AA(((((AA(((A.........A)))AA(A(A.......A)A)A.....(((((.......))))))))))AAA"
       ]
      },
      {
       "output_type": "stream",
       "stream": "stdout",
       "text": [
        "\n",
        "NNNCUUANAGUUNAAUUGGUUNAAANNNANNNNUNNNANNNNUNANNNNNNAGGUUCGNNNCCNANUAAGCCNA\n",
        "(((((((.......((AAAAAAAAA......AAAAAAAA)).....(AAA(.......)AAA))))))))A"
       ]
      },
      {
       "output_type": "stream",
       "stream": "stdout",
       "text": [
        "\n",
        "GNCUAANNNNNNNAANNNNNANNNNNUNNNNNNCNNANCCNNNNNNNAUNGUUCGAANCNNNCCUUAGCCN\n",
        "(((((((.......AA(((...((A(....AAA.............AAA....)A))....)))AA)))))))A"
       ]
      },
      {
       "output_type": "stream",
       "stream": "stdout",
       "text": [
        "\n",
        "GNUUAGANNGNUNNNGUNGUUAGNNNNANNNNNNNAAAANNNNNNNNNNNNNNGNUCGAANCNANNNCUAAANA\n",
        "(A(((A(AAA((....))AAAA(AAA(A.....A)AAA)A.......(((((.......))))))A)))A)A"
       ]
      },
      {
       "output_type": "stream",
       "stream": "stdout",
       "text": [
        "\n",
        "NNNNNNANANNNNANNNNNNNNNNNNNNNNNNNNGANNCNNNNNNNNAAAGGUUCGAAUCCUNNNANUCNNN\n",
        "(((AAAAA((AA....AA))AAA((AAAA...AAAA))A........A((((.......))))AAAAA)))A"
       ]
      },
      {
       "output_type": "stream",
       "stream": "stdout",
       "text": [
        "\n",
        "GCGNANANAANNNNNNNGNUANNGUNNNNNANNNNNGNNNNNAAANNNCNNGUUCGAAUCCCNNNANUCGCN\n",
        "((((((...A(A..........A)AAAAA((.......))AAA(AA....AA)AAA((((.......))))AA))))))A"
       ]
      },
      {
       "output_type": "stream",
       "stream": "stdout",
       "text": [
        "\n",
        "ACUCGCNNNNUNNNNNNNNNANNANNNNAGANNNAAAANCNNNUNNNANNGNNNNANCNGUUCGAANCCGANAGNGNNUA\n",
        ".....AAAA(((((((......)))))))AAAA...........(((((.......)))))........"
       ]
      },
      {
       "output_type": "stream",
       "stream": "stdout",
       "text": [
        "\n",
        "NNAAANANAGUNNAANNAAAANAUUANNNNNNNNANNNANNNNNAGNAGNUNNNNNNUUNNNNNNNNNC\n",
        "(AAAAAA..........((A(AAAAA(((....)))AAAA)A))...AA(((.......)))AAAAAAAA)A"
       ]
      },
      {
       "output_type": "stream",
       "stream": "stdout",
       "text": [
        "\n",
        "GNNNNNANANNNNNAUNGGUANNNNNGCAANNNNNCNNANNNNUNNNNAAGGUUCAAAUCCUNNNNNNNCCA\n",
        "A(((((((A((((.......))))AA((............))A((((A......A))))...)))))))A"
       ]
      },
      {
       "output_type": "stream",
       "stream": "stdout",
       "text": [
        "\n",
        "NUCUNANNAGCUNNANNNNNNAGNNNGANNNNNNNANNNNNCNGAUNNNANNUNGAAUNNAAAANNAGAA\n",
        "((((AA(AAAA(((...)))AAA(((AA(.......)AAA)))AAA((((.......)))))AA))))A"
       ]
      },
      {
       "output_type": "stream",
       "stream": "stdout",
       "text": [
        "\n",
        "GAUNANGANNNAAANNNNUNANCCUNNGANNNNNAANNNNAANNANUAGGUUCGAUNCCNNCNNAAUCN\n",
        "(((AA(A........A((((AA(((A.....A)))...))))AAAAAAAA......AAAAAAA(A(((....)))A)AAA)AA)))A"
       ]
      },
      {
       "output_type": "stream",
       "stream": "stdout",
       "text": [
        "\n",
        "GGANNNNNNNNNNNNNNNUNNNAAGNNNNNNNCUNNANAANCNNNNNANNNANNNNNANANNNNNNNNUCGAANCCCNNNCNANCNG\n",
        "(((AAAAAA((((.......))))A(((AA(A...A)AA)))....A((A......A))AAAAA)))A"
       ]
      },
      {
       "output_type": "stream",
       "stream": "stdout",
       "text": [
        "\n",
        "GNNNNNNNAGCUUAAANNNNAAGCNNNNNANNNANAANNCCUNNANNANNNNNNNAACUCNANNAANA\n",
        "((AAAAA...((((AA...A((...........))AAA))))AAA((A........A))AAAAAA))A"
       ]
      },
      {
       "output_type": "stream",
       "stream": "stdout",
       "text": [
        "\n",
        "GCNNNNNNAGCUUAACNAAAGNNNANNNNNNANGCNNNUAANNNNNNNNNNNNNNNNNCCCNNNAGCA\n",
        "(AA(A((AA((((.......))))AAA((.........))AA.....AA(((.......)))AA))A)AA)A"
       ]
      },
      {
       "output_type": "stream",
       "stream": "stdout",
       "text": [
        "\n",
        "GCNCNANNAGCUNNNNNNNNNAGNNNCGNNNNNNNNANCCNNNANNNNNAGNUUAAANNCCNCCCNANNNCU\n",
        "AA(((((.......A(((....)))AAA(((A.......A)))A.....AA(((.......)))AA)))))AAA"
       ]
      },
      {
       "output_type": "stream",
       "stream": "stdout",
       "text": [
        "\n",
        "NNNCUCNNANNUNNNUUCNNUAGAANNNGGNNNNNNNANACCCNNNNNNNNAGGUUCAAAUCCNANNGAGNNNN\n",
        "A(((A((AAAA((((((((.....(AA(A((A(....)AA))A)AA)........))))))))AAA))A)))AA"
       ]
      },
      {
       "output_type": "stream",
       "stream": "stdout",
       "text": [
        "\n",
        "NNCNNNNNANNGGAUUNGGNAAANNNNUNANNNUNNNNNNCNNANNNNNNNNNNUUCGAAUCCNNNCCCCNCNN\n",
        "((AA(A(A((....AAA(AA((AA(A....AAA(AA......AA)AAAA)AA))...)AAA)))A)AA))A"
       ]
      },
      {
       "output_type": "stream",
       "stream": "stdout",
       "text": [
        "\n",
        "GCCCCNANAGNNNNANGGUAGNNNANNNNNNNNNNAANNNNNNNANAGANNNUCGANNNANNUNNNNNGCU\n",
        "((AAA((AA((((.......))))....((AA...........AA))A((((.......))))A))AAA))A"
       ]
      },
      {
       "output_type": "stream",
       "stream": "stdout",
       "text": [
        "\n",
        "GCUNAAGNAGCUNNNNNGUAGAGNNNNANANNNAAAANNNANNNNUNNUUGGUUCAAUNCNAANNUNNNGCA\n",
        "((AAA(AAA(....(((AA...AA)))AA(AAA(AAA......AA)AAA)..........)AAA)AAA))A"
       ]
      },
      {
       "output_type": "stream",
       "stream": "stdout",
       "text": [
        "\n",
        "GNCNNNNNAGNNNAAAGNNAANNNCUUAANNUNANNNNNUANNNANNNNAANUCGANNNNNNNCCNNNNNN\n",
        "(((A((AAA(A(.....)A).....AA(((A.......A)))AA....AA(((A.....A)))AAA))A)))A"
       ]
      },
      {
       "output_type": "stream",
       "stream": "stdout",
       "text": [
        "\n",
        "NAANUAGNAANNNAAUNGGNNNNNNNNUUCCNNNNNNNNGNNNNNNANNNCGNNUCGANNNCGNNNNANNUCG\n",
        "(((((((((AAA........AAA))AAAA((A...A))AAAAAAAA....AAAAAAA(((A.......A)))A)))))))A"
       ]
      },
      {
       "output_type": "stream",
       "stream": "stdout",
       "text": [
        "\n",
        "GGAAAAGNNNNNNNNNNNNNNNNANNANANUNNNNAAANANNNNNNNNNNNNANNNAGNNNNUCGNNNNANCNNUUNUCNG\n",
        "((((AAA....((((((AA................AA))))))...A((((.......))))AAAA))))A"
       ]
      },
      {
       "output_type": "stream",
       "stream": "stdout",
       "text": [
        "\n",
        "AAGANNANANNUUAAAGNNAAAANNNNNAGCNNNNNNCUNNAANNNNUUAGUUCGNNNNUAAGNNNUCUNN\n",
        "((A(((AAAA(((((A......A((AAA..........AAA))A........A))A)))A.....A)))A))A"
       ]
      },
      {
       "output_type": "stream",
       "stream": "stdout",
       "text": [
        "\n",
        "GCNAAGNNAGCUUAANNNAUNAAAGNNNNGNNNNNAAAANNCUNNAANNNNNNNUAAANNNNNNNNCUNANCA\n",
        "(((A((AAA((((.....))))A(((((.......))))).....A(((.......)))AAA))A)))A"
       ]
      },
      {
       "output_type": "stream",
       "stream": "stdout",
       "text": [
        "\n",
        "GCNNCNANAGUUNNNNNNNAANNAGAGCNNNNNNNGCUCNNNNNNNGAGNUAAAANNUCAANANNAGCU\n",
        "AA(((((AAA(((........)))AAA(((AA.......AA)))A...((AA(.......)AA)))))))AAA"
       ]
      },
      {
       "output_type": "stream",
       "stream": "stdout",
       "text": [
        "\n",
        "ANCUNGNNNNCUCNANANNNAGAGNNNNAAGNNNNNNAANNUNNNNNNGANNGUUANANNCCCUCUCAANNNN\n",
        "(((((((AA((((.....))))AAA(((AA...AA)))AA....AA((A.......A))AA)))))))A"
       ]
      },
      {
       "output_type": "stream",
       "stream": "stdout",
       "text": [
        "\n",
        "CAAAGAANAGUUNNNNNNAAANNANNGCUNUNNNNGNNNNANNNNNAANNNAAANNCUNANNUNUUNGA\n",
        "A((((((..............((AAA(((A.......A)))AAA))AA(((.......)))AA))))))AA"
       ]
      },
      {
       "output_type": "stream",
       "stream": "stdout",
       "text": [
        "\n",
        "NAAGNNGNANNNNANNNNNNNAANNNNGNNNNNNNNNNUCCUNNNNNNGGGUUCAAUNCCCNNNUCCUNAN\n",
        "AA(((((AA(((((AAAA....AAAA)))))...)))))AA((A...AA(((.......)))AAAA))...."
       ]
      },
      {
       "output_type": "stream",
       "stream": "stdout",
       "text": [
        "\n",
        "NNNNUNNNAGCNAANNNNNNNNNNNNUUNNCNNNNAACCNNNAANNANNAGNANAANAANCNANNNUCNNNN\n",
        "(AAAA....((((......))))AA((((...))))AA.....((((((A.......A))))))AAAA)A"
       ]
      },
      {
       "output_type": "stream",
       "stream": "stdout",
       "text": [
        "\n",
        "GNNGNNNNAGUUNANNNANAAACNNUNGNNNNNCAANNNNNNAUCCUAAGNUAAANNNUUAGGAANNNCA\n",
        "A((((AAA(AAAAA((AAAAAAA(A((((A...A))))AA)AAAAAAA))....AAA)AAAA))))AA"
       ]
      },
      {
       "output_type": "stream",
       "stream": "stdout",
       "text": [
        "\n",
        "NNCUUNNNANNNNAAANNNNANNNUGGAUNNNNAAUCCNNANANNNNANUANNNNNNNNNNAAAGCUN\n",
        "((A(((AAA((A.....A))....(A((((A.......A))))A)AAA(AA((.......))A)AA)))A))A"
       ]
      },
      {
       "output_type": "stream",
       "stream": "stdout",
       "text": [
        "\n",
        "AGNAGANNAAGCNNANNNCUAAGNUNUUGNNNUNNNNNCCCANNAANNNNNNNANNNNAANCNCCCUCNNCUN\n",
        "(((AAAAAAA((A.....A))AA...AA(A....A)AA......AA(((.......)))AAAAAA)))A"
       ]
      },
      {
       "output_type": "stream",
       "stream": "stdout",
       "text": [
        "\n",
        "AGANNNNNAGNUAAANNNNAANNNNNNNUNNNNNNNNNAAAAUNNNUNGUUAAANNCNANNNNNUNCNN\n",
        "((A(((AAA((A.........A))AA(A((((...))))A)A....A((((.......))))AA)))A))A"
       ]
      },
      {
       "output_type": "stream",
       "stream": "stdout",
       "text": [
        "\n",
        "AANAAGNNNNCNNNNNNNNNNNGNNNNNGAUNNNAAAUCNANNNNNNAAGNUUAAANNCCUNNNNUNANNA\n",
        "((((AA...AAAA....AAAAAA((((.......))))A....((((((.......))))))AA))))A"
       ]
      },
      {
       "output_type": "stream",
       "stream": "stdout",
       "text": [
        "\n",
        "ACUCNANNNNNANNNNNNNNNNNUNGANNNNNAAUCAAANNGNNCUUAGNNNNAANNUAAGANAGANUA\n",
        "(((((((AAA(((((...)))))AAA(((A.......A)))AA....A((((.......))))AA)))))))A"
       ]
      },
      {
       "output_type": "stream",
       "stream": "stdout",
       "text": [
        "\n",
        "AGAGCUNNNNCCCAANGNUNGGNNNNCNAGNNNANNNNUAGANNNNNNNNNGUUAAANNCCCUNNAAGCUCUA\n",
        "AA((((((AA((((AAAAAAA(AA((((.......))))AAA)AAAAAAA))))AA....))))))AAA"
       ]
      },
      {
       "output_type": "stream",
       "stream": "stdout",
       "text": [
        "\n",
        "NNAGAGNUANNUUANNNNNANNCNCNGANNNNNNNNNANNNNNNUNNNNNUAANNNNNAAAACUCNNNA\n",
        "A((((((AAAAA........AAAAAAAAA.......AAAA.....(((((.......)))))))))))AA"
       ]
      },
      {
       "output_type": "stream",
       "stream": "stdout",
       "text": [
        "\n",
        "NNAGAAGNNNNNNNNNNNNANNNNNNNNNNUNNAAANCNNNNNNNAGAGGUUCAAUNCCUCUCUUCUNNN\n",
        "A((A((AAA(((A....A)))AA((AAA...AAAAA))A....(AAA(.......)AAA)A))A))AA"
       ]
      },
      {
       "output_type": "stream",
       "stream": "stdout",
       "text": [
        "\n",
        "ACUAAAGNAGUUNNNAAAAANNNCANNNNNNNNNNNNNNNNNAANNNGUUAAANNCNNNNNUUAANNN\n",
        "(((A...A))).....A(((((...AAA((A.....A(A(((.......)))A)A......A))AAA)))))A"
       ]
      },
      {
       "output_type": "stream",
       "stream": "stdout",
       "text": [
        "\n",
        "GCUAAAANAGCNAANNNGUUAANNNNNNNNNNNNANNANCUNNNNNNNAAAGGNNNAANNNCCUNNNNNAGCN\n",
        "(((A((AA(((......)))A(AAAAA((AAA...AAA))AAAAA)A(((((.......)))))A))A)))A"
       ]
      },
      {
       "output_type": "stream",
       "stream": "stdout",
       "text": [
        "\n",
        "GCNGAAANAGNNAANNNGNUAANNNAAANNNNNNANNNNNNNNNANNGANGGUUCAANNCCUUNNNUNAGCU\n",
        "((((((...AA((.....))AAAAA(((.......)))AAAAAA(((((AA....A)))))A))))))A"
       ]
      },
      {
       "output_type": "stream",
       "stream": "stdout",
       "text": [
        "\n",
        "AAGAGCUNANGNUAANNNAANNNNAAGCNNNNAANGCUNNNNNNAAGAANNNNANNNUNUNAGCUCUNN\n",
        "(((((AAA(A((........))A)A((AA.......AA))A....AAA(A.......A)AAAAA)))))A"
       ]
      },
      {
       "output_type": "stream",
       "stream": "stdout",
       "text": [
        "\n",
        "CAAGANANAGCNANNNANNAAGNUCCUNNNNNNNNNNNAGNNNNNNNUNNNNNNANNNNNGNNNNCUUGA\n",
        "A((A((A.......A((A.........A((((((AA(((......)))A))))))A.....A))AA))A))AA"
       ]
      },
      {
       "output_type": "stream",
       "stream": "stdout",
       "text": [
        "\n",
        "GNUGAAGNAGNNANNNGNNAAANNNNNNAANCCUANNANNNNNNNANNNNNNNUUNNANNNCCUNNUUNAANN\n",
        "(((((((AA(((A.......A)))AA((AAA(AA....(((A.......A)))...AA)AA))AA)))))))A"
       ]
      },
      {
       "output_type": "stream",
       "stream": "stdout",
       "text": [
        "\n",
        "AAGAAANNAGNUAANNNNANNAANANUGNNNUNNNNNNNCCANNNNNNNNGGNNANNAANCCNNNANNUNUUA\n",
        "(AAA(AAA...(AA....(AAA((A(A(((((AA.....AA))A)))A)A))AAA)....AA)AAAA)AAA)A"
       ]
      },
      {
       "output_type": "stream",
       "stream": "stdout",
       "text": [
        "\n",
        "NCNNNNANNGNUNNNNNAUCNNAANNNNCUCUNNNNNANNNAGNNGNNNNUNNNNAAANUCGANNNNNNNNGN\n",
        "A(A((AAA(A(A(((AA....AA)))A)A)AAA))A)A......A((A.........A))A........"
       ]
      },
      {
       "output_type": "stream",
       "stream": "stdout",
       "text": [
        "\n",
        "NGUNUNNUANNNNAANAANNNNANUANAUUNCAAANNNNNNNANNCGNNNNNNAUNNNNGCNNAAANNN\n",
        "(A(((A(A(((....A((((AA((A....A))AAAA))))A....(((AA...AA)))))))A)))A)A"
       ]
      },
      {
       "output_type": "stream",
       "stream": "stdout",
       "text": [
        "\n",
        "ANAGANNNAAGNUANNAAAANNGAAANNNNUNNNNGNUUNAANNNNGANNNNNNCUCUNUNANNCNNNA\n",
        "A((A(((.......A(A((...((AAA(((A................A)))AAA)).....))A)A)))A))AA"
       ]
      },
      {
       "output_type": "stream",
       "stream": "stdout",
       "text": [
        "\n",
        "GCUNGAGUAGNNANNNNNGUNNAANNNUNGNNANNNNNNNNNNNNNNNNAANNNUNNAAUUCCCUNNUNNAGNN\n",
        "A(((((AA.......((AA.....A((((A.......A))))A.....AA)).......AA)))))AA"
       ]
      },
      {
       "output_type": "stream",
       "stream": "stdout",
       "text": [
        "\n",
        "NCUUAAAANNNNAANAANNNNNNNANCUNNNAAAUNNNAAGANAANNNGNUUAANNNNNNNUUAAGNN\n",
        "((((((A(A((((...))))AAA(AA.......AA)AAAA(((A(...)A)))A....)A))))))A"
       ]
      },
      {
       "output_type": "stream",
       "stream": "stdout",
       "text": [
        "\n",
        "AUUCCNNNAGUUNNANNAANNANAANNNNNNNNNNNANNNGUUNANNUNNNACCNNNAANAGGAANN\n",
        "((AAA(AAA......AAA)A......(((((((...)))))))AA((A(AA(.......)AA)A))AAA))A"
       ]
      },
      {
       "output_type": "stream",
       "stream": "stdout",
       "text": [
        "\n",
        "GNNNANNNNNNNNNNNNNANAAAANNNUNNCUNNNNAAGCAAAANNNGANNNNNNAAANCNNUNAANNNANA\n",
        "(((((A(AAA...A((((A....(A(A((...........))A)A)...A))))A...AAA)A)))))A"
       ]
      },
      {
       "output_type": "stream",
       "stream": "stdout",
       "text": [
        "\n",
        "CAGGNNAUANNNNANUAAAAANANNAGCNNNNNNNNNNNNAGNNNNNNNNUUAANNNNNNNNNUCCNNA\n",
        "A(A(((................(((((((...)))))))....(((A(........)A))))))A)AA"
       ]
      },
      {
       "output_type": "stream",
       "stream": "stdout",
       "text": [
        "\n",
        "NUNNANNANNNNNANUANNNNNNUUGAUNNNNAAUCAAANNNNCUUNNNUNNNNANCAAAGAUGNNGN\n",
        "AAAA(AA(A((AAA(......)AAA))A)AA(AAA(((....)))AAA)(((.......)))AAAA)AAAAA"
       ]
      },
      {
       "output_type": "stream",
       "stream": "stdout",
       "text": [
        "\n",
        "GNNAANGNNNNNNANNGUNNAANNNNCNAAAUNNNAAANNNNNUNANAAAGGUNNNNNNCCUNNNNUNNNNA\n",
        "(((((AAAA(((A(AAA......AAA)A)))................AA((A.......A))AAAA)))))A"
       ]
      },
      {
       "output_type": "stream",
       "stream": "stdout",
       "text": [
        "\n",
        "NGAGNNNNAGCCNAANNNNNNNNNNNUUGGCNNNUAANNAANNNNNNNNAAGANNNANNNUNNNNGANUNAN\n",
        "(((((((A(((((........)))))A(A((.......))A).....AAA(A.......A)AAA)))))))A"
       ]
      },
      {
       "output_type": "stream",
       "stream": "stdout",
       "text": [
        "\n",
        "NAGAAAANAGUUUAANNNNNAAAACNAAGAAANNNNNAUUNNNNNNNANAANNNNNANNCUNNNNNNUCNAN\n",
        "(A(((AAAA((((.....))))A((((((A...A))))))A....AAA........AAAAAAA)))A)A"
       ]
      },
      {
       "output_type": "stream",
       "stream": "stdout",
       "text": [
        "\n",
        "GNAAANANAGUUUAANNNAAANANUAGAUNNNNAAUCUAANNNNNNNNNNNNNNNNNCCNNNANUUANN\n",
        ".......AAAAA(AAAAA...AAAAA)AAAAAAAAAA((AAAA((A.......A))AAA))AAAAA"
       ]
      },
      {
       "output_type": "stream",
       "stream": "stdout",
       "text": [
        "\n",
        "GNNNNNNNNNNGGNNUNNNNNNNNGUUNNNNCNCNNGCNAANAAAGUUCGAUNNUUNNNAGNNNNN\n",
        "(((((((.....AAAAAAA...(AAAAAA((.......))AAAAAA)...AAAAAA(((((.......))))))))))))A"
       ]
      },
      {
       "output_type": "stream",
       "stream": "stdout",
       "text": [
        "\n",
        "NNAGNAANNNNNNNNNNGNNAANNNNNNAGANNNNAAANCNNNNNNNNNNNNNNNNNNUGGUUCGAANCCAANNNANUUNA\n",
        "(AAA((A....((AAA(A...A((.....))A.....A)AAA))...AA((A.......A))AAA))AAA)A"
       ]
      },
      {
       "output_type": "stream",
       "stream": "stdout",
       "text": [
        "\n",
        "NNNGUUNNANNCUAANNNNNNNNNNAUUNNCNNNUANCNNNNNGNNANNAAGANNNANNNUNNNNAANUNAN\n",
        "(AAAA(AA(A((.........))A)...A(A.........A)A...AAA((.......))AAAA)AAAA)A"
       ]
      },
      {
       "output_type": "stream",
       "stream": "stdout",
       "text": [
        "\n",
        "ANNNNNNNAGNUNANNNNNNNAANNNNANNNNNNAAANNNNANNNNNNNGGUUCGNNNCCCNNNNCCCNNN\n",
        "(AA(((AAAAAA....AAAAA....A((A(((.......)))A))A............AAA((.......))AAAA)))AA)A"
       ]
      },
      {
       "output_type": "stream",
       "stream": "stdout",
       "text": [
        "\n",
        "GNNAGANNNNNNNNNNNNNNNNNNNNNNNAGANNNNAAANCNNNNNNANNNNNNNNNNNNAGGUUCGAAUCCNNNNUCUCCCA\n",
        "A(((((AAAA((AA.....AA))AA((((AA....AAA))))....A((((.......))))AA)))))AA"
       ]
      },
      {
       "output_type": "stream",
       "stream": "stdout",
       "text": [
        "\n",
        "GCUNUNAANNGANANNNNNNANCNNNNGGNNNNANNANCCAANAANNUUGGNNNNANNCNAAANAAAANNA\n",
        "((((((AAA(A........A)A....A((AA((AAAAAA(((......)))AAAA))AA))AAAA))))))A"
       ]
      },
      {
       "output_type": "stream",
       "stream": "stdout",
       "text": [
        "\n",
        "GCUNUNANNNNNNNNNNNNCCNNNNNNNGNNUUNNNCNNNANNNNNNNNUGNNNCAAGNCCAANNAAAAGCU\n",
        "((((((AA((A(((AA((AAAAAAAA(AA.......AA)AAAAAAAAA))AA)))...))AAA))))))A"
       ]
      },
      {
       "output_type": "stream",
       "stream": "stdout",
       "text": [
        "\n",
        "GCCUNGANAGNUUAANNNAANGCNNCGNNNNNNNNNNNCNNNNNNNNNAGNNNAANNNCNANNCAAGGCU\n",
        "(((((AA..............AAA((A(AA...AA)A))AAAAA(((((.......)))))AA)))))A"
       ]
      },
      {
       "output_type": "stream",
       "stream": "stdout",
       "text": [
        "\n",
        "CAGGANANANNNNNNNUANNNNNNCGNNNNNNNNNNNCNNNNNNAAAGGUUANANNCCUNNNANCCNNA\n",
        "((AA((...AA((......))AAAA((AAAA...AAAA))A...A(AA((.......))AA)A))AA))A"
       ]
      },
      {
       "output_type": "stream",
       "stream": "stdout",
       "text": [
        "\n",
        "AGNNNUNNNNNUUAANNNAAANNNNCNNNNNNNNNNUNANNNNNNNNAGGUUANNNNCCNNCAANNNCUA\n",
        "A((AA((A(((AAAAA(A(A(((((((...)))))))A)AA)AAA....AA)))AAA))AA))AA"
       ]
      },
      {
       "output_type": "stream",
       "stream": "stdout",
       "text": [
        "\n",
        "NGCNNNGNNNNNNNNNNACNNGGGGUNNNNAACCCCNNNANNNNNNNNAANACCNNNNNNNNNUN\n",
        "((A(((((A(AAA......AAA)A)AA(AA(A(A((.......))A)A)AA)AA.....))))A))A"
       ]
      },
      {
       "output_type": "stream",
       "stream": "stdout",
       "text": [
        "\n",
        "GNNAAAGNNNCCNNNNNNNNNNCNAANUNNAGNNNCNNNNNNNNNNGNUNNNNNNNNNNNUNNACCA\n",
        "(AAAAAAA(A(((.........A(AA((((.......))))AAA)A..........)))A)AAAAAAA)A"
       ]
      },
      {
       "output_type": "stream",
       "stream": "stdout",
       "text": [
        "\n",
        "ANUNNNANAGCUUANNNNNANNNNNNAGCNNNNAAANCGCNANNANNANNNNNAANAAGNUNNANNNNUA\n",
        "((A(((AA(A(A.....A)AA(((((.......))))).....AA((A...A))AA)AA)))A))A"
       ]
      },
      {
       "output_type": "stream",
       "stream": "stdout",
       "text": [
        "\n",
        "GNNAAAANNNCNNNNNAAGNNUUAGANNNNAAANCUAANNNNNNNNNNNNNNNCCCCNNNUNACCA\n",
        "((((AA(AA((AA.....AA))(((A((.......))A)))...((((......)))))AA))))A"
       ]
      },
      {
       "output_type": "stream",
       "stream": "stdout",
       "text": [
        "\n",
        "AGAAGNUNANGANNNNNNNNCNAANNGCNNNNAANGCNCUUANNAAANNANNNNNNUUAANUUCNN\n",
        "AA(((A...((((.....))))AA(AAA.......AAA)A...AAA(((AA...AA)))AAAA)))AAA"
       ]
      },
      {
       "output_type": "stream",
       "stream": "stdout",
       "text": [
        "\n",
        "NNGGANNNAGCUUAANNAAAGCNNUNNANUNNNNNUNAANNNNNNNAAGANNNANNNUNANNNNCCUNA\n",
        "AA(((AAA(A(A......(AAA(A((((((.......))))))AA)AAA)A)A)AAA)))............"
       ]
      },
      {
       "output_type": "stream",
       "stream": "stdout",
       "text": [
        "\n",
        "NNGAUNNNANNNNNNNNNNANNNNAUUUAGNNNNUANCUAAAUNNNNNNANNNUNNAAUCNNNNNAANNNNN\n",
        "(((((A(AA((((.....))))(((AAA.......AAA)))...A(AAAA.....AAAA)A)A)))))A"
       ]
      },
      {
       "output_type": "stream",
       "stream": "stdout",
       "text": [
        "\n",
        "GNUUCNANAGUUNNNNNNNAANNANGANNNNNNNNNNNANNNNNNANNNNUAAANNNNNNNNAGAAANA\n",
        "((AA(((AA((A.......A))AAA((A.......A))A.....(((((A....A))))))))AA))A"
       ]
      },
      {
       "output_type": "stream",
       "stream": "stdout",
       "text": [
        "\n",
        "GNCCCGAUAGNANAANAANNANNNNGGNNNNNNAAACCANNAANGAAGANNNNNNUCUUNNCNNNANA\n",
        "(((AA((AA((A.......A))AAA((A.......A))A.....(((((.....)))))))AA)))A"
       ]
      },
      {
       "output_type": "stream",
       "stream": "stdout",
       "text": [
        "\n",
        "GNCCNGAUAGNANAANAANNANNNNGGNNNNNNAAACCANNAANGAAGNNNNNNNCUUCUNNNGANA\n",
        "((((.....((AA.....AA))((AAA(.......)AAA))AAA(((A(......)A)))AAA))))A"
       ]
      },
      {
       "output_type": "stream",
       "stream": "stdout",
       "text": [
        "\n",
        "ACUCNNNNAGNANAANNNANANAANNNANNNNNAAUNNGNNAANUCUNNNNNANNNNAGANNNNANUA\n",
        "((((((AAAA((A.......A))AA((((AA....AAA)))).....((((.......))))AA))))))A"
       ]
      },
      {
       "output_type": "stream",
       "stream": "stdout",
       "text": [
        "\n",
        "ANUNUNANNNGANNNNANNNANCNNNUGGNNNNANNNACCAANANNNNNGGNNNNANNCNAAANAAAAGUA\n",
        "A(((AA...((((.....))))AA(((((A...A)))))A...AAAA((......))AAAAAA)))AA"
       ]
      },
      {
       "output_type": "stream",
       "stream": "stdout",
       "text": [
        "\n",
        "NNGANANNANNAAANNNANUANNNAANCUNNNNAAGNNUAANNNANAGANNNAAANCNANANANCUNA\n",
        "(AAAA(AAA((((.......))))A((((A.......A)))).....(A(A....A)A)AA)AAAA)A"
       ]
      },
      {
       "output_type": "stream",
       "stream": "stdout",
       "text": [
        "\n",
        "CNNNNNNNAGCUUAANNNNNAAGCNNCNNNNNNNNNNCNAGNNNNNNUNANAANAANGAANANNNNGA\n",
        "((((AA(A((...A((((AAAA(AAA((.........))AA...A)AA....))))AA))AAA)AA))))A"
       ]
      },
      {
       "output_type": "stream",
       "stream": "stdout",
       "text": [
        "\n",
        "UAGGANANNNNNNNUNGGUANNANNNAAAANNNNNNAUUNNNNNNNNNNNNUUNAANNCNNNNNNNCCNAG\n",
        "(((AA(AAA((((......))))A(((AA.......AA)))....A((((....))))AA)AA)))A"
       ]
      },
      {
       "output_type": "stream",
       "stream": "stdout",
       "text": [
        "\n",
        "GNUANNNNAGCUNNNNNNNAAGCNAAGCANNNAAAANNCUUANANNGANNNAANAAUCCNANAAANA\n",
        "A((((A((AAA...AAA).............AAA..........AAA...A((((.......))))A)A))))AA"
       ]
      },
      {
       "output_type": "stream",
       "stream": "stdout",
       "text": [
        "\n",
        "ANUAGNNUNNNNNNNCNNANNNAUNNNNNNNNNNNNAAANNNNNNNNNNNAGAGGUUCAAAUCCUCNCCCUAANA\n",
        "(((((A(AAA(A......A)AAA((((A(...)A))))A.....(((((.......))))))A)))))A"
       ]
      },
      {
       "output_type": "stream",
       "stream": "stdout",
       "text": [
        "\n",
        "AGAAANANNNCNNNNNANNGNNNNANUNNNAUANNNNAANNNNNAGAGGUNNAAAUCCUCUNANNUCUA\n",
        "((((AA(A((...A((A(AA(A(AAA((((((...))))))AAAA)A)....)A))AA))AAA)AA))))A"
       ]
      },
      {
       "output_type": "stream",
       "stream": "stdout",
       "text": [
        "\n",
        "UAGGANANNNNNNNUNGNNNNCANNNNGAAUUNNNAAUUNUNNNNNNNNNNUUNAANNCNNNNNNNCCNAG\n",
        "((((((AAAAAA........AAAA((((((.......))))))......((((((...))))))AAA))))))A"
       ]
      },
      {
       "output_type": "stream",
       "stream": "stdout",
       "text": [
        "\n",
        "UAGAUNNNNNNNNNNNNNNNNNNNAUUUAGNNNNUANCUAAANNNNNNNNGGAANNNNAUUCCNNNNAAUCNAG\n",
        "((AA(((AAAA((((A...AAAA((AA....AA))AAAAAAA))))AAAA((A.......A))AA)))AA))A"
       ]
      },
      {
       "output_type": "stream",
       "stream": "stdout",
       "text": [
        "\n",
        "GNNGNUANANNUAAANNNNNNNNAACNNNNNNNNNNNNNNNANUUAANANNAGUUCNANNNUNANNAANUCCA\n",
        "A(((AAAA((...A(((((.....AAA((................))AAA.....)))))AA))AAAAA)))AA"
       ]
      },
      {
       "output_type": "stream",
       "stream": "stdout",
       "text": [
        "\n",
        "GCUNNNNNAGNUNAAUNGGNUAANANANUNNNNNNNNNANNNANNAANNNNNNNUUNAANNNCNNNNANAANNA\n",
        "(((A(((....A((A((A...A(A...(A((A...A(A........A)A...A))A)....A)AA))A))A...)))A)))A"
       ]
      },
      {
       "output_type": "stream",
       "stream": "stdout",
       "text": [
        "\n",
        "GCNANUNNGNNNGNAUUGNUANNNNNNANANNNNNAAGANNNNNNNNNNNNNNNNANNANNNNUNAANNCCNNNAAANAGCA\n",
        "AA(AA(A.........AAA(...)AAA.........A(((AAAA((AA......AA))AA)))AA)AA)AAA"
       ]
      },
      {
       "output_type": "stream",
       "stream": "stdout",
       "text": [
        "\n",
        "NGNNNNNUANNNNANNNNNAANNUACCNAAANNNNNNNUNGNNNNUNNNNNNNUCGAANNAAANCGANUNAN\n",
        "AA((((((((((....))))))....A((AA.......AA))A....((AAAA.......AAAA))))))AAA"
       ]
      },
      {
       "output_type": "stream",
       "stream": "stdout",
       "text": [
        "\n",
        "GCUCUCNUAGCUNANNGGUUAANNNNNAANNNNNNNANNANNAANNNNCNANNNUCAAANNNNNNNGAGANNA\n",
        "AAA(((A...(A(((A(......)A)))A)....A(((((A......A)))))A.........A)))AAAA"
       ]
      },
      {
       "output_type": "stream",
       "stream": "stdout",
       "text": [
        "\n",
        "ANANCUNNAAUNNAANNNUAAAANAUUANAANNNGAANCUANNNNNNNANNUUNNAANNNNNNAAGANANN\n",
        "((AA(((AAAA((((A...A(AAA(AA....AA)AAA)AAAA))))AAAA((A.......A))AA)))AA))A"
       ]
      },
      {
       "output_type": "stream",
       "stream": "stdout",
       "text": [
        "\n",
        "GNNGNUANANNUAAANNNNNNNNNACNNNNNNNNNNNNNNNANUUAANANNAGUUCNANNNUNANNAANUCCA\n",
        "A((((((AAA((A.........A))AA((((A(A...A)A))))....AAA((.......))AAA))))))AA"
       ]
      },
      {
       "output_type": "stream",
       "stream": "stdout",
       "text": [
        "\n",
        "NAAACNANAAUUNNAUUGGUUANAANAGNNNNUNNANANNNNANNAANANAGNUUCAANNCCNNNNAGNUNNA\n",
        "((AA(((AA((((.......))))....A((A((A...AAAA......AAAAA))A))A.....)))AA))A"
       ]
      },
      {
       "output_type": "stream",
       "stream": "stdout",
       "text": [
        "\n",
        "GCNNNNANAGCUUANNNGNAAAGNNNNNAAUNGANNANNNANNNNNNNNNANNUCGAUNNNNNNNAANNNCA\n",
        "(((((A(........(A......A)A((((((...))))))A....(AA((.......))AA))A)))))A"
       ]
      },
      {
       "output_type": "stream",
       "stream": "stdout",
       "text": [
        "\n",
        "AAGGANANANNNNAANNNNAAANNNNNUGAUUNNAAAUCAANNNNNANNNGUUCGAANNUNNNNANCCUNN\n",
        "((((AA...(((..........)))A((((A.......A))))....AAA((AA...AA))AAAAA))))A"
       ]
      },
      {
       "output_type": "stream",
       "stream": "stdout",
       "text": [
        "\n",
        "AGGNNANUAGCUNAAUUGGNNNAGCNUUCGNNNNNNNNNCGAANNANNANAGGNUCGNNCNANANNNCCUA\n",
        "A((((AAAAAA(...((((........((((A.......A))))..........))))AA)AAAAAA))))AA"
       ]
      },
      {
       "output_type": "stream",
       "stream": "stdout",
       "text": [
        "\n",
        "NNCAANANNANNNAAUUGGNUANNNNNNUAGNNNNNNNNNCUAANNNNNNNNNUUNAAANNNNNNNANNGCNA\n",
        "A(A((((..........A((AAAAAAA.........AAAAAAAA))A(((((.......)))))))))A)AA"
       ]
      },
      {
       "output_type": "stream",
       "stream": "stdout",
       "text": [
        "\n",
        "NNNCUNANNNNNNANNNNNNNNNNNANNNNNNNNNNNNNNNGANAANANCNGUUCGAUUCCGANNAAGNNNA\n",
        "(A(((A(AAA(((.......)))AAAAA((.......))AAA.....(A(((.......)))A))A)))A)A"
       ]
      },
      {
       "output_type": "stream",
       "stream": "stdout",
       "text": [
        "\n",
        "GNANCNNNAGCUUANNANNAAANNNNCANNNNNNNNNAANNNNNNNNNNNANNNNNAANNNGAUUAGAUUNG\n",
        "((((AA(AA(AAAAAAA((AAA(A........A)AAA))AAAAAAAAA)A............AA(((.......)))AA)AA))))A"
       ]
      },
      {
       "output_type": "stream",
       "stream": "stdout",
       "text": [
        "\n",
        "GGANGGNNGANNNNNNNGNUNAANNNNNNANNNUNNNNNNNNNNNNAGNNNNNNNUNNNNNNNNAGGUUCAAAUCCNANNNNANCNG\n",
        "(A(((A(A(AA(((AA(AA(AAA(AAAAAA....AAAAAA)AAA)AA))))AA).........A)A)))A)A"
       ]
      },
      {
       "output_type": "stream",
       "stream": "stdout",
       "text": [
        "\n",
        "GNAAANANAANUUAANGNNAAAANNNNNNNNNNNANNNNNANNNNANNUAANNNNAAANNNNANNANUUACA\n",
        "A(((A((AAAA(A.......A)AA...(A(((A...A)))A)......(((((.......)))))))A)))AA"
       ]
      },
      {
       "output_type": "stream",
       "stream": "stdout",
       "text": [
        "\n",
        "NNAGANNNNNNUNNNNNNUNAAANNNNNAGAUNNNNAAUCNANNNNNNAAGAGUUCGAUNNUCUNNANCUNNN\n",
        "(((((AAAAAA(A.......A)AAAAAA(A.......A)AA.....((A((.......))A))AA)))))A"
       ]
      },
      {
       "output_type": "stream",
       "stream": "stdout",
       "text": [
        "\n",
        "NNGAANANNNNUNNANGGUAGAAANNACNNNNNNNNNNCNNNAAANNNNAGUUCGAUNNUNANNANUNANN\n",
        "AAA(A(A...A((........))AAA(A.....A)AA..........A((((.......))))AA)A)AAAA"
       ]
      },
      {
       "output_type": "stream",
       "stream": "stdout",
       "text": [
        "\n",
        "ANAGANANNNGNUAAUUGGNAAANNNGANNNNNNCNNANNNNNNNNNNNGAGUUCGAUNNUCGNNANCNANA\n",
        "(((((AAAAAA....(((......((((A....AA(((AA.....AA)))AAAAA)))))))AAAA)))))A"
       ]
      },
      {
       "output_type": "stream",
       "stream": "stdout",
       "text": [
        "\n",
        "GAGAANANNNNNNAANNGNAAANNNGNNNNNNNNNAAGCNNNNNNNNCUUGNNNNAACNCNNGCNANUCUCA\n",
        "((((((...(((...AAAA(A........A)AAAAA)))....A(((A...A)))AAAAA(((.......)))AAA))))))A"
       ]
      },
      {
       "output_type": "stream",
       "stream": "stdout",
       "text": [
        "\n",
        "GGAAAANNAACNNNNNNNAANNNNNNNNNNUNNNNNANNNAUNGAAUNNNAAAUUNNNNNNAGUUCGAANNUNNNANUNUCNG\n",
        "AAA(AAAA(((.....A(AA(A....((((AA(....)AAA))))AAA)AA)A.....)))AAAA)AAA...."
       ]
      },
      {
       "output_type": "stream",
       "stream": "stdout",
       "text": [
        "\n",
        "ANNAANANGANNNNAUNGNNNANNNNAUUANNCUNNNNNNNNAANNNNANNNNNUCAAANCNNNNNNNNNNNA\n",
        "(((A(((AAAAA....AAAAAAAA.....A(A(((AA.....AA)))AAA)A.....AAAA...)))A)))A"
       ]
      },
      {
       "output_type": "stream",
       "stream": "stdout",
       "text": [
        "\n",
        "CAGANANNNNNNAANNNNNNANNNNNNNNNNNUNGNUNANNNANNNANNNAGUUCGNNNNNNNNCNANCUGA\n",
        "((((((A...AA(........)AAAAAAA((((AAAAA...((......))AAAAA))))AAAAA))))))A"
       ]
      },
      {
       "output_type": "stream",
       "stream": "stdout",
       "text": [
        "\n",
        "GCAGANANNNNNNNAUUNNNNNANNNNNNGAUUNNNNNNNAGANNNNNNUCNNUNGAANNNNANNANCNNCA\n",
        "(A(((((AAAAA(A....((AA(AAAA(A(........)A)AAAA)A))A(((A((......))A)))AA)AAAA)))))A)A"
       ]
      },
      {
       "output_type": "stream",
       "stream": "stdout",
       "text": [
        "\n",
        "NNCUAAANNNNNGNANNNGGNNNNNNNNNNNAANNNNNNANNNNNNNNNNUCGNNNNNNNNNGNUCGNNNCNNNNNNUAGNUA\n",
        "A(((AAAAA((((........))))AA(A(A.......A)A)A.....AA((A.......A))AAAAA)))AA"
       ]
      },
      {
       "output_type": "stream",
       "stream": "stdout",
       "text": [
        "\n",
        "NNGGUNNNNNANUANNNNNNAANNCNCNGAAANNNNNNNUNANNNNNNNNAAGUUCGAANNUNANNANCCCNN\n",
        "(A((((A...............AAAAA.......AAAAA........A((((.......))))AA))))A)A"
       ]
      },
      {
       "output_type": "stream",
       "stream": "stdout",
       "text": [
        "\n",
        "GNGAUNNNNANNNNANGGUANNNNNNNNNNNNNNNGCANNNNNANNNNUNGGUUCGAUNCCAAGNAAUCANN\n",
        "AA(((((AAAAAAA........AAAAAAA(AAA.......AAA)A.....AA(((.......)))AA)))))..."
       ]
      },
      {
       "output_type": "stream",
       "stream": "stdout",
       "text": [
        "\n",
        "NNGANANNNANANNNNNUGGNNNANNNNNUNNNNNNNNNNNNNNGNNNNNNNUAGUUCGAANNUAANCNANCNNN\n",
        "((A(((AAA((((.........))))AA((AA.......AA))....A(AAA.......AAA)AAA)))A))A"
       ]
      },
      {
       "output_type": "stream",
       "stream": "stdout",
       "text": [
        "\n",
        "GCNAAGNNAGCUUANNNNNUNAAAGCNNNGCANNNAAAANNNNNNANNNNNNNNUANNNNCCCNNCCUNANCA\n",
        "((AA((AAA((((.....))))A((((((.......)))))).....A(((.......)))AAA))AA))A"
       ]
      },
      {
       "output_type": "stream",
       "stream": "stdout",
       "text": [
        "\n",
        "GCNCCNANAGUUNNANNNNAANNNAGAGCNNNNNNNGCUCUNNNNNNNGAGNUAAAANNUCAANAGNNGCU\n",
        "(((((((((((((........)))))))AAAAAAA.....AAAAAA(((AAA......AAA)))))))))A"
       ]
      },
      {
       "output_type": "stream",
       "stream": "stdout",
       "text": [
        "\n",
        "GCCUNGNAAGCUNNNNNNNNAGAGCUNNNNNNNNNNAANNNNNNNNAGANNNNAAANNCCCUCUNAAGGCU\n",
        "(AAA((((AA(((......)))AAAA(((AA...AA)))AA....A(((A....A)))A))))AAA)A"
       ]
      },
      {
       "output_type": "stream",
       "stream": "stdout",
       "text": [
        "\n",
        "CNNNAGAANNNUUANNNANAAANNNNNGCUNUNNNNGNNNNNANNNAAGNNNNNNCUNANUCUNNNGA\n",
        "A((((A...((((........))))A((((A.......A))))A.....(((......)))...A))))AA"
       ]
      },
      {
       "output_type": "stream",
       "stream": "stdout",
       "text": [
        "\n",
        "NAAGGNNNAGUUUAAUUNNNNAAACGAAGNNNNNNNNNNNNUUNNNNUUGGNNNNNNNCCCNNNNCCUNAN\n",
        "(((A(AAAA(AAA(A....A)AAA)A((((AA....AAA))))A...AAAA(.......)AAAAAA)A)))A"
       ]
      },
      {
       "output_type": "stream",
       "stream": "stdout",
       "text": [
        "\n",
        "GCNGANNNAGCNNANNNNNNNNNNCAAAAGANNNANNNNCUNUNANNGNNNGUUCAANNCNNNNNNNNAGCU\n",
        "(AA(((AAAA((((AAA....(((AA((((((...))))))AA)))...AAA))))AA....AA)))AA)A"
       ]
      },
      {
       "output_type": "stream",
       "stream": "stdout",
       "text": [
        "\n",
        "GNNGNNNNANNUUAANNNANNAANNNUNNCUNNNNAAGCAAANNNNNNANNNUAANNNNNNANNAGCNNCA\n",
        "(((((A(AAAA((.....))AAA(A(((.......)))A)....A(((A........A)))A)A)))))A"
       ]
      },
      {
       "output_type": "stream",
       "stream": "stdout",
       "text": [
        "\n",
        "AAGGANNNANGNUAANNNAANNNAAAGCNNNNAANGCUNNAANNNAGAANUNNNAANNUNUNAGNCCUNN\n",
        "(((AAAAA(A((........))A)((((A.......A))))....A(((A.......A)))AAAAA)))A"
       ]
      },
      {
       "output_type": "stream",
       "stream": "stdout",
       "text": [
        "\n",
        "CAANNNANAGCNANNNANNAAGNUNCUCNNNNNNNNNNAGANNNNNNUCNNNNNANUCGNGNNNNNUNGA\n",
        "(((A((AAA((A.....A))....(AA(((A.......A)))AA).....A(A........A)AA))A)))A"
       ]
      },
      {
       "output_type": "stream",
       "stream": "stdout",
       "text": [
        "\n",
        "AGNAGANNAAGCNNANNNCUAAGNUNNNGNNNUNNNNNCCCNNNAANNNNNGANNANANNNNCNCUCNANUN\n",
        "(((AA(AAAA((A......A))AA...AA(A....A)AA......AA(((.......)))AAA)AA)))A"
       ]
      },
      {
       "output_type": "stream",
       "stream": "stdout",
       "text": [
        "\n",
        "AGNNNCCNAGNUAAANNNNNAANNNNNNNUNNNNNNNNNAAAAUNNNUNGUUAAANNCNANNNNNNNCNN\n",
        "(((((AAAA(((.........)))AA(A((((...))))A)A....A(((A......A)))AAAA)))))A"
       ]
      },
      {
       "output_type": "stream",
       "stream": "stdout",
       "text": [
        "\n",
        "AGNAANNNNNCNNNNNNNNNAAGNNNNNGAUNNNAAAUCNANNNNNNAGNNNUANNNNCCUNNNNUNANUA\n",
        "(((((AAA((AA(....)AA))AAAA(A(((......))A)A)A................AA)))))A"
       ]
      },
      {
       "output_type": "stream",
       "stream": "stdout",
       "text": [
        "\n",
        "GCUNNANNNANANNNNNNNANNNNNGANNNCNNANNNNNNNGNNNNGNNNAAAANNNNNNANAAAGCA\n",
        "A(((((AA(AA((AA(AAA.........AAA)....AA))AA)AAAAA(((A......A)))AA)))))AA"
       ]
      },
      {
       "output_type": "stream",
       "stream": "stdout",
       "text": [
        "\n",
        "NNAAAGNAGNNAAGNGNNNNNNNNNNNNNNNCUAANNNUNNNCNNNNNAGNNUUCAANNCCUNNNUNNAGN\n",
        "((((((AAAA((.......))AAAA(((A.......A)))AAAAA((((.......))))AA))))))A"
       ]
      },
      {
       "output_type": "stream",
       "stream": "stdout",
       "text": [
        "\n",
        "GAGCUNNNNCCUAANNNUAAGNNNNCNAGNNNANNNNUAGANNNAANNGUUAAANNCCCUNNAAGCUCN\n",
        "A(((((((A(((.....(A((((A((((.......))))AA))))A).....))).....)))))))AA"
       ]
      },
      {
       "output_type": "stream",
       "stream": "stdout",
       "text": [
        "\n",
        "NAAGAGNUAGNNNNNNNNNAACCNCNGANNNNNNNNNAGANGGUNNUNGUUNAANNCNNAAACUCUNNN\n",
        "A(((((((((((A(((AA......(((A....A))).......AA)))A))))).........))))))AA"
       ]
      },
      {
       "output_type": "stream",
       "stream": "stdout",
       "text": [
        "\n",
        "NCUUAANUAGCUNANNNNANNGCNNNANNNNNNNAANNNAANNNNAANNAGCNAANNNNNNNNANUAAGNN\n",
        "A((((((................AAAAAAA.......AAAAAAAAA(((((......)))))))))))AA"
       ]
      },
      {
       "output_type": "stream",
       "stream": "stdout",
       "text": [
        "\n",
        "NNAGAAGNNNNNNGNNNNNNNNNNNNNNNNNUNNAAANCNNNNGAUAGAGGUNNNNNCCUCUCUUCUNNN\n",
        "..........A((((((.......(A(((.......)))A).....(A((......))A)))))))AAA"
       ]
      },
      {
       "output_type": "stream",
       "stream": "stdout",
       "text": [
        "\n",
        "NAUNANNNNANNUUAANNNNNNNNUNAGCNNNNNNNGCUNAANNNNCNAGNAAANNNNNNCUUAAANNN\n",
        "((((((AAAA((A(.....)A))AA(((AAA....AAAA))).....((((.......))))AA))))))A"
       ]
      },
      {
       "output_type": "stream",
       "stream": "stdout",
       "text": [
        "\n",
        "ANUNUNAANNGANANNANNNANCNNNUGNNNNNANNNNNNAANAANNUUGGNNNNANNCNAANNAAAAGUA\n",
        "AA(((((A((.......((((AA((AA((A...((AA....AA))....A))AA))AA))))))AA)))))AAA"
       ]
      },
      {
       "output_type": "stream",
       "stream": "stdout",
       "text": [
        "\n",
        "NNNCUUANAGNUNAAUUGGNNNNAANNNANNNNNNNNNNNNNNGANNNNNNANNNUNGNNCCCNANNAAGCCNA\n",
        "(AA((((A((((.....))))A(AAAAA(AAA.......AAA)AAAAA)AA(((.......)))AA))))AA)A"
       ]
      },
      {
       "output_type": "stream",
       "stream": "stdout",
       "text": [
        "\n",
        "GNNNAAANAGNNNNNNNGGNUAGNNNNNNNNNNNNNNNNNNNANNNNNNNNNNGUUCGANNCCCNNNNUCCCCG\n",
        "(((AA(A........A((((AA(((A.....A)))...))))AAAAAA(A......A)AAAAA(A(((....)))A)AAA)AA)))A"
       ]
      },
      {
       "output_type": "stream",
       "stream": "stdout",
       "text": [
        "\n",
        "GGANNNNNNNNNNNNNNNUNNNAAGNNNNNNNCUNNANAANCNNNNNNNNNAUNNNNANANNNNNNNNUCGAANCCCNNNCNANCNG\n",
        "(AA(((AAAAAA....AAAAA....A((A(((.......)))A))A............AAA((.......))AAAA)))AA)A"
       ]
      },
      {
       "output_type": "stream",
       "stream": "stdout",
       "text": [
        "\n",
        "GNNAGANNNNNNNNNNNNNNNNNNNNNNNAGANNNNAAANCNNNNNNNNNNNNNNNNNNNAGGUUCGAAUCCNNNNUCUCCCA\n",
        "(A(((AAAAA((....))AA((AAA((((AAA((A(AAA....AAA)A))AAA))))AAA))AAAA)))A)A"
       ]
      },
      {
       "output_type": "stream",
       "stream": "stdout",
       "text": [
        "\n",
        "NNNNNNANANNNNANNNNNAAGNNNUCGGNNNNNNNNNNNNNNNNNNNANNGNUCGAANCCUNNNANUCNNN\n",
        "A((A((AAAAA(A........A)AA...A(((AA.......AA)))AAA(((.......)))AAA))A))AA"
       ]
      },
      {
       "output_type": "stream",
       "stream": "stdout",
       "text": [
        "\n",
        "NNCCCUNNNNNCNNNNNNUUANGANNNNNNCUNNNNNNNNNGNAGANACNNGUUCGAUUCCCNNAAGNGANA\n",
        "(A(AAA(((((((........)))AAAA(AA((AA....AA))AA)AAAAA(((....)))A))))AAA)A)A"
       ]
      },
      {
       "output_type": "stream",
       "stream": "stdout",
       "text": [
        "\n",
        "GNNANANUAGCUCNAUUGGUAGAGNNNNNNNNNNNNNANCGAANNGNNNNNNNNNNAAANCCCNAANANAANA\n",
        "A((AA(AA......AA)AA))A......AA(A.......A)AA((((A((((A.......A))))AA))))AA"
       ]
      },
      {
       "output_type": "stream",
       "stream": "stdout",
       "text": [
        "\n",
        "NNAANNANNNNNNNANNNNUAGNNAAANACNNNNNNNNNNCNNNAAANNNAAGUUCGAUNNUUAGNNUUNANN\n",
        "(((((((AA(A....A((....A(A(AA((A((((AA...AA))))AA))AA))A....))AA))))))))A"
       ]
      },
      {
       "output_type": "stream",
       "stream": "stdout",
       "text": [
        "\n",
        "NANNUUANNNNNNANNGGUNNNGNNNNNAANNUUUNNNNNNGAAAANNUUGGNUNNANNCCAANUAAGAUNA\n",
        "AAA((AAA(((.....A(AA(A....(((((A(A...A)A)))))AAA)AA)A.....)))AAA))AA....."
       ]
      },
      {
       "output_type": "stream",
       "stream": "stdout",
       "text": [
        "\n",
        "NNNAANANGANNNNAUNGNNNANNNNAUUAGGNNNNNNNNCUAANNNNANNNNNUCAAANCNNANNNNNNNNA\n",
        "((A.......A(((A(A(.....(((...A(AAAAAA....AAAAAAA)A...)))....)A)A)))AA))A"
       ]
      },
      {
       "output_type": "stream",
       "stream": "stdout",
       "text": [
        "\n",
        "GCNNNNNNAGCUUANNGNNNNNNNGANNAANNNNNNANNNNNNUNNNNNNANNUCGANNNNNNNUAANNNCA\n",
        "((AAA((A(AA(((...(AA(AAAAAA(AAAA...AAAA)AAAAAA)AA))))AA).........A))AAA))A"
       ]
      },
      {
       "output_type": "stream",
       "stream": "stdout",
       "text": [
        "\n",
        "GNANANANAANUUAANNGNNAAAANNNNNNNNNNNANNNNANANNNNANNUAANNNNAAANNNNANNANNNACA\n",
        "A(((AAAAAAA(((A...A)))AA...(A(((A...A)))A)......(((((.......)))))AAA)))AA"
       ]
      },
      {
       "output_type": "stream",
       "stream": "stdout",
       "text": [
        "\n",
        "NNANNNNNNNNUUAANNNNUAAGCNNNNAGAUNNNNNANCNANNNNNNAAGAGUUCGAUNNUCUNNNNNUNNN\n",
        "(((A((AAAAAA((A((A...A(A...(A((A...A(A........A)A...A))A)....A)AA))A))AAAAA))A)))A"
       ]
      },
      {
       "output_type": "stream",
       "stream": "stdout",
       "text": [
        "\n",
        "GCNANUNUGNNNGAAUUGNUANNNNNNANANNNNNAAGANNNNNNNNNNNNNAGNANNANNNNUNAAAUCCNNNAAANAGCA\n",
        "AA(AA(A..........AAA(...)AAA....A(((AAA(((A(........)A)))AA)))AAA)AA)AAA"
       ]
      },
      {
       "output_type": "stream",
       "stream": "stdout",
       "text": [
        "\n",
        "NGNNNNNUANNNNANNANNNAANNUACCNAANNUNGNNNUNGNNNNNNNNNNNUCGAANCAAANCGANUNAN\n",
        "((((AAAAAAA((((AAAAAAA....AAAAAAA))))AAAA.....A((((.......))))AAAA))))A"
       ]
      },
      {
       "output_type": "stream",
       "stream": "stdout",
       "text": [
        "\n",
        "GAGNNNANNNNUUAANNNNAAANNNNNNNNNNNUUAANNAANNNNNNNUNGUUCGAANCNAGCNNNUCUCA\n",
        "AAA(AAAAAAA((........))AAAAAAAA)A..........(A(AAAA((.......))AAAA)A)...."
       ]
      },
      {
       "output_type": "stream",
       "stream": "stdout",
       "text": [
        "\n",
        "ANAGANANNNGNUANNNNGNAAANNNNANNNNNNNNNNANNNNGANNNNNAGUUCGAUNNUNANNANNNNNN\n",
        "(A(((((AAA((....))A...AA((A...(AA...AA)...A))AA(A(((.......)))A))))))A)A"
       ]
      },
      {
       "output_type": "stream",
       "stream": "stdout",
       "text": [
        "\n",
        "GNAUCCANAGCUNANNAGNNNNNNCCNNNNNNNNNNNAANNNNGGANNNNANNNNNAANNNGAUNNGAUUNG\n",
        "((((((A....AAA(AAAA(A........A)AAA)AAA...(((((AAAAA.......AAAAA))))).......A))))))A"
       ]
      },
      {
       "output_type": "stream",
       "stream": "stdout",
       "text": [
        "\n",
        "GGAAAANNNNNNANANNNANNNNAAANNNNUNNNNANNNNAUNGAANUNANNNNNNNNANNNNNUCGAANNNNNNANUNUCNG\n",
        "((((AA(AA(AAAAAAA((AAA(A........A)AAA))AAAAAAAAA)A..........AA(((.......)))AA)AA))))A"
       ]
      },
      {
       "output_type": "stream",
       "stream": "stdout",
       "text": [
        "\n",
        "GGANGGNNNNNNNNNNNGNUNANNNNNNNANNNUNNNNNNNNNNNNAGNNNANNANNNNNNNAGGUUCAAAUCCNANNNNANCNG\n",
        "(AAAA((AAA((((A.......A))))AAA((((.......))))AAAA(.....)AA...AA(((.......)))AA))AAAA)A"
       ]
      },
      {
       "output_type": "stream",
       "stream": "stdout",
       "text": [
        "\n",
        "GNNNNGANNNCNAANNNNGGNAAUNNNNNNUGNGNNNNAANNUCAANGANNNNNNANNNNNNNAGGUUCAAUNCCNANNCCCUNNA\n",
        "A(((AAAAA((((........))))A((((A.......A))))....AA(((.......)))AAAAA)))AA"
       ]
      },
      {
       "output_type": "stream",
       "stream": "stdout",
       "text": [
        "\n",
        "NNCUNNNNNNCUUANNNGUUAAAGNNNCUNNNNNNUAANNAGAANNNNNAGGUUCAAUNCCNANNNNNGANN\n",
        "((AA(((......A(((A......A)))AAAA((A....A))AA...AA(((.......)))AA)))AA))A"
       ]
      },
      {
       "output_type": "stream",
       "stream": "stdout",
       "text": [
        "\n",
        "GNNGNUANANNUAAAUNGNUANNNNAAUNNNNNNNNNNNNNANANNNANNAGUUCAAUNNUNANNAANUCCA\n",
        "A((((((.......A((((A......................A))))AAAA((.......))AAA))))))AA"
       ]
      },
      {
       "output_type": "stream",
       "stream": "stdout",
       "text": [
        "\n",
        "NAAACNANNANNNNAUNGGNUANNNNANNNNNNNNANNNNNNNCCAANANAGGUUCGAUUCCNNNNAGNUNNA\n",
        "(((((AAA(((((.......)))))A((((((...)))))).....A(((.......)))AAAAA)))))A"
       ]
      },
      {
       "output_type": "stream",
       "stream": "stdout",
       "text": [
        "\n",
        "AAGGANANAGUUUANNGGNAAAACNANNGAUUNNAAAUCAANNNNNAAGNNNUCGANNCUNNNNANCCUNN\n",
        "((((AAAAAAAAAA((AA.......AA))AAAAA.....AAA.....AAAA(((.......)))AAAAA))))A"
       ]
      },
      {
       "output_type": "stream",
       "stream": "stdout",
       "text": [
        "\n",
        "ANUNNNNNAGNNNAAANNNUUAAANNANUNNNNNNNNAAANAANNNNNNNAAGGUUCAAAUCCUNNNANAAGUA\n",
        "(((AA(AAA((((.......))))A(((AA.......AA)))....A((A......A))AA)AA)))A"
       ]
      },
      {
       "output_type": "stream",
       "stream": "stdout",
       "text": [
        "\n",
        "GNNNANNNAGCUUAAANNNNAAGCNNNGNNNNNAAANNNCCUNNANNANNNNNNNNNCUCNANNAANA\n",
        "((((((AAA((((.....))))A((A((.......))A))..................AA))))))A"
       ]
      },
      {
       "output_type": "stream",
       "stream": "stdout",
       "text": [
        "\n",
        "CAAGANANAGCUUAANNNAAGCNNCNAGNUNNNNNCNAGNANANNNNNNNNNNNNNNNANANNUUGA\n",
        "((((AAA((AAAA(....(AAAAAA((((........))))AAAAAAA).....)AAAA))AAAAA))))A"
       ]
      },
      {
       "output_type": "stream",
       "stream": "stdout",
       "text": [
        "\n",
        "UAGGANAAGNNNNUNNNNNNNANNNNGAAANNNNNNAUUNUNNNNNNNANNUUNAANNCCNNNNNNCCNAG\n",
        "((((((AA........A((AAAAAA.....AAAAAA))A.........A(((.......)))AAA))))))A"
       ]
      },
      {
       "output_type": "stream",
       "stream": "stdout",
       "text": [
        "\n",
        "ACUCUNANNNNNNANNNNNNNNNNNNNNNNNNNNUNANCNNNNAAANNNGGGUUCGAUUCCCAANAAGANUA\n",
        "((((A(AAAAAAA((AAAAA(AAAAAA(((AA............AA)))AAAAAA)AAAAA))A....AAAAAA)A))))A"
       ]
      },
      {
       "output_type": "stream",
       "stream": "stdout",
       "text": [
        "\n",
        "ANUNANNNNNNNNAANNNNUAGNNNNNNNNNANNNAAAANNNNNNNNCANNNNNNNNNNNNUUCGAUNNNNNNNANAAGUA\n",
        "(AAA(((.....(((((A(AA(A........A)A...)A)))))(AAAA(A(....)A)AAA))))AAA)A"
       ]
      },
      {
       "output_type": "stream",
       "stream": "stdout",
       "text": [
        "\n",
        "GNNNNAANANNNNAANNNNNGANNNNNNNNNNUNNAAANNGNUAGNNNNNNNUCGAANCCNNCUUCCCUCG\n",
        "(A(((A(AA((((.....))))A((((AA(...)AA))))A...((((A........A)))))A)))A)A"
       ]
      },
      {
       "output_type": "stream",
       "stream": "stdout",
       "text": [
        "\n",
        "GNAAANANAGUUNAANNNAAANANUAGANUNNNNNNCUAANNNNAGNNNNNNNNNNNNNUNNNANUUANN\n",
        "((((((AAAA((A.......A))AA((AAAA....AAAAA))....((((.......))))AA))))))A"
       ]
      },
      {
       "output_type": "stream",
       "stream": "stdout",
       "text": [
        "\n",
        "ANUNUNAANNGANNNNANNNANCNNUCNNNNNNANNNANCGANNNAUUGGNNNNANNCNAANNAAAAGUA\n",
        "((((AAAAA((((AAAAAAA(AAA((AA.......AA))A......A)AAAAAAA))))AAAAA))))A"
       ]
      },
      {
       "output_type": "stream",
       "stream": "stdout",
       "text": [
        "\n",
        "GCUNACNNAGCUUANNNAANNNNNNGCANNNANNNNNNNNNNNNNNNCNNNNNNNAAGCNNNNNAAGCA\n",
        "AA((((A....A((((AA(AA(........)AAA)...))))A.......(AA((.......))AA)A))))..."
       ]
      },
      {
       "output_type": "stream",
       "stream": "stdout",
       "text": [
        "\n",
        "GNNAGNNNNNNNGAGCNNNNNUANNNNNNNNNNNCNANGCUCNNNNNNNNNNNGGUUCAAAUCCCCNNGCNANNN\n",
        "((AAAAAAAAAA........AAAA((AA(A(...)A)AA)).....AAA((.......))AAAAAAAA))A"
       ]
      },
      {
       "output_type": "stream",
       "stream": "stdout",
       "text": [
        "\n",
        "GGNNANNNNNCNNNAANNNNNNNNUCANUNNNAUANNNNNAAANNNNNNGGUUCAANNCCCANNANNNCCN\n",
        "(AAA(A........AAAA((AAAAA(....)AAAAA))AAAA...AAA((.......))AAAA)AAA)A"
       ]
      },
      {
       "output_type": "stream",
       "stream": "stdout",
       "text": [
        "\n",
        "ANNNAGNNGNNNANNNNNNGNNNNNNNNNNUNNGANNUNUNNNNNNNNGGUUCAAUNCCNNNNUNNNUA\n",
        "(((((((AA((((.....))))A((((A.......A))))A......(((...))).....)))))))A"
       ]
      },
      {
       "output_type": "stream",
       "stream": "stdout",
       "text": [
        "\n",
        "AGNAAANNNNGCUAANNNAGCUNUUGNNNNNNNNNCCCAAANNNNNUGGNNAAACCNNNNNCUNNANUA\n",
        "(((((((AA(AAA.....AAA)A(AA((.......))AA)....A((((.......))))A)))))))A"
       ]
      },
      {
       "output_type": "stream",
       "stream": "stdout",
       "text": [
        "\n",
        "AGAGAUNNAAGNNNNNNNNNNUAANNGCNNNNAANGCNCUANNNNGGNGNUANNANNUCCNAAUCUCNN\n",
        "((((((AAAAA(AA(((AA(AAAA.......AAAA)A)))AA)AAAA(((A...A)))...A))))))A"
       ]
      },
      {
       "output_type": "stream",
       "stream": "stdout",
       "text": [
        "\n",
        "AAGNCUNNNNNNNAAUNANANNNNNNNNNNNNNNNUNAAUNNAUNNUGGANAAAANCCNNNAAGCCUUA\n",
        "A(((AAA((AAA((((A(A........A)))))AAA))....(A((((....))))A)AAA)))AA"
       ]
      },
      {
       "output_type": "stream",
       "stream": "stdout",
       "text": [
        "\n",
        "AAGCNNNNGNNNNUNNNNANNNNNNAUNNCAAANNNCNNNNNNCAAANNNNNNUUNNCCNNNCUNN\n",
        "(AA((AAAA((A........A))AAA((A.......A))AA....(((((.......)))))AA))AA)A"
       ]
      },
      {
       "output_type": "stream",
       "stream": "stdout",
       "text": [
        "\n",
        "GNNAANNNNNCNNNNNNNNNNNNNNNNNANNNNAGNNCCNNNNNNAGAGGUUCNANNCCUCNNNUNANNA\n",
        "(((A(AA.................(((((A...A))))).....(AAA(.......)AAA)AA)A)))A"
       ]
      },
      {
       "output_type": "stream",
       "stream": "stdout",
       "text": [
        "\n",
        "GAGANNNNANNAAANNNANUAGNNNNCCUNNNNAAGGCNNNNNAGCNNGUUANNNNNNNNNNNANCUCA\n",
        "A(((((AAA(((....(AA((..........))AA)...)))A.....)))))A....................."
       ]
      },
      {
       "output_type": "stream",
       "stream": "stdout",
       "text": [
        "\n",
        "CANNAANNAGCUAANNANNNNNNUAGNNNNNNCNNNNNAAGCNNNANAUUGGUNNNNNNNAANNNNNNNNANNNN\n",
        "((((((...(((AA....AA)))AAAA((.......))AA....A(((((.......)))))A))))))A"
       ]
      },
      {
       "output_type": "stream",
       "stream": "stdout",
       "text": [
        "\n",
        "ANUNUNNNANNNNNAANNNNNANNNNNNANNNNNAAUCANNAANNCUUAGNUANNANNUAAGAGAAAGUA\n",
        "((((AAA(AA(((.....)))AA(((((.......)))))......A((.......))AA)AAA))))A"
       ]
      },
      {
       "output_type": "stream",
       "stream": "stdout",
       "text": [
        "\n",
        "GAGUNNNUAGUCNAANNNAGANNNUUGANNNNNNNNCAANNAANNNNNGUUAAANNCCANAANAACUCN\n",
        "A((((AA(((((((.........)))))))AAAA))))((...(((((.......)))))AA))...."
       ]
      },
      {
       "output_type": "stream",
       "stream": "stdout",
       "text": [
        "\n",
        "NNAGANANANUNUAANNAANNNNUAGAUUNNNANNNNAGNNNNAGAGNUUAAANNCCUCNNNNNNNNN\n",
        "((((((...A(A..........A)AAA((((A....AA))))A...(AA((((.......))))AA)))))))"
       ]
      },
      {
       "output_type": "stream",
       "stream": "stdout",
       "text": [
        "\n",
        "GCUNNNANNNNNNANNNNNNNNNCNNNUGGNNNNANNNACCANNNNNNNUNGGNNNNAAUCCAAGNGAAAAGN\n",
        "(((((A(AA(.....A((A(((AA(A((AA...AA))A)AAA)))...A))A.....)AAA)A)))))A"
       ]
      },
      {
       "output_type": "stream",
       "stream": "stdout",
       "text": [
        "\n",
        "GNUCCNANAGNNNNNNAANAANNNUGGUNNNNNANANNANNNNNNNNNGUUANNNNNCNNNNNNGAANN\n",
        "A(((A((AA((((......))))A))A)(((A........A)))((((AA..........AA))))))AA"
       ]
      },
      {
       "output_type": "stream",
       "stream": "stdout",
       "text": [
        "\n",
        "GNCNNNANAGCUUAANNNAAAGCNNNNNNNUNNNANNNNNNAGAUNGNNNNNAAANNNNNCCUCANGANN\n",
        ".......(AAAAAAAAAA(......)AAAAAAA....AA)(((...AAA((.......))AAA....)))A"
       ]
      },
      {
       "output_type": "stream",
       "stream": "stdout",
       "text": [
        "\n",
        "NNNNNAANNNNNNNNNNGNNANNNNNNNNNNUNNNNANNNGAGNNNGNNGGUUCGAUUCCCNNNNNNNUCG\n",
        "((((A(AAA((((.....))))AA((AA.......AA))A....A(((........)))AA)A))))A"
       ]
      },
      {
       "output_type": "stream",
       "stream": "stdout",
       "text": [
        "\n",
        "GCUUNNNNAGCUUANNNAAAGCNNNGCANNNANNNNNNNNNNANNNGCNNNNNNNNGCUNNNNAAGCA\n",
        "((((AAAAA((((.....))))AA((((.......))))A....(AAAA.......AAAA)AAA))))A"
       ]
      },
      {
       "output_type": "stream",
       "stream": "stdout",
       "text": [
        "\n",
        "CAAAGNANAGCUUAANNNAAGCNNNUCNNUNNNNNCGAAANNANANNNNNUAAANNNNNANNANUUNGA\n",
        "(AAAA(A((A....AA((((A(....((AAA.......AAA)))))))AA....A)).......A)AAAA)A"
       ]
      },
      {
       "output_type": "stream",
       "stream": "stdout",
       "text": [
        "\n",
        "GCCNNGAUCNNNNANNNNUUANNNNNNNNCNNNNNNNNNNCNGNAACCUNNNNUCGAANNNNNNNNACNNCA\n",
        "((((((AAA((((((AAAAAAAAAA((A(AA.......AA)A))AAAAAAAAA))A)))).....A))))))A"
       ]
      },
      {
       "output_type": "stream",
       "stream": "stdout",
       "text": [
        "\n",
        "GNCUNNNNAGCUCANNNNNNNGNNNNANCNNNNNNUANNCNNNUNNNNNNNNNNUCGAGCNNNNNAAAAGCNG\n",
        "(((AAAAAA((((........))))AA(AA(.......)AA)A.....AAA((.......))AAAAAAA)))A"
       ]
      },
      {
       "output_type": "stream",
       "stream": "stdout",
       "text": [
        "\n",
        "GNNNNNNNAGCUNNNNNNNNNGAGCNCCNNCNNNNNNNNNNNNNNNNNNNAGGUUCNANNCCNANANANUCCA\n",
        "((((A(AAA((((.........))))A((A((AAAAAA(AA....AA)AAAAAAA))A))A.....A)A))))A"
       ]
      },
      {
       "output_type": "stream",
       "stream": "stdout",
       "text": [
        "\n",
        "GCGCCCNNAGANNNAUUNNNNNGANCNNUNGANNNNNNANNNANNNNUNNNNNGNUCGNNNNNNNNCNNNCGCA\n",
        "(((A((AAAAAA...AAA(((A(((A.....A)))AA)))AAAAAAAAAA((((.......))))AA))A)))A"
       ]
      },
      {
       "output_type": "stream",
       "stream": "stdout",
       "text": [
        "\n",
        "GNANCUNNAGNNNNNNNNGUUAGAGNNNNNNNCUNNNAANNNNNNNNNNANNGGUUCNANNCCAANAAGNNCCA\n",
        "(((((A(AAAA...AA(A........A)AAAAAA((AA.....AA))AAA((AA....AA))AAAAAA((.......))AAA)A)))))A"
       ]
      },
      {
       "output_type": "stream",
       "stream": "stdout",
       "text": [
        "\n",
        "GNNNGAUNNNCNNNNNCNNNNNNANNNNANNNNNNUNNNNANNCNNGNNNNNNNNNANNCCGNNNNNNGGUUCGAAUCCCUNNNNUUCNG\n",
        "(AA((((AA(((((A....A)AA))))AA(((A.......A)))A.....A((((.......))))A))))AA)A"
       ]
      },
      {
       "output_type": "stream",
       "stream": "stdout",
       "text": [
        "\n",
        "GNNCCCANNNNGAANNNNNGNNNNCGCNNCNCCNNNNNNNNNANNNNNNNNCNNGUUCGNNNCCCNNNGGNNNNG\n",
        "(((((A(AAA(A......A)AA(((((A(...)A))))).....(((((.......))))))A)))))A"
       ]
      },
      {
       "output_type": "stream",
       "stream": "stdout",
       "text": [
        "\n",
        "AGAAANANNNNNNANAANNNNAUNANUNNNAUANNNNAAANNNNAGAGGUUCNNNNCCUCUNANNUCUA\n",
        "((((((AAAAAA..........AAAAAAA(((A...A)))AAAA(((A....A)))AAA(A((.......))A)AA))))))A"
       ]
      },
      {
       "output_type": "stream",
       "stream": "stdout",
       "text": [
        "\n",
        "GCCCANNNNNCNNNNNGGUANNNNNNNNNNANNNNNNANCCNNCNCNNNNNNNAGNNNNCCGGUUCNANNCCNNNNUUGNNCA\n",
        "((A(((AAA((((........))))AA((((((...))))))A.....(((((.......)))))A)))A))A"
       ]
      },
      {
       "output_type": "stream",
       "stream": "stdout",
       "text": [
        "\n",
        "GNNNUNNNAGCUNNNNNNGUAGAGNNNCNCCUNNNNAAGGCNNNNNNNCNNGNNNNNAAUCCCANCAANNCCA\n",
        ".........((AA.....AA))AAA((A((...))A))AA(((A(((AA...AA))))))A...."
       ]
      },
      {
       "output_type": "stream",
       "stream": "stdout",
       "text": [
        "\n",
        "ANNNNNNNAGNANNNNNNANANNNNNCANNNNNAANNCANAAANNGANAAAANANCCNUNAAANA\n",
        "((((AAAA(((AA(AAAA......AAA)AA)))....A((....))AA(AA((.......))AA)AAA))))A"
       ]
      },
      {
       "output_type": "stream",
       "stream": "stdout",
       "text": [
        "\n",
        "GGGNNNANAGCUNNNNUGNUANNNNNNUGNNCNNNNNANCNANNGNNNNNAGGUUCNANNCCNNNNNNNCCCA\n",
        "(((((((AA(AA........AA)AAA(((((...)))))AAA...((((A...A)))))))))))A"
       ]
      },
      {
       "output_type": "stream",
       "stream": "stdout",
       "text": [
        "\n",
        "GAUUAAGNNGNNNAANNNNNNNNGANAGAUNNNAAAUCNANNNNNAAGAANNNNUNUNNUUAAUCA\n",
        "(((A(((AA(....AA((...A(AAAAAAA(A....A)AAAAAAA)A...))AA...)AAA)))A)))A"
       ]
      },
      {
       "output_type": "stream",
       "stream": "stdout",
       "text": [
        "\n",
        "AANNNCUNAGNUNAANNAAANNANNNNNNNNNNNNNNNNNNNANNNNNNNNANNNNNCNNNNGANNUUA\n",
        "(((A((AAAA(((AAA((AAA(A((...AAAA.....AAAAAA))A)AAA))AA)))AAAA))A)))A"
       ]
      },
      {
       "output_type": "stream",
       "stream": "stdout",
       "text": [
        "\n",
        "GCNNNCNNAGCUUANNUAANNNNNAANNNNNNNNNNNNNANNNNNNNNNNNANNAANNNNCGANAGCA\n",
        "((AAA((AAA((AA(A(A...A)A)A))AAAAAAA(....)AAAAA(((.......)))AA))AAA))A"
       ]
      },
      {
       "output_type": "stream",
       "stream": "stdout",
       "text": [
        "\n",
        "AGNNNAUNANNNNAAGNAAAANANUNGANNNNNNNUNNNNNNNNNNNNGUUANANNCCANAAUNNNCUA\n",
        "(A(((((AA((((.....))))AAAAAA((...))AAAA......A(((A.......A)))A)))))A)A"
       ]
      },
      {
       "output_type": "stream",
       "stream": "stdout",
       "text": [
        "\n",
        "AGNUAANNAGCUUANNNAAAGCNAANNNUUNNNAAANANNNNNNNNGAAGUUCAAUNNUUNNAUUAANUN\n",
        "(((((((((((A...AAA(AA(AA....AA)AA)A...AA...A))))AA((.......))AAA)))))))A"
       ]
      },
      {
       "output_type": "stream",
       "stream": "stdout",
       "text": [
        "\n",
        "AAGAAANNAGCNNNNNNNNANNNNNNNNNNUNNANNNNNNNNNNNCNNNNAGUUCGAANNUCNNNNNUNUUA\n",
        "(((((((AA((((........))))A((((A.......A))))....A(A((.......))A)A)))))))A"
       ]
      },
      {
       "output_type": "stream",
       "stream": "stdout",
       "text": [
        "\n",
        "NNCCUNANAGCUNNNNNNUUAAAGCNNCUNNNNNNUAANNAGANNNNANNNGUUCAAUNCNNANUAAGGANN\n",
        "(((((((.....A((.....))AA(AA.....AA)......AA((A......A))AAA((((.......))))A)))))))A"
       ]
      },
      {
       "output_type": "stream",
       "stream": "stdout",
       "text": [
        "\n",
        "GGAAAAUNNANNNNNNNNNNNANNANNNNNNNNNUAANNNNNAGAANNNNNNNUCNNNNNNGUUCGAANNUCCNAUUNUCNG\n",
        "((((A(...((A...........A))AAAAAA.......AAAAAAAA(....)AAAA((((A.......A))))A)A))))A"
       ]
      },
      {
       "output_type": "stream",
       "stream": "stdout",
       "text": [
        "\n",
        "GCNANUNNNNUNNNNNNNNUANNNANNNNNCANNNAAAANNCNNNANUNNNAAGNANAAAAGUUCNANNNUUUUAAGNAGCA\n",
        "((AA((AAA((((........))))AAAA(A.......A)AAA.....AAA((.......))AAAA))AA))A"
       ]
      },
      {
       "output_type": "stream",
       "stream": "stdout",
       "text": [
        "\n",
        "GNNNCCNNAGCUNNNNNNNNNGAGNNNNNCCNNNNNNNNNNANNNNNNNNNGGUUCAAAUCCCNNCNNNNCCA\n",
        "((A(((AAA((...))A.....(AAAAA((A(.......)A))AAAAA)AAA((.......))AAAA)))A))A"
       ]
      },
      {
       "output_type": "stream",
       "stream": "stdout",
       "text": [
        "\n",
        "GCCNCNNNNNNUNNGCNNNGUAGANNNNCNNANUNNNNAUNANNNNNNNNNNGGUUCGAAUCCCCCCCGNNGCU\n",
        "(((A(AAA((((AAAAAA(AA(A((((....))))...A)AA)AAAAAA))))AAAAAA....AAAAAA)A)))A"
       ]
      },
      {
       "output_type": "stream",
       "stream": "stdout",
       "text": [
        "\n",
        "GNNCCNNNGGGNNANNNNGNNCNANCNNNNNNGANNNNNGANCNNNNNNCCCCNNNUNNAANNNNNNNNNNCCCA\n",
        "AA(((((AA(((A.........A)))AA((((.......))))A.....(AAA(.......)AAA))))))AAA"
       ]
      },
      {
       "output_type": "stream",
       "stream": "stdout",
       "text": [
        "\n",
        "NCCNCGAUAGNUNNNAUUGGUAGAANNNCGNNNNNNANNNCCNNNNNNNGNNNGUUCAAAUCNNNNNCGCNNNN\n",
        "((AA((AAAAA........AAA.....AAAA((A.......A))AAAA...((((.......))))AA))AA))A"
       ]
      },
      {
       "output_type": "stream",
       "stream": "stdout",
       "text": [
        "\n",
        "GCCCNNNNNNNNNAGNNNNNNCNNNNNNNNAGGNNNNNNNNNCCNNNNNNUNNGGUUCAAAUCCCNNNNANNNCN\n",
        "A((AAAAAA((((.........))))AA((A(AA...AA)A))A.....A((((.......))))AAAAA))AA"
       ]
      },
      {
       "output_type": "stream",
       "stream": "stdout",
       "text": [
        "\n",
        "NNCNNNNNAGCUNNNNNNGGUAGAGNNNCNGANNNNNNANNANNNNNNNNAAGGUUCAAAUCCUNNNNNNGAGN\n",
        "(((A(((AA((((........))))AA(((A.......A)))A.....AAA((.......))AAA)))A)))A"
       ]
      },
      {
       "output_type": "stream",
       "stream": "stdout",
       "text": [
        "\n",
        "GCNGAUNNAGCUNNNNNNNUAGAGCNNCUNNNUNNNNNNNNNNNNNNNNNNGGUUCGAUUCCNNNAANNAGCA\n",
        "(((A((AAAAAA...........AAAAAA((A.......A))AAAAA(((A....A)))AAAAAA((.......))AAAA))A)))A"
       ]
      },
      {
       "output_type": "stream",
       "stream": "stdout",
       "text": [
        "\n",
        "GGANNCNNNNNNNNNNNGUNNAANNNNNCNNNNNNNANNANCNNNNNNCGNNNNNNNNANNNNNAGGUUCAAAUCCNANNNCCNCNG\n",
        "A((A(((A(A(AA(((((AAA(AAAAA...........AAAAA)AAA))AA)))AA)A)....A)))A))AA"
       ]
      },
      {
       "output_type": "stream",
       "stream": "stdout",
       "text": [
        "\n",
        "NNCCCGNNGNNNNAANNGAUNNCANNNNANNNNNNNANNNNNNNNNNCCNNNUUNGANCNNNNNNCNNGANA\n",
        "(((A.....((((........))))AAA((A.......A))AAA(A((A......A))A)........A)))A"
       ]
      },
      {
       "output_type": "stream",
       "stream": "stdout",
       "text": [
        "\n",
        "GCNNNNNNAGCUNNNNNNNNNGAGNNNNAGANNNANNNNCUNNNNNNCNNNNNNUCGANCNNNNNNANNCNCA\n",
        "A(((A((AAA(((........)))A....A(AAAA((...))AAAA)AAAAA(.......)AAAA))A)))AA"
       ]
      },
      {
       "output_type": "stream",
       "stream": "stdout",
       "text": [
        "\n",
        "NCGANCNNAGCUNNNNUGGUAGAGNNNNNNNNNNNAGNNNCNNANNNNNNNNGUUCGAANCNNNNANNNNNNN\n",
        "(AA((((AAAAAAAA....AAAAAAAAAA(((.......)))AAAA(A....A)AAAAAA((.......))AAA))))AA)A"
       ]
      },
      {
       "output_type": "stream",
       "stream": "stdout",
       "text": [
        "\n",
        "GNNNCGANNNNNNNNNNNNNNAANNNNNNAGANNNCAAANCUNNNNUNNNNNNNNNNNNNNGUUCAAAUCCNNNNCNCNNNG\n",
        "(((AA(AAAA(((........)))AAAA(((.......)))AAAAAA...AAA...(((((.......)))))A)AA)))A"
       ]
      },
      {
       "output_type": "stream",
       "stream": "stdout",
       "text": [
        "\n",
        "GGANNGANNNCUNANNNNNNNAANNNNNAGANNNNAAANCNNNNNNNNNNNANNNNGANGGUUCGAAUCCUUNNCCCNCCA\n",
        "(((((((AAAAAAAA((A(....AAA(AA.....AA(AA......AA)AA...AA)AAA.....)A))AAAAAAA)))))))A"
       ]
      },
      {
       "output_type": "stream",
       "stream": "stdout",
       "text": [
        "\n",
        "GCGGNANNNNNNNNAUUGGUANNNNCANNNNANNNANNNNNNNNNNNCNNNNNNNNNNNNNNNNUNAANNNNNNCCUUCCGCA\n",
        "A((AAA(A(A((A........A))AA)AAAAA....AAA........(AAA(.......)AAA))AAA))AA"
       ]
      },
      {
       "output_type": "stream",
       "stream": "stdout",
       "text": [
        "\n",
        "NNCANNNNGAUNNAAUUGGNAANANNNANNNNUNNNNNCNNNNNNNNANNCNNUCAAANNNNNNNNANNCNN\n",
        "A(A(A((AAAAA((A((A(((((AAAA(.....)AAAA))))(AAAAAAA(....)AAAAAAA))A))A))AAAA))A)A)AA"
       ]
      },
      {
       "output_type": "stream",
       "stream": "stdout",
       "text": [
        "\n",
        "ANNANNNNNNNNGAAUUGNNAGANNNGANUANNUNNNNNCUAANNNANNNNNANNAANANNNNNUNAAAUCCNNNNAGNNANA\n",
        "(((((....((((.........))))AA((AA.......AA))A....(A((A.......A))A)AA)))))A"
       ]
      },
      {
       "output_type": "stream",
       "stream": "stdout",
       "text": [
        "\n",
        "AGAANNNNAGCUUAANNNNNNAAAGCNNNCNNNNNNNNNNNNANNNNNNAAAGUUCAAUNNUUNNNNANUNUA\n",
        "((A((((AAAA((........))AAA((A((.......))A)).....AA(((.......)))AA))))A))A"
       ]
      },
      {
       "output_type": "stream",
       "stream": "stdout",
       "text": [
        "\n",
        "GUNNCNANAGCUNNNNUGGUAGANNNCCNNANNNNNANNCCGGUNNNNNNNANUUCNNNNCUCNNUAGCNANN\n",
        "A(A(AA(AA((AAAA....AAAAA))AA((((.......))))AAAA((....))AAAAA((((.......))))A)AA)A)AA"
       ]
      },
      {
       "output_type": "stream",
       "stream": "stdout",
       "text": [
        "\n",
        "GNNANNNNNNCNNNNNNNNNNNNNGCNNNAGANNNNNNNNCNNNNNNUCNNNNNNNNNNNUGGGUUCAAAUCCNANNNNNNANA\n",
        "A(AAA(AAA((((.......))))AA((A....A))AAAAA....AAAAAAA.......AAAAAA)AAA)AA"
       ]
      },
      {
       "output_type": "stream",
       "stream": "stdout",
       "text": [
        "\n",
        "GANCUNNNNGCGCNNNNNUANCGCNNCNNNNNNNAGANNANNNNNNNNNNNNNUCGAANNACNNNNNNNNNA\n",
        "A((((AAAA((AA(..........)AA))AAAAAA)))).....(((((......)))))........"
       ]
      },
      {
       "output_type": "stream",
       "stream": "stdout",
       "text": [
        "\n",
        "NNAGANANAGUNNANAANNAANNNNANNNNNNNAAUCUANNNNNNGGAAANNAAAUUCCNNNNNNNNC\n",
        "(A((((AAA((((........))))...........(AA((...))AA)A(AA(.......)AA)AA))))A)A"
       ]
      },
      {
       "output_type": "stream",
       "stream": "stdout",
       "text": [
        "\n",
        "GCCGAAANAGCUNNNNNNNNNGAGNNNUANNNNNANNANNNAANNNNNCCNNNGUUCGANNCNNNNNUUCNNCA\n",
        "A((AAAA(AAA(....)AAA)AA...A(((A.......A)))A.....AA(((.......)))AAAAAA))AA"
       ]
      },
      {
       "output_type": "stream",
       "stream": "stdout",
       "text": [
        "\n",
        "NUCCUNNNNNNCNNANNNNNACNNNNNCNNNNNNNNNNCNAGNNNANNCNAGGUUCNANNCCNNNNNNNNANN\n",
        "(AA(((A.......AAA(....)AAAA(((A(.......)A))).....A((((.......))))AA)))AA)A"
       ]
      },
      {
       "output_type": "stream",
       "stream": "stdout",
       "text": [
        "\n",
        "GNNUUCNNNNNNNANNNGNUNNNNNNNNCNNNUNANNNNNNAGNNNNNNCCCAGUUCGANNCNNNNNGAAANNA\n",
        "((AAAAAAA((((........))))...AA(AAA((A....A))AA)AAAA((A....A))AAAAAAAAA))A"
       ]
      },
      {
       "output_type": "stream",
       "stream": "stdout",
       "text": [
        "\n",
        "GCNNNNNUNNCGCNANNNNUANCGCNNNNNNNNNUUAANNNNAANNUUANNGGNUCGNNNCCCNNNNNNNGCU\n",
        "((A(A((.......((A.......A))A(AA(AA....AA)AA)...A(AAA.......AAA)A))A)A))A"
       ]
      },
      {
       "output_type": "stream",
       "stream": "stdout",
       "text": [
        "\n",
        "GCNANCNNANNNNANUNNUUANNNNANNNCNNNNNNNNNNANNNNNNCCNNGUUCGAUNNNAGNNGANNNCA\n",
        "(((A(((AAA(AAAA....AAAAA)AAAA((((A...A))))AAAAAAAAA.....AAAAAAA((AA(.......)AA)))))A)))A"
       ]
      },
      {
       "output_type": "stream",
       "stream": "stdout",
       "text": [
        "\n",
        "GGNNAGNNNNCNNNNNNNNNNAANGNNNNNNAUNNNNAAUCCNNNNNANAANNNNNNNNNANNGNNNGUUCGAAUCCCUCNCNNNCNG\n",
        "(((((AAA((A......A))AAAAAAAA(AA.......AA)AAAAAA((A((.......))A))AA)))))A"
       ]
      },
      {
       "output_type": "stream",
       "stream": "stdout",
       "text": [
        "\n",
        "UCCGANNNANNNNANNNNNNANNNNNNNACNNNNNNNNNNUNNNNNNNNNGGUUCGNNNCCCCNNNNCNNNN\n",
        "(AAAA((..................((AAA(A(((A...........A(A....A)A......A)))A)AAA))...))AAAA)A"
       ]
      },
      {
       "output_type": "stream",
       "stream": "stdout",
       "text": [
        "\n",
        "GNNNNGANNNNNNANNNNGGUANNUGGNNNUGNGNNNNAAANNNNNNGANNNNNNNNNNNNNNNGNUNAANUCCNNNNCCCUNNA\n",
        "(((A((.....(((A(AAAA......AAAA)A)))...(((AAA(A((........))A)AAA)))))A)))A"
       ]
      },
      {
       "output_type": "stream",
       "stream": "stdout",
       "text": [
        "\n",
        "GCGNANNNAGNUNAGUNNNNNNNNNNNNNNNNNGNNNNUCNNNNNNNCNNNNNNUCGANCNNNAGAAUUCGCA\n",
        "(((AAAAAAA(((........)))AAA((AA.......AA))A......AA((A....A))AAAAAAAA)))A"
       ]
      },
      {
       "output_type": "stream",
       "stream": "stdout",
       "text": [
        "\n",
        "UCCNNNNNAGCUNNNNUGGUAGAGNNNUCNNNNNNNANNCGAAANNNNNNNGGNUCGNNNCCCNNNNNNGGAN\n",
        "((((AA(AAA....(((........)))AA(((((A(A(((AAAA(((....)))AAAA)))A)A)))))AAAA)AA))))A"
       ]
      },
      {
       "output_type": "stream",
       "stream": "stdout",
       "text": [
        "\n",
        "GGUNNNUNNGNNNNNCNNNNNANNNCNCNNGAUUNNAGCUNNNNNNNCNNNNNANNNNNNANNUNGAAUNNNNNAGNAACCA\n",
        "(((((((AA(((A....A)........AAAAA.......AAAAAA((A(........)A))AA))A)))))))A"
       ]
      },
      {
       "output_type": "stream",
       "stream": "stdout",
       "text": [
        "\n",
        "GNNCUCUNNGCCNNNNNGGUUNNNNNNNCNNNNNANNNNCNCNNNGANNNNNNNUUCGANCCNNCNAGAGACCA\n",
        "(AAAAA(...AAA(AAAAA((((A........A))A))AAAAA)AAAAA((....))AA(((((.......))))))AAAAA)A"
       ]
      },
      {
       "output_type": "stream",
       "stream": "stdout",
       "text": [
        "\n",
        "GNNNNNNUNNNNNNNNGNNCUAANNNNNNNNNNUUAAGANNNNNNNNNNNGUNNNCCNNNCGANUUCGANNCUCNCNNCCUNNA\n",
        "A(((AAAAA((((.......))))AA(AAA.......AAA)A.....((((A.......A))))AAA)))AA"
       ]
      },
      {
       "output_type": "stream",
       "stream": "stdout",
       "text": [
        "\n",
        "NNCNCCNNNGCGNNNNNNNNNCGCNNNNNNNUNNNANNCCNNANNNNCUCNNANCGAAANCGANCNNCGNNA\n",
        "((AA.....((((........))))A((((A.......A))))AAAAAAA(((.......)))AAAAAAA))A"
       ]
      },
      {
       "output_type": "stream",
       "stream": "stdout",
       "text": [
        "\n",
        "GNNNNNNNNNCGNNNNUGGUANCGCNNUUCNNNNNNNNNNNNNNNNNNNNNNGUUCGAUUCCNNNNNNNNCCA\n",
        "AAAAA(AA(((A....A)))A)AAA((A(((.......)))A))(((A...A)))AAA(AA(A.........A)AA)AAAAA"
       ]
      },
      {
       "output_type": "stream",
       "stream": "stdout",
       "text": [
        "\n",
        "NNNNNNNNGGNNNNNNNGUUAANNNNNNAGANUNNNAANCNNNNNNGNNNNNCCCNCNNNNGNUCAAANNNNNNNNNNNNNG\n",
        "(AA(AAAA(((A....A)))AAA(AAA(((AAA(((......)))AA)))AA)A...AAA((.......))AAAAAA)AA)A"
       ]
      },
      {
       "output_type": "stream",
       "stream": "stdout",
       "text": [
        "\n",
        "GNCANNANGGNNNNNNNGUUANNGCNAGANNNUCGAAANNNNUNNNNNUCNNCCNNNNNNNGUUCAAAUCCNNNNNGNNNNG\n",
        "(((((AAAA((AA.......AA))AA(AAA((((...))))AA)AAAAA(((.......)))AAAA)))))A"
       ]
      },
      {
       "output_type": "stream",
       "stream": "stdout",
       "text": [
        "\n",
        "GNUCNNNUNGCNNNNNGGNANCNCNNCNNNCNCCNANGGANNNGANNNNNNGUUCGNNNCCCNNNNNGAACN\n",
        "A(((A(AA(A(AA.......AA)AA((AA(AAAAA(((A....A)))AAAAA)AA))AAAA)AAA)A)))AA"
       ]
      },
      {
       "output_type": "stream",
       "stream": "stdout",
       "text": [
        "\n",
        "GCUNNNNNNNCNNNNNNNNNNCNNNNNNNANNNNNAAUNNNNNGAUUNNNNGNUNGANNNCCNNNNNNANNN\n",
        "((((A...(((((........)))))A(AAA.......AAA)A.....A((((.......))))AAAA))))A"
       ]
      },
      {
       "output_type": "stream",
       "stream": "stdout",
       "text": [
        "\n",
        "GCUCNNNNAGCUNNNNNGUUAGAGCUNNNNNNUNNNANCNNNNNNNNNNNGGGUUCAANNCCNNNNNCGNGCA\n",
        "((((AAAA(AAAAA(AA((....A(((((A.......A)))))A))A)AAAA........A)AAAAA))))A"
       ]
      },
      {
       "output_type": "stream",
       "stream": "stdout",
       "text": [
        "\n",
        "NNNNNNNNGNNNNANNNNUNNNANUCUCGNNNNNNNNNNGAGNNNNCCNNNNUUCAANNNCNNNNNNGCCCN\n",
        "((A((AAAA(AAA......A(AA(A((AA((.......))AAA))A)AA)A.......AAA)AAAAA))A))A"
       ]
      },
      {
       "output_type": "stream",
       "stream": "stdout",
       "text": [
        "\n",
        "AGNGNNNNAGUUNNANNNNUANNANANNNNANNNCAAANCNNNNUNNNNNNNNUUCNNNNNCNNNNACCCCNN\n",
        "((A(((AAA(.....(A(....(A(AAAAAA.........AAAAAA)A)....)A)....)AAAA)))A))A"
       ]
      },
      {
       "output_type": "stream",
       "stream": "stdout",
       "text": [
        "\n",
        "AGNGGUNNAGNUNAANGGUANNNNNNNNNNNNNNANNNNNNNNNNNNNNNNNUUNAANNNCNNNNANCCCNN\n",
        "(((((AAAAAAA...AA......AA...AAAA((A.......A))A....AAA(A....A)AAAAA(((((.......)))))AA)))))A"
       ]
      },
      {
       "output_type": "stream",
       "stream": "stdout",
       "text": [
        "\n",
        "GNNAGNANNNCNNANNNNNNNNNGNNNNNNNNNNNNNNGNNNANCNNUANANNNNNNNAUCNANNNAAGAGUUCGAANNUCUNNANUUCNG\n",
        "A((AA(AAA((((.......))))AAAAA(AAAA........AAA)AAAA((.......))AAAA)AA))AA"
       ]
      },
      {
       "output_type": "stream",
       "stream": "stdout",
       "text": [
        "\n",
        "NNNNNGNNNGCUCNANGGUAGAGCNNNCGNNNNNNAANNGNNNNNNNNNNGGUUCAAUNCCNNNNCNNNNNA\n",
        "A(AA((AA(A(((...)))A)...AAAAA((((.......))))AAAAAAAA((A.......A))AAA))AA)AA"
       ]
      },
      {
       "output_type": "stream",
       "stream": "stdout",
       "text": [
        "\n",
        "NUNNNNNNAGNCAANNNGGNUNNNNNNNNAAGANNNNAAANCUNNNNNNNNNNNNNUCGNNUNNCCCCCNNNAGN\n",
        "(((A(A(A.....(((A.....A)))......AAAA(AA(((((.......)))))AA)AAAAA)A)A)))"
       ]
      },
      {
       "output_type": "stream",
       "stream": "stdout",
       "text": [
        "\n",
        "GNNCCNANNNNNNAGUGNUNNNNANNNNNNNUNNNNANNCGAANNANNNNNGUUCGNANCNNNNNNNNANN\n",
        "(((AAAAA........(((A....AAAAA((.....))AAAAAAA)))(A((.......))A)AAAAA)))A"
       ]
      },
      {
       "output_type": "stream",
       "stream": "stdout",
       "text": [
        "\n",
        "UCCNNGANNNNNNANNGNNNNNNNNNNNNNNNNNNNGCNNNNNNGANNNNGGUUCAAUUCCCCNNNNNNNNN\n",
        "((((AAAAA((((.......))))(AAA(((A...A)))AAA)(A((........))A)....AAAA))))A"
       ]
      },
      {
       "output_type": "stream",
       "stream": "stdout",
       "text": [
        "\n",
        "GCUCNNNNNNCGNNNNNGUANCGNNNNAGAUNNNNAAUCNNNNGNNCNNNANNUCGANCNNNNNNNNGAGCU\n",
        "(A((AAAAA(A.......A)AAAAA))A)........AA(AA((A...A(A((.......))A)AA))AA)AA"
       ]
      },
      {
       "output_type": "stream",
       "stream": "stdout",
       "text": [
        "\n",
        "GNNNNNNNNNNNNANNNNNUNNNNNGNUCNNNUAGNNNNNNNGANNNNNCCGGUUCGAUUCCNNNNUNNNNNA\n",
        "(AA((AA.......AAA(AAA(AAAA(((((((...)))))))AAAAAA)AAA)AAAAA(((.......)))AAAA))AA)A"
       ]
      },
      {
       "output_type": "stream",
       "stream": "stdout",
       "text": [
        "\n",
        "GNNAANUNNNNNNNNNNGUNANNNNNAAAGAUUANNAAUCUNNNNNNNNUNNNCCNCNCAGGUUCGNNNCCNNNNGNNNNNG\n",
        "((AA(A(AAAAA.........AAAAA((AA.......AA))A.....A((((.......))))A)A)AA))A"
       ]
      },
      {
       "output_type": "stream",
       "stream": "stdout",
       "text": [
        "\n",
        "GCCCUNNNNNCNNANNNGNNNNNNNNNNCANNNNNNNNNNNNNNNNNNUGGGUUCAAUNCCNANNNNNNNCA\n",
        "(A(((A(A.....A((A.....A))AAA(((A((A((A((AA......AA))A))A))A)))AA)A)))A)A"
       ]
      },
      {
       "output_type": "stream",
       "stream": "stdout",
       "text": [
        "\n",
        "GNNCCNANNNNNNAGUGNUNNNNANNNNNNGUNUNGANCCNNNNNANNCCGGUUCGAANCCNNNNAGGANCN\n",
        "((((AA(AA((A..........A))AAA(AA.......AA)AA.....(((((.......))))))AA))))A"
       ]
      },
      {
       "output_type": "stream",
       "stream": "stdout",
       "text": [
        "\n",
        "GCUNNNNNNNCNNANNNGGNNNNNCNNNANNNNANNNNNNNNNNNNNNNNCNGUUCAAAUCCGANNNNNAGCA\n",
        "((AA(AAA((A((...))A))A.....AA(((.......)))AA.....AAA((.......))AAAAA)AA))A"
       ]
      },
      {
       "output_type": "stream",
       "stream": "stdout",
       "text": [
        "\n",
        "NANUCCANGGNNAANNNGGUUANNNNNNNNNANNNNUAAUCNCNNNNNNNNNAGUUCAANNCUNANNNNNNNNG\n",
        "(((A(((AA(AA((AAA(A(A.........A)A)AAA...))AA)AAA(((.......)))AA)))A)))A"
       ]
      },
      {
       "output_type": "stream",
       "stream": "stdout",
       "text": [
        "\n",
        "GCGCAANNNNNNNANNNNNAAAANNNANNNNNNNNNNNNNUNNNNCCCCGGUUCGAUUCCNNNCUNNCGCA\n",
        "((((((AAA(A......A)AA...AAAA(AA.......AA)AAAAAAA(A((.......))A)AA))))))A"
       ]
      },
      {
       "output_type": "stream",
       "stream": "stdout",
       "text": [
        "\n",
        "UCCGANANANNNNANNNNNNANNNNNNNACNNNNNNNNCNUNNNNNNNNNGGUUCGNNNCCCCNNANCNNNN\n",
        "((((AAAAA(((((AAAAAAA(AAAAA((((((...))))))AAAAA)AAAAAA)A)))).....AAA))))A"
       ]
      },
      {
       "output_type": "stream",
       "stream": "stdout",
       "text": [
        "\n",
        "GCGNACNNAGCUCANNUNNNAGANCNNAANCUNNNNAAGNUUNNNNNNNNNNNNUNGAGCNNNNNNNNCCGCU\n",
        "((AA((AAA((((........))))AAAAAA.......AAAAA.....AA(((.......)))AAA))AA))A"
       ]
      },
      {
       "output_type": "stream",
       "stream": "stdout",
       "text": [
        "\n",
        "UCCUNNNNAGCUCNAUUNNNNNAGNNNCCNNNNNNUANNCNNNNNNUNNNNNGUUCGNNNCNANNCCNNNNNN\n",
        "((AAA(AAA((((........))))AAAAAA.......AAAAA.....AA(((.......)))AAA)AAA))A"
       ]
      },
      {
       "output_type": "stream",
       "stream": "stdout",
       "text": [
        "\n",
        "UCCNCCNNAGCUCNAUUNNNNNAGNNNCCNNNNNNUANNCNNNNNNUNNNNNGUUCGNNNCNANNNNNNNNNN\n",
        "(AAA((AA(((A(...)A)))A......AAAA.......AAAA.....AA(((.......)))AAA))AAA)A"
       ]
      },
      {
       "output_type": "stream",
       "stream": "stdout",
       "text": [
        "\n",
        "GNCACNANAGCNNNNNNNNCUANNNNNNNNNNNNNNNNNNCCNNNANNNNNNGUUCGAANCCGANNAGNNCCN\n",
        "((((((AA((...(((((A((A(((AAA(((AA....AAA)))AAA)))....))A)))))A))AAA))))))A"
       ]
      },
      {
       "output_type": "stream",
       "stream": "stdout",
       "text": [
        "\n",
        "GCGCCCANAGNNNAAUNGNAUNNANNNNUNGNNNNNNNNNNAAANNNUNNNNNNUUCGAUNNCNNNNNNNCGCN\n",
        "AA((((AA(((...))).....(AAAAA((AA(A...A)AA))AAAAA)AAA((.......))AAAA))))AAA"
       ]
      },
      {
       "output_type": "stream",
       "stream": "stdout",
       "text": [
        "\n",
        "NNNAAAGNAGCNNAGCUUGGUAGANNNNUCNNNNNNNNNNCGNNNNNNNNCNGGUUCGAAUCCNNNNUNUCCNN\n",
        "((AA((AAA((((........))))AAAAAA.......AAAAAAAA(((A....A)))AAA....A))AA))A"
       ]
      },
      {
       "output_type": "stream",
       "stream": "stdout",
       "text": [
        "\n",
        "GNNNCCNUAGCUNNNNNNNNNGAGCNNCNNNNNNNNNNNNNNNNNNNCGNNNNNUCGANCCNNNNNGNNNCCA\n",
        "A(((AAAAAAA(AAAAAA(A(A(((A.....A)))AA)A)AAAA)AAAAA((((.......))))AAAA)))AA"
       ]
      },
      {
       "output_type": "stream",
       "stream": "stdout",
       "text": [
        "\n",
        "NNNNNNANANNUNNNNNNGUNAGAGNNNNNNNCUNNNANCNNNNNNNNNNAGAGUUCNANNNUCUNNNUNGCNA\n",
        "(((AA(((((((.....)))))AAAA(((AAA.......AAA)))AAAAAA(((.......)))AA))AA)))A"
       ]
      },
      {
       "output_type": "stream",
       "stream": "stdout",
       "text": [
        "\n",
        "GNANCCNUAGNNNNNNNGGNUAGANNANCCNNNUNNNANNNNNANNNNNNNNNGUUCNANNCNANNANNNNCCA\n",
        "(((((A(....(((AAAA(((A.....A)))AAAA)))...........A((AA....AA))AAAAAA((.......))AAA)A)))))A"
       ]
      },
      {
       "output_type": "stream",
       "stream": "stdout",
       "text": [
        "\n",
        "GNNNGAUNNNNNAAGNNNNGUNNANNNNANNNNNNUNNNNAAUNNNNNNNCNNNNANNNNCNCNNNNNGGUUCGAAUCCCUNNNNUUCNG\n",
        "AAAA((AAAA(((........)))AA((((A.......A)))).....AA(((.......)))AAA))AAAAA"
       ]
      },
      {
       "output_type": "stream",
       "stream": "stdout",
       "text": [
        "\n",
        "NNNNGGNNNNNGNNNNUGGUAGCUNNNUGNNNUNNNANNCCAANNNNNNNAGGUUCNANNCCNNCCCCCNNNN\n",
        "(A(((AA..........((A......A))AA((AA...AA))AA.....AA(((.......)))AAAA)))A)A"
       ]
      },
      {
       "output_type": "stream",
       "stream": "stdout",
       "text": [
        "\n",
        "GNNCUNNNANNNAANNUGNNNNNNNNNNCNNUCNNNNNNAGANNNNNNNNNNNGUUCNANNCCCNNNAAGANNG\n",
        "((((A(AAA(((((A(AAA........AAA)A))A)))A.........AAAAA.......AAAAAA)A))))A"
       ]
      },
      {
       "output_type": "stream",
       "stream": "stdout",
       "text": [
        "\n",
        "GGNUNANNAGCUNNNNNNGUANNNNNNNNNAUNGNAGCNNAAANNNNNNNNAGUUCAAUNNNNNNCNGAACCA\n",
        "(((AAA(AAAAA(AAA.....A((AAAA((AAAA((....))AA))AAAA))A...AAA)AAA)AAA)))A"
       ]
      },
      {
       "output_type": "stream",
       "stream": "stdout",
       "text": [
        "\n",
        "GNCNNNNNNNNCNNNNNNNNNNNNNNNNGANNNNAAANNNUNNNUCCCNNNNUNAAANNCNNNNNNNGCCU\n",
        "((((((AAAA((A.........A))A...A((AAA...AAA))A....AAA((.......))AAAA))))))A"
       ]
      },
      {
       "output_type": "stream",
       "stream": "stdout",
       "text": [
        "\n",
        "GCCCCCANNNNNNANNNNUUNNNNANNNNNCUNNNNNNNNNAGNNNNNNNNGANUCGNNNNCCCCNNGNGGUA\n",
        "(((((((AA((AAAA....AAAAA))AAA((A.......A))AAAAAA((((A......A))))AAAA((AA(.......)AA)))))))))A"
       ]
      },
      {
       "output_type": "stream",
       "stream": "stdout",
       "text": [
        "\n",
        "GGAGAGNNNGCNNNNNNGUNNNNAGCNNCNNNNNNNANNANCNNNNNAGUUNNNNNNNNAGAANNANNGNNNGUUCGAAUCCCUCNCUCUCCN\n",
        "(((A(((AA((A....A))AA.....AA((AA.......AA))AAA(AAAA....AAAA)AA((AA(.......)AA)))))A)))A"
       ]
      },
      {
       "output_type": "stream",
       "stream": "stdout",
       "text": [
        "\n",
        "GGNNAGANNGNNNNNNNNNNNNNNNNNNAGNNNUNNNNNNNCNNNNNANGNNNNNNNNNANNGNNNGUUCGAAUCCCUCNCNNNCNG\n",
        "(A(((A(AAA((AAAAAAAAAA(AA...AA)AA...AAAAAAAA))AAA((((.......))))A)A)))A)A"
       ]
      },
      {
       "output_type": "stream",
       "stream": "stdout",
       "text": [
        "\n",
        "ANCNANNNAACUNNNNNNNNANNNNNNNNNUNNNNNNNNNNNNNNNNNANNGGUUCAAAUCCAANAGNANNNA\n",
        "((AAAA(........(((AA(...A((...(AA((AAAAA....AAAAA))AA)))AA)AA)))A)AAAA))A"
       ]
      },
      {
       "output_type": "stream",
       "stream": "stdout",
       "text": [
        "\n",
        "GNNNNAANGNNNNANNUNNNNNNNNNNNNNNNNNANNANNNNNUGNNNNNNNGNUCGANCCNGGNUNNNNANA\n",
        "(((AAAAAA(((A.......A)))AA(((A.......A)))A....AA(((.......)))AAAAAA)))A"
       ]
      },
      {
       "output_type": "stream",
       "stream": "stdout",
       "text": [
        "\n",
        "NCUCNNUNANNANNNNNNUANNANNNAAGCNNNNNNNNCUNNNNNNCCNGGUUCGAAUCCCNNNNNNAGAN\n",
        "(AAAAAAAAA.....AAA(A((A...A))A)AAA((((AAAA((...))AAAA)))).....AAAAAAAAA)A"
       ]
      },
      {
       "output_type": "stream",
       "stream": "stdout",
       "text": [
        "\n",
        "GNNNUNNNNGNNNNNNNGNNAANNNNNUNNNNNNCGAANNNNNNNANUCNNNNUUCGNNNNNNNNNNNNANCG\n",
        "AAA(AAAAAAAA..........AAAAA((((.......))))AAA(((...)))AAAAA(((.......)))AAAAA)AAAA"
       ]
      },
      {
       "output_type": "stream",
       "stream": "stdout",
       "text": [
        "\n",
        "NNNANNNNNNCNNNNNNGUUNNNNNNNUAGANNNCAAANCUAANNNGNNNNNCCNNNNNAGGUUCAAAUCCNNNNNGUNNNN\n",
        "(A(((AAAAAAA........AAAAAAAA)))A)......A(AA......A((((.......))))AAAAA)AAA"
       ]
      },
      {
       "output_type": "stream",
       "stream": "stdout",
       "text": [
        "\n",
        "GNNCNNANGANNNANNNNNUNNNNANNNCGANNNANNNNNNNNNNNNNNGCCGGUUCGANNCCNNNNNNNANNA\n",
        "AA((((AAAA(((.......)))AAA((A(.......)A))A.....A((((.......))))AA))))AAA"
       ]
      },
      {
       "output_type": "stream",
       "stream": "stdout",
       "text": [
        "\n",
        "NNCGCNNNNNNAGNNNNNNNNUCNNNNNNNNUNNNANNCCNNNNNNNCNAGNANCGAAANCNNNCCNCGCNN\n",
        "A(((A((...A(AA(((....)))AAA)AAAAA((........))AAAAAAA((.......))AAA))A)))AA"
       ]
      },
      {
       "output_type": "stream",
       "stream": "stdout",
       "text": [
        "\n",
        "NGCNNNNNNNNGNNGCNNNNNAGCNNGCNNNNNUNNNANNNNNNANNNNNCNGGUUCAAAUCCNNNCCCCGCNA\n",
        "((((((AAAAAAA.....AAAAAAA((A(A(.......)A)A))...AAA((.......))AAAA))))))A"
       ]
      },
      {
       "output_type": "stream",
       "stream": "stdout",
       "text": [
        "\n",
        "NNNGCNNNNNNNNNAUUNNNNNNNNNNNNGANNNNNGNNNNGNNANNNNAGGUUCGNNNCCNNGNAGCCCNN\n",
        "((((A(AAAAAAAA(....)AAAAAAAA(((A.......A)))AA...AA(((.......)))AAA)A))))A"
       ]
      },
      {
       "output_type": "stream",
       "stream": "stdout",
       "text": [
        "\n",
        "GCCCCCNNNNNNNAGNNNNCNNNNACNNCNCCNNNNNNNNGCNNNNNNNNCGGUUCGAANCCGNNNNNNGGUA\n",
        "((((((AAAAAAA.....AAAAAAAAAAAA(.......)AAAAA...AAA((.......))AAAA))))))A"
       ]
      },
      {
       "output_type": "stream",
       "stream": "stdout",
       "text": [
        "\n",
        "NNNGCNNNNNNNNNAUUNNNNNNNNNNNNGANNNNNGNNNNNUNNNNNNAGGUUCGNNNCCNNGNAGCCCNN\n",
        "((((A(A...A(AAAAAAAAAA((A.......A))AAAAAAAAA)A....A((((.......))))AA)A))))A"
       ]
      },
      {
       "output_type": "stream",
       "stream": "stdout",
       "text": [
        "\n",
        "GNNCCCNNNNNCNNGCNNNGUUAGNNNNNNNNCCNNNNNNNNNNGNAANNCNNGGUUCNANNCCCANNNNNCCCA\n",
        "(((((A(.........A((AAAAAA......AAAAAA))A......A(A((.......))A)A)A)))))A"
       ]
      },
      {
       "output_type": "stream",
       "stream": "stdout",
       "text": [
        "\n",
        "GGNNANNNNNNNNNNNNGNAANNNNNNNNNNNNNNAAUCCNNNNNNNANGGUUCGNNNCCNNNCNUNNCCN\n",
        "(A(((AAAA((((A(....)AA))))AAA((.........))AA((AA((A....A))AAA))AAAAA)))A)A"
       ]
      },
      {
       "output_type": "stream",
       "stream": "stdout",
       "text": [
        "\n",
        "GNGGUGNNNGCGNNNNNNNNNNNCGCNNAGNNNNNNNNANCCNNNGNNCGNNNNNUCGNNNCUNNNNNANCCCA\n",
        "((((A(AAAAAA(.........)AAAA(A((A.......A))A).....(((((.......)))))A)A))))A"
       ]
      },
      {
       "output_type": "stream",
       "stream": "stdout",
       "text": [
        "\n",
        "AGCNNNNNNNNNNNNNNNNNNAANCNNAUNNNNUNNNANNCNNNNNNNNGANNGUUCAAAUCNANCCCCCGCUA\n",
        "((((AAAAAAA...AAAAAAAAA.......AAAAAAAA(A....A)AA((((.......))))AAAA))))A"
       ]
      },
      {
       "output_type": "stream",
       "stream": "stdout",
       "text": [
        "\n",
        "UCCNCCCNNNNNNNNNNNNNNNNNNNNNNNNNNNNUANNNNNNNNNNNUUGGUUCGAANCCAANNNNAGGAN\n",
        "((AAAAA(((A(AAAA((A(A(AA.....AA)A)A)A)AAAA)A.....A((A....A))A)))AAAAA))A"
       ]
      },
      {
       "output_type": "stream",
       "stream": "stdout",
       "text": [
        "\n",
        "GNNNNNNNAGCUNNNNNGUANNNNNNNNNNNUNNNNNNNNNNANNNNNANNGNNNAAACCCCNANNNNNCCA\n",
        "AAA(A(A...A(....)A......A((((((.......))))))A...AA(((.......)))AAA)A)AAAA"
       ]
      },
      {
       "output_type": "stream",
       "stream": "stdout",
       "text": [
        "\n",
        "GNNCNANNNNNCNANNNNNNNNNNNUUNNNANNNNNAANCNAAANNNNNNNNGUUCGNNNCCCNNNNNNNNNA\n",
        "A((AAAAAA((((........))))AAA((AAAAAA.....AAAAA...A))AA.....(AAA(.......)AAA)AAAA))A"
       ]
      },
      {
       "output_type": "stream",
       "stream": "stdout",
       "text": [
        "\n",
        "NCUUNNNNAGCUCNAUUGGUAGAGNNNNNNNNNNNANNNNNNNNNNNNNNNANNNNNNNNNNNGUUCGAUUCNNNCNNNNNNG\n",
        "(((AA((AA(AAA......AAA)A(AAAAAAA.....AAAAAA)AA(((((.......)))))))AA)))A"
       ]
      },
      {
       "output_type": "stream",
       "stream": "stdout",
       "text": [
        "\n",
        "GNCNNNUNAGCANNNNNNNNNNCACNNNUNNNNNNNNNNGNNNNNNNCGAGUUCGAUNNUCNNNGNNGCCN\n",
        "(((((A(((AA((AAA.....AA))AA)))AAAAA......AAAAAAA(((((.......)))))AA)))))A"
       ]
      },
      {
       "output_type": "stream",
       "stream": "stdout",
       "text": [
        "\n",
        "UCCNCCCNNNNNNNNNNNNNNNNNCNNNANNNNNNNAANNNNNNNNNNGUUGGUUCGAANCCAANNNNAGGAN\n",
        "((((((A((A(.....)A))(AAAAAAAAA.......AAAAAAAAA)A((((.......))))AA))))))A"
       ]
      },
      {
       "output_type": "stream",
       "stream": "stdout",
       "text": [
        "\n",
        "GCCUUCCNANNUNNNNNNNAGANNNCACNNNNNNNANNCNNNNNNNNNUGGGUUCGANNCCNACNGNNGGCN\n",
        "(AAAAAAAA((A..........A))AA(((((A...A)))))A.....A((((.......))))AAAAAAA)A"
       ]
      },
      {
       "output_type": "stream",
       "stream": "stdout",
       "text": [
        "\n",
        "GCCNCCNNANCCNNANNNNNNNNGNNNUCNCUNNNNAAGNGAANNAUNNCNNGUUCGNNNCCCNCCNNNNNUA\n",
        "(AA((AAAA((((........))))AAAAA(((...)))AAAAAAA(AA(((...)))A)AA...AA))AA)A"
       ]
      },
      {
       "output_type": "stream",
       "stream": "stdout",
       "text": [
        "\n",
        "GNNNNNNNAGCUNNNNNNNNNGAGCNNCNNCUNNNNAAGNNNNNNNNNNNCGNNNNGNGANNNNNNNGCUCCA\n",
        "((((AAAAAAA((((AAAA((AAAAAAAAAAA.......AAAAAAAAAA))AAA))A))AA.....AAA))))A"
       ]
      },
      {
       "output_type": "stream",
       "stream": "stdout",
       "text": [
        "\n",
        "GNNCCNNNAGCUCAGNNNNNNNGANNNNACNCNNNANNNNCNNNNNNNNNNNNGNUCGNNNNNNNNNNNNCCCA\n",
        "(A((A(A.......A(AA......AA)AAA(A((.......))A)AA....A((((.......))))AA)A))A)A"
       ]
      },
      {
       "output_type": "stream",
       "stream": "stdout",
       "text": [
        "\n",
        "GCCNNNNNNNNNNNNCNNNNNNNNNNNNNNCNNNNNNNNNANCCGNNNNNNCCNGGUUCGAAUCCCNNNCCCNNCA\n",
        "((A(AAA.......AAA(A(((AAAAAA(((.......)))AAA...A)))A)AAAAA(((.......)))AAAAA)A))A"
       ]
      },
      {
       "output_type": "stream",
       "stream": "stdout",
       "text": [
        "\n",
        "NNNAANUNNNNNNNNNNGUUAANNNNNNNGANNANNNANCUNNNNNNNUNANCCNCNCAGGUUCGAAUCCNNNNNNNNNNG\n",
        "(((((((((((...))))....(AAAAAAAAA.......AAAAAAAAA)AA(((.......)))AA)))))))A"
       ]
      },
      {
       "output_type": "stream",
       "stream": "stdout",
       "text": [
        "\n",
        "GCUCGANUAGCUNNGCNNNUUAGANNNNNCNNNNNNUANNCNCNNNNNNNNAGNUUCGANNCCNANNNCGAGNN\n",
        "(((AA(AAA((((........))))AA(((((A...A)))))A.....AA(((.......)))AAA)AA)))A"
       ]
      },
      {
       "output_type": "stream",
       "stream": "stdout",
       "text": [
        "\n",
        "GCGNNNGNAGCUNNNNUGGUAGAGNNNCNNCUNNNNNAGCCGNNNNNNNNNNGUUCGNNNCCCNNNUCCCGCU\n",
        "(((A((AAAAAA...........AAAA((((A.......A))))A((A....A))...(((((.......)))))A))A)))A"
       ]
      },
      {
       "output_type": "stream",
       "stream": "stdout",
       "text": [
        "\n",
        "GNNNANNNNNCNNNNNNNNNNNNNNNNNNNNNNNNNAANANCNUNGNNNNNNNCNNNNGCUNGUUCGAANCNAGCCCNNCCCA\n",
        "((((((AAA((((((AAAAAA(AAAAA((((((...))))))AAAAA)AAAAA))A)))).....A))))))A"
       ]
      },
      {
       "output_type": "stream",
       "stream": "stdout",
       "text": [
        "\n",
        "GCUCNCNNAGCUCANNNNNNNGANNNNANCCUNNNNAANNGUNNNNNNNNNNNNUCGAGCNNNNNNNCGAGCU\n",
        "(((A((((A...((((AAAAAA.....AAAAAA))))AAA((((AAAA(A....A)AAAAAA))))A.......A)A)))A)))A"
       ]
      },
      {
       "output_type": "stream",
       "stream": "stdout",
       "text": [
        "\n",
        "GCGNNGNNNNNNGAGCNNNNNNNANNNNNNNNNNCUNNNNACCCNNNNNNNNNNNCCNNNNNNGGUUNGAANNNNANCCCCCGCA\n",
        "(A(A((AAAA((A........A))AAAAAA(.......)AAA.....AA(((.......)))AAA))A)A)A"
       ]
      },
      {
       "output_type": "stream",
       "stream": "stdout",
       "text": [
        "\n",
        "GGNNNNNNAGNANNNNNGUUANNNNNNNNNANNNNAAANCCCNNNNNCNNGGUUCGAAUCCCANNNNNNNCN\n",
        "(((((((AAAAAA(((A(...(AA((AAA(AAAAAA((((A....A))))AAAAA)AA))AA))A)))AAAAA)))))))A"
       ]
      },
      {
       "output_type": "stream",
       "stream": "stdout",
       "text": [
        "\n",
        "GAGNNNGNNNNNNAANNGUUAANNCNNNNNANNNNAAAUNNNNUNNNAUNNNNNNNNNCNNNUCNANUNNNNNNCNCCUCA\n",
        "((((A((AAAAA....AAA...AAA((((((A...A))))))AAAAA(A((A.......A))A)))A))))A"
       ]
      },
      {
       "output_type": "stream",
       "stream": "stdout",
       "text": [
        "\n",
        "CAGANAANNNNNNNNNNNNNNNNNNNUNUNNNUNNNAGAAANNNNUAGNUAGUUCGAUNNNAGCUNANCUGA\n",
        "(AA(AAAAAAA(AA...(AAAA(A....A)AAAA).....AA)AAA((A(((......)))A))AAA)AA)A"
       ]
      },
      {
       "output_type": "stream",
       "stream": "stdout",
       "text": [
        "\n",
        "GNNNNNNNANNUNNNNNNUANNGNNNNNNNUNNNNNNNNNNNNNNNNNNGGGUUCAANCCCNNGNNNNNCCA\n",
        "(((((AAAA((AAA((((.........))))AAA))AAAA.....AAAAA(((((...)))))AAAA)))))A"
       ]
      },
      {
       "output_type": "stream",
       "stream": "stdout",
       "text": [
        "\n",
        "GNUUCNNNANNNNANCGGNNNNNNNNUUNGCNNNANNNNNNNNNNNNNCCCGNNUNGNAANCNNNNAGAAANA\n",
        "((AAAA(AA((((........))))A(((AAA(...)AAA))).....A((((.......))))A)AAAA))A"
       ]
      },
      {
       "output_type": "stream",
       "stream": "stdout",
       "text": [
        "\n",
        "GCCNNNNNAGCUNNNNNNUUAGAGNNNCNCANUNNNAANNCNNNNNNNANCNGUUCAAAUCCGANAGNNNGCU\n",
        "AAA(AAAAA((((.........))))AAAAA)AA.........AAAAAA(AA((.......))AA)AAAAAAAA"
       ]
      },
      {
       "output_type": "stream",
       "stream": "stdout",
       "text": [
        "\n",
        "NNNCCNNNAGCUNNNNNNNUUNGAGCNNNNNNNNNNNNNNNNNNNNNNNNNNGGUUCGAAUCCCNCNNNNCCNA\n",
        "((A(((AA(AA((A(((....)))))AA)AAA(((A....A)))AA...AAAAA(....)AAAAAAA)))A))A"
       ]
      },
      {
       "output_type": "stream",
       "stream": "stdout",
       "text": [
        "\n",
        "AGNGANNNAGCNNNGCUUGNNAGNNCNNUNNNUUUNNNNNNAAAANNNANNNNNNNNAAANCNNNNNANCCCUA\n",
        "(((A((AAA((A....A))A......AAAAAA.......AAAAAAAAAAAAA.....AAAAAAAAA(A((.......))A)AA))A)))A"
       ]
      },
      {
       "output_type": "stream",
       "stream": "stdout",
       "text": [
        "\n",
        "GNNNNNNNNNCNNNNNNNNNNANNNNNNNCCNNNNNNNNNNNNNNNNNNNNNNAANNNNNNCNNNCNNGGUUCGAAUCCCCNNCUNANNG\n",
        "(((A((AAA((AAAAAAA(AAA......AAAAA(.......)AAAAA......AAA)AAAAAA))A...........A))A)))A"
       ]
      },
      {
       "output_type": "stream",
       "stream": "stdout",
       "text": [
        "\n",
        "GCGNNGNNNNCNNNNCNNNNNNNANNNNNNNNNGUUNNNNNCCCNNNNNNNNNNNNCNNNNNNGGNUCAAANNNNNNCCCCCGCA\n",
        "((((AA(AAA(AA......AA)AAA((((.......)))).....((((......)))))AA))))A"
       ]
      },
      {
       "output_type": "stream",
       "stream": "stdout",
       "text": [
        "\n",
        "AGAAGNUNANGANNNNNNANNCNNNGAGCNNNNAANGCUNNANNNAAANNNNNNNNNUUAANUUCNN\n",
        "((((((AAA(AA(AAA((((......))))AAA((AAA(((AAAAAAA.....AAAA...A)))AA))AA)A)AAA))))))A"
       ]
      },
      {
       "output_type": "stream",
       "stream": "stdout",
       "text": [
        "\n",
        "GCGNGUNNNGNNGNNNUNNNNNNNNNNCNANNNUUNNNANNNNNNNNNNNNNNGNNNNNNNNNUUNAAGNCCCNNNANCCGCA\n",
        "((((((AAAA(AAAAAA......AAAAAA)AAAA((.....))AAAAAAAA....AAAAAAAAAA((.......))AAAA))))))A"
       ]
      },
      {
       "output_type": "stream",
       "stream": "stdout",
       "text": [
        "\n",
        "GGAGAGANNNCNNNNNNNNNNANNNNNNCGNNNNCGNNANNCNNNNNANNNNNNNNUNNANNNNNGGUUCAAAUCCCCCNCUCUCNG\n",
        "(((AA...(A((((AAA........AAA))))A).......(((((.....)))))AAAA)))A"
       ]
      },
      {
       "output_type": "stream",
       "stream": "stdout",
       "text": [
        "\n",
        "CANNNNNNAGCUUANNNNNNUAANNNNNNAAGNUANNNNNNGAGANNNNNAANCUCNNNAANGA\n",
        "(AA(AAA.....AAA((((A...AAA.....AAA.....A))))AAAAA((A((.......))A))AAA)AA)A"
       ]
      },
      {
       "output_type": "stream",
       "stream": "stdout",
       "text": [
        "\n",
        "GCCNCCNNAGNNNNNNCCNNNNNNNNNNNNNNNNNANNNNCNNNNNNNNCNNGGUUCNANNCCCCNCNNCNNCA\n",
        "A(A((((A((((A((A(A....AAAAAA(((((A...A)))))AAAAA...A)A))))...))...))))A)AA"
       ]
      },
      {
       "output_type": "stream",
       "stream": "stdout",
       "text": [
        "\n",
        "NNNUGAUUGNNNNNNNCNNNUANNNNNNUUCGNUNNNNNCGANNNNNNNNNNGNNUCGNANCCNNNANCANCNN\n",
        "(((((AAAAAAA...........AAAAAA((A.......A))AAAA((AA....AA))AAAA(((.......)))AAAA)))))A"
       ]
      },
      {
       "output_type": "stream",
       "stream": "stdout",
       "text": [
        "\n",
        "GNNANNNNNNCNNNNNNNNNNNNNNNNNCNNNNNNNANNANCNNNNACCNNNNNNNGNNNNAGAGUUCGAANNUCNNNNNUNCNG\n",
        "((((((AAA((((((AAAAAAAAAAAA(((A.......A)))AAAAAAAAAAA))A)))).....A))))))A"
       ]
      },
      {
       "output_type": "stream",
       "stream": "stdout",
       "text": [
        "\n",
        "GCUUCNANAGCUCANNNNNNNGANNNNUUCNNNGGNNNNNNNNNNNNNNNNNNNUCGAGCNNNNNNNGNAGCU\n",
        "(A(((A(AA((A.....A(AA((AA...AA(AA((.......))AA)AA...AA))....)AA)))A)))A)A"
       ]
      },
      {
       "output_type": "stream",
       "stream": "stdout",
       "text": [
        "\n",
        "GCCGANNNAGNNNNNNNNNNAGNNNNNNNNANUNNNNANNNNNANGNNNNNNNNUCGAUNCNNNNAGNNNNCA\n",
        "(((A((...(AA......AA)AAA(((((...)))))AA...AAA(((....)))AAA))A)))A"
       ]
      },
      {
       "output_type": "stream",
       "stream": "stdout",
       "text": [
        "\n",
        "ACNAUUNNNNNNNAUUANNNNNANAAAUUNANAAUUNANNNNNNNAANNNNNANNANAAANAGUA\n",
        "(((((((AA((A...........A))AA(((A.......A)))AAAAAA....AAAAAAA((((.......))))A)))))))A"
       ]
      },
      {
       "output_type": "stream",
       "stream": "stdout",
       "text": [
        "\n",
        "GCCNAGNNNNCNNNNUUGGUANNNGCNNNAGCNNNNNNNNNUNNNNNUNNNNNNNNNNNNNAGGUUCGNNNCCUNNNCNNNNCA\n",
        "(((((AAAA(AA......AA)AAAA(A.......A)AAA....((((AA...AA))))AA)))))A"
       ]
      },
      {
       "output_type": "stream",
       "stream": "stdout",
       "text": [
        "\n",
        "NCUAANANNNNNNAUUANNNNNANNGANNNNAGNNCNANNNNNAAAGNANNNNANUNNNAUUAGAN\n",
        "(A(((A(AA((((........))))AAA(AAA(...)AAA)AAAAA((A......A))AA.....)A)))A)A"
       ]
      },
      {
       "output_type": "stream",
       "stream": "stdout",
       "text": [
        "\n",
        "GCCGANANAGCUNNNNUGGUAGAGNNNNNCANNNNNAANNNNNNNNUNNNNNNNUCGNNNNNNNNNANCNNCA\n",
        "(((A((((A.............((((((.......))))))AAAAA(....)AAAAAAA))))A)))A"
       ]
      },
      {
       "output_type": "stream",
       "stream": "stdout",
       "text": [
        "\n",
        "NGGNAAUUANNNNNNNNNAAANUAANGANNNCGNNNNAUUAGANNANNANAANANNNNNAANNACCAN\n",
        "((((AAA.......AA(((A(AA(A(AA(((A(AA(A....A)AA)AAA)))A)A)AA)AA)))AAAAA))))A"
       ]
      },
      {
       "output_type": "stream",
       "stream": "stdout",
       "text": [
        "\n",
        "ANNNUNNNAGNUNNNNUNGNUAGNNNNNANCCCNNANNNNNNNNNGNNNNNUNNNUNNNNNNCANNNNNNCCUA\n",
        "((AAA(AAAA((A........A))AAA((AA.......AA))AA...AAA((.......))AAAA)AAA))A"
       ]
      },
      {
       "output_type": "stream",
       "stream": "stdout",
       "text": [
        "\n",
        "NNCCCCNNNNNCNNNNNNNNNNGANNNCNCCNNNNNNNNNCNNNNNNNNNGGUUCGAAUCCCCNAGNNNNNN\n",
        "((((A(AAAA((AAA(((AA(AA((A.....A))A...)AA)))A))AA(AA((.......))AA)A)A))))A"
       ]
      },
      {
       "output_type": "stream",
       "stream": "stdout",
       "text": [
        "\n",
        "GNNCCCNNAGNUNAGCUCNNNNGAGNNNNNNNCUNNNANNCGNNNGGNNNNNGGUUCAAAUCCCCNNGNNCCCA\n",
        "AA(((((AA.....AA)))A))AAAAAAAA.......AAAAAAAA(((((....)))))AA....."
       ]
      },
      {
       "output_type": "stream",
       "stream": "stdout",
       "text": [
        "\n",
        "NNUNAAANAGCUNNNANUUAGNNNANNNNNNNNANNNNNNNNNNNAGAUUAANNAAUCNNNNNNNA\n",
        "AA((A(AAA((...))AA...((AAAAAAA(A(....)AA)AAAAAAA))AA((.......))AAAA)A))AAA"
       ]
      },
      {
       "output_type": "stream",
       "stream": "stdout",
       "text": [
        "\n",
        "NCNCCCNNAGCUNNGCNNNNNAGANNNNNNCCCNNNNNNNNNANNNNNNUNAGGUUCGAAUCCNNNNGNNNNNA\n",
        "(((AA(AAA((((AA((A(....AAAAA((((.......))))AAAAA....AAAAAAAA...)A))...))))A)AA)))A"
       ]
      },
      {
       "output_type": "stream",
       "stream": "stdout",
       "text": [
        "\n",
        "GCGNNNNNNNCGNAAUUGGUANNNNCANNAGANNNNNNNNCNNNNNNNNNNNNNNNNNCNNNNUNAANNNNCGCCNCCCGCA\n",
        "(((AAAA(((((....)))))((AA(A((((.......))))A)AA))(((((.......)))))AAAA)))A"
       ]
      },
      {
       "output_type": "stream",
       "stream": "stdout",
       "text": [
        "\n",
        "GNCCCCNNAGNNNNNNNGNUAGANNNNNNNNNNNNNNAUCGNUUGNNNNCUNGUUCNANNCNAGNNNNNNCNA\n",
        "((((((A((A(......)A))((AAAAA(((.......)))AAAAA))(((((.......)))))A))))))A"
       ]
      },
      {
       "output_type": "stream",
       "stream": "stdout",
       "text": [
        "\n",
        "GGNNNGNNANNUNNNNUGNNAGANNNNNNGANNNNNAAUNAANUGNNNNCAGGUUCGAAUCCNNCACGACCCA\n",
        "((AAA(A((A(.....)A))(AA(((((AA.......AA)))))AA)AA(((.......)))AAA)AAA))A"
       ]
      },
      {
       "output_type": "stream",
       "stream": "stdout",
       "text": [
        "\n",
        "UCCUNNNNANNUNNNNNNNAGANNGNNCNNNNNNUANNCGAUNGNNNNNAGGUUCGAAUCCNANNNGNNNNN\n",
        "((AA((AA......(((A........A)))A(((AAAA((A(....)A))AAAA)))......AA))AA))A"
       ]
      },
      {
       "output_type": "stream",
       "stream": "stdout",
       "text": [
        "\n",
        "GNNNCGNUNNNNNNNCGNNNNNNNNNCCNCNNCGNNNNCNNNNNNNCCCNNNNUCGAANNNNNNNCGNNCCA\n",
        "AAAAAA(...AAAAAAAAAAAAAAAAAAA......AAAAAAAAAAAAAAAA(((.......)))AA)AAAAAAA"
       ]
      },
      {
       "output_type": "stream",
       "stream": "stdout",
       "text": [
        "\n",
        "NNNCACNNANCGNNNNNNNGUANNNNNNNNNNNNNNNNNNNNNNNNNNNNNAGGUUCAAAUCCUNNNNNNCCNN\n",
        "((AA(((A(AAAAAA(AAAAA((((.......))))AAAAA.........A)AAAAA)A)))AA))A"
       ]
      },
      {
       "output_type": "stream",
       "stream": "stdout",
       "text": [
        "\n",
        "GNNNCUNNAANGGUNNNNNNNNNNNNUNNNNNCCCNNNNNNNNANANNUCGANNNNNUNAAGNNNCN\n",
        "((AA(AAAA((((.........))))AA((((.......))))AAAAA(A......A)AAAAA...AA)AA))A"
       ]
      },
      {
       "output_type": "stream",
       "stream": "stdout",
       "text": [
        "\n",
        "GCNNUNNNAGCUNNNNUGGUUAGAGCNNCNCCNNNNNNNGNUGNNNNNNNNNGGNNCGNNNNNNANNGAACNCA\n",
        "(((((((AA((...))A(AA((.....))AA).......AAAAAAA((A......A))AAAAAAA)))))))A"
       ]
      },
      {
       "output_type": "stream",
       "stream": "stdout",
       "text": [
        "\n",
        "GGGUGAUNAGCUNNGCNNNNAGNNNNNCNCCCNNNNNNNNNNNNNNNCNNNNNNNCGANCCNNNNNNCANCCA\n",
        "(((((((AAAAA.......AAAAAA((A.......A))A......(((((((....))))))))))))))A"
       ]
      },
      {
       "output_type": "stream",
       "stream": "stdout",
       "text": [
        "\n",
        "CAUUAGANNNNNNAANNNNNGNNNNGGNNNNNNAAACCNNNNNNNAGNAAANNAGNANUUANUNCUAANGA\n",
        "(A(A(((((A((A(....)A))A)A(((A(.........)A)))............))))A)A)A"
       ]
      },
      {
       "output_type": "stream",
       "stream": "stdout",
       "text": [
        "\n",
        "ANCNANANANNANAANANNANANUNGANNUNNAANNNNAANNNNNNNNAANNANNANNANAGANA\n",
        "(((((((AAAAA.....AAAAA(((((A...A)))))A....((A(((.....)))A)))))))))A"
       ]
      },
      {
       "output_type": "stream",
       "stream": "stdout",
       "text": [
        "\n",
        "AGCCUUAANNNNNNNNNNNNNNCGAAUNNNNAAUUCGNNNNNNNAGANNANNNCUCNANUAAGNCUN\n",
        "(((AAAAAAA(A.........A)AAAA(((.......)))A......AAA((.......))AAAAAAA)))A"
       ]
      },
      {
       "output_type": "stream",
       "stream": "stdout",
       "text": [
        "\n",
        "NGGNNNNNNNCNNANNNGNNNNNNNNNNNGUNNNGNNCCCNNNNNUNNNNGGUUCGAAUCCUNNNNNCCCNN\n",
        "A(((AA(AAAAAA(A....A)AAAA(A(A((.......))A)A)A(((AA(A....A)AA)))AAAAA((.......))AAA)AA)))AA"
       ]
      },
      {
       "output_type": "stream",
       "stream": "stdout",
       "text": [
        "\n",
        "NANGANNNNNNNNUCNNNNNNNNNNNNNNNANNNCAAANCNAGNNNGNNNCNNNNNNNNNCCNNNNNNGGUUCGNNNCCNNNNANNUUCN\n",
        "A(((A(AAAA(((.........)))AAA((A........A))A.....AAA((.......))AAAA)A)))AA"
       ]
      },
      {
       "output_type": "stream",
       "stream": "stdout",
       "text": [
        "\n",
        "NNCNNNNNNNNGNNNNNNNNUAGCUNNNCNNNUNNNANNCCGNNNNNNNNNNGUUCAAAUCCNNNCCCCNCNN\n",
        "(((A((AAA(((A.......A)))AA(((((A...A)))))A....AAAA(.......)AAAAA))A)))A"
       ]
      },
      {
       "output_type": "stream",
       "stream": "stdout",
       "text": [
        "\n",
        "GCGNNNNNAGNUNNANGGUAGAANNNGAGCUNNNNNAGCUCNNNNNNNNNGUUCGAUUCCCUNNGCCCGCU\n",
        "(AAAAAA...A((..........))AA((AAA....AAAA))A.....AA(((.......)))AAAAAAAA)A"
       ]
      },
      {
       "output_type": "stream",
       "stream": "stdout",
       "text": [
        "\n",
        "GNNCNCNNNNCNCNANNNNNANNNCNNCNNNCNNNNNNNNAGNNNAUNNCAGGUUCGAAUCCNNNCNNNNNNG\n",
        "(A((((AA(AA((((AAAAA(A(AAA....AAA)A)AAAA(((AAAAA....AAAAAA)))A))))....A)AAA))))A)A"
       ]
      },
      {
       "output_type": "stream",
       "stream": "stdout",
       "text": [
        "\n",
        "GNAGAGANNNNCGNNNNNNNUANNNNNNNNGNNNAANNNNNCNNNCCCNNNNNNNNNNNGNNNUCGNANNCNNNNCUCUNNA\n",
        "((AA((A.......(AA(.......)AA)A((AAAA....AAAA))AA((((.......))))AA))AA))A"
       ]
      },
      {
       "output_type": "stream",
       "stream": "stdout",
       "text": [
        "\n",
        "UCCUNNNNANNNNANNNGNNNNNNNCNNCNNCNNNNNNNNNNNAGANCCNGGUUCAAUUCCCNNCCNNNNNN\n",
        "((AA((AAA((AA(AAA......AAA)AA))A....A(A....A)AA(A((A.......A))A)A))AA))A"
       ]
      },
      {
       "output_type": "stream",
       "stream": "stdout",
       "text": [
        "\n",
        "AGNNNNNNNGCNNANNNNNNNNNNNNUNNNCCNNNAACCNNNNNNNNNNUNNANCGAANCNANUNGCNNCUA\n",
        "A(AAA((A((((....(A(A(AAAAAA(((AA...........AA)))AAAAAA)A)A)))))A))AAA)AA"
       ]
      },
      {
       "output_type": "stream",
       "stream": "stdout",
       "text": [
        "\n",
        "GANNNNUNNGCNNNANGNUAGNNCNNUNGANNNNNNNNCGANNNNNUGNNNNNUCGANCCGCNNAGNNGUNA\n",
        "(((AAAAAA((((........))))....A(AAAAA.....AAAAA)A(((((.......)))))AAAA)))A"
       ]
      },
      {
       "output_type": "stream",
       "stream": "stdout",
       "text": [
        "\n",
        "GAGCNANNAGCUNNNNUGGUAGAGNNNNNNANNNNNNANNNNNNNNNCGANGGUUCGNNNCCUUNNNNNCUCA\n"
       ]
      }
     ],
     "prompt_number": 9
    },
    {
     "cell_type": "code",
     "collapsed": false,
     "input": [],
     "language": "python",
     "metadata": {},
     "outputs": [],
     "prompt_number": 7
    }
   ],
   "metadata": {}
  }
 ]
}